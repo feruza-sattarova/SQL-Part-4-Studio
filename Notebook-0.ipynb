{
    "metadata": {
        "kernelspec": {
            "name": "SQL",
            "display_name": "SQL",
            "language": "sql"
        },
        "language_info": {
            "name": "sql",
            "version": ""
        },
        "extensions": {
            "azuredatastudio": {
                "version": 1,
                "views": []
            }
        }
    },
    "nbformat_minor": 2,
    "nbformat": 4,
    "cells": [
        {
            "cell_type": "markdown",
            "source": [
                "# SQL Part 4 Studio\n",
                "\n",
                "For this studio, you will be working in small groups and using the BooksDB.  One group member should screen share while fellow group members code along in their own notebooks.  Each group member will submit a link to their studio notebook.\n",
                "\n",
                "You are back at the bookstore helping employees with their inventory of books.   Four employees need your help with finding books to create in-store displays.  Read their requests and decide if you want to use a correlated subquery, nested subquery, UNION operator, EXCEPT operator, or INTERSECT operator.  You may not use any joins or add multiple statements to the WHERE clause unless explicitly asked."
            ],
            "metadata": {
                "azdata_cell_guid": "3ea3f8a2-b444-4354-be8b-eebc139b3c13"
            },
            "attachments": {}
        },
        {
            "cell_type": "markdown",
            "source": [
                "## QUESTION 1:  Willow\n",
                "\n",
                "Willow wants a list of book titles that have multiple authors attributed to them.  Write a query to return her desired results."
            ],
            "metadata": {
                "azdata_cell_guid": "5c8b1c77-0878-4dc6-8e79-7f64e5e1df0d"
            },
            "attachments": {}
        },
        {
            "cell_type": "code",
            "source": [
                "-- Code here:\r\n",
                "USE BooksDB\r\n",
                "GO\r\n",
                "SELECT title, authors\r\n",
                "FROM Books AS outer_book\r\n",
                "WHERE (SELECT COUNT(*) FROM Books AS inner_book WHERE inner_book.title = outer_book.title AND inner_book.authors <> outer_book.authors) > 0;\r\n",
                "\r\n",
                ""
            ],
            "metadata": {
                "azdata_cell_guid": "46c76d2f-acbc-4fd2-9c2a-367044fda616",
                "tags": [],
                "language": "sql"
            },
            "outputs": [
                {
                    "output_type": "display_data",
                    "data": {
                        "text/html": "Commands completed successfully."
                    },
                    "metadata": {}
                },
                {
                    "output_type": "display_data",
                    "data": {
                        "text/html": "(69 rows affected)"
                    },
                    "metadata": {}
                },
                {
                    "output_type": "display_data",
                    "data": {
                        "text/html": "Total execution time: 00:00:00.368"
                    },
                    "metadata": {}
                },
                {
                    "output_type": "execute_result",
                    "metadata": {},
                    "execution_count": 6,
                    "data": {
                        "application/vnd.dataresource+json": {
                            "schema": {
                                "fields": [
                                    {
                                        "name": "title"
                                    },
                                    {
                                        "name": "authors"
                                    }
                                ]
                            },
                            "data": [
                                {
                                    "title": "Anatomy for the Artist",
                                    "authors": "Jenő Barcsay"
                                },
                                {
                                    "title": "Anatomy for the Artist",
                                    "authors": "Sarah Simblet"
                                },
                                {
                                    "title": "Arcadia",
                                    "authors": "Tom Stoppard"
                                },
                                {
                                    "title": "Arcadia",
                                    "authors": "Lauren Groff"
                                },
                                {
                                    "title": "Are You My Mother?",
                                    "authors": "P.D. Eastman"
                                },
                                {
                                    "title": "Are You My Mother?",
                                    "authors": "Alison Bechdel"
                                },
                                {
                                    "title": "Bambi",
                                    "authors": "Felix Salten, Barbara Cooney"
                                },
                                {
                                    "title": "Bambi",
                                    "authors": "Bob Grant"
                                },
                                {
                                    "title": "Between the Lines (Between the Lines, #1)",
                                    "authors": "Jodi Picoult, Samantha van Leer"
                                },
                                {
                                    "title": "Between the Lines (Between the Lines, #1)",
                                    "authors": "Tammara Webber"
                                },
                                {
                                    "title": "Invisible",
                                    "authors": "Paul Auster"
                                },
                                {
                                    "title": "Invisible",
                                    "authors": "James Patterson, David Ellis"
                                },
                                {
                                    "title": "Leviathan",
                                    "authors": "Paul Auster"
                                },
                                {
                                    "title": "Leviathan",
                                    "authors": "Thomas Hobbes, C.B. Macpherson"
                                },
                                {
                                    "title": "Monster",
                                    "authors": "Walter Dean Myers"
                                },
                                {
                                    "title": "Monster",
                                    "authors": "Frank E. Peretti"
                                },
                                {
                                    "title": "One Flew Over the Cuckoo's Nest",
                                    "authors": "Ken Kesey"
                                },
                                {
                                    "title": "One Flew Over the Cuckoo's Nest",
                                    "authors": "Dale Wasserman"
                                },
                                {
                                    "title": "Perfect",
                                    "authors": "Natasha Friend"
                                },
                                {
                                    "title": "Perfect",
                                    "authors": "Rachel Joyce"
                                },
                                {
                                    "title": "Pinocchio",
                                    "authors": "Carlo Collodi, John Boyne, Monteiro Lobato, Unknown"
                                },
                                {
                                    "title": "Pinocchio",
                                    "authors": "Eugene Bradley Coco, Ron Dias"
                                },
                                {
                                    "title": "Private (Private, #1)",
                                    "authors": "Kate Brian"
                                },
                                {
                                    "title": "Private (Private, #1)",
                                    "authors": "James Patterson, Maxine Paetro"
                                },
                                {
                                    "title": "'Salem's Lot",
                                    "authors": "Stephen King, Jerry N. Uelsmann"
                                },
                                {
                                    "title": "'Salem's Lot",
                                    "authors": "Stephen King"
                                },
                                {
                                    "title": "Selected Poems",
                                    "authors": "Emily Dickinson"
                                },
                                {
                                    "title": "Selected Poems",
                                    "authors": "George Gordon Byron, Peter J. Manning, Susan J. Wolfson"
                                },
                                {
                                    "title": "Selected Poems",
                                    "authors": "William Carlos Williams, Charles Tomlinson"
                                },
                                {
                                    "title": "Selected Poems",
                                    "authors": "E.E. Cummings, Richard S. Kennedy"
                                },
                                {
                                    "title": "Selected Stories",
                                    "authors": "O. Henry, Victoria Blake"
                                },
                                {
                                    "title": "Selected Stories",
                                    "authors": "Anton Chekhov, Richard Pevear, Larissa Volokhonsky"
                                },
                                {
                                    "title": "Sisters",
                                    "authors": "Raina Telgemeier"
                                },
                                {
                                    "title": "Sisters",
                                    "authors": "Danielle Steel"
                                },
                                {
                                    "title": "Stone Soup",
                                    "authors": "Marcia Brown"
                                },
                                {
                                    "title": "Stone Soup",
                                    "authors": "Ann McGovern, Winslow Pinney Pels, Winslow Pinn, Ey Pels"
                                },
                                {
                                    "title": "Stone Soup",
                                    "authors": "Jon J. Muth"
                                },
                                {
                                    "title": "The Beach House",
                                    "authors": "James Patterson, Peter de Jonge"
                                },
                                {
                                    "title": "The Beach House",
                                    "authors": "Jane Green"
                                },
                                {
                                    "title": "The Collected Poems",
                                    "authors": "Sylvia Plath, Ted Hughes"
                                },
                                {
                                    "title": "The Collected Poems",
                                    "authors": "Langston Hughes"
                                },
                                {
                                    "title": "The Collector",
                                    "authors": "John Fowles"
                                },
                                {
                                    "title": "The Collector",
                                    "authors": "Nora Roberts"
                                },
                                {
                                    "title": "The Complete Poems",
                                    "authors": "Anne Sexton, Maxine Kumin"
                                },
                                {
                                    "title": "The Complete Poems",
                                    "authors": "John Keats"
                                },
                                {
                                    "title": "The Complete Stories",
                                    "authors": "Flannery O'Connor"
                                },
                                {
                                    "title": "The Complete Stories",
                                    "authors": "Franz Kafka, Nahum N. Glatzer, John Updike, Willa Muir, Edwin Muir, Tania Stern, James Stern, Ernst Kaiser, Eithne Wilkins"
                                },
                                {
                                    "title": "The Complete Stories and Poems",
                                    "authors": "Lewis Carroll"
                                },
                                {
                                    "title": "The Complete Stories and Poems",
                                    "authors": "Edgar Allan Poe"
                                },
                                {
                                    "title": "The Gift",
                                    "authors": "Danielle Steel"
                                },
                                {
                                    "title": "The Gift",
                                    "authors": "Cecelia Ahern"
                                },
                                {
                                    "title": "The Girls",
                                    "authors": "Lori Lansens"
                                },
                                {
                                    "title": "The Girls",
                                    "authors": "Emma Cline"
                                },
                                {
                                    "title": "The Island",
                                    "authors": "Elin Hilderbrand"
                                },
                                {
                                    "title": "The Island",
                                    "authors": "Victoria Hislop"
                                },
                                {
                                    "title": "The List",
                                    "authors": "Steve Martini"
                                },
                                {
                                    "title": "The List",
                                    "authors": "Siobhan Vivian"
                                },
                                {
                                    "title": "The Little Mermaid",
                                    "authors": "Hans Christian Andersen, Lisbeth Zwerger, Anthea Bell"
                                },
                                {
                                    "title": "The Little Mermaid",
                                    "authors": "Michael Teitelbaum, Sue DiCicco"
                                },
                                {
                                    "title": "The Pact",
                                    "authors": "Karina Halle"
                                },
                                {
                                    "title": "The Pact",
                                    "authors": "Jodi Picoult"
                                },
                                {
                                    "title": "The Son",
                                    "authors": "Philipp Meyer"
                                },
                                {
                                    "title": "The Son",
                                    "authors": "Jo Nesbø, Charlotte Barslund"
                                },
                                {
                                    "title": "The Stranger",
                                    "authors": "Harlan Coben"
                                },
                                {
                                    "title": "The Stranger",
                                    "authors": "Albert Camus, Matthew    Ward"
                                },
                                {
                                    "title": "The Witness",
                                    "authors": "Sandra Brown"
                                },
                                {
                                    "title": "The Witness",
                                    "authors": "Nora Roberts"
                                },
                                {
                                    "title": "Zodiac",
                                    "authors": "Neal Stephenson"
                                },
                                {
                                    "title": "Zodiac",
                                    "authors": "Robert Graysmith"
                                }
                            ]
                        },
                        "text/html": [
                            "<table>",
                            "<tr><th>title</th><th>authors</th></tr>",
                            "<tr><td>Anatomy for the Artist</td><td>Jenő Barcsay</td></tr>",
                            "<tr><td>Anatomy for the Artist</td><td>Sarah Simblet</td></tr>",
                            "<tr><td>Arcadia</td><td>Tom Stoppard</td></tr>",
                            "<tr><td>Arcadia</td><td>Lauren Groff</td></tr>",
                            "<tr><td>Are You My Mother?</td><td>P.D. Eastman</td></tr>",
                            "<tr><td>Are You My Mother?</td><td>Alison Bechdel</td></tr>",
                            "<tr><td>Bambi</td><td>Felix Salten, Barbara Cooney</td></tr>",
                            "<tr><td>Bambi</td><td>Bob Grant</td></tr>",
                            "<tr><td>Between the Lines (Between the Lines, #1)</td><td>Jodi Picoult, Samantha van Leer</td></tr>",
                            "<tr><td>Between the Lines (Between the Lines, #1)</td><td>Tammara Webber</td></tr>",
                            "<tr><td>Invisible</td><td>Paul Auster</td></tr>",
                            "<tr><td>Invisible</td><td>James Patterson, David Ellis</td></tr>",
                            "<tr><td>Leviathan</td><td>Paul Auster</td></tr>",
                            "<tr><td>Leviathan</td><td>Thomas Hobbes, C.B. Macpherson</td></tr>",
                            "<tr><td>Monster</td><td>Walter Dean Myers</td></tr>",
                            "<tr><td>Monster</td><td>Frank E. Peretti</td></tr>",
                            "<tr><td>One Flew Over the Cuckoo&#39;s Nest</td><td>Ken Kesey</td></tr>",
                            "<tr><td>One Flew Over the Cuckoo&#39;s Nest</td><td>Dale Wasserman</td></tr>",
                            "<tr><td>Perfect</td><td>Natasha Friend</td></tr>",
                            "<tr><td>Perfect</td><td>Rachel Joyce</td></tr>",
                            "<tr><td>Pinocchio</td><td>Carlo Collodi, John Boyne, Monteiro Lobato, Unknown</td></tr>",
                            "<tr><td>Pinocchio</td><td>Eugene Bradley Coco, Ron Dias</td></tr>",
                            "<tr><td>Private (Private, #1)</td><td>Kate Brian</td></tr>",
                            "<tr><td>Private (Private, #1)</td><td>James Patterson, Maxine Paetro</td></tr>",
                            "<tr><td>&#39;Salem&#39;s Lot</td><td>Stephen King, Jerry N. Uelsmann</td></tr>",
                            "<tr><td>&#39;Salem&#39;s Lot</td><td>Stephen King</td></tr>",
                            "<tr><td>Selected Poems</td><td>Emily Dickinson</td></tr>",
                            "<tr><td>Selected Poems</td><td>George Gordon Byron, Peter J. Manning, Susan J. Wolfson</td></tr>",
                            "<tr><td>Selected Poems</td><td>William Carlos Williams, Charles Tomlinson</td></tr>",
                            "<tr><td>Selected Poems</td><td>E.E. Cummings, Richard S. Kennedy</td></tr>",
                            "<tr><td>Selected Stories</td><td>O. Henry, Victoria Blake</td></tr>",
                            "<tr><td>Selected Stories</td><td>Anton Chekhov, Richard Pevear, Larissa Volokhonsky</td></tr>",
                            "<tr><td>Sisters</td><td>Raina Telgemeier</td></tr>",
                            "<tr><td>Sisters</td><td>Danielle Steel</td></tr>",
                            "<tr><td>Stone Soup</td><td>Marcia Brown</td></tr>",
                            "<tr><td>Stone Soup</td><td>Ann McGovern, Winslow Pinney Pels, Winslow Pinn, Ey Pels</td></tr>",
                            "<tr><td>Stone Soup</td><td>Jon J. Muth</td></tr>",
                            "<tr><td>The Beach House</td><td>James Patterson, Peter de Jonge</td></tr>",
                            "<tr><td>The Beach House</td><td>Jane Green</td></tr>",
                            "<tr><td>The Collected Poems</td><td>Sylvia Plath, Ted Hughes</td></tr>",
                            "<tr><td>The Collected Poems</td><td>Langston Hughes</td></tr>",
                            "<tr><td>The Collector</td><td>John Fowles</td></tr>",
                            "<tr><td>The Collector</td><td>Nora Roberts</td></tr>",
                            "<tr><td>The Complete Poems</td><td>Anne Sexton, Maxine Kumin</td></tr>",
                            "<tr><td>The Complete Poems</td><td>John Keats</td></tr>",
                            "<tr><td>The Complete Stories</td><td>Flannery O&#39;Connor</td></tr>",
                            "<tr><td>The Complete Stories</td><td>Franz Kafka, Nahum N. Glatzer, John Updike, Willa Muir, Edwin Muir, Tania Stern, James Stern, Ernst Kaiser, Eithne Wilkins</td></tr>",
                            "<tr><td>The Complete Stories and Poems</td><td>Lewis Carroll</td></tr>",
                            "<tr><td>The Complete Stories and Poems</td><td>Edgar Allan Poe</td></tr>",
                            "<tr><td>The Gift</td><td>Danielle Steel</td></tr>",
                            "<tr><td>The Gift</td><td>Cecelia Ahern</td></tr>",
                            "<tr><td>The Girls</td><td>Lori Lansens</td></tr>",
                            "<tr><td>The Girls</td><td>Emma Cline</td></tr>",
                            "<tr><td>The Island</td><td>Elin Hilderbrand</td></tr>",
                            "<tr><td>The Island</td><td>Victoria Hislop</td></tr>",
                            "<tr><td>The List</td><td>Steve Martini</td></tr>",
                            "<tr><td>The List</td><td>Siobhan Vivian</td></tr>",
                            "<tr><td>The Little Mermaid</td><td>Hans Christian Andersen, Lisbeth Zwerger, Anthea Bell</td></tr>",
                            "<tr><td>The Little Mermaid</td><td>Michael Teitelbaum, Sue DiCicco</td></tr>",
                            "<tr><td>The Pact</td><td>Karina Halle</td></tr>",
                            "<tr><td>The Pact</td><td>Jodi Picoult</td></tr>",
                            "<tr><td>The Son</td><td>Philipp Meyer</td></tr>",
                            "<tr><td>The Son</td><td>Jo Nesbø, Charlotte Barslund</td></tr>",
                            "<tr><td>The Stranger</td><td>Harlan Coben</td></tr>",
                            "<tr><td>The Stranger</td><td>Albert Camus, Matthew    Ward</td></tr>",
                            "<tr><td>The Witness</td><td>Sandra Brown</td></tr>",
                            "<tr><td>The Witness</td><td>Nora Roberts</td></tr>",
                            "<tr><td>Zodiac</td><td>Neal Stephenson</td></tr>",
                            "<tr><td>Zodiac</td><td>Robert Graysmith</td></tr>",
                            "</table>"
                        ]
                    }
                }
            ],
            "execution_count": 6
        },
        {
            "cell_type": "markdown",
            "source": [
                "## QUESTION 2: Ira\n",
                "\n",
                "Ira was asked by a customer for titles that have been tagged \"Meditation\".  As you create a query for Ira, think about how the tables in BooksDB are organized as you write your query."
            ],
            "metadata": {
                "azdata_cell_guid": "06f2a08a-a54e-484e-8053-c74594da9db2"
            },
            "attachments": {}
        },
        {
            "cell_type": "code",
            "source": [
                "-- Code here:\r\n",
                "SELECT title\r\n",
                "FROM Books\r\n",
                "WHERE id IN (\r\n",
                "    SELECT bt.goodreads_book_id\r\n",
                "    FROM book_tags AS bt\r\n",
                "    INNER JOIN tags AS t ON bt.tag_id = t.tag_id\r\n",
                "    WHERE t.tag_name = 'Meditation'\r\n",
                ");\r\n",
                ""
            ],
            "metadata": {
                "azdata_cell_guid": "552924f9-a1cc-4979-8f53-15ba959550c2",
                "tags": [],
                "language": "sql"
            },
            "outputs": [
                {
                    "output_type": "display_data",
                    "data": {
                        "text/html": "(6 rows affected)"
                    },
                    "metadata": {}
                },
                {
                    "output_type": "display_data",
                    "data": {
                        "text/html": "Total execution time: 00:00:00.462"
                    },
                    "metadata": {}
                },
                {
                    "output_type": "execute_result",
                    "metadata": {},
                    "execution_count": 8,
                    "data": {
                        "application/vnd.dataresource+json": {
                            "schema": {
                                "fields": [
                                    {
                                        "name": "title"
                                    }
                                ]
                            },
                            "data": [
                                {
                                    "title": "An Unquiet Mind: A Memoir of Moods and Madness"
                                },
                                {
                                    "title": "Murder of Crows (The Others, #2)"
                                },
                                {
                                    "title": "A Fish Out of Water"
                                },
                                {
                                    "title": "Look to Windward (Culture, #7)"
                                },
                                {
                                    "title": "Goodbye, Columbus and Five Short Stories"
                                },
                                {
                                    "title": "Rich Dad's Guide to Investing: What the Rich Invest in That the Poor and Middle Class Do Not!"
                                }
                            ]
                        },
                        "text/html": [
                            "<table>",
                            "<tr><th>title</th></tr>",
                            "<tr><td>An Unquiet Mind: A Memoir of Moods and Madness</td></tr>",
                            "<tr><td>Murder of Crows (The Others, #2)</td></tr>",
                            "<tr><td>A Fish Out of Water</td></tr>",
                            "<tr><td>Look to Windward (Culture, #7)</td></tr>",
                            "<tr><td>Goodbye, Columbus and Five Short Stories</td></tr>",
                            "<tr><td>Rich Dad&#39;s Guide to Investing: What the Rich Invest in That the Poor and Middle Class Do Not!</td></tr>",
                            "</table>"
                        ]
                    }
                }
            ],
            "execution_count": 8
        },
        {
            "cell_type": "markdown",
            "source": [
                "## QUESTION 3:  Alyce\n",
                "\n",
                "Alyce wants to create a display of books with an average rating of 4.2 or higher, but she only wants books that share both title and original title.  Write a query that displays both the original title and title for Alyce, in descending order by rating.  Make sure that none of the original titles contain NULL values either."
            ],
            "metadata": {
                "azdata_cell_guid": "1d758d74-b4f0-4836-bdfe-d7280b5b4592"
            },
            "attachments": {}
        },
        {
            "cell_type": "code",
            "source": [
                "SELECT b1.original_title, b1.title\r\n",
                "FROM Books AS b1\r\n",
                "WHERE b1.original_title IS NOT NULL\r\n",
                "    AND b1.average_rating >= 4.2\r\n",
                "    AND EXISTS (\r\n",
                "        SELECT 1\r\n",
                "        FROM Books AS b2\r\n",
                "        WHERE b2.original_title = b1.original_title\r\n",
                "        AND b2.title = b1.title\r\n",
                "        AND b2.average_rating >= 4.2\r\n",
                "    )\r\n",
                "GROUP BY b1.original_title, b1.title\r\n",
                "ORDER BY MAX(b1.average_rating) DESC;\r\n",
                "\r\n",
                ""
            ],
            "metadata": {
                "azdata_cell_guid": "2c693b4e-6987-4c49-ba55-61094e677608",
                "tags": [],
                "language": "sql"
            },
            "outputs": [
                {
                    "output_type": "display_data",
                    "data": {
                        "text/html": "(2054 rows affected)"
                    },
                    "metadata": {}
                },
                {
                    "output_type": "display_data",
                    "data": {
                        "text/html": "Total execution time: 00:00:01.881"
                    },
                    "metadata": {}
                },
                {
                    "output_type": "execute_result",
                    "metadata": {},
                    "execution_count": 10,
                    "data": {
                        "application/vnd.dataresource+json": {
                            "schema": {
                                "fields": [
                                    {
                                        "name": "original_title"
                                    },
                                    {
                                        "name": "title"
                                    }
                                ]
                            },
                            "data": [
                                {
                                    "original_title": "The Complete Calvin and Hobbes",
                                    "title": "The Complete Calvin and Hobbes"
                                },
                                {
                                    "original_title": "Words of Radiance",
                                    "title": "Words of Radiance (The Stormlight Archive, #2)"
                                },
                                {
                                    "original_title": "Mark of the Lion Trilogy",
                                    "title": "Mark of the Lion Trilogy"
                                },
                                {
                                    "original_title": "It's a Magical World: A Calvin and Hobbes Collection",
                                    "title": "It's a Magical World: A Calvin and Hobbes Collection"
                                },
                                {
                                    "original_title": "Complete Harry Potter Boxed Set",
                                    "title": "Harry Potter Boxset (Harry Potter, #1-7)"
                                },
                                {
                                    "original_title": "There's Treasure Everywhere: A Calvin and Hobbes Collection",
                                    "title": "There's Treasure Everywhere: A Calvin and Hobbes Collection"
                                },
                                {
                                    "original_title": "The Authoritative Calvin and Hobbes",
                                    "title": "The Authoritative Calvin and Hobbes: A Calvin and Hobbes Treasury"
                                },
                                {
                                    "original_title": "The Indispensable Calvin and Hobbes: A Calvin and Hobbes Treasury",
                                    "title": "The Indispensable Calvin and Hobbes"
                                },
                                {
                                    "original_title": "Harry Potter Collection (Harry Potter, #1-6)",
                                    "title": "Harry Potter Collection (Harry Potter, #1-6)"
                                },
                                {
                                    "original_title": "A Court of Mist and Fury",
                                    "title": "A Court of Mist and Fury (A Court of Thorns and Roses, #2)"
                                },
                                {
                                    "original_title": "Attack of the Deranged Mutant Killer Monster Snow Goons: A Calvin and Hobbes Collection",
                                    "title": "Attack of the Deranged Mutant Killer Monster Snow Goons"
                                },
                                {
                                    "original_title": "Homicidal Psycho Jungle Cat: A Calvin and Hobbes Collection",
                                    "title": "Homicidal Psycho Jungle Cat: A Calvin and Hobbes Collection"
                                },
                                {
                                    "original_title": "Preach My Gospel (A Guide to Missionary Service)",
                                    "title": "Preach My Gospel: A Guide To Missionary Service"
                                },
                                {
                                    "original_title": "The Revenge of the Baby-Sat: A Calvin and Hobbes Collection",
                                    "title": "The Revenge of the Baby-Sat"
                                },
                                {
                                    "original_title": "The Days Are Just Packed: A Calvin and Hobbes Collection",
                                    "title": "The Days Are Just Packed: A Calvin and Hobbes Collection"
                                },
                                {
                                    "original_title": "The Way of Kings, Part 1",
                                    "title": "The Way of Kings, Part 1 (The Stormlight Archive #1.1)"
                                },
                                {
                                    "original_title": "Harry Potter Boxed Set Books 1-4",
                                    "title": "The Harry Potter Collection 1-4 (Harry Potter, #1-4)"
                                },
                                {
                                    "original_title": "Holy Bible English Standard Version",
                                    "title": "The Holy Bible: English Standard Version"
                                },
                                {
                                    "original_title": "The Calvin and Hobbes Lazy Sunday Book",
                                    "title": "The Calvin and Hobbes Lazy Sunday Book"
                                },
                                {
                                    "original_title": "The Absolute Sandman, Volume One",
                                    "title": "The Absolute Sandman, Volume One"
                                },
                                {
                                    "original_title": "The Essential Calvin and Hobbes: A Calvin and Hobbes Treasury",
                                    "title": "The Essential Calvin and Hobbes: A Calvin and Hobbes Treasury"
                                },
                                {
                                    "original_title": "A Song of Ice and Fire Graphic Novels",
                                    "title": "A Game of Thrones: Comic Book, Issue 1"
                                },
                                {
                                    "original_title": "The Way of Kings",
                                    "title": "The Way of Kings (The Stormlight Archive, #1)"
                                },
                                {
                                    "original_title": "دیوان‎‎ [Dīvān]",
                                    "title": "The Divan"
                                },
                                {
                                    "original_title": "The Calvin and Hobbes Tenth Anniversary Book",
                                    "title": "The Calvin and Hobbes Tenth Anniversary Book"
                                },
                                {
                                    "original_title": "A Song of Ice and Fire",
                                    "title": "A Song of Ice and Fire (A Song of Ice and Fire, #1-5)"
                                },
                                {
                                    "original_title": "ONE PIECE 38",
                                    "title": "One Piece, Volume 38: Rocketman!! (One Piece, #38)"
                                },
                                {
                                    "original_title": "Jesus the Christ: A Study of the Messiah and His Mission according to Holy Scriptures both Ancient and Modern",
                                    "title": "Jesus the Christ"
                                },
                                {
                                    "original_title": "Crooked Kingdom",
                                    "title": "Crooked Kingdom (Six of Crows, #2)"
                                },
                                {
                                    "original_title": "The Hate U Give",
                                    "title": "The Hate U Give"
                                },
                                {
                                    "original_title": "Standing for Something: 10 Neglected Virtues That Will Heal Our Hearts and Homes",
                                    "title": "Standing for Something: 10 Neglected Virtues That Will Heal Our Hearts and Homes"
                                },
                                {
                                    "original_title": "Vampire Academy Collection",
                                    "title": "Vampire Academy Collection (Vampire Academy, #1-3)"
                                },
                                {
                                    "original_title": "The Sandman: King of Dreams",
                                    "title": "The Sandman: King of Dreams"
                                },
                                {
                                    "original_title": "Calvin and Hobbes",
                                    "title": "Calvin and Hobbes"
                                },
                                {
                                    "original_title": "Holy Bible: New International Version",
                                    "title": "Holy Bible: New International Version"
                                },
                                {
                                    "original_title": "Harry Potter and the Chamber of Secrets: Sheet Music for Flute with C.D",
                                    "title": "Harry Potter and the Chamber of Secrets: Sheet Music for Flute with C.D"
                                },
                                {
                                    "original_title": "Harry Potter and the Deathly Hallows",
                                    "title": "Harry Potter and the Deathly Hallows (Harry Potter, #7)"
                                },
                                {
                                    "original_title": "Queen of Shadows",
                                    "title": "Queen of Shadows (Throne of Glass, #4)"
                                },
                                {
                                    "original_title": "A Voice in the Wind",
                                    "title": "A Voice in the Wind (Mark of the Lion, #1)"
                                },
                                {
                                    "original_title": "An Echo in the Darkness (Mark of the Lion, #2)",
                                    "title": "An Echo in the Darkness (Mark of the Lion, #2)"
                                },
                                {
                                    "original_title": "Acheron (Dark-Hunter, #15) - Part 1",
                                    "title": "Acheron (Dark-Hunter #14)"
                                },
                                {
                                    "original_title": "Clockwork Princess",
                                    "title": "Clockwork Princess (The Infernal Devices, #3)"
                                },
                                {
                                    "original_title": "The Hobbit and The Lord of the Rings",
                                    "title": "J.R.R. Tolkien 4-Book Boxed Set: The Hobbit and The Lord of the Rings"
                                },
                                {
                                    "original_title": "The Sandman: The Kindly Ones",
                                    "title": "The Kindly Ones (The Sandman #9)"
                                },
                                {
                                    "original_title": "The Lord of the Rings: The Art of The Fellowship of the Ring",
                                    "title": "The Lord of the Rings: The Art of The Fellowship of the Ring"
                                },
                                {
                                    "original_title": "The Mortal Instrument Series: City of Bones / City of Ashes / City of Glass / City of Fallen Angels",
                                    "title": "The Mortal Instruments (The Mortal Instruments #1-4)"
                                },
                                {
                                    "original_title": "The Last Question (When the World Ends)",
                                    "title": "The Last Question"
                                },
                                {
                                    "original_title": "Styxx",
                                    "title": "Styxx (Dark-Hunter, #22)"
                                },
                                {
                                    "original_title": "The Annotated Sherlock Holmes",
                                    "title": "The Annotated Sherlock Holmes: The Four Novels and the Fifty-Six Short Stories Complete (2 Volume Set)"
                                },
                                {
                                    "original_title": "Just Mercy: A Story of Justice and Redemption",
                                    "title": "Just Mercy: A Story of Justice and Redemption"
                                },
                                {
                                    "original_title": "Percy Jackson and the Olympians Boxed Set",
                                    "title": "Percy Jackson and the Olympians (Percy Jackson and the Olympians, #1-3)"
                                },
                                {
                                    "original_title": "Cuentos completos",
                                    "title": "Collected Fictions"
                                },
                                {
                                    "original_title": "Empire of Storms",
                                    "title": "Empire of Storms (Throne of Glass, #5)"
                                },
                                {
                                    "original_title": "Percy Jackson and the Olympians",
                                    "title": "Percy Jackson and the Olympians Boxed Set (Percy Jackson and the Olympians, #1-5)"
                                },
                                {
                                    "original_title": "NARUTO -ナルト- 巻ノ四十三 ",
                                    "title": "NARUTO -ナルト- 巻ノ四十三"
                                },
                                {
                                    "original_title": "Magic Binds",
                                    "title": "Magic Binds (Kate Daniels, #9)"
                                },
                                {
                                    "original_title": "Saga, Volume Two",
                                    "title": "Saga, Vol. 2 (Saga, #2)"
                                },
                                {
                                    "original_title": "The Mortal Instruments Boxed Set: City of Bones; City of Ashes; City of Glass",
                                    "title": "The Mortal Instruments Boxed Set: City of Bones; City of Ashes; City of Glass (The Mortal Instruments, #1-3)"
                                },
                                {
                                    "original_title": "The Wise Man's Fear",
                                    "title": "The Wise Man's Fear (The Kingkiller Chronicle, #2)"
                                },
                                {
                                    "original_title": "الرحيق المختوم: بحث في السيرة النبوية على صاحبها أفضل الصلاة والسلام ",
                                    "title": "الرحيق المختوم"
                                },
                                {
                                    "original_title": "Saga, Volume Three",
                                    "title": "Saga, Vol. 3 (Saga, #3)"
                                },
                                {
                                    "original_title": "Gemina",
                                    "title": "Gemina (The Illuminae Files, #2)"
                                },
                                {
                                    "original_title": "Harry Potter Page to Screen: The Complete Filmmaking Journey",
                                    "title": "Harry Potter Page to Screen: The Complete Filmmaking Journey"
                                },
                                {
                                    "original_title": "Crashed",
                                    "title": "Crashed (Driven, #3)"
                                },
                                {
                                    "original_title": "A Storm of Swords: Part 2 Blood and Gold",
                                    "title": "A Storm of Swords: Blood and Gold (A Song of Ice and Fire, #3: Part 2 of 2)"
                                },
                                {
                                    "original_title": "The Sandman: Brief Lives",
                                    "title": "Brief Lives (The Sandman #7)"
                                },
                                {
                                    "original_title": "Mistborn Trilogy Boxed Set",
                                    "title": "Mistborn Trilogy Boxed Set (Mistborn, #1-3)"
                                },
                                {
                                    "original_title": "Skin Game",
                                    "title": "Skin Game (The Dresden Files, #15)"
                                },
                                {
                                    "original_title": "The Name of the Wind",
                                    "title": "The Name of the Wind (The Kingkiller Chronicle, #1)"
                                },
                                {
                                    "original_title": "The Green Mile, Part 6: Coffey on the Mile",
                                    "title": "The Green Mile, Part 6: Coffey on the Mile"
                                },
                                {
                                    "original_title": "The House of Hades",
                                    "title": "The House of Hades (The Heroes of Olympus, #4)"
                                },
                                {
                                    "original_title": "The Nightingale",
                                    "title": "The Nightingale"
                                },
                                {
                                    "original_title": "The Sandman: Season of Mists",
                                    "title": "Season of Mists (The Sandman #4)"
                                },
                                {
                                    "original_title": "The Constitution of the United States of America",
                                    "title": "The Constitution of the United States of America"
                                },
                                {
                                    "original_title": "桜蘭高校ホスト部 15",
                                    "title": "Ouran High School Host Club, Vol. 15 (Ouran High School Host Club, #15)"
                                },
                                {
                                    "original_title": "Harry Potter and the Half-Blood Prince",
                                    "title": "Harry Potter and the Half-Blood Prince (Harry Potter, #6)"
                                },
                                {
                                    "original_title": "Changes",
                                    "title": "Changes (The Dresden Files, #12)"
                                },
                                {
                                    "original_title": "A Storm of Swords",
                                    "title": "A Storm of Swords (A Song of Ice and Fire, #3)"
                                },
                                {
                                    "original_title": "A Court of Wings and Ruin",
                                    "title": "A Court of Wings and Ruin (A Court of Thorns and Roses, #3)"
                                },
                                {
                                    "original_title": "A Grimm Warning",
                                    "title": "A Grimm Warning (The Land of Stories, #3)"
                                },
                                {
                                    "original_title": "A Clash of Kings",
                                    "title": "A Game of Thrones / A Clash of Kings (A Song of Ice and Fire, #1-2)"
                                },
                                {
                                    "original_title": "黒執事 III [Kuroshitsuji III]",
                                    "title": "Black Butler, Vol. 3 (Black Butler, #3)"
                                },
                                {
                                    "original_title": "Courageous",
                                    "title": "Courageous"
                                },
                                {
                                    "original_title": "Fool's Quest",
                                    "title": "Fool's Quest  (The Fitz and The Fool, #2)"
                                },
                                {
                                    "original_title": "Harry Potter and the Goblet of Fire",
                                    "title": "Harry Potter and the Goblet of Fire (Harry Potter, #4)"
                                },
                                {
                                    "original_title": "Harry Potter and the Prisoner of Azkaban",
                                    "title": "Harry Potter and the Prisoner of Azkaban (Harry Potter, #3)"
                                },
                                {
                                    "original_title": "Heir of Fire",
                                    "title": "Heir of Fire (Throne of Glass, #3)"
                                },
                                {
                                    "original_title": "会長はメイド様! 2",
                                    "title": "Maid-sama! Vol. 02 (Maid-sama! #2)"
                                },
                                {
                                    "original_title": "The Complete Maus",
                                    "title": "The Complete Maus (Maus, #1-2)"
                                },
                                {
                                    "original_title": "The Lord of the Rings: Weapons and Warfare",
                                    "title": "The Lord of the Rings: Weapons and Warfare"
                                },
                                {
                                    "original_title": "This is Water",
                                    "title": "This Is Water: Some Thoughts, Delivered on a Significant Occasion, about Living a Compassionate Life"
                                },
                                {
                                    "original_title": "The Sandman: The Wake",
                                    "title": "The Wake (The Sandman #10)"
                                },
                                {
                                    "original_title": "The Tale of Three Trees: A Traditional Folktale",
                                    "title": "The Tale of Three Trees"
                                },
                                {
                                    "original_title": "The Green Mile, Part 4: The Bad Death of Eduard Delacroix",
                                    "title": "The Green Mile, Part 4: The Bad Death of Eduard Delacroix"
                                },
                                {
                                    "original_title": "Thank You, Mr. Falker",
                                    "title": "Thank You, Mr. Falker"
                                },
                                {
                                    "original_title": "The Shawshank Redemption",
                                    "title": "Rita Hayworth and Shawshank Redemption: A Story from Different Seasons"
                                },
                                {
                                    "original_title": "Magic Breaks",
                                    "title": "Magic Breaks (Kate Daniels, #7)"
                                },
                                {
                                    "original_title": "進撃の巨人 悔いなき選択 1",
                                    "title": "Attack on Titan: No Regrets, Volume 01"
                                },
                                {
                                    "original_title": "Avatar: Last Airbender v. 1 (Avatar (Graphic Novels))",
                                    "title": "Avatar Volume 1: The Last Airbender (Avatar #1)"
                                },
                                {
                                    "original_title": "Three Complete Novels: Carrie/Salem's Lot/The Shining",
                                    "title": "Carrie / 'Salem's Lot / The Shining"
                                },
                                {
                                    "original_title": "Prince's Gambit",
                                    "title": "Captive Prince: Volume Two (Captive Prince, #2)"
                                },
                                {
                                    "original_title": "Believing Christ: The Parable of the Bicycle and Other Good News",
                                    "title": "Believing Christ: The Parable of the Bicycle and Other Good News"
                                },
                                {
                                    "original_title": "Cold Days",
                                    "title": "Cold Days (The Dresden Files, #14)"
                                },
                                {
                                    "original_title": "Fueled",
                                    "title": "Fueled (Driven, #2)"
                                },
                                {
                                    "original_title": "Percy Jackson's Greek Gods",
                                    "title": "Percy Jackson's Greek Gods (A Percy Jackson and the Olympians Guide)"
                                },
                                {
                                    "original_title": "The Green Mile, Part 5: Night Journey",
                                    "title": "The Green Mile, Part 5: Night Journey"
                                },
                                {
                                    "original_title": "The Hitchhiker's Guide to the Galaxy: The Trilogy of Four (Hitchhiker's Guide, #1-4)",
                                    "title": "The Hitchhiker's Guide to the Galaxy: A Trilogy in Four Parts"
                                },
                                {
                                    "original_title": "The Return of the King",
                                    "title": "The Return of the King (The Lord of the Rings, #3)"
                                },
                                {
                                    "original_title": "Written in My Own Heart's Blood",
                                    "title": "Written in My Own Heart's Blood (Outlander, #8)"
                                },
                                {
                                    "original_title": "The Green Mile, Part 3: Coffey's Hands",
                                    "title": "The Green Mile, Part 3: Coffey's Hands"
                                },
                                {
                                    "original_title": "The Last Olympian",
                                    "title": "The Last Olympian (Percy Jackson and the Olympians, #5)"
                                },
                                {
                                    "original_title": "Livro do Desassossego",
                                    "title": "The Book of Disquiet"
                                },
                                {
                                    "original_title": "The Complete Sherlock Holmes",
                                    "title": "The Complete Sherlock Holmes"
                                },
                                {
                                    "original_title": "Out of the Dark ",
                                    "title": "Out of the Dark (The Grey Wolves, #4)"
                                },
                                {
                                    "original_title": "NARUTO -ナルト- 巻ノ十一 ",
                                    "title": "Naruto, Vol. 11: Impassioned Efforts (Naruto, #11)"
                                },
                                {
                                    "original_title": "Morning Star",
                                    "title": "Morning Star (Red Rising, #3)"
                                },
                                {
                                    "original_title": "Humans of New York: Stories",
                                    "title": "Humans of New York: Stories"
                                },
                                {
                                    "original_title": "Clockworks",
                                    "title": "Locke & Key, Vol. 5: Clockworks"
                                },
                                {
                                    "original_title": "Locke & Key, Vol. 6: Alpha & Omega",
                                    "title": "Locke & Key, Vol. 6: Alpha & Omega"
                                },
                                {
                                    "original_title": "Kings Rising",
                                    "title": "Kings Rising (Captive Prince, #3)"
                                },
                                {
                                    "original_title": "A Memory of Light",
                                    "title": "A Memory of Light (Wheel of Time, #14)"
                                },
                                {
                                    "original_title": "A Storm of Swords: Part 1 Steel and Snow",
                                    "title": "A Storm of Swords: Steel and Snow (A Song of Ice and Fire, #3: Part 1 of 2)"
                                },
                                {
                                    "original_title": "At Peace",
                                    "title": "At Peace (The 'Burg, #2)"
                                },
                                {
                                    "original_title": "Crown of Midnight",
                                    "title": "Crown of Midnight (Throne of Glass, #2)"
                                },
                                {
                                    "original_title": "Disney's the Lion King (Disney Classic Series)",
                                    "title": "Disney's the Lion King"
                                },
                                {
                                    "original_title": "Fifth Grave Past the Light",
                                    "title": "Fifth Grave Past the Light (Charley Davidson, #5)"
                                },
                                {
                                    "original_title": "Kürk Mantolu Madonna",
                                    "title": "Kürk Mantolu Madonna"
                                },
                                {
                                    "original_title": "鋼の錬金術師 1",
                                    "title": "Fullmetal Alchemist, Vol. 1 (Fullmetal Alchemist, #1)"
                                },
                                {
                                    "original_title": "Magic Rises",
                                    "title": "Magic Rises (Kate Daniels, #6)"
                                },
                                {
                                    "original_title": "Reunion",
                                    "title": "Reunion (Redemption, #5)"
                                },
                                {
                                    "original_title": "The Complete Works",
                                    "title": "The Complete Works"
                                },
                                {
                                    "original_title": "Saga, Volume Six",
                                    "title": "Saga, Vol. 6 (Saga, #6)"
                                },
                                {
                                    "original_title": "The New Jim Crow: Mass Incarceration in the Age of Colorblindness",
                                    "title": "The New Jim Crow: Mass Incarceration in the Age of Colorblindness"
                                },
                                {
                                    "original_title": "The Hunger Games Box Set",
                                    "title": "The Hunger Games Trilogy Boxset (The Hunger Games, #1-3)"
                                },
                                {
                                    "original_title": "The Green Mile, Part 1: The Two Dead Girls",
                                    "title": "The Green Mile, Part 1: The Two Dead Girls"
                                },
                                {
                                    "original_title": "The Enchantress Returns",
                                    "title": "The Enchantress Returns (The Land of Stories, #2)"
                                },
                                {
                                    "original_title": "Winter",
                                    "title": "Winter (The Lunar Chronicles, #4)"
                                },
                                {
                                    "original_title": "The Sandman: Worlds' End",
                                    "title": "Worlds' End (The Sandman #8)"
                                },
                                {
                                    "original_title": "Drei Kameraden",
                                    "title": "Three Comrades"
                                },
                                {
                                    "original_title": "UnDivided",
                                    "title": "UnDivided (Unwind, #4)"
                                },
                                {
                                    "original_title": "The Hobbit",
                                    "title": "The Hobbit: Graphic Novel"
                                },
                                {
                                    "original_title": "The Complete Tales and Poems of Edgar Allan Poe",
                                    "title": "The Complete Tales and Poems"
                                },
                                {
                                    "original_title": "The Crimson Crown",
                                    "title": "The Crimson Crown (Seven Realms, #4)"
                                },
                                {
                                    "original_title": "The Chronicles of Narnia - The Lion, the Witch, and the Wardrobe Official Illustrated Movie Companion",
                                    "title": "The Chronicles of Narnia - The Lion, the Witch, and the Wardrobe Official Illustrated Movie Companion"
                                },
                                {
                                    "original_title": "The Assassin's Blade",
                                    "title": "The Assassin's Blade (Throne of Glass, #0.1-0.5)"
                                },
                                {
                                    "original_title": "Mortal Coil",
                                    "title": "Mortal Coil (Skulduggery Pleasant, #5)"
                                },
                                {
                                    "original_title": "On Food and Cooking: The Science and Lore of the Kitchen",
                                    "title": "On Food and Cooking: The Science and Lore of the Kitchen"
                                },
                                {
                                    "original_title": "Harry Potter: Film Wizardry",
                                    "title": "Harry Potter: Film Wizardry"
                                },
                                {
                                    "original_title": "Just One Drop",
                                    "title": "Just One Drop (The Grey Wolves, #3)"
                                },
                                {
                                    "original_title": "Evicted: Poverty and Profit in the American City",
                                    "title": "Evicted: Poverty and Profit in the American City"
                                },
                                {
                                    "original_title": "City of Heavenly Fire",
                                    "title": "City of Heavenly Fire (The Mortal Instruments, #6)"
                                },
                                {
                                    "original_title": "黒執事 II [Kuroshitsuji II]",
                                    "title": "Black Butler, Vol. 2 (Black Butler, #2)"
                                },
                                {
                                    "original_title": "青の祓魔師 2",
                                    "title": "Blue exorcist, Tome 2"
                                },
                                {
                                    "original_title": "Assata: An Autobiography",
                                    "title": "Assata: An Autobiography"
                                },
                                {
                                    "original_title": "A Game of Thrones - The Graphic Novel Volume 1",
                                    "title": "A Game of Thrones: The Graphic Novel, Vol. 1"
                                },
                                {
                                    "original_title": "A Charlie Brown Christmas ",
                                    "title": "A Charlie Brown Christmas"
                                },
                                {
                                    "original_title": "Blood Song",
                                    "title": "Blood Song (Raven's Shadow, #1)"
                                },
                                {
                                    "original_title": "Demon From the Dark ",
                                    "title": "Demon from the Dark (Immortals After Dark #10)"
                                },
                                {
                                    "original_title": "Darkest Powers Trilogy (Darkest Powers, #1-3)",
                                    "title": "Darkest Powers Trilogy (Darkest Powers, #1-3)"
                                },
                                {
                                    "original_title": "Ficciones",
                                    "title": "Ficciones"
                                },
                                {
                                    "original_title": "Finding Nemo",
                                    "title": "Finding Nemo"
                                },
                                {
                                    "original_title": "Fireproof",
                                    "title": "Fireproof"
                                },
                                {
                                    "original_title": "Lady Midnight",
                                    "title": "Lady Midnight (The Dark Artifices, #1)"
                                },
                                {
                                    "original_title": "Lonesome Dove",
                                    "title": "Lonesome Dove"
                                },
                                {
                                    "original_title": "Hamilton: The Revolution",
                                    "title": "Hamilton: The Revolution"
                                },
                                {
                                    "original_title": "Night Watch",
                                    "title": "Night Watch (Discworld, #29; City Watch, #6)"
                                },
                                {
                                    "original_title": "Magic Shifts",
                                    "title": "Magic Shifts (Kate Daniels, #8)"
                                },
                                {
                                    "original_title": "The Coldest Winter Ever",
                                    "title": "The Coldest Winter Ever"
                                },
                                {
                                    "original_title": "Saga, Volume Four",
                                    "title": "Saga, Vol. 4 (Saga, #4)"
                                },
                                {
                                    "original_title": "ソウルイーター 2",
                                    "title": "Soul Eater, Vol. 02 (Soul Eater, #2)"
                                },
                                {
                                    "original_title": "The Green Mile, Part 2: The Mouse on the Mile",
                                    "title": "The Green Mile, Part 2: The Mouse on the Mile"
                                },
                                {
                                    "original_title": "The Gruffalo",
                                    "title": "The Gruffalo"
                                },
                                {
                                    "original_title": "The Mark of Athena",
                                    "title": "The Mark of Athena (The Heroes of Olympus, #3)"
                                },
                                {
                                    "original_title": "The Lord of the Rings",
                                    "title": "The Lord of the Rings (The Lord of the Rings, #1-3)"
                                },
                                {
                                    "original_title": "We Should All Be Feminists",
                                    "title": "We Should All Be Feminists"
                                },
                                {
                                    "original_title": "Tramp for the Lord",
                                    "title": "Tramp for the Lord"
                                },
                                {
                                    "original_title": "The Walking Dead, Vol. 8: Made To Suffer",
                                    "title": "The Walking Dead, Vol. 08: Made to Suffer"
                                },
                                {
                                    "original_title": "The summer I turned pretty",
                                    "title": "The Summer I Turned Pretty Trilogy: The Summer I Turned Pretty; It's Not Summer Without You; We'll Always Have Summer"
                                },
                                {
                                    "original_title": "The Lion King (Little Golden Book)",
                                    "title": "The Lion King: A little Golden Book"
                                },
                                {
                                    "original_title": "Män som hatar kvinnor, Flickan som lekte med elden, Luftslottet som sprängdes",
                                    "title": "The Millennium Trilogy (Millennium Trilogy, #1-3)"
                                },
                                {
                                    "original_title": "The Hero of Ages",
                                    "title": "The Hero of Ages (Mistborn, #3)"
                                },
                                {
                                    "original_title": "Shoe Dog: A Memoir by the Creator of Nike",
                                    "title": "Shoe Dog: A Memoir by the Creator of NIKE"
                                },
                                {
                                    "original_title": "Six of Crows",
                                    "title": "Six of Crows (Six of Crows, #1)"
                                },
                                {
                                    "original_title": "Shadowfever",
                                    "title": "Shadowfever (Fever, #5)"
                                },
                                {
                                    "original_title": "The Broken Eye",
                                    "title": "The Broken Eye (Lightbringer, #3)"
                                },
                                {
                                    "original_title": "Sherlock Holmes: The Complete Novels and Stories, Vol 2",
                                    "title": "The Complete Sherlock Holmes, Vol 2"
                                },
                                {
                                    "original_title": "The Complete Adventures of Peter Rabbit",
                                    "title": "The Complete Adventures of Peter Rabbit"
                                },
                                {
                                    "original_title": "桜蘭高校ホスト部 2",
                                    "title": "Ouran High School Host Club, Vol. 2 (Ouran High School Host Club, #2)"
                                },
                                {
                                    "original_title": "Harry Potter and the Order of the Phoenix",
                                    "title": "Harry Potter and the Order of the Phoenix (Harry Potter, #5)"
                                },
                                {
                                    "original_title": "Golden Son",
                                    "title": "Golden Son (Red Rising, #2)"
                                },
                                {
                                    "original_title": "Heir of Novron",
                                    "title": "Heir of Novron (The Riyria Revelations, #5-6)"
                                },
                                {
                                    "original_title": "Labyrinths",
                                    "title": "Labyrinths:  Selected Stories and Other Writings"
                                },
                                {
                                    "original_title": "Magic Bleeds",
                                    "title": "Magic Bleeds (Kate Daniels, #4)"
                                },
                                {
                                    "original_title": "フルーツバスケット 14",
                                    "title": "Fruits Basket, Vol. 14"
                                },
                                {
                                    "original_title": "Clockwork Prince",
                                    "title": "Clockwork Prince (The Infernal Devices, #2)"
                                },
                                {
                                    "original_title": "Cress",
                                    "title": "Cress (The Lunar Chronicles, #3)"
                                },
                                {
                                    "original_title": "A Great Reckoning",
                                    "title": "A Great Reckoning (Chief Inspector Armand Gamache, #12)"
                                },
                                {
                                    "original_title": "A Game of Thrones",
                                    "title": "A Game of Thrones (A Song of Ice and Fire, #1)"
                                },
                                {
                                    "original_title": "Archer's Voice",
                                    "title": "Archer's Voice"
                                },
                                {
                                    "original_title": "Dark Days",
                                    "title": "Dark Days (Skulduggery Pleasant, #4)"
                                },
                                {
                                    "original_title": "Collected Works",
                                    "title": "Complete Works of Oscar Wilde"
                                },
                                {
                                    "original_title": "フルーツバスケット 15",
                                    "title": "Fruits Basket, Vol. 15"
                                },
                                {
                                    "original_title": "The Sandman: Fables and Reflections",
                                    "title": "Fables and Reflections (The Sandman #6)"
                                },
                                {
                                    "original_title": "Lover Awakened (Black Dagger Brotherhood, #3)",
                                    "title": "Lover Awakened (Black Dagger Brotherhood, #3)"
                                },
                                {
                                    "original_title": "Harry Potter and Philosophy: If Aristotle Ran Hogwarts",
                                    "title": "Harry Potter and Philosophy: If Aristotle Ran Hogwarts"
                                },
                                {
                                    "original_title": "桜蘭高校ホスト部 4",
                                    "title": "Ouran High School Host Club, Vol. 4 (Ouran High School Host Club, #4)"
                                },
                                {
                                    "original_title": "Pale Demon",
                                    "title": "Pale Demon (The Hollows, #9)"
                                },
                                {
                                    "original_title": "Ride Steady",
                                    "title": "Ride Steady (Chaos, #3)"
                                },
                                {
                                    "original_title": "Rejoice",
                                    "title": "Rejoice (Redemption, #4)"
                                },
                                {
                                    "original_title": "Praying God's Word: Breaking Free From Spiritual Strongholds",
                                    "title": "Praying God's Word: Breaking Free From Spiritual Strongholds"
                                },
                                {
                                    "original_title": "Miss Rumphius",
                                    "title": "Miss Rumphius"
                                },
                                {
                                    "original_title": "The Blinding Knife",
                                    "title": "The Blinding Knife (Lightbringer, #2)"
                                },
                                {
                                    "original_title": "The Bands of Mourning",
                                    "title": "The Bands of Mourning (Mistborn, #6)"
                                },
                                {
                                    "original_title": "The Beast",
                                    "title": "The Beast (Black Dagger Brotherhood, #14)"
                                },
                                {
                                    "original_title": "Sherlock Holmes: The Complete Novels and Stories, Volume I",
                                    "title": "Sherlock Holmes: The Complete Novels and Stories, Volume I"
                                },
                                {
                                    "original_title": "The Help",
                                    "title": "The Help"
                                },
                                {
                                    "original_title": "The Far Side Gallery 3",
                                    "title": "The Far Side Gallery 3"
                                },
                                {
                                    "original_title": "The Fire Next Time",
                                    "title": "The Fire Next Time"
                                },
                                {
                                    "original_title": "The Monster at the End of This Book",
                                    "title": "The Monster at the End of this Book"
                                },
                                {
                                    "original_title": "Turn Coat",
                                    "title": "Turn Coat (The Dresden Files, #11)"
                                },
                                {
                                    "original_title": "Wicked - Piano/Vocal Arrangement",
                                    "title": "Wicked - Piano/Vocal Arrangement"
                                },
                                {
                                    "original_title": "You Are Special: A Story for Everyone",
                                    "title": "You Are Special (Wemmicksville, #1)"
                                },
                                {
                                    "original_title": "United We Spy",
                                    "title": "United We Spy (Gallagher Girls, #6)"
                                },
                                {
                                    "original_title": "The Son of Neptune ",
                                    "title": "The Son of Neptune (The Heroes of Olympus, #2)"
                                },
                                {
                                    "original_title": "The Poetry of Pablo Neruda",
                                    "title": "The Poetry of Pablo Neruda"
                                },
                                {
                                    "original_title": "Essential Rumi",
                                    "title": "The Essential Rumi"
                                },
                                {
                                    "original_title": "The Doll's House",
                                    "title": "The Doll's House (The Sandman #2)"
                                },
                                {
                                    "original_title": "The Declaration of Independence and The Constitution of the United States ",
                                    "title": "The Declaration of Independence and The Constitution of the United States"
                                },
                                {
                                    "original_title": "Saga, Volume Five",
                                    "title": "Saga, Vol. 5 (Saga, #5)"
                                },
                                {
                                    "original_title": "The Book of Negroes",
                                    "title": "Someone Knows My Name"
                                },
                                {
                                    "original_title": "The Crippled God",
                                    "title": "The Crippled God (The Malazan Book of the Fallen, #10)"
                                },
                                {
                                    "original_title": "The Complete Stories",
                                    "title": "The Complete Stories"
                                },
                                {
                                    "original_title": "Magic Strikes",
                                    "title": "Magic Strikes (Kate Daniels, #3)"
                                },
                                {
                                    "original_title": "Magician: Apprentice (The Riftwar Saga, #1) ",
                                    "title": "Magician: Apprentice  (Raymond E. Feist's Magician: Apprentice #1)"
                                },
                                {
                                    "original_title": "Un livre",
                                    "title": "Press Here"
                                },
                                {
                                    "original_title": "Return",
                                    "title": "Return (Redemption, #3)"
                                },
                                {
                                    "original_title": "桜蘭高校ホスト部 3",
                                    "title": "Ouran High School Host Club, Vol. 3 (Ouran High School Host Club, #3)"
                                },
                                {
                                    "original_title": "Origin",
                                    "title": "Origin (Lux, #4)"
                                },
                                {
                                    "original_title": "Harry Potter and the Philosopher's Stone",
                                    "title": "Harry Potter and the Sorcerer's Stone (Harry Potter, #1)"
                                },
                                {
                                    "original_title": "Ignite Me (Shatter Me, #3)",
                                    "title": "Ignite Me (Shatter Me, #3)"
                                },
                                {
                                    "original_title": "Locke & Key, Vol. 4: Keys to the Kingdom",
                                    "title": "Locke & Key, Vol. 4: Keys to the Kingdom"
                                },
                                {
                                    "original_title": "Lady Luck",
                                    "title": "Lady Luck (Colorado Mountain, #3)"
                                },
                                {
                                    "original_title": "It Ends with Us",
                                    "title": "It Ends with Us"
                                },
                                {
                                    "original_title": "Eclipse: The Official Illustrated Movie Companion",
                                    "title": "Eclipse: The Complete Illustrated Movie Companion (The Twilight Saga: The Official Illustrated Movie Companion, #3)"
                                },
                                {
                                    "original_title": "Dreamfever",
                                    "title": "Dreamfever (Fever, #4)"
                                },
                                {
                                    "original_title": "Facing Your Giants: The God Who Made a Miracle Out of David Stands Ready to Make One Out of You",
                                    "title": "Facing Your Giants: A David and Goliath Story for Everyday People"
                                },
                                {
                                    "original_title": "Dead Beat",
                                    "title": "Dead Beat (The Dresden Files, #7)"
                                },
                                {
                                    "original_title": "The Sandman: A Game of You",
                                    "title": "A Game of You (The Sandman #5)"
                                },
                                {
                                    "original_title": "A Breath of Snow and Ashes",
                                    "title": "A Breath of Snow and Ashes (Outlander, #6)"
                                },
                                {
                                    "original_title": "A Civil Campaign",
                                    "title": "A Civil Campaign (Vorkosigan Saga, #12)"
                                },
                                {
                                    "original_title": "Breaking Free",
                                    "title": "Breaking Free: Discover the Victory of Total Surrender"
                                },
                                {
                                    "original_title": "Incendiary",
                                    "title": "Incendiary (The Premonition, #4)"
                                },
                                {
                                    "original_title": "Left to Tell: Discovering God Amidst the Rwandan Holocaust",
                                    "title": "Left to Tell: Discovering God Amidst the Rwandan Holocaust"
                                },
                                {
                                    "original_title": "Lothaire",
                                    "title": "Lothaire (Immortals After Dark #12)"
                                },
                                {
                                    "original_title": "Hunter × Hunter #1",
                                    "title": "Hunter x Hunter, Vol. 01 (Hunter x Hunter, #1)"
                                },
                                {
                                    "original_title": "Opposition",
                                    "title": "Opposition (Lux, #5)"
                                },
                                {
                                    "original_title": "Magic Slays",
                                    "title": "Magic Slays (Kate Daniels, #5)"
                                },
                                {
                                    "original_title": "Motorcycle Man",
                                    "title": "Motorcycle Man (Dream Man, #4)"
                                },
                                {
                                    "original_title": "宮本武蔵 Miyamoto Musashi",
                                    "title": "Musashi"
                                },
                                {
                                    "original_title": "Small Favor",
                                    "title": "Small Favor (The Dresden Files, #10)"
                                },
                                {
                                    "original_title": "Sookie Stackhouse, Books 1-7",
                                    "title": "Sookie Stackhouse 7-copy Boxed Set (Sookie Stackhouse, #1-7)"
                                },
                                {
                                    "original_title": "The Shadows Over Innsmouth",
                                    "title": "Shadows over Innsmouth"
                                },
                                {
                                    "original_title": "Mistborn : The Final Empire",
                                    "title": "The Final Empire (Mistborn, #1)"
                                },
                                {
                                    "original_title": "The Undead Pool",
                                    "title": "The Undead Pool (The Hollows, #12)"
                                },
                                {
                                    "original_title": "The Walking Dead Compendium Volume 1",
                                    "title": "The Walking Dead, Compendium 1"
                                },
                                {
                                    "original_title": "The Walking Dead. Book Three",
                                    "title": "The Walking Dead, Book Three (The Walking Dead #25-36)"
                                },
                                {
                                    "original_title": "The Wheel of Time: Boxed Set #1 (Wheel of Time, #1-3)",
                                    "title": "The Wheel of Time: Boxed Set #1 (Wheel of Time, #1-3)"
                                },
                                {
                                    "original_title": "Treachery in Death",
                                    "title": "Treachery in Death (In Death, #32)"
                                },
                                {
                                    "original_title": "東京喰種トーキョーグール 1",
                                    "title": "Tokyo Ghoul, tome 1 (Tokyo Ghoul, #1)"
                                },
                                {
                                    "original_title": "This Man Confessed",
                                    "title": "This Man Confessed (This Man, #3)"
                                },
                                {
                                    "original_title": "The Witch with No Name",
                                    "title": "The Witch With No Name (The Hollows, #13)"
                                },
                                {
                                    "original_title": "Winnie-the-Pooh & The House at Pooh Corner",
                                    "title": "The World of Winnie-the-Pooh (Winnie-the-Pooh, #1-2)"
                                },
                                {
                                    "original_title": "رباعيات صلاح جاهين",
                                    "title": "رباعيات صلاح جاهين"
                                },
                                {
                                    "original_title": "Wonder",
                                    "title": "Wonder"
                                },
                                {
                                    "original_title": "Towers of Midnight",
                                    "title": "Towers of Midnight (Wheel of Time, #13)"
                                },
                                {
                                    "original_title": "Where I’m Calling From: The Selected Stories",
                                    "title": "Where I'm Calling From: New and Selected Stories"
                                },
                                {
                                    "original_title": "The Two Towers",
                                    "title": "The Two Towers (The Lord of the Rings, #2)"
                                },
                                {
                                    "original_title": "Двенадцать стульев",
                                    "title": "The Twelve Chairs"
                                },
                                {
                                    "original_title": "The Far Side Gallery",
                                    "title": "The Far Side Gallery"
                                },
                                {
                                    "original_title": "The Darkest Surrender",
                                    "title": "The Darkest Surrender  (Lords of the Underworld #8)"
                                },
                                {
                                    "original_title": "The Hiding Place",
                                    "title": "The Hiding Place: The Triumphant True Story of Corrie Ten Boom"
                                },
                                {
                                    "original_title": "The Green Mile",
                                    "title": "The Green Mile"
                                },
                                {
                                    "original_title": "The Path to Power",
                                    "title": "The Path to Power (The Years of Lyndon Johnson, #1)"
                                },
                                {
                                    "original_title": "The Night Angel Trilogy",
                                    "title": "The Night Angel Trilogy (Night Angel, #1-3)"
                                },
                                {
                                    "original_title": "Roots",
                                    "title": "Roots: The Saga of an American Family"
                                },
                                {
                                    "original_title": "Sweet Dreams",
                                    "title": "Sweet Dreams (Colorado Mountain, #2)"
                                },
                                {
                                    "original_title": "The Complete Anne of Green Gables Boxed Set",
                                    "title": "The Complete Anne of Green Gables Boxed Set (Anne of Green Gables, #1-8)"
                                },
                                {
                                    "original_title": "The Bonehunters",
                                    "title": "The Bonehunters (Malazan Book of the Fallen, #6)"
                                },
                                {
                                    "original_title": "The Assassin and the Empire",
                                    "title": "The Assassin and the Empire (Throne of Glass, #0.5)"
                                },
                                {
                                    "original_title": "Tales From a Not-So-Smart Miss Know-it-all",
                                    "title": "Tales from a Not-So-Smart Miss Know-It-All (Dork Diaries, #5)"
                                },
                                {
                                    "original_title": "Tales From a Not-So-Happy-Heartbreaker",
                                    "title": "Tales from a Not-So-Happy Heartbreaker (Dork Diaries, #6)"
                                },
                                {
                                    "original_title": "New York to Dallas",
                                    "title": "New York to Dallas (In Death, #33)"
                                },
                                {
                                    "original_title": "Night Broken",
                                    "title": "Night Broken (Mercy Thompson, #8)"
                                },
                                {
                                    "original_title": "Nothing to Envy: Ordinary Lives in North Korea",
                                    "title": "Nothing to Envy: Ordinary Lives in North Korea"
                                },
                                {
                                    "original_title": "One Piece, Volume 01",
                                    "title": "One Piece, Volume 01: Romance Dawn (One Piece, #1)"
                                },
                                {
                                    "original_title": "Reckless",
                                    "title": "Reckless (Thoughtless, #3)"
                                },
                                {
                                    "original_title": "H.M.S. Surprise ",
                                    "title": "H.M.S. Surprise"
                                },
                                {
                                    "original_title": "Last Sacrifice ",
                                    "title": "Last Sacrifice (Vampire Academy, #6)"
                                },
                                {
                                    "original_title": "Ina May's Guide to Childbirth",
                                    "title": "Ina May's Guide to Childbirth"
                                },
                                {
                                    "original_title": "Fablehaven: Keys to the Demon Prison (Fablehaven, #5)",
                                    "title": "Keys to the Demon Prison (Fablehaven, #5)"
                                },
                                {
                                    "original_title": "Bone: The Complete Cartoon Epic in One Volume",
                                    "title": "Bone: The Complete Edition"
                                },
                                {
                                    "original_title": "進撃の巨人 1",
                                    "title": "Attack on Titan, Vol. 1 (Attack on Titan, #1)"
                                },
                                {
                                    "original_title": "Band of Brothers: E Company, 506th Regiment, 101st Airborne from Normandy to Hitler's Eagle's Nest",
                                    "title": "Band of Brothers: E Company, 506th Regiment, 101st Airborne from Normandy to Hitler's Eagle's Nest"
                                },
                                {
                                    "original_title": "A Dangerous Path",
                                    "title": "A Dangerous Path (Warriors, #5)"
                                },
                                {
                                    "original_title": "An Echo in the Bone",
                                    "title": "An Echo in the Bone (Outlander, #7)"
                                },
                                {
                                    "original_title": "デスノート #1 (Desu Nōto) Taikutsu (退屈)",
                                    "title": "Death Note, Vol. 1: Boredom (Death Note, #1)"
                                },
                                {
                                    "original_title": "デスノート #2 (Desu Nōto) Gōryū (合流)",
                                    "title": "Death Note, Vol. 2: Confluence (Death Note, #2)"
                                },
                                {
                                    "original_title": "デスノート #3 (Desu Nōto) Gekisō (激走)",
                                    "title": "Death Note, Vol. 3: Hard Run (Death Note, #3)"
                                },
                                {
                                    "original_title": "孫悟空と仲間たち",
                                    "title": "Dragon Ball, Vol. 1: The Monkey King (Dragon Ball, #1)"
                                },
                                {
                                    "original_title": "Deity",
                                    "title": "Deity (Covenant, #3)"
                                },
                                {
                                    "original_title": "デスノート #7 (Desu Nōto) Zero (零)",
                                    "title": "Death Note, Vol. 7: Zero (Death Note, #7)"
                                },
                                {
                                    "original_title": "Fantastic Beasts and Where to Find Them: The Original Screenplay",
                                    "title": "Fantastic Beasts and Where to Find Them: The Original Screenplay"
                                },
                                {
                                    "original_title": "Four Great Tragedies: Hamlet, Othello, King Lear, Macbeth (Signet Classics)",
                                    "title": "Four Great Tragedies: Hamlet / Othello / King Lear / Macbeth"
                                },
                                {
                                    "original_title": "Elixir",
                                    "title": "Elixir (Covenant, #3.5)"
                                },
                                {
                                    "original_title": "A Dance With Dragons: Part 2 After The Feast",
                                    "title": "A Dance with Dragons: After the Feast (A Song of Ice and Fire #5, Part 2 of 2)"
                                },
                                {
                                    "original_title": "A Dog's Journey: Another Novel for Humans",
                                    "title": "A Dog's Journey (A Dog's Purpose, #2)"
                                },
                                {
                                    "original_title": "Avatar The Last Airbender: The Lost Adventures",
                                    "title": "Avatar: The Last Airbender: The Lost Adventures"
                                },
                                {
                                    "original_title": "Blood Rites ",
                                    "title": "Blood Rites (The Grey Wolves, #2)"
                                },
                                {
                                    "original_title": "Bleach―ブリーチ― 15",
                                    "title": "Bleach, Volume 15"
                                },
                                {
                                    "original_title": "Crown of Shadows",
                                    "title": "Locke & Key, Vol. 3: Crown of Shadows"
                                },
                                {
                                    "original_title": "Lover Avenged, part one",
                                    "title": "Lover Mine (Black Dagger Brotherhood, #8)"
                                },
                                {
                                    "original_title": "フルーツバスケット 7",
                                    "title": "Fruits Basket, Vol. 7"
                                },
                                {
                                    "original_title": "How the Light Gets In",
                                    "title": "How the Light Gets In (Chief Inspector Armand Gamache, #9)"
                                },
                                {
                                    "original_title": "Homegoing",
                                    "title": "Homegoing"
                                },
                                {
                                    "original_title": "Remember",
                                    "title": "Remember (Redemption, #2)"
                                },
                                {
                                    "original_title": "Proven Guilty",
                                    "title": "Proven Guilty (The Dresden Files, #8)"
                                },
                                {
                                    "original_title": "One Tuesday Morning",
                                    "title": "One Tuesday Morning (9/11, #1)"
                                },
                                {
                                    "original_title": "Pleasure of a Dark Prince ",
                                    "title": "Pleasure of a Dark Prince (Immortals After Dark #9)"
                                },
                                {
                                    "original_title": "November 9",
                                    "title": "November 9"
                                },
                                {
                                    "original_title": "Master of the Senate",
                                    "title": "Master of the Senate (The Years of Lyndon Johnson, #3)"
                                },
                                {
                                    "original_title": "Maus II : And Here My Troubles Began ",
                                    "title": "Maus II: A Survivor's Tale: And Here My Troubles Began (Maus, #2)"
                                },
                                {
                                    "original_title": "The Blood of Olympus",
                                    "title": "The Blood of Olympus (The Heroes of Olympus, #5)"
                                },
                                {
                                    "original_title": "The Cat in the Hat and Other Dr. Seuss Favorites",
                                    "title": "The Cat in the Hat and Other Dr. Seuss Favorites"
                                },
                                {
                                    "original_title": "קיצור תולדות האנושות‎‎",
                                    "title": "Sapiens: A Brief History of Humankind"
                                },
                                {
                                    "original_title": "Scott Pilgrim, Volume 6: Scott Pilgrim's Finest Hour",
                                    "title": "Scott Pilgrim, Volume 6: Scott Pilgrim's Finest Hour"
                                },
                                {
                                    "original_title": "The Peacegiver: How Christ Offers to Heal Our Hearts and Homes",
                                    "title": "The Peacegiver: How Christ Offers to Heal Our Hearts and Homes"
                                },
                                {
                                    "original_title": "The Kissing Hand",
                                    "title": "The Kissing Hand"
                                },
                                {
                                    "original_title": "The Indigo Spell",
                                    "title": "The Indigo Spell (Bloodlines, #3)"
                                },
                                {
                                    "original_title": "The Day the Crayons Quit",
                                    "title": "The Day the Crayons Quit"
                                },
                                {
                                    "original_title": "The Story of Ruby Bridges",
                                    "title": "The Story of Ruby Bridges"
                                },
                                {
                                    "original_title": "The Weight of Glory",
                                    "title": "The Weight of Glory"
                                },
                                {
                                    "original_title": "White Night",
                                    "title": "White Night (The Dresden Files, #9)"
                                },
                                {
                                    "original_title": "Transmetropolitan Vol. 4: The New Scum",
                                    "title": "Transmetropolitan, Vol. 4: The New Scum (Transmetropolitan, #4)"
                                },
                                {
                                    "original_title": "Tiger's Destiny",
                                    "title": "Tiger's Destiny (The Tiger Saga, #4)"
                                },
                                {
                                    "original_title": "Thief",
                                    "title": "Thief (Love Me with Lies, #3)"
                                },
                                {
                                    "original_title": "Transmetropolitan, Vol. 5: Lonely City",
                                    "title": "Transmetropolitan, Vol. 5: Lonely City (Transmetropolitan, #5)"
                                },
                                {
                                    "original_title": "Transmetropolitan, Vol. 3: Year of the Bastard",
                                    "title": "Transmetropolitan, Vol. 3: Year of the Bastard (Transmetropolitan, #3)"
                                },
                                {
                                    "original_title": "Unbroken: A World War II Story of Survival, Resilience, and Redemption",
                                    "title": "Unbroken: A World War II Story of Survival, Resilience, and Redemption"
                                },
                                {
                                    "original_title": "The Sunne in Splendour",
                                    "title": "The Sunne in Splendour"
                                },
                                {
                                    "original_title": "The Royal Ranger (Ranger's Apprentice, #12)",
                                    "title": "The Royal Ranger (Ranger's Apprentice, #12)"
                                },
                                {
                                    "original_title": "With The Old Breed: At Peleliu And Okinawa",
                                    "title": "With the Old Breed: At Peleliu and Okinawa"
                                },
                                {
                                    "original_title": "The Exploits of Sherlock Holmes",
                                    "title": "The Exploits of Sherlock Holmes"
                                },
                                {
                                    "original_title": "The Faceless Ones",
                                    "title": "The Faceless Ones (Skulduggery Pleasant, #3)"
                                },
                                {
                                    "original_title": "The Guardian",
                                    "title": "The Guardian (O'Malley #2)"
                                },
                                {
                                    "original_title": "Frog And Toad Book Set: Frog And Toad Are Friends; Frog And Toad Together; Days With Frog And Toad; Frog And Toad All Year",
                                    "title": "The Frog and Toad Treasury: Frog and Toad are Friends/Frog and Toad Together/Frog and Toad All Year  (Frog and Toad #1-3)"
                                },
                                {
                                    "original_title": "The Further Adventures of Sherlock Holmes (Classic Crime)",
                                    "title": "The Further Adventures of Sherlock Holmes: After Sir Arthur Conan Doyle (Classic Crime)"
                                },
                                {
                                    "original_title": "The Healer",
                                    "title": "The Healer (O'Malley #5)"
                                },
                                {
                                    "original_title": "The Invaders",
                                    "title": "The Invaders (Brotherband Chronicles, #2)"
                                },
                                {
                                    "original_title": "Sherlock Holmes of Baker Street, the life of the world’s first consulting detective.",
                                    "title": "Sherlock Holmes of Baker Street: A Life of the World's First Consulting Detective"
                                },
                                {
                                    "original_title": "The Assassin and the Desert",
                                    "title": "The Assassin and the Desert (Throne of Glass, #0.3)"
                                },
                                {
                                    "original_title": "会長はメイド様! 1",
                                    "title": "Maid-sama! Vol. 01 (Maid-sama!, #1)"
                                },
                                {
                                    "original_title": "Miecz przeznaczenia",
                                    "title": "Miecz przeznaczenia (Saga o Wiedźminie, #2)"
                                },
                                {
                                    "original_title": "Promises in Death",
                                    "title": "Promises in Death (In Death, #28)"
                                },
                                {
                                    "original_title": "Gates of Fire: An Epic Novel of the Battle of Thermopylae",
                                    "title": "Gates of Fire: An Epic Novel of the Battle of Thermopylae"
                                },
                                {
                                    "original_title": "Light",
                                    "title": "Light (Gone, #6)"
                                },
                                {
                                    "original_title": "Being Mortal: Medicine and What Matters in the End",
                                    "title": "Being Mortal: Medicine and What Matters in the End"
                                },
                                {
                                    "original_title": "Between the World and Me",
                                    "title": "Between the World and Me"
                                },
                                {
                                    "original_title": "Beauty and the Beast (Little Golden Book)",
                                    "title": "Beauty and the Beast (Disney)"
                                },
                                {
                                    "original_title": "A Clash of Kings",
                                    "title": "A Clash of Kings  (A Song of Ice and Fire, #2)"
                                },
                                {
                                    "original_title": "Cien sonetos de amor",
                                    "title": "100 Love Sonnets"
                                },
                                {
                                    "original_title": "Apollyon",
                                    "title": "Apollyon (Covenant, #4)"
                                },
                                {
                                    "original_title": "Arc de Triomphe",
                                    "title": "Arch of Triumph: A Novel of a Man Without a Country"
                                },
                                {
                                    "original_title": "Fairy Tail 1",
                                    "title": "Fairy Tail, Vol. 1 (Fairy Tail, #1)"
                                },
                                {
                                    "original_title": "Fourth Grave Beneath My Feet",
                                    "title": "Fourth Grave Beneath My Feet (Charley Davidson, #4)"
                                },
                                {
                                    "original_title": "Forest of Secrets",
                                    "title": "Forest of Secrets (Warriors, #3)"
                                },
                                {
                                    "original_title": "Every Thing On It",
                                    "title": "Every Thing on It"
                                },
                                {
                                    "original_title": "Endless Knight ",
                                    "title": "Endless Knight (The Arcana Chronicles, #2)"
                                },
                                {
                                    "original_title": "Dreams of a Dark Warrior",
                                    "title": "Dreams of a Dark Warrior (Immortals After Dark #11)"
                                },
                                {
                                    "original_title": "デスノート #6 (Desu Nōto) Kōkan (交換)",
                                    "title": "Death Note, Vol. 6: Give-and-Take (Death Note, #6)"
                                },
                                {
                                    "original_title": "Dance with the Devil",
                                    "title": "Dance with the Devil (Dark-Hunter #3)"
                                },
                                {
                                    "original_title": "As Sure as the Dawn (Mark of the Lion, #3)",
                                    "title": "As Sure as the Dawn (Mark of the Lion, #3)"
                                },
                                {
                                    "original_title": "Vets Might Fly and Vet in a Spin",
                                    "title": "All Things Wise and Wonderful"
                                },
                                {
                                    "original_title": "Beauty and the Beast",
                                    "title": "Beauty and the Beast"
                                },
                                {
                                    "original_title": "Black Magic Sanction",
                                    "title": "Black Magic Sanction (The Hollows, #8)"
                                },
                                {
                                    "original_title": "Losing Hope",
                                    "title": "Losing Hope (Hopeless, #2)"
                                },
                                {
                                    "original_title": "フルーツバスケット 4",
                                    "title": "Fruits Basket, Vol. 4"
                                },
                                {
                                    "original_title": "I Love You Through And Through",
                                    "title": "I Love You Through and Through"
                                },
                                {
                                    "original_title": "I Want My Hat Back",
                                    "title": "I Want My Hat Back"
                                },
                                {
                                    "original_title": "Red Notice: A True Story of High Finance, Murder, and One Man’s Fight for Justice",
                                    "title": "Red Notice: A True Story of High Finance, Murder, and One Man’s Fight for Justice"
                                },
                                {
                                    "original_title": "Memories of Ice",
                                    "title": "Memories of Ice (The Malazan Book of the Fallen, #3)"
                                },
                                {
                                    "original_title": "Martin Eden",
                                    "title": "Martin Eden"
                                },
                                {
                                    "original_title": "My Utmost for His Highest",
                                    "title": "My Utmost for His Highest"
                                },
                                {
                                    "original_title": "El Aleph",
                                    "title": "The Aleph and Other Stories "
                                },
                                {
                                    "original_title": "The Battle of the Labyrinth",
                                    "title": "The Battle of the Labyrinth (Percy Jackson and the Olympians, #4)"
                                },
                                {
                                    "original_title": "The Brothers K",
                                    "title": "The Brothers K"
                                },
                                {
                                    "original_title": "Streams in the Desert",
                                    "title": "Streams in the Desert"
                                },
                                {
                                    "original_title": "Stand Tall, Molly Lou Melon",
                                    "title": "Stand Tall, Molly Lou Melon"
                                },
                                {
                                    "original_title": "The Lord God Made Them All",
                                    "title": "The Lord God Made Them All"
                                },
                                {
                                    "original_title": "The Morganville Vampires, Volume 3",
                                    "title": "The Morganville Vampires, Volume 3 (The Morganville Vampires, #5-6)"
                                },
                                {
                                    "original_title": "The Martian",
                                    "title": "The Martian"
                                },
                                {
                                    "original_title": "The Foundation Trilogy",
                                    "title": "The Foundation Trilogy (Foundation, #1-3)"
                                },
                                {
                                    "original_title": "The Gray Wolf Throne",
                                    "title": "The Gray Wolf Throne (Seven Realms, #3)"
                                },
                                {
                                    "original_title": "The Fiery Heart",
                                    "title": "The Fiery Heart (Bloodlines, #4)"
                                },
                                {
                                    "original_title": "Winnie the Pooh and Tigger Too",
                                    "title": "Winnie the Pooh and Tigger Too (Disney's Wonderful World of Reading)"
                                },
                                {
                                    "original_title": "The Rose and the Thorn",
                                    "title": "The Rose and the Thorn (The Riyria Chronicles, #2)"
                                },
                                {
                                    "original_title": "The Prodigal God: Christianity Redefined Through the Parable of the Prodigal Sons",
                                    "title": "The Prodigal God: Recovering the Heart of the Christian Faith"
                                },
                                {
                                    "original_title": "Storia della bambina perduta",
                                    "title": "The Story of the Lost Child (The Neapolitan Novels, #4)"
                                },
                                {
                                    "original_title": "The Truth Seeker (O'Malley #3)",
                                    "title": "The Truth Seeker (O'Malley #3)"
                                },
                                {
                                    "original_title": "Twilight and Philosophy: Vampires, Vegetarians, and the Pursuit of Immortality (The Blackwell Philosophy and Pop Culture Series)",
                                    "title": "Twilight and Philosophy: Vampires, Vegetarians, and the Pursuit of Immortality"
                                },
                                {
                                    "original_title": "Third Grave Dead Ahead",
                                    "title": "Third Grave Dead Ahead (Charley Davidson, #3)"
                                },
                                {
                                    "original_title": "Through Gates of Splendor",
                                    "title": "Through Gates of Splendor"
                                },
                                {
                                    "original_title": "Twilight and History",
                                    "title": "Twilight and History"
                                },
                                {
                                    "original_title": "Whispers at Moonrise ",
                                    "title": "Whispers at Moonrise (Shadow Falls, #4)"
                                },
                                {
                                    "original_title": "Voyager",
                                    "title": "Voyager (Outlander, #3)"
                                },
                                {
                                    "original_title": "War and Remembrance",
                                    "title": "War and Remembrance (The Henry Family, #2)"
                                },
                                {
                                    "original_title": "Pursuit of God",
                                    "title": "The Pursuit of God"
                                },
                                {
                                    "original_title": "The Return of the Prodigal Son: A Story of Homecoming",
                                    "title": "The Return of the Prodigal Son: A Story of Homecoming"
                                },
                                {
                                    "original_title": "The Sandman: The Dream Hunters",
                                    "title": "The Sandman: The Dream Hunters"
                                },
                                {
                                    "original_title": "黑暗森林",
                                    "title": "The Dark Forest (Remembrance of Earth’s Past, #2)"
                                },
                                {
                                    "original_title": "The Giving Tree",
                                    "title": "The Giving Tree"
                                },
                                {
                                    "original_title": "The Outlaw Demon Wails ",
                                    "title": "The Outlaw Demon Wails (The Hollows, #6)"
                                },
                                {
                                    "original_title": "The Power of a Praying Woman",
                                    "title": "The Power of a Praying Woman"
                                },
                                {
                                    "original_title": "The Looming Tower: Al-Qaeda and the Road to 9/11",
                                    "title": "The Looming Tower: Al-Qaeda and the Road to 9/11"
                                },
                                {
                                    "original_title": "Stone Cold Touch",
                                    "title": "Stone Cold Touch (The Dark Elements, #2)"
                                },
                                {
                                    "original_title": "Survivor in Death (In Death, #20)",
                                    "title": "Survivor In Death (In Death, #20)"
                                },
                                {
                                    "original_title": "Sixth Grave on the Edge",
                                    "title": "Sixth Grave on the Edge (Charley Davidson, #6)"
                                },
                                {
                                    "original_title": "Silver Borne",
                                    "title": "Silver Borne (Mercy Thompson, #5)"
                                },
                                {
                                    "original_title": "Mistborn: Secret History",
                                    "title": "Secret History (Mistborn, #3.5)"
                                },
                                {
                                    "original_title": "The Beatles Anthology",
                                    "title": "The Beatles Anthology"
                                },
                                {
                                    "original_title": "Tales From a Not-So-Graceful Ice Princess",
                                    "title": "Tales from a Not-So-Graceful Ice Princess (Dork Diaries, #4)"
                                },
                                {
                                    "original_title": "Now We Are Six",
                                    "title": "Now We Are Six (Winnie-the-Pooh, #4)"
                                },
                                {
                                    "original_title": "Rising storm",
                                    "title": "Rising Storm (Warriors, #4)"
                                },
                                {
                                    "original_title": "Homicide: A Year on the Killing Streets",
                                    "title": "Homicide: A Year on the Killing Streets"
                                },
                                {
                                    "original_title": "Halt's Peril",
                                    "title": "Halt's Peril (Ranger's Apprentice, #9)"
                                },
                                {
                                    "original_title": "Love You to Death: The Unofficial Companion to The Vampire Diaries",
                                    "title": "Love You to Death: The Unofficial Companion to the Vampire Diaries"
                                },
                                {
                                    "original_title": "Lover Enshrined, part two",
                                    "title": "Lover Avenged (Black Dagger Brotherhood, #7)"
                                },
                                {
                                    "original_title": "神様はじめました 1",
                                    "title": "Kamisama Kiss, Vol. 1"
                                },
                                {
                                    "original_title": "Beautiful Player",
                                    "title": "Beautiful Player (Beautiful Bastard, #3)"
                                },
                                {
                                    "original_title": "Breathe",
                                    "title": "Breathe (Colorado Mountain, #4)"
                                },
                                {
                                    "original_title": "Captain's Fury",
                                    "title": "Captain's Fury (Codex Alera, #4)"
                                },
                                {
                                    "original_title": "A Perfect Blood",
                                    "title": "A Perfect Blood (The Hollows, #10)"
                                },
                                {
                                    "original_title": "デスノート #4 (Desu Nōto) Koigokoro (恋心)",
                                    "title": "Death Note, Vol. 4: Love (Death Note, #4)"
                                },
                                {
                                    "original_title": "Dark Desires After Dusk",
                                    "title": "Dark Desires After Dusk (Immortals After Dark #6)"
                                },
                                {
                                    "original_title": "Enemy of God",
                                    "title": "Enemy of God (The Warlord Chronicles, #2)"
                                },
                                {
                                    "original_title": "Excalibur",
                                    "title": "Excalibur (The Warlord Chronicles, #3)"
                                },
                                {
                                    "original_title": "Fool's Fate",
                                    "title": "Fool's Fate (Tawny Man, #3)"
                                },
                                {
                                    "original_title": "フルーツバスケット 3",
                                    "title": "Fruits Basket, Vol. 3"
                                },
                                {
                                    "original_title": "First Lord's Fury",
                                    "title": "First Lord's Fury (Codex Alera, #6)"
                                },
                                {
                                    "original_title": "Fables, Volume 10: The Good Prince",
                                    "title": "Fables, Vol. 10: The Good Prince"
                                },
                                {
                                    "original_title": "Effortless",
                                    "title": "Effortless (Thoughtless, #2)"
                                },
                                {
                                    "original_title": "Darker After Midnight",
                                    "title": "Darker After Midnight (Midnight Breed, #10)"
                                },
                                {
                                    "original_title": "Champion",
                                    "title": "Champion (Legend, #3)"
                                },
                                {
                                    "original_title": "A Gentleman in Moscow",
                                    "title": "A Gentleman in Moscow"
                                },
                                {
                                    "original_title": "And the Band Played On: Politics, People, and the AIDS Epidemic",
                                    "title": "And the Band Played On: Politics, People, and the AIDS Epidemic"
                                },
                                {
                                    "original_title": "Bumi Manusia",
                                    "title": "Bumi Manusia"
                                },
                                {
                                    "original_title": "ベルセルク 1",
                                    "title": "Berserk, Vol. 1 (Berserk, #1)"
                                },
                                {
                                    "original_title": "黒執事 I [Kuroshitsuji I]",
                                    "title": "Black Butler, Vol. 1 (Black Butler, #1)"
                                },
                                {
                                    "original_title": "Kushiel's Avatar",
                                    "title": "Kushiel's Avatar (Phèdre's Trilogy, #3)"
                                },
                                {
                                    "original_title": "Harry Potter and the Chamber of Secrets",
                                    "title": "Harry Potter and the Chamber of Secrets (Harry Potter, #2)"
                                },
                                {
                                    "original_title": "Queen of the Darkness",
                                    "title": "Queen of the Darkness (The Black Jewels, #3)"
                                },
                                {
                                    "original_title": "Portrait in Death",
                                    "title": "Portrait in Death (In Death, #16)"
                                },
                                {
                                    "original_title": "Out of My Mind",
                                    "title": "Out of My Mind"
                                },
                                {
                                    "original_title": "Nemesis Games",
                                    "title": "Nemesis Games (The Expanse, #5)"
                                },
                                {
                                    "original_title": "The Assassin and the Underworld",
                                    "title": "The Assassin and the Underworld (Throne of Glass, #0.4)"
                                },
                                {
                                    "original_title": "The Book of Mormon",
                                    "title": "The Book of Mormon: Another Testament of Jesus Christ"
                                },
                                {
                                    "original_title": "The Complete Tales of Edgar Allan Poe",
                                    "title": "The Complete Stories and Poems"
                                },
                                {
                                    "original_title": "Shadow Kiss",
                                    "title": "Shadow Kiss (Vampire Academy, #3)"
                                },
                                {
                                    "original_title": "Silver Shadows",
                                    "title": "Silver Shadows (Bloodlines, #5)"
                                },
                                {
                                    "original_title": "Shōgun",
                                    "title": "Shōgun (Asian Saga, #1)"
                                },
                                {
                                    "original_title": "Spirit Bound",
                                    "title": "Spirit Bound (Vampire Academy, #5)"
                                },
                                {
                                    "original_title": "The Law of Moses",
                                    "title": "The Law of Moses (The Law of Moses, #1)"
                                },
                                {
                                    "original_title": "The Improbable Adventures of Sherlock Holmes",
                                    "title": "The Improbable Adventures of Sherlock Holmes"
                                },
                                {
                                    "original_title": "The Knowledge of the Holy: The Attributes of God: Their Meaning in the Christian Life",
                                    "title": "The Knowledge of the Holy"
                                },
                                {
                                    "original_title": "The King",
                                    "title": "The King (Black Dagger Brotherhood, #12)"
                                },
                                {
                                    "original_title": "The King of Attolia",
                                    "title": "The King of Attolia (The Queen's Thief, #3)"
                                },
                                {
                                    "original_title": "The Pigeon Wants a Puppy!",
                                    "title": "The Pigeon Wants a Puppy!"
                                },
                                {
                                    "original_title": "The Outcasts",
                                    "title": "The Outcasts (Brotherband Chronicles, #1)"
                                },
                                {
                                    "original_title": "The Miracle of Forgiveness",
                                    "title": "The Miracle of Forgiveness"
                                },
                                {
                                    "original_title": "The Hammer of Thor",
                                    "title": "The Hammer of Thor (Magnus Chase and the Gods of Asgard, #2)"
                                },
                                {
                                    "original_title": "The Darkest Passion (Lords of the Underworld, #5)",
                                    "title": "The Darkest Passion (Lords of the Underworld #5)"
                                },
                                {
                                    "original_title": "The Wheel of Time: Boxed Set  (Wheel of Time, #1-8)",
                                    "title": "The Wheel of Time: Boxed Set  (Wheel of Time, #1-8)"
                                },
                                {
                                    "original_title": "Storia del nuovo cognome",
                                    "title": "The Story of a New Name (The Neapolitan Novels #2)"
                                },
                                {
                                    "original_title": "The Ultimate Hitchhiker's Guide: Five Complete Novels and One Story",
                                    "title": "The Ultimate Hitchhiker's Guide to the Galaxy"
                                },
                                {
                                    "original_title": "Wicked Deeds on a Winter's Night (Immortals After Dark #4)",
                                    "title": "Wicked Deeds on a Winter's Night (Immortals After Dark #4)"
                                },
                                {
                                    "original_title": "Y: The Last Man - The Deluxe Edition Book One",
                                    "title": "Y: The Last Man - The Deluxe Edition Book One"
                                },
                                {
                                    "original_title": "Meu Pé de Laranja Lima",
                                    "title": "درخت زیبای من"
                                },
                                {
                                    "original_title": "Until You",
                                    "title": "Until You (Fall Away, #1.5)"
                                },
                                {
                                    "original_title": "The Wrong Side of Goodbye",
                                    "title": "The Wrong Side of Goodbye (Harry Bosch, #21; Harry Bosch Universe, #26)"
                                },
                                {
                                    "original_title": "The Winds of War",
                                    "title": "The Winds of War (The Henry Family, #1)"
                                },
                                {
                                    "original_title": "Twelfth Grade Kills",
                                    "title": "Twelfth Grade Kills (The Chronicles of Vladimir Tod, #5)"
                                },
                                {
                                    "original_title": "Jim Butcher's the Dresden Files: Storm Front",
                                    "title": "The Dresden Files:  Storm Front, Volume 1-  The Gathering Storm"
                                },
                                {
                                    "original_title": "The Godfather",
                                    "title": "The Godfather"
                                },
                                {
                                    "original_title": "The Golden Lily",
                                    "title": "The Golden Lily (Bloodlines, #2)"
                                },
                                {
                                    "original_title": "The House at Pooh Corner",
                                    "title": "The House at Pooh Corner (Winnie-the-Pooh, #2)"
                                },
                                {
                                    "original_title": "The Morganville Vampires, Volume 1",
                                    "title": "The Morganville Vampires, Volume 1 (The Morganville Vampires, #1-2)"
                                },
                                {
                                    "original_title": "The Obelisk Gate",
                                    "title": "The Obelisk Gate (The Broken Earth, #2)"
                                },
                                {
                                    "original_title": "The Power of the Dog",
                                    "title": "The Power of the Dog"
                                },
                                {
                                    "original_title": "The Little Mermaid (Little Golden Storybook)",
                                    "title": "The Little Mermaid"
                                },
                                {
                                    "original_title": "Seize the Night",
                                    "title": "Seize the Night (Dark-Hunter #6)"
                                },
                                {
                                    "original_title": "Рассказы и Повести",
                                    "title": "Selected Stories"
                                },
                                {
                                    "original_title": "Salt to the Sea",
                                    "title": "Salt to the Sea"
                                },
                                {
                                    "original_title": "The Complete Tales of Beatrix Potter",
                                    "title": "The Complete Tales"
                                },
                                {
                                    "original_title": "Persepolis",
                                    "title": "The Complete Persepolis"
                                },
                                {
                                    "original_title": "Amulet: Book Three: The Cloud Searchers",
                                    "title": "The Cloud Searchers (Amulet, #3)"
                                },
                                {
                                    "original_title": "The Code Of The Woosters",
                                    "title": "The Code of the Woosters (Jeeves, #7)"
                                },
                                {
                                    "original_title": "The Book Thief",
                                    "title": "The Book Thief"
                                },
                                {
                                    "original_title": "Night Play",
                                    "title": "Night Play (Dark-Hunter #5, Were-Hunter #1)"
                                },
                                {
                                    "original_title": "Night World: The Ultimate Fan Guide.",
                                    "title": "Night World: The Ultimate Fan Guide"
                                },
                                {
                                    "original_title": "Making Faces",
                                    "title": "Making Faces"
                                },
                                {
                                    "original_title": "Men at Arms",
                                    "title": "Men at Arms (Discworld, #15; City Watch #2)"
                                },
                                {
                                    "original_title": "桜蘭高校ホスト部 1",
                                    "title": "Ouran High School Host Club, Vol. 1 (Ouran High School Host Club, #1)"
                                },
                                {
                                    "original_title": "Redemption",
                                    "title": "Redemption (Redemption, #1)"
                                },
                                {
                                    "original_title": "Guess How Much I Love You",
                                    "title": "Guess How Much I Love You"
                                },
                                {
                                    "original_title": "Going Postal",
                                    "title": "Going Postal (Discworld, #33; Moist von Lipwig, #1)"
                                },
                                {
                                    "original_title": "How the Grinch Stole Christmas!",
                                    "title": "How the Grinch Stole Christmas!"
                                },
                                {
                                    "original_title": "In The Afterlight",
                                    "title": "In The Afterlight (The Darkest Minds, #3)"
                                },
                                {
                                    "original_title": "Infamous",
                                    "title": "Infamous (Chronicles of Nick, #3)"
                                },
                                {
                                    "original_title": "Innocent in Death (In Death, #24)",
                                    "title": "Innocent in Death (In Death, #24)"
                                },
                                {
                                    "original_title": "Iron Kissed",
                                    "title": "Iron Kissed (Mercy Thompson, #3)"
                                },
                                {
                                    "original_title": "Lady and the Tramp (Little Golden Book)",
                                    "title": "Lady and the Tramp"
                                },
                                {
                                    "original_title": "Head Games ",
                                    "title": "Locke & Key, Vol. 2: Head Games"
                                },
                                {
                                    "original_title": "Between Shades of Gray",
                                    "title": "Between Shades of Gray"
                                },
                                {
                                    "original_title": "Batman: The Killing Joke ",
                                    "title": "Batman: The Killing Joke"
                                },
                                {
                                    "original_title": "The Book of Mormon, Doctrine and Covenants, the Pearl of Great Price",
                                    "title": "Book of Mormon, Doctrine and Covenants, Pearl of Great Price"
                                },
                                {
                                    "original_title": "青の祓魔師 1",
                                    "title": "Blue Exorcist, Vol. 1  (Blue Exorcist, #1)"
                                },
                                {
                                    "original_title": "名探偵コナン 1",
                                    "title": "Case Closed, Vol. 1"
                                },
                                {
                                    "original_title": "Akira 1",
                                    "title": "Akira, Vol. 1"
                                },
                                {
                                    "original_title": "A Work in Progress",
                                    "title": "A Work in Progress"
                                },
                                {
                                    "original_title": "A Monster Calls ",
                                    "title": "A Monster Calls"
                                },
                                {
                                    "original_title": "Chrzest ognia",
                                    "title": "Chrzest ognia (Saga o Wiedźminie, #5)"
                                },
                                {
                                    "original_title": "Consent to Kill",
                                    "title": "Consent to Kill (Mitch Rapp, #8)"
                                },
                                {
                                    "original_title": "Cursor's Fury",
                                    "title": "Cursor's Fury (Codex Alera, #3)"
                                },
                                {
                                    "original_title": "Dawn of Wonder",
                                    "title": "Dawn of Wonder (The Wakening, #1)"
                                },
                                {
                                    "original_title": "Ecstasy Unveiled",
                                    "title": "Ecstasy Unveiled (Demonica #4)"
                                },
                                {
                                    "original_title": "Echo",
                                    "title": "Echo"
                                },
                                {
                                    "original_title": "Endurance: Shackleton's incredible voyage",
                                    "title": "Endurance: Shackleton's Incredible Voyage"
                                },
                                {
                                    "original_title": "Fire and Ice",
                                    "title": "Fire and Ice (Warriors, #2)"
                                },
                                {
                                    "original_title": "Fire Touched",
                                    "title": "Fire Touched (Mercy Thompson, #9)"
                                },
                                {
                                    "original_title": "Frost Burned",
                                    "title": "Frost Burned (Mercy Thompson, #7)"
                                },
                                {
                                    "original_title": "Fool's Assassin",
                                    "title": "Fool's Assassin (The Fitz and the Fool, #1)"
                                },
                                {
                                    "original_title": "East of Eden  ",
                                    "title": "East of Eden"
                                },
                                {
                                    "original_title": "デスノート #5 (Desu Nōto) Hakushi (白紙,) ",
                                    "title": "Death Note, Vol. 5: Whiteout (Death Note, #5)"
                                },
                                {
                                    "original_title": "Don't Let the Pigeon Stay Up Late!",
                                    "title": "Don't Let the Pigeon Stay Up Late!"
                                },
                                {
                                    "original_title": "Cosmos",
                                    "title": "Cosmos"
                                },
                                {
                                    "original_title": "Conspiracy in Death",
                                    "title": "Conspiracy in Death (In Death, #8)"
                                },
                                {
                                    "original_title": "E.E. Cummings: Complete Poems 1904-1962",
                                    "title": "Complete Poems, 1904-1962"
                                },
                                {
                                    "original_title": "En man som heter Ove",
                                    "title": "A Man Called Ove"
                                },
                                {
                                    "original_title": "A Dog's Purpose ",
                                    "title": "A Dog's Purpose (A Dog's Purpose, #1)"
                                },
                                {
                                    "original_title": "Chasing the Prophecy (Beyonders, #3)",
                                    "title": "Chasing the Prophecy (Beyonders, #3)"
                                },
                                {
                                    "original_title": "Blood Promise",
                                    "title": "Blood Promise (Vampire Academy, #4)"
                                },
                                {
                                    "original_title": "Brotherhood in Death",
                                    "title": "Brotherhood in Death (In Death, #42)"
                                },
                                {
                                    "original_title": "Lover Reborn",
                                    "title": "Lover Reborn (Black Dagger Brotherhood, #10)"
                                },
                                {
                                    "original_title": "Lover Eternal (Black Dagger Brotherhood, #2)",
                                    "title": "Lover Eternal (Black Dagger Brotherhood, #2)"
                                },
                                {
                                    "original_title": "Kurt Vonnegut's Cat Cradle",
                                    "title": "Kurt Vonnegut's Cat's Cradle (Modern Critical Interpretations)"
                                },
                                {
                                    "original_title": "Kiss of a Demon King ",
                                    "title": "Kiss of a Demon King (Immortals After Dark #7)"
                                },
                                {
                                    "original_title": "I Shall Wear Midnight",
                                    "title": "I Shall Wear Midnight (Discworld, #38; Tiffany Aching, #4)"
                                },
                                {
                                    "original_title": "ヘタリア 1 Axis Powers",
                                    "title": "Hetalia: Axis Powers, Vol. 1 (Hetalia: Axis Powers, #1)"
                                },
                                {
                                    "original_title": "Rise of Empire",
                                    "title": "Rise of Empire (The Riyria Revelations, #3-4)"
                                },
                                {
                                    "original_title": "Pursuit of Honor",
                                    "title": "Pursuit of Honor (Mitch Rapp, #12)"
                                },
                                {
                                    "original_title": "Princeps' Fury",
                                    "title": "Princeps' Fury (Codex Alera, #5)"
                                },
                                {
                                    "original_title": "Out of Sight, Out of Time",
                                    "title": "Out of Sight, Out of Time (Gallagher Girls, #5)"
                                },
                                {
                                    "original_title": "Maus: A Survivor's Tale : My Father Bleeds History",
                                    "title": "Maus I: A Survivor's Tale: My Father Bleeds History (Maus, #1)"
                                },
                                {
                                    "original_title": "Night Light: A Restoration Novel",
                                    "title": "Night Light (Restoration #2)"
                                },
                                {
                                    "original_title": "On the Night You Were Born",
                                    "title": "On the Night You Were Born"
                                },
                                {
                                    "original_title": "NARUTO -ナルト- 巻ノ一 ",
                                    "title": "Naruto, Vol. 01: The Tests of the Ninja (Naruto, #1)"
                                },
                                {
                                    "original_title": "The Scar of David",
                                    "title": "Mornings in Jenin"
                                },
                                {
                                    "original_title": "The Autumn Republic ",
                                    "title": "The Autumn Republic (Powder Mage, #3)"
                                },
                                {
                                    "original_title": "Bröderna Lejonhjärta",
                                    "title": "The Brothers Lionheart"
                                },
                                {
                                    "original_title": "The Crimson Campaign",
                                    "title": "The Crimson Campaign (Powder Mage, #2)"
                                },
                                {
                                    "original_title": "Nachfolge",
                                    "title": "The Cost of Discipleship"
                                },
                                {
                                    "original_title": "Fablehaven: Secrets of the Dragon Sanctuary (Fablehaven, #4)",
                                    "title": "Secrets of the Dragon Sanctuary (Fablehaven, #4)"
                                },
                                {
                                    "original_title": "Sunset",
                                    "title": "Sunset (Warriors: The New Prophecy, #6)"
                                },
                                {
                                    "original_title": "Sin Undone",
                                    "title": "Sin Undone (Demonica #5)"
                                },
                                {
                                    "original_title": "The Lorax",
                                    "title": "The Lorax"
                                },
                                {
                                    "original_title": "The Lost Hero",
                                    "title": "The Lost Hero (The Heroes of Olympus, #1)"
                                },
                                {
                                    "original_title": "The Pigeon Finds a Hot Dog!",
                                    "title": "The Pigeon Finds a Hot Dog!"
                                },
                                {
                                    "original_title": "The Physician",
                                    "title": "The Physician (Cole Family Trilogy, #1)"
                                },
                                {
                                    "original_title": "The Mauritius Command",
                                    "title": "The Mauritius Command"
                                },
                                {
                                    "original_title": "The Holiness of God",
                                    "title": "The Holiness of God"
                                },
                                {
                                    "original_title": "The Great Dune Trilogy",
                                    "title": "The Great Dune Trilogy  "
                                },
                                {
                                    "original_title": "The Darkest Seduction",
                                    "title": "The Darkest Seduction (Lords of the Underworld #9)"
                                },
                                {
                                    "original_title": "Transmetropolitan, Vol. 2: Lust for Life",
                                    "title": "Transmetropolitan, Vol. 2: Lust for Life (Transmetropolitan, #2)"
                                },
                                {
                                    "original_title": "Tiger's Voyage",
                                    "title": "Tiger's Voyage (The Tiger Saga, #3)"
                                },
                                {
                                    "original_title": "These Is My Words: The Diary of Sarah Agnes Prine, 1881-1901, Arizona Territories",
                                    "title": "These Is My Words: The Diary of Sarah Agnes Prine, 1881-1901, Arizona Territories (Sarah Agnes Prine, #1)"
                                },
                                {
                                    "original_title": "Watchmen",
                                    "title": "Watchmen"
                                },
                                {
                                    "original_title": "White Witch, Black Curse",
                                    "title": "White Witch, Black Curse (The Hollows, #7)"
                                },
                                {
                                    "original_title": "The Story of Ferdinand",
                                    "title": "The Story of Ferdinand"
                                },
                                {
                                    "original_title": "The Walking Dead. Book Two",
                                    "title": "The Walking Dead, Book Two (The Walking Dead #13-24)"
                                },
                                {
                                    "original_title": "The Walking Dead Volume 12",
                                    "title": "The Walking Dead, Vol. 12: Life Among Them"
                                },
                                {
                                    "original_title": "The Walking Dead, Vol. 14: No Way Out ",
                                    "title": "The Walking Dead, Vol. 14: No Way Out"
                                },
                                {
                                    "original_title": "The Wall of Winnipeg and Me",
                                    "title": "The Wall of Winnipeg and Me"
                                },
                                {
                                    "original_title": "The Sandman: Endless Nights",
                                    "title": "The Sandman: Endless Nights"
                                },
                                {
                                    "original_title": "The Sea of Tranquility",
                                    "title": "The Sea of Tranquility"
                                },
                                {
                                    "original_title": "The Stand",
                                    "title": "The Stand"
                                },
                                {
                                    "original_title": "The Shepherd's Crown",
                                    "title": "The Shepherd's Crown (Discworld, #41; Tiffany Aching, #5)"
                                },
                                {
                                    "original_title": "القرآن‎‎ [al-Qurʾān]",
                                    "title": "The Qur'an / القرآن الكريم"
                                },
                                {
                                    "original_title": "Unleash the Night",
                                    "title": "Unleash the Night (Dark Hunter, #8; Were-Hunter, #2)"
                                },
                                {
                                    "original_title": "Vengeance in Death",
                                    "title": "Vengeance in Death (In Death, #6)"
                                },
                                {
                                    "original_title": "Tiger's Quest",
                                    "title": "Tiger's Quest (The Tiger Saga, #2)"
                                },
                                {
                                    "original_title": "Tortured for Christ",
                                    "title": "Tortured for Christ N/E"
                                },
                                {
                                    "original_title": "Truce",
                                    "title": "Truce (Neighbor from Hell, #4)"
                                },
                                {
                                    "original_title": "ملحمة الحرافيش",
                                    "title": "الحرافيش"
                                },
                                {
                                    "original_title": "よつばと! 1",
                                    "title": "Yotsuba&!, Vol. 01 (Yotsuba&! #1)"
                                },
                                {
                                    "original_title": "Y: The Last Man Vol. 10: Whys And Wherefores",
                                    "title": "Y: The Last Man, Vol. 10: Whys and Wherefores (Y: The Last Man, #10)"
                                },
                                {
                                    "original_title": "Wieża Jaskółki",
                                    "title": "Wieża Jaskółki (Saga o Wiedźminie, #6)"
                                },
                                {
                                    "original_title": "Winnie-the-Pooh",
                                    "title": "Winnie-the-Pooh (Winnie-the-Pooh, #1)"
                                },
                                {
                                    "original_title": "The Fellowship of the Ring",
                                    "title": "The Fellowship of the Ring (The Lord of the Rings, #1)"
                                },
                                {
                                    "original_title": "The Exiled Queen",
                                    "title": "The Exiled Queen (Seven Realms, #2)"
                                },
                                {
                                    "original_title": "The Gathering Storm",
                                    "title": "The Gathering Storm (Wheel of Time, #12)"
                                },
                                {
                                    "original_title": "The Hunger Games",
                                    "title": "The Hunger Games (The Hunger Games, #1)"
                                },
                                {
                                    "original_title": "The Miraculous Journey of Edward Tulane",
                                    "title": "The Miraculous Journey of Edward Tulane"
                                },
                                {
                                    "original_title": "The Pagan Lord",
                                    "title": "The Pagan Lord (The Saxon Stories, #7)"
                                },
                                {
                                    "original_title": "The Power of One",
                                    "title": "The Power of One (The Power of One, #1)"
                                },
                                {
                                    "original_title": "The Last Seven Months of Anne Frank",
                                    "title": "The Last Seven Months of Anne Frank"
                                },
                                {
                                    "original_title": "The Last Man",
                                    "title": "The Last Man (Mitch Rapp, #13)"
                                },
                                {
                                    "original_title": "The Immortal Highlander ",
                                    "title": "The Immortal Highlander (Highlander, #6)"
                                },
                                {
                                    "original_title": "Schindler's Ark",
                                    "title": "Schindler's List"
                                },
                                {
                                    "original_title": "Complete Works of Lewis Carroll",
                                    "title": "The Complete Stories and Poems"
                                },
                                {
                                    "original_title": "The Complete Robot",
                                    "title": "The Complete Robot (Robot #0.3)"
                                },
                                {
                                    "original_title": "Sämtliche Erzählungen",
                                    "title": "The Complete Stories"
                                },
                                {
                                    "original_title": "The Bronze Horseman",
                                    "title": "The Bronze Horseman (The Bronze Horseman, #1)"
                                },
                                {
                                    "original_title": "The Book with No Pictures",
                                    "title": "The Book with No Pictures"
                                },
                                {
                                    "original_title": "The Black Widow",
                                    "title": "The Black Widow (Gabriel Allon, #16)"
                                },
                                {
                                    "original_title": "New Moon: The Complete Illustrated Movie Companion",
                                    "title": "New Moon: The Complete Illustrated Movie Companion (The Twilight Saga: The Official Illustrated Movie Companion, #2)"
                                },
                                {
                                    "original_title": "Oh, the Places You'll Go!",
                                    "title": "Oh, The Places You'll Go!"
                                },
                                {
                                    "original_title": "Midnight Tides",
                                    "title": "Midnight Tides (The Malazan Book of the Fallen, #5)"
                                },
                                {
                                    "original_title": "Opal",
                                    "title": "Opal (Lux, #3)"
                                },
                                {
                                    "original_title": "Origin in Death",
                                    "title": "Origin in Death (In Death, #21)"
                                },
                                {
                                    "original_title": "Peace Is Every Step: The Path of Mindfulness in Everyday Life",
                                    "title": "Peace Is Every Step: The Path of Mindfulness in Everyday Life"
                                },
                                {
                                    "original_title": "Protect and Defend",
                                    "title": "Protect and Defend (Mitch Rapp, #10)"
                                },
                                {
                                    "original_title": "Preacher: War in the Sun",
                                    "title": "Preacher, Volume 6: War in the Sun"
                                },
                                {
                                    "original_title": "Pure",
                                    "title": "Pure (Covenant, #2)"
                                },
                                {
                                    "original_title": "Reaper's Gale",
                                    "title": "Reaper's Gale (The Malazan Book of the Fallen, #7)"
                                },
                                {
                                    "original_title": "Heal Your Body",
                                    "title": "Heal Your Body: The Mental Causes for Physical Illness and the Metaphysical Way to Overcome Them"
                                },
                                {
                                    "original_title": "Her Daughter's Dream",
                                    "title": "Her Daughter's Dream (Marta's Legacy, #2)"
                                },
                                {
                                    "original_title": "Identical",
                                    "title": "Identical"
                                },
                                {
                                    "original_title": "Imitation in Death",
                                    "title": "Imitation in Death (In Death, #17)"
                                },
                                {
                                    "original_title": "Hopeless",
                                    "title": "Hopeless (Hopeless, #1)"
                                },
                                {
                                    "original_title": "Genghis: Birth of an Empire",
                                    "title": "Genghis: Birth of an Empire (Conqueror, #1)"
                                },
                                {
                                    "original_title": "Hard Limit",
                                    "title": "Hard Limit (Hacker, #4)"
                                },
                                {
                                    "original_title": "Janet Evanovich Three and Four Two-Book Set (Stephanie Plum, #3-4)",
                                    "title": "Janet Evanovich Three and Four Two-Book Set (Stephanie Plum, #3-4)"
                                },
                                {
                                    "original_title": "India After Gandhi: The History of the World's Largest Democracy",
                                    "title": "India After Gandhi: The History of the World's Largest Democracy"
                                },
                                {
                                    "original_title": "Love You Forever",
                                    "title": "Love You Forever"
                                },
                                {
                                    "original_title": "Lone Survivor: The Eyewitness Account of Operation Redwing and the Lost Heroes of SEAL Team 10",
                                    "title": "Lone Survivor: The Eyewitness Account of Operation Redwing and the Lost Heroes of SEAL Team 10"
                                },
                                {
                                    "original_title": "Briefe an einen jungen Dichter",
                                    "title": "Letters to a Young Poet"
                                },
                                {
                                    "original_title": "Burn For Me",
                                    "title": "Burn for Me (Hidden Legacy, #1)"
                                },
                                {
                                    "original_title": "Bone Crossed",
                                    "title": "Bone Crossed (Mercy Thompson, #4)"
                                },
                                {
                                    "original_title": "カードキャプターさくら 7 [Cardcaptor Sakura 7]",
                                    "title": "Cardcaptor Sakura: Master of the Clow, Vol. 1 (Cardcaptor Sakura, #7)"
                                },
                                {
                                    "original_title": "A Fine Balance",
                                    "title": "A Fine Balance"
                                },
                                {
                                    "original_title": "A Light in the Attic",
                                    "title": "A Light in the Attic"
                                },
                                {
                                    "original_title": "A Thousand Splendid Suns",
                                    "title": "A Thousand Splendid Suns"
                                },
                                {
                                    "original_title": "A Torch Against the Night",
                                    "title": "A Torch Against the Night (An Ember in the Ashes, #2)"
                                },
                                {
                                    "original_title": "Aristotle and Dante Discover the Secrets of the Universe",
                                    "title": "Aristotle and Dante Discover the Secrets of the Universe (Aristotle and Dante Discover the Secrets of the Universe, #1)"
                                },
                                {
                                    "original_title": "City of Glass",
                                    "title": "City of Glass (The Mortal Instruments, #3)"
                                },
                                {
                                    "original_title": "Creation in Death ",
                                    "title": "Creation in Death (In Death, #25)"
                                },
                                {
                                    "original_title": "Dark Demon (Carpathians, #16)",
                                    "title": "Dark Demon (Dark, #16)"
                                },
                                {
                                    "original_title": "Destined for an Early Grave",
                                    "title": "Destined for an Early Grave (Night Huntress, #4)"
                                },
                                {
                                    "original_title": "Different Seasons",
                                    "title": "Different Seasons"
                                },
                                {
                                    "original_title": "Edenbrooke",
                                    "title": "Edenbrooke (Edenbrooke, #1)"
                                },
                                {
                                    "original_title": "Drums of Autumn (Outlander, #4)",
                                    "title": "Drums of Autumn (Outlander, #4)"
                                },
                                {
                                    "original_title": "Frog and Toad All Year",
                                    "title": "Frog and Toad All Year (Frog and Toad, #3)"
                                },
                                {
                                    "original_title": "フルーツバスケット 2",
                                    "title": "Fruits Basket, Vol. 2"
                                },
                                {
                                    "original_title": "Frosty the Snowman (Little Golden Book)",
                                    "title": "Frosty the Snowman (Frosty the Snowman)"
                                },
                                {
                                    "original_title": "Faefever",
                                    "title": "Faefever (Fever, #3)"
                                },
                                {
                                    "original_title": "Fame",
                                    "title": "Fame (Firstborn, #1)"
                                },
                                {
                                    "original_title": "Falling Up",
                                    "title": "Falling Up"
                                },
                                {
                                    "original_title": "For a Few Demons More ",
                                    "title": "For a Few Demons More (The Hollows, #5)"
                                },
                                {
                                    "original_title": "Executive Power",
                                    "title": "Executive Power (Mitch Rapp, #6)"
                                },
                                {
                                    "original_title": "Exodus",
                                    "title": "Exodus"
                                },
                                {
                                    "original_title": "Dark Guardian",
                                    "title": "Dark Guardian (Dark, #9)"
                                },
                                {
                                    "original_title": "Dark Legend",
                                    "title": "Dark Legend (Dark, #8)"
                                },
                                {
                                    "original_title": "Danger in the Shadows",
                                    "title": "Danger in the Shadows (O'Malley #0.5)"
                                },
                                {
                                    "original_title": "Crush",
                                    "title": "Crush"
                                },
                                {
                                    "original_title": "Clockwork Angel",
                                    "title": "Clockwork Angel (The Infernal Devices, #1)"
                                },
                                {
                                    "original_title": "All-Star Superman, Vol. 2",
                                    "title": "All-Star Superman, Vol. 2"
                                },
                                {
                                    "original_title": "Almost Heaven",
                                    "title": "Almost Heaven (Sequels, #3)"
                                },
                                {
                                    "original_title": "Amazing Grace",
                                    "title": "Amazing Grace"
                                },
                                {
                                    "original_title": "A Gathering of Shadows",
                                    "title": "A Gathering of Shadows (Shades of Magic, #2)"
                                },
                                {
                                    "original_title": "Bury Your Dead",
                                    "title": "Bury Your Dead (Chief Inspector Armand Gamache, #6)"
                                },
                                {
                                    "original_title": "Bone: Quest For The Spark, Book One ",
                                    "title": "Bone: Quest for the Spark, Vol. 1"
                                },
                                {
                                    "original_title": "Blood Rites",
                                    "title": "Blood Rites (The Dresden Files, #6)"
                                },
                                {
                                    "original_title": "Born in Death (In Death, #23)",
                                    "title": "Born in Death (In Death, #23)"
                                },
                                {
                                    "original_title": "Battlefield of the Mind: Winning the Battle in Your Mind",
                                    "title": "Battlefield of the Mind: Winning the Battle in Your Mind"
                                },
                                {
                                    "original_title": "Barely Breathing",
                                    "title": "Barely Breathing (Breathing, #2)"
                                },
                                {
                                    "original_title": "Batman, Volume 3: Death of the Family",
                                    "title": "Batman, Volume 3: Death of the Family"
                                },
                                {
                                    "original_title": "Avatar: The Last Airbender: The Rift, Part 1",
                                    "title": "Avatar: The Last Airbender (The Rift, #1)"
                                },
                                {
                                    "original_title": "Last Chance to See",
                                    "title": "Last Chance to See"
                                },
                                {
                                    "original_title": "Law Man",
                                    "title": "Law Man (Dream Man, #3)"
                                },
                                {
                                    "original_title": "Lover Unbound",
                                    "title": "Lover Unbound (Black Dagger Brotherhood, #5)"
                                },
                                {
                                    "original_title": "Magic Burns",
                                    "title": "Magic Burns (Kate Daniels, #2)"
                                },
                                {
                                    "original_title": "Judgment in Death",
                                    "title": "Judgment in Death (In Death, #11)"
                                },
                                {
                                    "original_title": "Gathering Darkness",
                                    "title": "Gathering Darkness (Falling Kingdoms, #3)"
                                },
                                {
                                    "original_title": "Heir to the Shadows",
                                    "title": "Heir to the Shadows (The Black Jewels, #2)"
                                },
                                {
                                    "original_title": "Reflected in You",
                                    "title": "Reflected in You (Crossfire, #2)"
                                },
                                {
                                    "original_title": "Reunion in Death",
                                    "title": "Reunion in Death (In Death, #14)"
                                },
                                {
                                    "original_title": "Purity in Death",
                                    "title": "Purity in Death (In Death, #15)"
                                },
                                {
                                    "original_title": "Ransom",
                                    "title": "Ransom (Highlands' Lairds, #2)"
                                },
                                {
                                    "original_title": "Preacher, Volume 8: All Hell's a-Coming",
                                    "title": "Preacher, Volume 8: All Hell's a-Coming"
                                },
                                {
                                    "original_title": "Pinocchio (A Little Golden Book)",
                                    "title": "Pinocchio"
                                },
                                {
                                    "original_title": "Play",
                                    "title": "Play (Stage Dive, #2)"
                                },
                                {
                                    "original_title": "Play With Me",
                                    "title": "Play with Me (With Me in Seattle, #3)"
                                },
                                {
                                    "original_title": "Onyx",
                                    "title": "Onyx (Lux, #2)"
                                },
                                {
                                    "original_title": "Miss Nelson Is Back",
                                    "title": "Miss Nelson Is Back (Miss Nelson, #2)"
                                },
                                {
                                    "original_title": "Maybe Someday",
                                    "title": "Maybe Someday (Maybe, #1)"
                                },
                                {
                                    "original_title": "Mastering the Art of French Cooking",
                                    "title": "Mastering the Art of French Cooking"
                                },
                                {
                                    "original_title": "March: Book One",
                                    "title": "March: Book One (March, #1)"
                                },
                                {
                                    "original_title": "…trotzdem Ja zum Leben sagen: Ein Psychologe erlebt das Konzentrationslager",
                                    "title": "Man's Search for Meaning"
                                },
                                {
                                    "original_title": "Obsession in Death",
                                    "title": "Obsession in Death (In Death, #40)"
                                },
                                {
                                    "original_title": "Never Fade",
                                    "title": "Never Fade (The Darkest Minds, #2)"
                                },
                                {
                                    "original_title": "The Arrival",
                                    "title": "The Arrival"
                                },
                                {
                                    "original_title": "Taken at Dusk (Shadow Falls, #3)",
                                    "title": "Taken at Dusk (Shadow Falls, #3)"
                                },
                                {
                                    "original_title": "SantaLand Diaries",
                                    "title": "SantaLand Diaries"
                                },
                                {
                                    "original_title": "るろうに剣心 1",
                                    "title": "Rurouni Kenshin, Vol. 1: Meiji Swordsman Romantic Story (Rurouni Kenshin, #1)"
                                },
                                {
                                    "original_title": "Scott Pilgrim, Volume 5: Scott Pilgrim Vs. the Universe",
                                    "title": "Scott Pilgrim, Volume 5: Scott Pilgrim Vs. the Universe"
                                },
                                {
                                    "original_title": "Something Wonderful",
                                    "title": "Something Wonderful (Sequels, #2)"
                                },
                                {
                                    "original_title": "The Little House Collection",
                                    "title": "The Little House Collection (Little House, #1-9)"
                                },
                                {
                                    "original_title": "The Long Haul ",
                                    "title": "The Long Haul (Diary of a Wimpy Kid, #9)"
                                },
                                {
                                    "original_title": "The Hidden Oracle",
                                    "title": "The Hidden Oracle (The Trials of Apollo, #1)"
                                },
                                {
                                    "original_title": "The Heavenly Man: The Remarkable True Story of Chinese Christian Brother Yun",
                                    "title": "The Heavenly Man: The Remarkable True Story of Chinese Christian Brother Yun"
                                },
                                {
                                    "original_title": "The Evolution of Mara Dyer",
                                    "title": "The Evolution of Mara Dyer (Mara Dyer, #2)"
                                },
                                {
                                    "original_title": "The Emperor's Soul",
                                    "title": "The Emperor's Soul"
                                },
                                {
                                    "original_title": "The Darkest Whisper",
                                    "title": "The Darkest Whisper (Lords of the Underworld #4)"
                                },
                                {
                                    "original_title": "The Dark Elf Trilogy Collector's Edition (Forgotten Realms: Dark Elf Trilogy, #1-3)",
                                    "title": "The Dark Elf Trilogy Collector's Edition (Forgotten Realms: Dark Elf Trilogy, #1-3; Legend of Drizzt, #1-3)"
                                },
                                {
                                    "original_title": "The Dragonslayer (Bone, #4)",
                                    "title": "The Dragonslayer (Bone, #4)"
                                },
                                {
                                    "original_title": "Veinte poemas de amor y una canción desesperada",
                                    "title": "Twenty Love Poems and a Song of Despair"
                                },
                                {
                                    "original_title": "Toll the Hounds",
                                    "title": "Toll the Hounds (The Malazan Book of the Fallen, #8)"
                                },
                                {
                                    "original_title": "Visions in Death (In Death, #19)",
                                    "title": "Visions in Death (In Death, #19)"
                                },
                                {
                                    "original_title": "Wethering the Storm",
                                    "title": "Wethering the Storm (The Storm, #2)"
                                },
                                {
                                    "original_title": "The Real Mother Goose",
                                    "title": "The Real Mother Goose"
                                },
                                {
                                    "original_title": "The Siege of Macindaw",
                                    "title": "The Siege of Macindaw (Ranger's Apprentice, #6)"
                                },
                                {
                                    "original_title": "The Stonekeeper's Curse",
                                    "title": "The Stonekeeper's Curse (Amulet, #2)"
                                },
                                {
                                    "original_title": "The Walking Dead Volume 11",
                                    "title": "The Walking Dead, Vol. 11: Fear the Hunters"
                                },
                                {
                                    "original_title": "The Titan's Curse",
                                    "title": "The Titan's Curse (Percy Jackson and the Olympians, #3)"
                                },
                                {
                                    "original_title": "The Walking Dead 6",
                                    "title": "The Walking Dead, Vol. 06: This Sorrowful Life"
                                },
                                {
                                    "original_title": "The Secret Race: Inside the Hidden World of the Tour de France: Doping, Cover-ups, and Winning at All Costs",
                                    "title": "The Secret Race: Inside the Hidden World of the Tour de France: Doping, Cover-ups, and Winning at All Costs"
                                },
                                {
                                    "original_title": "The Realms of the Gods (Immortals, #4)",
                                    "title": "The Realms of the Gods (Immortals, #4)"
                                },
                                {
                                    "original_title": "The Raven King",
                                    "title": "The Raven King (The Raven Cycle, #4)"
                                },
                                {
                                    "original_title": "When We Were Very Young",
                                    "title": "When We Were Very Young (Winnie-the-Pooh, #3)"
                                },
                                {
                                    "original_title": "When Breath Becomes Air",
                                    "title": "When Breath Becomes Air"
                                },
                                {
                                    "original_title": "Vampire, Interrupted",
                                    "title": "Vampire, Interrupted (Argeneau #9)"
                                },
                                {
                                    "original_title": "Wild Magic (Immortals, #1)",
                                    "title": "Wild Magic (Immortals, #1)"
                                },
                                {
                                    "original_title": "Women's Bodies, Women's Wisdom: Creating Physical and Emotional Health and Healing",
                                    "title": "Women's Bodies, Women's Wisdom: Creating Physical and Emotional Health and Healing"
                                },
                                {
                                    "original_title": "الطنطورية ",
                                    "title": "الطنطورية"
                                },
                                {
                                    "original_title": "عائد إلى حيفا",
                                    "title": "عائد إلى حيفا"
                                },
                                {
                                    "original_title": "The Darkest Secret (Lords of the Underworld, #7)",
                                    "title": "The Darkest Secret (Lords of the Underworld #7)"
                                },
                                {
                                    "original_title": "The Darkest Lie (Lords of the Underworld #6)",
                                    "title": "The Darkest Lie (Lords of the Underworld #6)"
                                },
                                {
                                    "original_title": "The Everafter War (The Sisters Grimm, #7)",
                                    "title": "The Everafter War (The Sisters Grimm, #7)"
                                },
                                {
                                    "original_title": "The Heart of Betrayal",
                                    "title": "The Heart of Betrayal (The Remnant Chronicles, #2)"
                                },
                                {
                                    "original_title": "The Folk of Faraway Tree",
                                    "title": "The Folk of the Faraway Tree (The Faraway Tree, #3)"
                                },
                                {
                                    "original_title": "The Love Song of J. Alfred Prufrock and Other Poems",
                                    "title": "The Love Song of J. Alfred Prufrock and Other Poems"
                                },
                                {
                                    "original_title": "The Practice of the Presence of God",
                                    "title": "The Practice of the Presence of God"
                                },
                                {
                                    "original_title": "The Paper Bag Princess",
                                    "title": "The Paper Bag Princess"
                                },
                                {
                                    "original_title": "The Missing Piece Meets the Big O",
                                    "title": "The Missing Piece Meets the Big O "
                                },
                                {
                                    "original_title": "The Memoirs of Sherlock Holmes",
                                    "title": "The Memoirs of Sherlock Holmes"
                                },
                                {
                                    "original_title": "The Magic Strings of Frankie Presto",
                                    "title": "The Magic Strings of Frankie Presto"
                                },
                                {
                                    "original_title": "The Making of the Atomic Bomb",
                                    "title": "The Making of the Atomic Bomb"
                                },
                                {
                                    "original_title": "Мастер и Маргарита",
                                    "title": "The Master and Margarita"
                                },
                                {
                                    "original_title": "The Negotiator",
                                    "title": "The Negotiator (O'Malley, #1)"
                                },
                                {
                                    "original_title": "Son of the Shadows",
                                    "title": "Son of the Shadows (Sevenwaters, #2)"
                                },
                                {
                                    "original_title": "Sleeping Beauty",
                                    "title": "Sleeping Beauty (Disney Princess, 5)"
                                },
                                {
                                    "original_title": "Scott Pilgrim, Volume 4: Scott Pilgrim Gets It Together",
                                    "title": "Scott Pilgrim, Volume 4: Scott Pilgrim Gets It Together"
                                },
                                {
                                    "original_title": "Separation of Power",
                                    "title": "Separation of Power (Mitch Rapp, #5)"
                                },
                                {
                                    "original_title": "The Auschwitz Escape",
                                    "title": "The Auschwitz Escape"
                                },
                                {
                                    "original_title": "The Boys in the Boat: Nine Americans and Their Epic Quest for Gold at the 1936 Berlin Olympics",
                                    "title": "The Boys in the Boat: Nine Americans and Their Epic Quest for Gold at the 1936 Berlin Olympics"
                                },
                                {
                                    "original_title": "The Black Dagger Brotherhood: An Insider's Guide",
                                    "title": "The Black Dagger Brotherhood: An Insider's Guide"
                                },
                                {
                                    "original_title": "The Battle for Skandia (Ranger's Apprentice, #4)",
                                    "title": "The Battle for Skandia (Ranger's Apprentice, #4)"
                                },
                                {
                                    "original_title": "The Collected Poems of Langston Hughes",
                                    "title": "The Collected Poems"
                                },
                                {
                                    "original_title": "Mufaro's Beautiful Daughters: An African Tale",
                                    "title": "Mufaro's Beautiful Daughters: An African Tale"
                                },
                                {
                                    "original_title": "Magician",
                                    "title": "Magician (The Riftwar Saga, #1-2)"
                                },
                                {
                                    "original_title": "Mirror Dance",
                                    "title": "Mirror Dance (Vorkosigan Saga, #8)"
                                },
                                {
                                    "original_title": "Out of Breath (Breathing, #3)",
                                    "title": "Out of Breath (Breathing, #3)"
                                },
                                {
                                    "original_title": "Peter Pan (Little Golden Book)",
                                    "title": "Peter Pan (A Little Golden Book)"
                                },
                                {
                                    "original_title": "The Chronicles of Narnia: The Lion, the Witch and The Wardrobe (Sheet Music)",
                                    "title": "Piano/Vocal/Guitar Sheet Music: The Chronicles of Narnia: The Lion, the Witch and The Wardrobe"
                                },
                                {
                                    "original_title": "Plenty",
                                    "title": "Plenty"
                                },
                                {
                                    "original_title": "Pale Blue Dot: A Vision of the Human Future in Space",
                                    "title": "Pale Blue Dot: A Vision of the Human Future in Space"
                                },
                                {
                                    "original_title": "Paradise",
                                    "title": "Paradise (Second Opportunities, #1)"
                                },
                                {
                                    "original_title": "Passion Unleashed",
                                    "title": "Passion Unleashed (Demonica #3)"
                                },
                                {
                                    "original_title": "Revelation",
                                    "title": "Revelation (Matthew Shardlake, #4)"
                                },
                                {
                                    "original_title": "House of Chains",
                                    "title": "House of Chains (The Malazan Book of the Fallen, #4)"
                                },
                                {
                                    "original_title": "Illuminae",
                                    "title": "Illuminae (The Illuminae Files, #1)"
                                },
                                {
                                    "original_title": "If I Die (Soul Screamers, #5)",
                                    "title": "If I Die (Soul Screamers, #5)"
                                },
                                {
                                    "original_title": "The Golden Fool",
                                    "title": "Golden Fool (Tawny Man, #2)"
                                },
                                {
                                    "original_title": "God's Smuggler",
                                    "title": "God's Smuggler"
                                },
                                {
                                    "original_title": "Guards! Guards!",
                                    "title": "Guards! Guards! (Discworld, #8)"
                                },
                                {
                                    "original_title": "Indulgence in Death",
                                    "title": "Indulgence in Death (In Death, #31)"
                                },
                                {
                                    "original_title": "In This Mountain (Mitford)",
                                    "title": "In This Mountain (Mitford Years, #7)"
                                },
                                {
                                    "original_title": "The Lords of the North",
                                    "title": "Lords of the North (The Saxon Stories, #3)"
                                },
                                {
                                    "original_title": "Lead",
                                    "title": "Lead (Stage Dive, #3)"
                                },
                                {
                                    "original_title": "Last Breath",
                                    "title": "Last Breath (The Morganville Vampires, #11)"
                                },
                                {
                                    "original_title": "Big Nate on a Roll",
                                    "title": "Big Nate on a Roll (Big Nate Novels, #3)"
                                },
                                {
                                    "original_title": "Black Lies",
                                    "title": "Black Lies"
                                },
                                {
                                    "original_title": "Battle Cry of Freedom",
                                    "title": "Battle Cry of Freedom"
                                },
                                {
                                    "original_title": "Boy's Life",
                                    "title": "Boy's Life"
                                },
                                {
                                    "original_title": "Bones of the Hills",
                                    "title": "Bones of the Hills (Conqueror, #3)"
                                },
                                {
                                    "original_title": "Blue Lily, Lily Blue",
                                    "title": "Blue Lily, Lily Blue (The Raven Cycle, #3)"
                                },
                                {
                                    "original_title": "A Deepness in the Sky",
                                    "title": "A Deepness in the Sky (Zones of Thought, #2)"
                                },
                                {
                                    "original_title": "A Dance With Dragons: Part 1 Dreams and Dust",
                                    "title": "A Dance with Dragons: Dreams and Dust (A Song of Ice and Fire #5, Part 1 of 2)"
                                },
                                {
                                    "original_title": "100 Selected Poems by e. e. Cummings",
                                    "title": "100 Selected Poems"
                                },
                                {
                                    "original_title": "A Higher Call: An Incredible True Story of Combat and Chivalry in the War-Torn Skies of World War II",
                                    "title": "A Higher Call: An Incredible True Story of Combat and Chivalry in the War-Torn Skies of World War II"
                                },
                                {
                                    "original_title": "A Severe Mercy",
                                    "title": "A Severe Mercy: A Story of Faith, Tragedy and Triumph"
                                },
                                {
                                    "original_title": "An Ember in the Ashes",
                                    "title": "An Ember in the Ashes (An Ember in the Ashes, #1)"
                                },
                                {
                                    "original_title": "Counterfeit Gods: The Empty Promises of Money, Sex, and Power, and the Only Hope That Matters",
                                    "title": "Counterfeit Gods: The Empty Promises of Money, Sex, and Power, and the Only Hope that Matters"
                                },
                                {
                                    "original_title": "Czas pogardy",
                                    "title": "Czas pogardy (Saga o Wiedźminie, #4)"
                                },
                                {
                                    "original_title": "Dark Needs at Night's Edge",
                                    "title": "Dark Needs at Night's Edge (Immortals After Dark #5)"
                                },
                                {
                                    "original_title": "Death Masks",
                                    "title": "Death Masks (The Dresden Files, #5)"
                                },
                                {
                                    "original_title": "Devil May Cry",
                                    "title": "Devil May Cry (Dark-Hunter, #11)"
                                },
                                {
                                    "original_title": "Divided in Death (In Death, #18)",
                                    "title": "Divided in Death (In Death, #18)"
                                },
                                {
                                    "original_title": "Experiencing God : Knowing and Doing His Will - Workbook",
                                    "title": "Experiencing God: Knowing and Doing the Will of God, Workbook"
                                },
                                {
                                    "original_title": "Extreme Measures",
                                    "title": "Extreme Measures (Mitch Rapp, #11)"
                                },
                                {
                                    "original_title": "Firestar's Quest",
                                    "title": "Firestar's Quest (Warriors Super Edition, #1)"
                                },
                                {
                                    "original_title": "Financial Peace Revisited",
                                    "title": "Financial Peace Revisited"
                                },
                                {
                                    "original_title": "Erak's Ransom",
                                    "title": "Erak's Ransom (Ranger's Apprentice, #7)"
                                },
                                {
                                    "original_title": "Ever After",
                                    "title": "Ever After (Lost Love, #2)"
                                },
                                {
                                    "original_title": "Driven",
                                    "title": "Driven (Driven, #1)"
                                },
                                {
                                    "original_title": "Dragonfly in Amber",
                                    "title": "Dragonfly in Amber (Outlander, #2)"
                                },
                                {
                                    "original_title": "Dust of Dreams",
                                    "title": "Dust of Dreams (The Malazan Book of the Fallen, #9)"
                                },
                                {
                                    "original_title": "The Chronicles of Vladimir Tod: Eleventh Grade Burns",
                                    "title": "Eleventh Grade Burns (The Chronicles of Vladimir Tod, #4)"
                                },
                                {
                                    "original_title": "Don't Panic: The Official Hitchhikers Guide to the Galaxy Companion",
                                    "title": "Don't Panic: The Official Hitchhiker's Guide to the Galaxy Companion"
                                },
                                {
                                    "original_title": "Delusion in Death",
                                    "title": "Delusion in Death (In Death, #35)"
                                },
                                {
                                    "original_title": "Defiance",
                                    "title": "Defiance (Significance, #3)"
                                },
                                {
                                    "original_title": "Dawn",
                                    "title": "Dawn (Warriors: The New Prophecy, #3)"
                                },
                                {
                                    "original_title": "Daytripper",
                                    "title": "Daytripper"
                                },
                                {
                                    "original_title": "Chrysanthemum",
                                    "title": "Chrysanthemum"
                                },
                                {
                                    "original_title": "At Grave's End",
                                    "title": "At Grave's End (Night Huntress, #3)"
                                },
                                {
                                    "original_title": "Anne Frank : The Biography",
                                    "title": "Anne Frank : The Biography"
                                },
                                {
                                    "original_title": "All Creatures Great And Small",
                                    "title": "All Creatures Great and Small (All Creatures Great and Small, #1-2)"
                                },
                                {
                                    "original_title": "A Kiss for Little Bear",
                                    "title": "A Kiss for Little Bear (An I Can Read Book) by Minarik, Else Holmelund [1984]"
                                },
                                {
                                    "original_title": "A Dance with Dragons",
                                    "title": "A Dance with Dragons (A Song of Ice and Fire, #5)"
                                },
                                {
                                    "original_title": "BLEACH―ブリーチ―　3",
                                    "title": "Bleach, Volume 03"
                                },
                                {
                                    "original_title": "Blood Bound",
                                    "title": "Blood Bound (Mercy Thompson, #2)"
                                },
                                {
                                    "original_title": "Betrayal in Death",
                                    "title": "Betrayal in Death (In Death, #12)"
                                },
                                {
                                    "original_title": "Long Walk to Freedom: The Autobiography of Nelson Mandela",
                                    "title": "Long Walk to Freedom"
                                },
                                {
                                    "original_title": "Lilac Girls",
                                    "title": "Lilac Girls"
                                },
                                {
                                    "original_title": "Infinite Jest",
                                    "title": "Infinite Jest"
                                },
                                {
                                    "original_title": "Kiss of the Highlander",
                                    "title": "Kiss of the Highlander (Highlander, #4)"
                                },
                                {
                                    "original_title": "Kindred in Death ",
                                    "title": "Kindred in Death (In Death, #29)"
                                },
                                {
                                    "original_title": "Kushiel's Chosen",
                                    "title": "Kushiel's Chosen (Phèdre's Trilogy, #2)"
                                },
                                {
                                    "original_title": "Knowing God",
                                    "title": "Knowing God"
                                },
                                {
                                    "original_title": "Lake in the Clouds",
                                    "title": "Lake in the Clouds (Wilderness, #3)"
                                },
                                {
                                    "original_title": "Half the Sky: Turning Oppression into Opportunity for Women Worldwide",
                                    "title": "Half the Sky: Turning Oppression into Opportunity for Women Worldwide"
                                },
                                {
                                    "original_title": "Lords of the Bow (Conqueror, #2)",
                                    "title": "Genghis: Lords of the Bow (Conqueror, #2)"
                                },
                                {
                                    "original_title": "Holiday in Death",
                                    "title": "Holiday in Death (In Death, #7)"
                                },
                                {
                                    "original_title": "Heartstone",
                                    "title": "Heartstone (Matthew Shardlake, #5)"
                                },
                                {
                                    "original_title": "Right Ho, Jeeves",
                                    "title": "Right Ho, Jeeves (Jeeves, #6)"
                                },
                                {
                                    "original_title": "Rock Chick Rescue",
                                    "title": "Rock Chick Rescue (Rock Chick, #2)"
                                },
                                {
                                    "original_title": "Peace Child",
                                    "title": "Peace Child: An Unforgettable Story of Primitive Jungle Treachery in the 20th Century"
                                },
                                {
                                    "original_title": "Playing with Fire",
                                    "title": "Playing with Fire (Skulduggery Pleasant, #2)"
                                },
                                {
                                    "original_title": "Memory in Death ",
                                    "title": "Memory in Death (In Death, #22)"
                                },
                                {
                                    "original_title": "Mere Christianity",
                                    "title": "Mere Christianity"
                                },
                                {
                                    "original_title": "Marked in Flesh",
                                    "title": "Marked in Flesh (The Others, #4)"
                                },
                                {
                                    "original_title": "Murder of Crows",
                                    "title": "Murder of Crows (The Others, #2)"
                                },
                                {
                                    "original_title": "Moonrise",
                                    "title": "Moonrise (Warriors: The New Prophecy, #2)"
                                },
                                {
                                    "original_title": "On Writing: A Memoir of the Craft",
                                    "title": "On Writing: A Memoir of the Craft"
                                },
                                {
                                    "original_title": "One Foot in the Grave",
                                    "title": "One Foot in the Grave (Night Huntress, #2)"
                                },
                                {
                                    "original_title": "Brüder Grimm: Kinder- und Hausmärchen",
                                    "title": "The Complete Grimm's Fairy Tales"
                                },
                                {
                                    "original_title": "The Best of H.P. Lovecraft ",
                                    "title": "The Best of H.P. Lovecraft: Bloodcurdling Tales of Horror and the Macabre"
                                },
                                {
                                    "original_title": "The Autobiography of Martin Luther King, Jr.",
                                    "title": "The Autobiography of Martin Luther King, Jr."
                                },
                                {
                                    "original_title": "The America's Test Kitchen Family Cookbook",
                                    "title": "The America's Test Kitchen Family Cookbook"
                                },
                                {
                                    "original_title": "Tales From a Not-So-Talented Pop Star",
                                    "title": "Tales from a Not-So-Talented Pop Star (Dork Diaries, #3)"
                                },
                                {
                                    "original_title": "道德經 [dào dé jīng]",
                                    "title": "Tao Te Ching"
                                },
                                {
                                    "original_title": "The Pragmatic Programmer: From Journeyman to Master",
                                    "title": "The Pragmatic Programmer: From Journeyman to Master"
                                },
                                {
                                    "original_title": "The Power of a Praying Wife",
                                    "title": "The Power of a Praying Wife"
                                },
                                {
                                    "original_title": "The Longest Day",
                                    "title": "The Longest Day"
                                },
                                {
                                    "original_title": "The Little Mouse, the Red Ripe Strawberry, and the Big Hungry Bear",
                                    "title": "The Little Mouse, the Red Ripe Strawberry, and the Big Hungry Bear"
                                },
                                {
                                    "original_title": "The Julian chapter",
                                    "title": "The Julian Chapter (Wonder Story)"
                                },
                                {
                                    "original_title": "The Great Book of Amber",
                                    "title": "The Great Book of Amber (The Chronicles of Amber, #1-10)"
                                },
                                {
                                    "original_title": "The Endurance: Shackleton's legendary Antarctic expedition",
                                    "title": "The Endurance: Shackleton's Legendary Antarctic Expedition"
                                },
                                {
                                    "original_title": "The Fifth Season",
                                    "title": "The Fifth Season (The Broken Earth, #1)"
                                },
                                {
                                    "original_title": "The Crown Tower",
                                    "title": "The Crown Tower (The Riyria Chronicles, #1)"
                                },
                                {
                                    "original_title": "The Dark Highlander",
                                    "title": "The Dark Highlander (Highlander, #5)"
                                },
                                {
                                    "original_title": "ヴァンパイア騎士 4",
                                    "title": "Vampire Knight, Vol. 4 (Vampire Knight, #4)"
                                },
                                {
                                    "original_title": "ヴァンパイア騎士 9",
                                    "title": "Vampire Knight, Vol. 9"
                                },
                                {
                                    "original_title": "Transfer of Power",
                                    "title": "Transfer of Power (Mitch Rapp, #3)"
                                },
                                {
                                    "original_title": "Three Day Road",
                                    "title": "Three Day Road"
                                },
                                {
                                    "original_title": "The Sneetches and Other Stories",
                                    "title": "The Sneetches and Other Stories"
                                },
                                {
                                    "original_title": "The Walking Dead, Vol. 3: Safety Behind Bars",
                                    "title": "The Walking Dead, Vol. 03: Safety Behind Bars"
                                },
                                {
                                    "original_title": "The Way to Cook",
                                    "title": "The Way to Cook"
                                },
                                {
                                    "original_title": "The Warmth of Other Suns: The Epic Story of America's Great Migration ",
                                    "title": "The Warmth of Other Suns: The Epic Story of America's Great Migration"
                                },
                                {
                                    "original_title": "The Walking Dead, Vol. 5: The Best Defense",
                                    "title": "The Walking Dead, Vol. 05: The Best Defense"
                                },
                                {
                                    "original_title": "The Will",
                                    "title": "The Will (Magdalene, #1)"
                                },
                                {
                                    "original_title": "The Walking Dead, Vol. 1: Days Gone Bye",
                                    "title": "The Walking Dead, Vol. 01: Days Gone Bye"
                                },
                                {
                                    "original_title": "The Sweet Gum Tree",
                                    "title": "The Sweet Gum Tree"
                                },
                                {
                                    "original_title": "The Source",
                                    "title": "The Source"
                                },
                                {
                                    "original_title": "The System of the World",
                                    "title": "The System of the World (The Baroque Cycle, #3)"
                                },
                                {
                                    "original_title": "The Raven and Other Poems",
                                    "title": "The Raven and other poems"
                                },
                                {
                                    "original_title": "The Return of Sherlock Holmes",
                                    "title": "The Return of Sherlock Holmes"
                                },
                                {
                                    "original_title": "窓ぎわのトットちゃん",
                                    "title": "Totto-chan: The Little Girl at the Window"
                                },
                                {
                                    "original_title": "Twice Tempted ",
                                    "title": "Twice Tempted (Night Prince, #2)"
                                },
                                {
                                    "original_title": "The Work and the Glory, Vol. 3: Truth Will Prevail",
                                    "title": "Truth Will Prevail (The Work and the Glory, #3)"
                                },
                                {
                                    "original_title": "Twilight",
                                    "title": "Twilight (Warriors: The New Prophecy, #5)"
                                },
                                {
                                    "original_title": "Ugly Love",
                                    "title": "Ugly Love"
                                },
                                {
                                    "original_title": "White",
                                    "title": "White: The Great Pursuit (The Circle, #3)"
                                },
                                {
                                    "original_title": "We Wish to Inform You That Tomorrow We Will Be Killed with Our Families",
                                    "title": "We Wish to Inform You That Tomorrow We Will Be Killed with Our Families"
                                },
                                {
                                    "original_title": "Witness in Death",
                                    "title": "Witness in Death (In Death, #10)"
                                },
                                {
                                    "original_title": "The Deal",
                                    "title": "The Deal (Off-Campus, #1)"
                                },
                                {
                                    "original_title": "The Killer Angels",
                                    "title": "The Killer Angels (The Civil War Trilogy, #2)"
                                },
                                {
                                    "original_title": "The Lies of Locke Lamora",
                                    "title": "The Lies of Locke Lamora (Gentleman Bastard, #1)"
                                },
                                {
                                    "original_title": "The Power of Myth",
                                    "title": "The Power of Myth"
                                },
                                {
                                    "original_title": "The Places That Scare You: A Guide to Fearlessness in Difficult Times",
                                    "title": "The Places That Scare You: A Guide to Fearlessness in Difficult Times"
                                },
                                {
                                    "original_title": "Tatiana and Alexander (The Bronze Horseman, #2)",
                                    "title": "Tatiana and Alexander (The Bronze Horseman, #2)"
                                },
                                {
                                    "original_title": "Team of Rivals: The Political Genius of Abraham Lincoln",
                                    "title": "Team of Rivals: The Political Genius of Abraham Lincoln"
                                },
                                {
                                    "original_title": "Term Limits",
                                    "title": "Term Limits"
                                },
                                {
                                    "original_title": "Братья Карамазовы",
                                    "title": "The Brothers Karamazov"
                                },
                                {
                                    "original_title": "Shadows of Self",
                                    "title": "Shadows of Self (Mistborn, #5)"
                                },
                                {
                                    "original_title": "Seduction in Death",
                                    "title": "Seduction in Death (In Death, #13)"
                                },
                                {
                                    "original_title": "Rudolph the Red-Nosed Reindeer",
                                    "title": "Rudolph the Red-Nosed Reindeer"
                                },
                                {
                                    "original_title": "Scarlet",
                                    "title": "Scarlet (The Lunar Chronicles, #2)"
                                },
                                {
                                    "original_title": "Summer Knight",
                                    "title": "Summer Knight (The Dresden Files, #4)"
                                },
                                {
                                    "original_title": "ソウルイーター 1",
                                    "title": "Soul Eater, Vol. 01 (Soul Eater, #1)"
                                },
                                {
                                    "original_title": "Still Alice",
                                    "title": "Still Alice"
                                },
                                {
                                    "original_title": "No Rest for the Wicked",
                                    "title": "No Rest for the Wicked (Immortals After Dark #3)"
                                },
                                {
                                    "original_title": "Un di Velt Hot Geshvign",
                                    "title": "Night (The Night Trilogy #1)"
                                },
                                {
                                    "original_title": "Memorial Day",
                                    "title": "Memorial Day (Mitch Rapp, #7)"
                                },
                                {
                                    "original_title": "Piercing the Darkness",
                                    "title": "Piercing the Darkness (Darkness, #2)"
                                },
                                {
                                    "original_title": "Point of Retreat",
                                    "title": "Point of Retreat (Slammed, #2)"
                                },
                                {
                                    "original_title": "Perfect",
                                    "title": "Perfect (Second Opportunities, #2)"
                                },
                                {
                                    "original_title": "One Tiny Lie",
                                    "title": "One Tiny Lie (Ten Tiny Breaths, #2)"
                                },
                                {
                                    "original_title": "Rock With Me",
                                    "title": "Rock with Me (With Me in Seattle, #4)"
                                },
                                {
                                    "original_title": "Red",
                                    "title": "Red: The Heroic Rescue (The Circle, #2)"
                                },
                                {
                                    "original_title": "Preludes & Nocturnes",
                                    "title": "Preludes & Nocturnes (The Sandman #1)"
                                },
                                {
                                    "original_title": "Preacher: Salvation",
                                    "title": "Preacher, Volume 7: Salvation"
                                },
                                {
                                    "original_title": "Here be Dragons",
                                    "title": "Here be Dragons (Welsh Princes, #1)"
                                },
                                {
                                    "original_title": "Hinds' Feet on High Places",
                                    "title": "Hinds' Feet on High Places"
                                },
                                {
                                    "original_title": "Hunted",
                                    "title": "Hunted (The Iron Druid Chronicles, #6)"
                                },
                                {
                                    "original_title": "Howl's Moving Castle",
                                    "title": "Howl's Moving Castle (Howl's Moving Castle, #1)"
                                },
                                {
                                    "original_title": "Gödel, Escher, Bach: An Eternal Golden Braid",
                                    "title": "Gödel, Escher, Bach: An Eternal Golden Braid"
                                },
                                {
                                    "original_title": "Kushiel's Mercy",
                                    "title": "Kushiel's Mercy (Imriel's Trilogy, #3)"
                                },
                                {
                                    "original_title": "Kill Shot",
                                    "title": "Kill Shot (Mitch Rapp, #2)"
                                },
                                {
                                    "original_title": "Judas Unchained",
                                    "title": "Judas Unchained"
                                },
                                {
                                    "original_title": "Little Bear's Friend",
                                    "title": "Little Bear's Friend"
                                },
                                {
                                    "original_title": "Lady Knight ",
                                    "title": "Lady Knight (Protector of the Small, #4)"
                                },
                                {
                                    "original_title": "Lover at Last",
                                    "title": "Lover at Last (Black Dagger Brotherhood, #11)"
                                },
                                {
                                    "original_title": "Lover Revealed",
                                    "title": "Lover Revealed (Black Dagger Brotherhood, #4)"
                                },
                                {
                                    "original_title": "Loyalty in Death",
                                    "title": "Loyalty in Death (In Death, #9)"
                                },
                                {
                                    "original_title": "MacRieve",
                                    "title": "MacRieve (Immortals After Dark, #14)"
                                },
                                {
                                    "original_title": "Beneath This Man ",
                                    "title": "Beneath This Man (This Man, #2)"
                                },
                                {
                                    "original_title": "Binge",
                                    "title": "Binge"
                                },
                                {
                                    "original_title": "Bad for You",
                                    "title": "Bad for You (Sea Breeze, #7)"
                                },
                                {
                                    "original_title": "Batman, Volume 1: The Court of Owls",
                                    "title": "Batman, Volume 1: The Court of Owls"
                                },
                                {
                                    "original_title": "Bloodfever",
                                    "title": "Bloodfever (Fever, #2)"
                                },
                                {
                                    "original_title": "カードキャプターさくら",
                                    "title": "Cardcaptor Sakura, Vol. 1 (Cardcaptor Sakura, #1)"
                                },
                                {
                                    "original_title": "Catching Fire",
                                    "title": "Catching Fire (The Hunger Games, #2)"
                                },
                                {
                                    "original_title": "Cathedral",
                                    "title": "Cathedral"
                                },
                                {
                                    "original_title": "A Child's Garden of Verses",
                                    "title": "A Child's Garden of Verses"
                                },
                                {
                                    "original_title": "All Things Bright and Beautiful",
                                    "title": "All Things Bright and Beautiful (All Creatures Great and Small)"
                                },
                                {
                                    "original_title": "Citizen: An American Lyric",
                                    "title": "Citizen: An American Lyric"
                                },
                                {
                                    "original_title": "City of Lost Souls",
                                    "title": "City of Lost Souls (The Mortal Instruments, #5)"
                                },
                                {
                                    "original_title": "Copper Sun",
                                    "title": "Copper Sun"
                                },
                                {
                                    "original_title": "Dark Fire",
                                    "title": "Dark Fire (Dark, #6)"
                                },
                                {
                                    "original_title": "Devil's Game",
                                    "title": "Devil's Game (Reapers MC, #3)"
                                },
                                {
                                    "original_title": "Emperor Mage (Immortals, #3)",
                                    "title": "Emperor Mage (Immortals, #3)"
                                },
                                {
                                    "original_title": "電撃デイジー 1",
                                    "title": "Electric Daisy, Vol. 1 (Dengeki Daisy, #1)"
                                },
                                {
                                    "original_title": "Ender's Game",
                                    "title": "Ender's Game (Ender's Saga, #1)"
                                },
                                {
                                    "original_title": "Ender's Shadow",
                                    "title": "Ender's Shadow (Ender's Shadow, #1)"
                                },
                                {
                                    "original_title": "Fables, Volume 6: Homelands",
                                    "title": "Fables, Vol. 6: Homelands"
                                },
                                {
                                    "original_title": "Finding Cinderella",
                                    "title": "Finding Cinderella (Hopeless, #2.5)"
                                },
                                {
                                    "original_title": "Froi of the Exiles",
                                    "title": "Froi of the Exiles (Lumatere Chronicles, #2)"
                                },
                                {
                                    "original_title": "Frostbite",
                                    "title": "Frostbite (Vampire Academy, #2)"
                                },
                                {
                                    "original_title": "Frostbitten",
                                    "title": "Frostbitten (Women of the Otherworld, #10)"
                                },
                                {
                                    "original_title": "Fool's Errand",
                                    "title": "Fool's Errand (Tawny Man, #1)"
                                },
                                {
                                    "original_title": "Firefight",
                                    "title": "Firefight (The Reckoners, #2)"
                                },
                                {
                                    "original_title": "First They Killed My Father: A Daughter of Cambodia Remembers ",
                                    "title": "First They Killed My Father: A Daughter of Cambodia Remembers"
                                },
                                {
                                    "original_title": "Fallout (Crank, #3)",
                                    "title": "Fallout (Crank, #3)"
                                },
                                {
                                    "original_title": "Fables, Volume 4: March of the Wooden Soldiers",
                                    "title": "Fables, Vol. 4: March of the Wooden Soldiers"
                                },
                                {
                                    "original_title": "Every Which Way But Dead",
                                    "title": "Every Which Way But Dead (The Hollows, #3)"
                                },
                                {
                                    "original_title": "Dumbo (Little Golden Book)",
                                    "title": "Dumbo: A Little Golden Book"
                                },
                                {
                                    "original_title": "Dust & Decay",
                                    "title": "Dust & Decay (Rot & Ruin, #2)"
                                },
                                {
                                    "original_title": "Don't Let the Pigeon Drive the Bus",
                                    "title": "Don't Let the Pigeon Drive the Bus!"
                                },
                                {
                                    "original_title": "Deeper than Midnight",
                                    "title": "Deeper Than Midnight (Midnight Breed, #9)"
                                },
                                {
                                    "original_title": "Dark Destiny (Carpathians, #13)",
                                    "title": "Dark Destiny (Dark, #13)"
                                },
                                {
                                    "original_title": "Collected Poems 1909-1962",
                                    "title": "Collected Poems, 1909-1962"
                                },
                                {
                                    "original_title": "A Thousand Boy Kisses",
                                    "title": "A Thousand Boy Kisses"
                                },
                                {
                                    "original_title": "A Trick of the Light",
                                    "title": "A Trick of the Light (Chief Inspector Armand Gamache, #7)"
                                },
                                {
                                    "original_title": "A Woman After God's Own Heart",
                                    "title": "A Woman After God's Own Heart"
                                },
                                {
                                    "original_title": "Abhorsen",
                                    "title": "Abhorsen (Abhorsen, #3)"
                                },
                                {
                                    "original_title": "Artemis Fowl Boxed Set (Artemis Fowl, #1-5)",
                                    "title": "Artemis Fowl Boxed Set, Bks 1-5 (Artemis Fowl, #1-5)"
                                },
                                {
                                    "original_title": "Angels in America:  A Gay Fantasia on National Themes",
                                    "title": "Angels in America"
                                },
                                {
                                    "original_title": "A Court of Thorns and Roses",
                                    "title": "A Court of Thorns and Roses (A Court of Thorns and Roses, #1)"
                                },
                                {
                                    "original_title": "11/22/63",
                                    "title": "11/22/63"
                                },
                                {
                                    "original_title": "A Hat Full of Sky",
                                    "title": "A Hat Full of Sky (Discworld, #32; Tiffany Aching, #2)"
                                },
                                {
                                    "original_title": "A Return to Love: Reflections on the Principles of \"A Course in Miracles\"",
                                    "title": "A Return to Love: Reflections on the Principles of \"A Course in Miracles\""
                                },
                                {
                                    "original_title": "A Pocket for Corduroy",
                                    "title": "A Pocket for Corduroy"
                                },
                                {
                                    "original_title": "Calling Doctor Amelia Bedelia (I Can Read Book 2)",
                                    "title": "Calling Doctor Amelia Bedelia"
                                },
                                {
                                    "original_title": "Absolute Batman Hush",
                                    "title": "Batman: Hush"
                                },
                                {
                                    "original_title": "Batman: The Long Halloween",
                                    "title": "Batman: The Long Halloween"
                                },
                                {
                                    "original_title": "Batman: The Black Mirror",
                                    "title": "Batman: The Black Mirror"
                                },
                                {
                                    "original_title": "Bad Moon Rising",
                                    "title": "Bad Moon Rising (Dark-Hunter #18; Were-Hunter #4; Hellchaser #2)"
                                },
                                {
                                    "original_title": "Awake at Dawn",
                                    "title": "Awake at Dawn (Shadow Falls, #2)"
                                },
                                {
                                    "original_title": "Magic and Other Misdemeanors",
                                    "title": "Magic and Other Misdemeanors (The Sisters Grimm, #5)"
                                },
                                {
                                    "original_title": "Lirael",
                                    "title": "Lirael (Abhorsen, #2)"
                                },
                                {
                                    "original_title": "Gemeinsames Leben",
                                    "title": "Life Together: The Classic Exploration of Christian Community"
                                },
                                {
                                    "original_title": "Into the Wild",
                                    "title": "Into the Wild (Warriors, #1)"
                                },
                                {
                                    "original_title": "Impulse",
                                    "title": "Impulse (Impulse, #1)"
                                },
                                {
                                    "original_title": "Grounded (Up In The Air #3)",
                                    "title": "Grounded (Up in the Air, #3)"
                                },
                                {
                                    "original_title": "Green Eggs and Ham",
                                    "title": "Green Eggs and Ham"
                                },
                                {
                                    "original_title": "Preacher: Dixie Fried",
                                    "title": "Preacher, Volume 5: Dixie Fried"
                                },
                                {
                                    "original_title": "Prodigy",
                                    "title": "Prodigy (Legend, #2)"
                                },
                                {
                                    "original_title": "Pulse",
                                    "title": "Pulse (Collide, #2)"
                                },
                                {
                                    "original_title": "Rise of the Elgen",
                                    "title": "Rise of the Elgen (Michael Vey, #2)"
                                },
                                {
                                    "original_title": "Only the Good Spy Young",
                                    "title": "Only the Good Spy Young (Gallagher Girls, #4)"
                                },
                                {
                                    "original_title": "One More Chance",
                                    "title": "One More Chance (Rosemary Beach, #8; Chance, #2)"
                                },
                                {
                                    "original_title": "Post Captain",
                                    "title": "Post Captain (Aubrey/Maturin, #2)"
                                },
                                {
                                    "original_title": "Mine",
                                    "title": "Mine (Real, #2)"
                                },
                                {
                                    "original_title": "Mistress of the Empire (The Empire Trilogy, #3)",
                                    "title": "Mistress of the Empire (The Empire Trilogy, #3)"
                                },
                                {
                                    "original_title": "Momo",
                                    "title": "Momo"
                                },
                                {
                                    "original_title": "Matilda",
                                    "title": "Matilda"
                                },
                                {
                                    "original_title": "The Necronomicon",
                                    "title": "Necronomicon: The Best Weird Tales"
                                },
                                {
                                    "original_title": "Mort - playtext",
                                    "title": "Mort: The Play"
                                },
                                {
                                    "original_title": "No Place to Run",
                                    "title": "No Place to Run (KGI, #2)"
                                },
                                {
                                    "original_title": "Stalingrad: The Fateful Siege, 1942–1943",
                                    "title": "Stalingrad: The Fateful Siege, 1942–1943"
                                },
                                {
                                    "original_title": "Surely You're Joking, Mr. Feynman! Adventures of a Curious Character",
                                    "title": "Surely You're Joking, Mr. Feynman!: Adventures of a Curious Character"
                                },
                                {
                                    "original_title": "Strangers in Death ",
                                    "title": "Strangers in Death (In Death, #26)"
                                },
                                {
                                    "original_title": "Slammed",
                                    "title": "Slammed (Slammed, #1)"
                                },
                                {
                                    "original_title": "Sisters",
                                    "title": "Sisters"
                                },
                                {
                                    "original_title": "Scott Pilgrim, Volume 3: Scott Pilgrim & The Infinite Sadness",
                                    "title": "Scott Pilgrim, Volume 3: Scott Pilgrim & The Infinite Sadness"
                                },
                                {
                                    "original_title": "Scorpia Rising",
                                    "title": "Scorpia Rising (Alex Rider #9)"
                                },
                                {
                                    "original_title": "美少女戦士セーラームーン 1 [Bishōjo Senshi Sailor Moon 1]",
                                    "title": "Sailor Moon, #1 (Sailor Moon, #1)"
                                },
                                {
                                    "original_title": "Second Grave on the Left",
                                    "title": "Second Grave on the Left (Charley Davidson, #2)"
                                },
                                {
                                    "original_title": "The Burning Land",
                                    "title": "The Burning Land (The Saxon Stories, #5)"
                                },
                                {
                                    "original_title": "The Complete Phantom of the Opera",
                                    "title": "The Complete Phantom of the Opera"
                                },
                                {
                                    "original_title": "The Adventures of Sherlock Holmes",
                                    "title": "The Adventures of Sherlock Holmes"
                                },
                                {
                                    "original_title": "Tales From the Hood",
                                    "title": "Tales From the Hood (The Sisters Grimm, #6)"
                                },
                                {
                                    "original_title": "The Autobiography of Malcolm X",
                                    "title": "The Autobiography of Malcolm X"
                                },
                                {
                                    "original_title": "The Bird and the Sword",
                                    "title": "The Bird and the Sword (The Bird and the Sword Chronicles, #1)"
                                },
                                {
                                    "original_title": "The Blood Mirror",
                                    "title": "The Blood Mirror (Lightbringer, #4)"
                                },
                                {
                                    "original_title": "The Polar Express",
                                    "title": "The Polar Express"
                                },
                                {
                                    "original_title": "The Pillars of the Earth",
                                    "title": "The Pillars of the Earth (The Kingsbridge Series, #1)"
                                },
                                {
                                    "original_title": "The Little House",
                                    "title": "The Little House"
                                },
                                {
                                    "original_title": "The Magic Faraway Tree",
                                    "title": "The Magic Faraway Tree (The Faraway Tree, #2)"
                                },
                                {
                                    "original_title": "The Kings of Clonmel",
                                    "title": "The Kings of Clonmel (Ranger's Apprentice, #8)"
                                },
                                {
                                    "original_title": "धर्मपद [Dhammapada]",
                                    "title": "The Dhammapada"
                                },
                                {
                                    "original_title": "The Dark Is Rising Sequence (The Dark Is Rising, #1-5)",
                                    "title": "The Dark Is Rising Sequence  (The Dark Is Rising #1-5)"
                                },
                                {
                                    "original_title": "The Emperor of All Maladies: A Biography of Cancer",
                                    "title": "The Emperor of All Maladies: A Biography of Cancer"
                                },
                                {
                                    "original_title": "The Gods of War",
                                    "title": "The Gods of War (Emperor, #4)"
                                },
                                {
                                    "original_title": "The Gamble",
                                    "title": "The Gamble (Colorado Mountain, #1)"
                                },
                                {
                                    "original_title": "Winter of the World",
                                    "title": "Winter of the World (The Century Trilogy #2)"
                                },
                                {
                                    "original_title": "Will You Please Be Quiet, Please?",
                                    "title": "Will You Please Be Quiet, Please?"
                                },
                                {
                                    "original_title": "Written in Red",
                                    "title": "Written in Red (The Others, #1)"
                                },
                                {
                                    "original_title": "ثلاثية غرناطة",
                                    "title": "ثلاثية غرناطة"
                                },
                                {
                                    "original_title": "Yu Yu Hakusho",
                                    "title": "Yu Yu Hakusho, Volume 1: Goodbye, Material World! (Yu Yu Hakusho, #1)"
                                },
                                {
                                    "original_title": "We Were Soldiers Once... and Young: Ia Drang - the Battle That Changed the War in Vietnam",
                                    "title": "We Were Soldiers Once... and Young: Ia Drang - The Battle that Changed the War in Vietnam"
                                },
                                {
                                    "original_title": "Where the Sidewalk Ends: The Poems and Drawings of Shel Silverstein",
                                    "title": "Where the Sidewalk Ends"
                                },
                                {
                                    "original_title": "When Things Fall Apart: Heart Advice for Difficult Times",
                                    "title": "When Things Fall Apart: Heart Advice for Difficult Times"
                                },
                                {
                                    "original_title": "Tricks",
                                    "title": "Tricks (Tricks, #1)"
                                },
                                {
                                    "original_title": "Tiny Beautiful Things: Advice on Love and Life from Dear Sugar",
                                    "title": "Tiny Beautiful Things: Advice on Love and Life from Dear Sugar"
                                },
                                {
                                    "original_title": "Storia di chi fugge e di chi resta",
                                    "title": "Those Who Leave and Those Who Stay (The Neapolitan Novels #3)"
                                },
                                {
                                    "original_title": "Thud!",
                                    "title": "Thud! (Discworld, #34; City Watch #7)"
                                },
                                {
                                    "original_title": "This Book Is Not Good for You",
                                    "title": "This Book Is Not Good for You (Secret, #3)"
                                },
                                {
                                    "original_title": "The Winner's Kiss",
                                    "title": "The Winner's Kiss (The Winner's Trilogy, #3)"
                                },
                                {
                                    "original_title": "The Winter Rose",
                                    "title": "The Winter Rose (The Tea Rose, #2)"
                                },
                                {
                                    "original_title": "The Road to the Dark Tower: Exploring Stephen King's Magnum Opus",
                                    "title": "The Road to the Dark Tower: Exploring Stephen King's Magnum Opus"
                                },
                                {
                                    "original_title": "The Shadows",
                                    "title": "The Shadows (Black Dagger Brotherhood, #13)"
                                },
                                {
                                    "original_title": "The Total Money Makeover: A Proven Plan for Financial Fitness",
                                    "title": "The Total Money Makeover: A Proven Plan for Financial Fitness"
                                },
                                {
                                    "original_title": "The True Story of the Three Little Pigs",
                                    "title": "The True Story of the 3 Little Pigs"
                                },
                                {
                                    "original_title": "The Journals of Sylvia Plath",
                                    "title": "The Unabridged Journals of Sylvia Plath"
                                },
                                {
                                    "original_title": "The Velveteen Rabbit",
                                    "title": "The Velveteen Rabbit"
                                },
                                {
                                    "original_title": "The Very Hungry Caterpillar",
                                    "title": "The Very Hungry Caterpillar Board Book"
                                },
                                {
                                    "original_title": "The Walking Dead, Vol. 10: What We Become",
                                    "title": "The Walking Dead, Vol. 10: What We Become"
                                },
                                {
                                    "original_title": "The Warrior's Apprentice",
                                    "title": "The Warrior's Apprentice (Vorkosigan Saga, #2)"
                                },
                                {
                                    "original_title": "The Vor Game",
                                    "title": "The Vor Game (Vorkosigan Saga, #6)"
                                },
                                {
                                    "original_title": "The Snowman",
                                    "title": "The Snowman"
                                },
                                {
                                    "original_title": "The Serpent's Shadow",
                                    "title": "The Serpent's Shadow (Kane Chronicles, #3)"
                                },
                                {
                                    "original_title": "The Revenge of Seven",
                                    "title": "The Revenge of Seven (Lorien Legacies, #5)"
                                },
                                {
                                    "original_title": "The Raven",
                                    "title": "The Raven"
                                },
                                {
                                    "original_title": "The Pursuit of Holiness",
                                    "title": "The Pursuit of Holiness"
                                },
                                {
                                    "original_title": "This Side of the Grave (Night Huntress, #5)",
                                    "title": "This Side of the Grave (Night Huntress, #5)"
                                },
                                {
                                    "original_title": "The Three Little Kittens (A First Little Golden Book)",
                                    "title": "Three Little Kittens"
                                },
                                {
                                    "original_title": "Trapped ",
                                    "title": "Trapped (The Iron Druid Chronicles, #5)"
                                },
                                {
                                    "original_title": "Trickster's Queen",
                                    "title": "Trickster's Queen (Daughter of the Lioness, #2)"
                                },
                                {
                                    "original_title": "White Hot Kiss",
                                    "title": "White Hot Kiss (The Dark Elements, #1)"
                                },
                                {
                                    "original_title": "What Do You Care What Other People Think? Further Adventures of a Curious Character",
                                    "title": "What Do You Care What Other People Think?"
                                },
                                {
                                    "original_title": "Unravel Me (Shatter Me, #2)",
                                    "title": "Unravel Me (Shatter Me, #2)"
                                },
                                {
                                    "original_title": "Up From the Grave ",
                                    "title": "Up from the Grave (Night Huntress, #7)"
                                },
                                {
                                    "original_title": "美少女戦士セーラームーン",
                                    "title": "美少女戦士セーラームーン新装版 1 [Bishōjo Senshi Sailor Moon Shinsōban 1]"
                                },
                                {
                                    "original_title": "The Great Divorce",
                                    "title": "The Great Divorce"
                                },
                                {
                                    "original_title": "The girl who was on fire",
                                    "title": "The Girl Who Was on Fire: Your Favorite Authors on Suzanne Collins' Hunger Games Trilogy"
                                },
                                {
                                    "original_title": "The Faraway Tree Stories (The Enchanted Wood, The Faraway Tree, The Folk of the Faraway Tree)",
                                    "title": "The Faraway Tree Stories (The Faraway Tree #1-3)"
                                },
                                {
                                    "original_title": "The Darkest Pleasure",
                                    "title": "The Darkest Pleasure (Lords of the Underworld #3)"
                                },
                                {
                                    "original_title": "The Defector",
                                    "title": "The Defector (Gabriel Allon, #9)"
                                },
                                {
                                    "original_title": "The Icewind Dale Trilogy Collector's Edition (Forgotten Realms: Icewind Dale, #1-3)",
                                    "title": "The Icewind Dale Trilogy Collector's Edition (Forgotten Realms: Icewind Dale, #1-3; Legend of Drizzt, #4-6)"
                                },
                                {
                                    "original_title": "The Lords of Discipline",
                                    "title": "The Lords of Discipline"
                                },
                                {
                                    "original_title": "Le Petit Prince",
                                    "title": "The Little Prince"
                                },
                                {
                                    "original_title": "The Mysterious Benedict Society and the Prisoner's Dilemma",
                                    "title": "The Mysterious Benedict Society and the Prisoner's Dilemma (The Mysterious Benedict Society, #3)"
                                },
                                {
                                    "original_title": "The Book on the Taboo Against Knowing Who You Are",
                                    "title": "The Book on the Taboo Against Knowing Who You Are"
                                },
                                {
                                    "original_title": "Thankless in Death ",
                                    "title": "Thankless in Death (In Death, #37)"
                                },
                                {
                                    "original_title": "Swan Song",
                                    "title": "Swan Song"
                                },
                                {
                                    "original_title": "Tales from a Not-So-Popular Party Girl",
                                    "title": "Tales from a Not-So-Popular Party Girl (Dork Diaries, #2)"
                                },
                                {
                                    "original_title": "The Complete Short Stories of Ernest Hemingway",
                                    "title": "The Complete Short Stories"
                                },
                                {
                                    "original_title": "Eventyr og historier",
                                    "title": "The Complete Fairy Tales"
                                },
                                {
                                    "original_title": "The Complete Poems: Anne Sexton",
                                    "title": "The Complete Poems"
                                },
                                {
                                    "original_title": "The Country Mouse and the City Mouse, The Dog and His Bone, The Fox and the Crow (A Little Golden Book)",
                                    "title": "The Country Mouse and the City Mouse; The Fox and the Crow; The Dog and His Bone"
                                },
                                {
                                    "original_title": "The Cartel",
                                    "title": "The Cartel"
                                },
                                {
                                    "original_title": "The Code Book. How to Make It, Break It, Hack It, Crack It",
                                    "title": "The Code Book: The Science of Secrecy from Ancient Egypt to Quantum Cryptography"
                                },
                                {
                                    "original_title": "The Burning Bridge",
                                    "title": "The Burning Bridge (Ranger's Apprentice, #2)"
                                },
                                {
                                    "original_title": "Shadow's Claim (The Dacians, #1)",
                                    "title": "Shadow's Claim (Immortals After Dark, #13; The Dacians, #1)"
                                },
                                {
                                    "original_title": "Shades of Midnight",
                                    "title": "Shades of Midnight (Midnight Breed, #7)"
                                },
                                {
                                    "original_title": "Shattered",
                                    "title": "Shattered (The Iron Druid Chronicles, #7)"
                                },
                                {
                                    "original_title": "Sometimes It Lasts",
                                    "title": "Sometimes It Lasts (Sea Breeze, #5)"
                                },
                                {
                                    "original_title": "Se questo è un uomo",
                                    "title": "Survival in Auschwitz"
                                },
                                {
                                    "original_title": "Sword Song",
                                    "title": "Sword Song (The Saxon Stories, #4)"
                                },
                                {
                                    "original_title": "Stone Soup",
                                    "title": "Stone Soup"
                                },
                                {
                                    "original_title": "Stoner",
                                    "title": "Stoner"
                                },
                                {
                                    "original_title": "Sovereign ",
                                    "title": "Sovereign (Matthew Shardlake, #3)"
                                },
                                {
                                    "original_title": "Starlight (Warriors: The New Prophecy, #4)",
                                    "title": "Starlight (Warriors: The New Prophecy, #4)"
                                },
                                {
                                    "original_title": "No Mercy",
                                    "title": "No Mercy (Dark-Hunter #18, Were-Hunter, #5)"
                                },
                                {
                                    "original_title": "Once We Were Brothers",
                                    "title": "Once We Were Brothers"
                                },
                                {
                                    "original_title": "One Flew Over the Cuckoo's Nest (script)",
                                    "title": "One Flew Over the Cuckoo's Nest"
                                },
                                {
                                    "original_title": "Old School",
                                    "title": "Old School (Diary of a Wimpy Kid, #10)"
                                },
                                {
                                    "original_title": "The Work and the Glory, Vol. 1: Pillar of Light",
                                    "title": "Pillar of Light (The Work and the Glory, #1)"
                                },
                                {
                                    "original_title": "Perfect Scoundrels",
                                    "title": "Perfect Scoundrels (Heist Society, #3)"
                                },
                                {
                                    "original_title": "Percy Jackson and the Sword of Hades",
                                    "title": "Percy Jackson and the Sword of Hades (Percy Jackson and the Olympians, #4.5)"
                                },
                                {
                                    "original_title": "Pani Jeziora",
                                    "title": "Pani Jeziora (Saga o Wiedźminie, #7)"
                                },
                                {
                                    "original_title": "Out to Canaan (Mitford)",
                                    "title": "Out to Canaan (Mitford Years, #4)"
                                },
                                {
                                    "original_title": "Preacher Vol. 2: Until the End of the World",
                                    "title": "Preacher, Volume 2: Until the End of the World"
                                },
                                {
                                    "original_title": "Good Night, Mr. Tom",
                                    "title": "Good Night, Mr. Tom"
                                },
                                {
                                    "original_title": "Hairy Maclary from Donaldson's Dairy",
                                    "title": "Hairy Maclary from Donaldson's Dairy"
                                },
                                {
                                    "original_title": "Half of a Yellow Sun",
                                    "title": "Half of a Yellow Sun"
                                },
                                {
                                    "original_title": "Gunmetal Magic",
                                    "title": "Gunmetal Magic (Kate Daniels, #5.5)"
                                },
                                {
                                    "original_title": "Hard Luck",
                                    "title": "Hard Luck (Diary of a Wimpy Kid, #8)"
                                },
                                {
                                    "original_title": "Gone with the Wind",
                                    "title": "Gone with the Wind"
                                },
                                {
                                    "original_title": "Glass (Crank, #2)",
                                    "title": "Glass (Crank, #2)"
                                },
                                {
                                    "original_title": "Ghost Wars: The Secret History of the CIA, Afghanistan, and Bin Laden, from the Soviet Invasion to September 10, 2001",
                                    "title": "Ghost Wars: The Secret History of the CIA, Afghanistan, and bin Laden from the Soviet Invasion to September 10, 2001"
                                },
                                {
                                    "original_title": "Futures and Frosting",
                                    "title": "Futures and Frosting (Chocolate Lovers, #2)"
                                },
                                {
                                    "original_title": "Hot Ticket",
                                    "title": "Hot Ticket (Sinners on Tour, #3)"
                                },
                                {
                                    "original_title": "Horde",
                                    "title": "Horde (Razorland, #3)"
                                },
                                {
                                    "original_title": "ヘルシング 1",
                                    "title": "Hellsing, Vol. 01 (Hellsing, #1)"
                                },
                                {
                                    "original_title": "Her Mother's Hope (Marta's Legacy, #1)",
                                    "title": "Her Mother's Hope (Marta's Legacy, #1)"
                                },
                                {
                                    "original_title": "Knuffle Bunny Too: A Case of Mistaken Identity",
                                    "title": "Knuffle Bunny Too: A Case of Mistaken Identity (Knuffle Bunny, #2)"
                                },
                                {
                                    "original_title": "Lioness Rampant",
                                    "title": "Lioness Rampant (Song of the Lioness, #4)"
                                },
                                {
                                    "original_title": "Llama Llama Mad at Mama",
                                    "title": "Llama Llama Mad at Mama"
                                },
                                {
                                    "original_title": "Lover Avenged, part two",
                                    "title": "Lover Unleashed (Black Dagger Brotherhood, #9)"
                                },
                                {
                                    "original_title": "Loving Mr. Daniels",
                                    "title": "Loving Mr. Daniels"
                                },
                                {
                                    "original_title": "Black Hawk Down",
                                    "title": "Black Hawk Down"
                                },
                                {
                                    "original_title": "Caliban's War",
                                    "title": "Caliban's War (The Expanse, #2)"
                                },
                                {
                                    "original_title": "Carry On, Jeeves",
                                    "title": "Carry on, Jeeves (Jeeves, #3)"
                                },
                                {
                                    "original_title": "Celebrity in Death",
                                    "title": "Celebrity in Death (In Death, #34)"
                                },
                                {
                                    "original_title": "Schachnovelle",
                                    "title": "Chess Story"
                                },
                                {
                                    "original_title": "Mitford Years New Song Unabridged",
                                    "title": "A New Song (Mitford Years, #5)"
                                },
                                {
                                    "original_title": "The Complete Wreck (A Series of Unfortunate Events, Books 1-13)",
                                    "title": "A Series of Unfortunate Events Box: The Complete Wreck (Books 1-13)"
                                },
                                {
                                    "original_title": "A Fistful of Charms",
                                    "title": "A Fistful of Charms (The Hollows, #4)"
                                },
                                {
                                    "original_title": "Animalia",
                                    "title": "Animalia"
                                },
                                {
                                    "original_title": "Accordance",
                                    "title": "Accordance (Significance, #2)"
                                },
                                {
                                    "original_title": "A Supposedly Fun Thing I'll Never Do Again: Essays and Arguments",
                                    "title": "A Supposedly Fun Thing I'll Never Do Again:  Essays and Arguments"
                                },
                                {
                                    "original_title": "All But My Life",
                                    "title": "All But My Life: A Memoir"
                                },
                                {
                                    "original_title": "Act of Treason",
                                    "title": "Act of Treason (Mitch Rapp, #9)"
                                },
                                {
                                    "original_title": "City of Thieves",
                                    "title": "City of Thieves"
                                },
                                {
                                    "original_title": "Corduroy",
                                    "title": "Corduroy"
                                },
                                {
                                    "original_title": "Crash Into You",
                                    "title": "Crash into You (Pushing the Limits, #3)"
                                },
                                {
                                    "original_title": "Cutting for Stone",
                                    "title": "Cutting for Stone"
                                },
                                {
                                    "original_title": "Curious George Takes a Job",
                                    "title": "Curious George Takes a Job"
                                },
                                {
                                    "original_title": "Daughter of the Forest",
                                    "title": "Daughter of the Forest  (Sevenwaters, #1)"
                                },
                                {
                                    "original_title": "Death of Kings",
                                    "title": "Death of Kings (The Saxon Stories, #6)"
                                },
                                {
                                    "original_title": "The Sandman: Dream Country",
                                    "title": "Dream Country (The Sandman #3)"
                                },
                                {
                                    "original_title": "Fables, Volume 8: Wolves",
                                    "title": "Fables, Vol. 8: Wolves"
                                },
                                {
                                    "original_title": "Fish In A Tree",
                                    "title": "Fish in a Tree"
                                },
                                {
                                    "original_title": "Flotsam",
                                    "title": "Flotsam"
                                },
                                {
                                    "original_title": "For Colored Girls Who Have Considered Suicide When the Rainbow Is Enuf ",
                                    "title": "for colored girls who have considered suicide/when the rainbow is enuf"
                                },
                                {
                                    "original_title": "Found in You",
                                    "title": "Found in You (Fixed, #2)"
                                },
                                {
                                    "original_title": "Freedom™",
                                    "title": "Freedom™ (Daemon, #2)"
                                },
                                {
                                    "original_title": "Everything that Rises Must Converge",
                                    "title": "Everything That Rises Must Converge: Stories"
                                },
                                {
                                    "original_title": "Eragon & Eldest (Inheritance, #1-2)",
                                    "title": "Eragon & Eldest (Inheritance, #1-2)"
                                },
                                {
                                    "original_title": "Emperor of Thorns",
                                    "title": "Emperor of Thorns (The Broken Empire, #3)"
                                },
                                {
                                    "original_title": "Destroy Me",
                                    "title": "Destroy Me (Shatter Me, #1.5)"
                                },
                                {
                                    "original_title": "Dead Heat",
                                    "title": "Dead Heat (Alpha & Omega #4)"
                                },
                                {
                                    "original_title": "デスノート #8 (Desu Nōto) Mato (的)",
                                    "title": "Death Note, Vol. 8: Target (Death Note, #8)"
                                },
                                {
                                    "original_title": "Coming Home",
                                    "title": "Coming Home"
                                },
                                {
                                    "original_title": "Alanna: The First Adventure",
                                    "title": "Alanna: The First Adventure (Song of the Lioness, #1)"
                                },
                                {
                                    "original_title": "Amelia Bedelia and the Surprise Shower",
                                    "title": "Amelia Bedelia and the Surprise Shower"
                                },
                                {
                                    "original_title": "Academ's Fury",
                                    "title": "Academ's Fury (Codex Alera, #2)"
                                },
                                {
                                    "original_title": "Angels in America: A Gay Fantasia on National Themes: Millennium Approaches (Part One)",
                                    "title": "Angels in America, Part One: Millennium Approaches"
                                },
                                {
                                    "original_title": "Angle of Repose",
                                    "title": "Angle of Repose"
                                },
                                {
                                    "original_title": "A Little Life",
                                    "title": "A Little Life"
                                },
                                {
                                    "original_title": "Born to Run: A Hidden Tribe, Superathletes, and the Greatest Race the World Has Never Seen",
                                    "title": "Born to Run: A Hidden Tribe, Superathletes, and the Greatest Race the World Has Never Seen"
                                },
                                {
                                    "original_title": "Bite Me If You Can",
                                    "title": "Bite Me If You Can (Argeneau #6)"
                                },
                                {
                                    "original_title": "Before They Are Hanged",
                                    "title": "Before They Are Hanged (The First Law #2)"
                                },
                                {
                                    "original_title": "Be Here Now",
                                    "title": "Be Here Now"
                                },
                                {
                                    "original_title": "Madeline and the Bad Hat",
                                    "title": "Madeline and the Bad Hat"
                                },
                                {
                                    "original_title": "Llama, Llama Red Pajama",
                                    "title": "Llama Llama Red Pajama"
                                },
                                {
                                    "original_title": "The Work and the Glory, Vol. 2: Like a Fire Burning",
                                    "title": "Like a Fire Burning (The Work and the Glory, #2)"
                                },
                                {
                                    "original_title": "Kane and Abel",
                                    "title": "Kane and Abel (Kane and Abel, #1)"
                                },
                                {
                                    "original_title": "Invincible (Chronicles of Nick #2)",
                                    "title": "Invincible (Chronicles of Nick, #2)"
                                },
                                {
                                    "original_title": "Hawkeye, Volume 2: Little Hits",
                                    "title": "Hawkeye, Volume 2: Little Hits"
                                },
                                {
                                    "original_title": "His Last Bow: Some Reminiscences of Sherlock Holmes",
                                    "title": "His Last Bow: 8 Stories"
                                },
                                {
                                    "original_title": "Homeland",
                                    "title": "Homeland (Forgotten Realms: The Dark Elf Trilogy, #1; Legend of Drizzt, #1)"
                                },
                                {
                                    "original_title": "Hope",
                                    "title": "Hope: A Memoir of Survival in Cleveland"
                                },
                                {
                                    "original_title": "Hunting Ground",
                                    "title": "Hunting Ground (Alpha & Omega, #2)"
                                },
                                {
                                    "original_title": "I, Claudius",
                                    "title": "I, Claudius (Claudius, #1)"
                                },
                                {
                                    "original_title": "Ghost Town",
                                    "title": "Ghost Town (The Morganville Vampires, #9)"
                                },
                                {
                                    "original_title": "Hands of Light: A Guide to Healing Through the Human Energy Field",
                                    "title": "Hands Of Light"
                                },
                                {
                                    "original_title": "Hark! A Vagrant",
                                    "title": "Hark! A Vagrant"
                                },
                                {
                                    "original_title": "Preacher: Proud Americans",
                                    "title": "Preacher, Volume 3: Proud Americans"
                                },
                                {
                                    "original_title": "Roller Girl",
                                    "title": "Roller Girl"
                                },
                                {
                                    "original_title": "Reaper's Legacy",
                                    "title": "Reaper's Legacy (Reapers MC, #2)"
                                },
                                {
                                    "original_title": "Red Country",
                                    "title": "Red Country (First Law World, #6)"
                                },
                                {
                                    "original_title": "Reaper Man",
                                    "title": "Reaper Man (Discworld, #11; Death, #2)"
                                },
                                {
                                    "original_title": "My Family and Other Animals",
                                    "title": "My Family and Other Animals (Corfu Trilogy, #1)"
                                },
                                {
                                    "original_title": "Mastery",
                                    "title": "Mastery"
                                },
                                {
                                    "original_title": "Mila 18",
                                    "title": "Mila 18"
                                },
                                {
                                    "original_title": "Miles to Go",
                                    "title": "Miles to Go (The Walk, #2)"
                                },
                                {
                                    "original_title": "milk and honey",
                                    "title": "Milk and Honey"
                                },
                                {
                                    "original_title": "Me Before You",
                                    "title": "Me Before You (Me Before You, #1)"
                                },
                                {
                                    "original_title": "Stars Above",
                                    "title": "Stars Above (The Lunar Chronicles, #4.5)"
                                },
                                {
                                    "original_title": "Stone Butch Blues",
                                    "title": "Stone Butch Blues"
                                },
                                {
                                    "original_title": "Spell of the Highlander ",
                                    "title": "Spell of the Highlander (Highlander, #7)"
                                },
                                {
                                    "original_title": "Squire",
                                    "title": "Squire (Protector of the Small, #3)"
                                },
                                {
                                    "original_title": "Stories of Your Life and Others ",
                                    "title": "Stories of Your Life and Others"
                                },
                                {
                                    "original_title": "Small Gods",
                                    "title": "Small Gods (Discworld, #13)"
                                },
                                {
                                    "original_title": "Servant of the Empire (The Empire Trilogy, #2)",
                                    "title": "Servant of the Empire (The Empire Trilogy, #2)"
                                },
                                {
                                    "original_title": "Shadow's Edge",
                                    "title": "Shadow's Edge (Night Angel, #2)"
                                },
                                {
                                    "original_title": "Ronja Rövardotter",
                                    "title": "Ronia, the Robber's Daughter"
                                },
                                {
                                    "original_title": "Taken by Midnight (Midnight Breed, #8)",
                                    "title": "Taken by Midnight (Midnight Breed, #8)"
                                },
                                {
                                    "original_title": "The Belgariad: Part One - Pawn of Prophecy / Queen of Sorcery / Magician's Gambit",
                                    "title": "The Belgariad, Vol. 1: Pawn of Prophecy / Queen of Sorcery / Magician's Gambit (The Belgariad, #1-3)"
                                },
                                {
                                    "original_title": "The Napping House",
                                    "title": "The Napping House"
                                },
                                {
                                    "original_title": "The Missing Piece",
                                    "title": "The Missing Piece"
                                },
                                {
                                    "original_title": "The Pale Rider",
                                    "title": "The Pale Horseman (The Saxon Stories, #2)"
                                },
                                {
                                    "original_title": "The Lions of Al-Rassan",
                                    "title": "The Lions of Al-Rassan"
                                },
                                {
                                    "original_title": "The Lost Stories",
                                    "title": "The Lost Stories (Ranger's Apprentice, #11)"
                                },
                                {
                                    "original_title": "The Intelligent Investor",
                                    "title": "The Intelligent Investor (Collins Business Essentials)"
                                },
                                {
                                    "original_title": "The Demon-Haunted World: Science as a Candle in the Dark",
                                    "title": "The Demon-Haunted World: Science as a Candle in the Dark"
                                },
                                {
                                    "original_title": "The Dream Thieves",
                                    "title": "The Dream Thieves (The Raven Cycle, #2)"
                                },
                                {
                                    "original_title": "The Dark Tower",
                                    "title": "The Dark Tower (The Dark Tower, #7)"
                                },
                                {
                                    "original_title": "Berlin: The Downfall 1945",
                                    "title": "The Fall of Berlin 1945"
                                },
                                {
                                    "original_title": "The Hidden Messages in Water",
                                    "title": "The Hidden Messages in Water"
                                },
                                {
                                    "original_title": "Y: The Last Man Vol. 9: Motherland",
                                    "title": "Y: The Last Man, Vol. 9: Motherland (Y: The Last Man, #9)"
                                },
                                {
                                    "original_title": "Y: The Last Man Vol. 5: Ring of Truth",
                                    "title": "Y: The Last Man, Vol. 5: Ring of Truth (Y: The Last Man, #5)"
                                },
                                {
                                    "original_title": "Vision in Silver ",
                                    "title": "Vision in Silver (The Others, #3)"
                                },
                                {
                                    "original_title": "ヴァンパイア騎士 3 ",
                                    "title": "Vampire Knight, Vol. 3 (Vampire Knight, #3)"
                                },
                                {
                                    "original_title": "When Christ and His Saints Slept",
                                    "title": "When Christ and His Saints Slept  (Henry II & Eleanor of Aquitaine, #1)"
                                },
                                {
                                    "original_title": "We're Going on a Bear Hunt",
                                    "title": "We're Going on a Bear Hunt"
                                },
                                {
                                    "original_title": "Trust in Me",
                                    "title": "Trust in Me (Wait for You, #1.5)"
                                },
                                {
                                    "original_title": "The Winter King",
                                    "title": "The Winter King (The Warlord Chronicles, #1)"
                                },
                                {
                                    "original_title": "These High, Green Hills",
                                    "title": "These High, Green Hills (Mitford Years, #3)"
                                },
                                {
                                    "original_title": "The Problem Child",
                                    "title": "The Problem Child (The Sisters Grimm, #3)"
                                },
                                {
                                    "original_title": "Mountain Interval",
                                    "title": "The Road Not Taken and Other Poems"
                                },
                                {
                                    "original_title": "The Score",
                                    "title": "The Score (Off-Campus, #3)"
                                },
                                {
                                    "original_title": "The Soldiers of Halla",
                                    "title": "The Soldiers of Halla (Pendragon, #10)"
                                },
                                {
                                    "original_title": "The Sight",
                                    "title": "The Sight (Warriors: Power of Three, #1)"
                                },
                                {
                                    "original_title": "The Stories of John Cheever",
                                    "title": "The Stories of John Cheever"
                                },
                                {
                                    "original_title": "The Song of Achilles",
                                    "title": "The Song of Achilles"
                                },
                                {
                                    "original_title": "The Untethered Soul",
                                    "title": "The Untethered Soul: The Journey Beyond Yourself"
                                },
                                {
                                    "original_title": "The Walking Dead V 7",
                                    "title": "The Walking Dead, Vol. 07: The Calm Before"
                                },
                                {
                                    "original_title": "The Painted Man",
                                    "title": "The Warded Man (Demon Cycle, #1)"
                                },
                                {
                                    "original_title": "The Three Little Pigs (A Little Golden Book)",
                                    "title": "The Three Little Pigs"
                                },
                                {
                                    "original_title": "The Sword of Summer",
                                    "title": "The Sword of Summer (Magnus Chase and the Gods of Asgard, #1)"
                                },
                                {
                                    "original_title": "The Third Option",
                                    "title": "The Third Option (Mitch Rapp, #4)"
                                },
                                {
                                    "original_title": "The Storyteller",
                                    "title": "The Storyteller"
                                },
                                {
                                    "original_title": "The Success Principles",
                                    "title": "The Success Principles: How to Get from Where You Are to Where You Want to Be"
                                },
                                {
                                    "original_title": "The Son of Sobek",
                                    "title": "The Son of Sobek (Percy Jackson & Kane Chronicles Crossover, #1)"
                                },
                                {
                                    "original_title": "The Secret",
                                    "title": "The Secret (Highlands' Lairds #1)"
                                },
                                {
                                    "original_title": "Le secret de la Licorne",
                                    "title": "The Secret of the Unicorn (Tintin, #11)"
                                },
                                {
                                    "original_title": "The Rembrandt Affair",
                                    "title": "The Rembrandt Affair (Gabriel Allon, #10)"
                                },
                                {
                                    "original_title": "Twilight",
                                    "title": "Twilight (The Mediator, #6)"
                                },
                                {
                                    "original_title": "Waylander ",
                                    "title": "Waylander (The Drenai Saga, #3)"
                                },
                                {
                                    "original_title": "Veil of Midnight",
                                    "title": "Veil of Midnight (Midnight Breed, #5)"
                                },
                                {
                                    "original_title": "Very Good Lives: The Fringe Benefits of Failure and the Importance of Imagination",
                                    "title": "Very Good Lives: The Fringe Benefits of Failure and the Importance of Imagination"
                                },
                                {
                                    "original_title": "Unveiled: Tamar (Lineage of Grace #1)",
                                    "title": "Unveiled: Tamar (Lineage of Grace #1)"
                                },
                                {
                                    "original_title": "Twilight: The Graphic Novel,",
                                    "title": "Twilight: The Graphic Novel, Vol. 2  (Twilight: The Graphic Novel, #2)"
                                },
                                {
                                    "original_title": "Twisted Perfection (Perfection, #1)",
                                    "title": "Twisted Perfection (Rosemary Beach, #5; Perfection, #1)"
                                },
                                {
                                    "original_title": "The High King ",
                                    "title": "The High King (The Chronicles of Prydain #5)"
                                },
                                {
                                    "original_title": "The Heroes",
                                    "title": "The Heroes (First Law World, #5)"
                                },
                                {
                                    "original_title": "The Good, the Bad, and the Undead",
                                    "title": "The Good, the Bad, and the Undead (The Hollows, #2)"
                                },
                                {
                                    "original_title": "O Evangelho segundo Jesus Cristo",
                                    "title": "The Gospel According to Jesus Christ"
                                },
                                {
                                    "original_title": "Die fröhliche Wissenschaft",
                                    "title": "The Gay Science"
                                },
                                {
                                    "original_title": "The Eternity Cure",
                                    "title": "The Eternity Cure (Blood of Eden, #2)"
                                },
                                {
                                    "original_title": "The Edge of Never",
                                    "title": "The Edge of Never (The Edge of Never, #1)"
                                },
                                {
                                    "original_title": "The Fault in Our Stars",
                                    "title": "The Fault in Our Stars"
                                },
                                {
                                    "original_title": "The Field of Swords (Emperor, #3)",
                                    "title": "The Field of Swords (Emperor, #3)"
                                },
                                {
                                    "original_title": "The Fiery Cross",
                                    "title": "The Fiery Cross (Outlander, #5)"
                                },
                                {
                                    "original_title": "The Darkest Kiss",
                                    "title": "The Darkest Kiss (Lords of the Underworld #2)"
                                },
                                {
                                    "original_title": "The Darkest Minds",
                                    "title": "The Darkest Minds (The Darkest Minds, #1)"
                                },
                                {
                                    "original_title": "The Dot",
                                    "title": "The Dot"
                                },
                                {
                                    "original_title": "The Inimitable Jeeves ",
                                    "title": "The Inimitable Jeeves (Jeeves, #2)"
                                },
                                {
                                    "original_title": "The Kite Runner ",
                                    "title": "The Kite Runner"
                                },
                                {
                                    "original_title": "The Lord of the Rings Sketchbook",
                                    "title": "The Lord of the Rings Sketchbook"
                                },
                                {
                                    "original_title": "The Player of Games",
                                    "title": "The Player of Games (Culture, #2)"
                                },
                                {
                                    "original_title": "The Miracle of Mindfulness: A Manual on Meditation",
                                    "title": "The Miracle of Mindfulness: An Introduction to the Practice of Meditation"
                                },
                                {
                                    "original_title": "The Big Short: Inside the Doomsday Machine",
                                    "title": "The Big Short: Inside the Doomsday Machine"
                                },
                                {
                                    "original_title": "The Belgariad Boxed Set: Pawn of Prophecy, Queen of Sorcery, Magician's Gambit, Castle of Wizardry, & Enchanters' End Game (The Belgariad, #1-5)",
                                    "title": "The Belgariad Boxed Set: Pawn of Prophecy / Queen of Sorcery / Magician's Gambit / Castle of Wizardry / Enchanters' End Game (The Belgariad, #1-5)"
                                },
                                {
                                    "original_title": "Different Seasons",
                                    "title": "The Body"
                                },
                                {
                                    "original_title": "Takedown",
                                    "title": "Takedown (Scot Harvath, #5)"
                                },
                                {
                                    "original_title": "The Atonement Child",
                                    "title": "The Atonement Child"
                                },
                                {
                                    "original_title": "The Charm School",
                                    "title": "The Charm School"
                                },
                                {
                                    "original_title": "The Cabinet of Curiosities",
                                    "title": "The Cabinet of Curiosities (Pendergast, #3)"
                                },
                                {
                                    "original_title": "The Bride",
                                    "title": "The Bride (Lairds' Fiancées, #1)"
                                },
                                {
                                    "original_title": "Salvation in Death",
                                    "title": "Salvation in Death (In Death, #27)"
                                },
                                {
                                    "original_title": "Shadow Divers: The True Adventure of Two Americans Who Risked Everything to Solve One of the Last Mysteries of World War II",
                                    "title": "Shadow Divers"
                                },
                                {
                                    "original_title": "Shantaram",
                                    "title": "Shantaram"
                                },
                                {
                                    "original_title": "スキップ・ビート! 1 ",
                                    "title": "Skip Beat!, Vol. 01"
                                },
                                {
                                    "original_title": "Simon vs. the Homo Sapiens Agenda",
                                    "title": "Simon vs. the Homo Sapiens Agenda"
                                },
                                {
                                    "original_title": "Midnight",
                                    "title": "Midnight (Warriors: The New Prophecy, #1)"
                                },
                                {
                                    "original_title": "Miss Nelson Is Missing!",
                                    "title": "Miss Nelson Is Missing! (Miss Nelson, #1)"
                                },
                                {
                                    "original_title": "Magic's Price",
                                    "title": "Magic's Price (Valdemar: Last Herald-Mage #3)"
                                },
                                {
                                    "original_title": "Red Rising",
                                    "title": "Red Rising (Red Rising, #1)"
                                },
                                {
                                    "original_title": "River Marked",
                                    "title": "River Marked (Mercy Thompson, #6)"
                                },
                                {
                                    "original_title": "Rapture in Death",
                                    "title": "Rapture in Death (In Death, #4)"
                                },
                                {
                                    "original_title": "Once Upon a Crime",
                                    "title": "Once Upon a Crime (The Sisters Grimm, #4)"
                                },
                                {
                                    "original_title": "Point of Impact",
                                    "title": "Point of Impact (Bob Lee Swagger, #1)"
                                },
                                {
                                    "original_title": "Hardline",
                                    "title": "Hardline (Hacker, #3)"
                                },
                                {
                                    "original_title": "Grip of the Shadow Plague",
                                    "title": "Grip of the Shadow Plague (Fablehaven, #3)"
                                },
                                {
                                    "original_title": "Gaudy Night",
                                    "title": "Gaudy Night (Lord Peter Wimsey, #12)"
                                },
                                {
                                    "original_title": "Full Black",
                                    "title": "Full Black (Scot Harvath, #10)"
                                },
                                {
                                    "original_title": "Go the Fuck to Sleep",
                                    "title": "Go the Fuck to Sleep"
                                },
                                {
                                    "original_title": "Immortal in Death ",
                                    "title": "Immortal in Death (In Death, #3)"
                                },
                                {
                                    "original_title": "犬夜叉 1",
                                    "title": "InuYasha: Turning Back Time (InuYasha, #1)"
                                },
                                {
                                    "original_title": "Inside the Human Body",
                                    "title": "Inside the Human Body (The Magic School Bus, #3)"
                                },
                                {
                                    "original_title": "Knuffle Bunny:  A Cautionary Tale",
                                    "title": "Knuffle Bunny: A Cautionary Tale (Knuffle Bunny, #1)"
                                },
                                {
                                    "original_title": "L.A. Requiem",
                                    "title": "L.A. Requiem (Elvis Cole, #8)"
                                },
                                {
                                    "original_title": "Lamb: The Gospel According to Biff, Christ's Childhood Pal",
                                    "title": "Lamb: The Gospel According to Biff, Christ's Childhood Pal"
                                },
                                {
                                    "original_title": "Last Argument of Kings",
                                    "title": "Last Argument of Kings (The First Law, #3)"
                                },
                                {
                                    "original_title": "Les Fleurs du mal",
                                    "title": "Les Fleurs du Mal"
                                },
                                {
                                    "original_title": "Love Unrehearsed",
                                    "title": "Love Unrehearsed (Love, #2)"
                                },
                                {
                                    "original_title": "Batman, Volume 2: The City of Owls",
                                    "title": "Batman, Volume 2: The City of Owls"
                                },
                                {
                                    "original_title": "Barefoot Contessa Family Style: Easy Ideas and Recipes That Make Everyone Feel Like Family",
                                    "title": "Barefoot Contessa Family Style: Easy Ideas and Recipes That Make Everyone Feel Like Family"
                                },
                                {
                                    "original_title": "Billions and Billions: Thoughts on Life and Death at the Brink of the Millennium",
                                    "title": "Billions & Billions: Thoughts on Life and Death at the Brink of the Millennium"
                                },
                                {
                                    "original_title": "Black Dawn",
                                    "title": "Black Dawn (The Morganville Vampires, #12)"
                                },
                                {
                                    "original_title": "Bring Up the Bodies",
                                    "title": "Bring Up the Bodies (Thomas Cromwell, #2)"
                                },
                                {
                                    "original_title": "Bloodhound (Beka Cooper, #2)",
                                    "title": "Bloodhound (Beka Cooper, #2)"
                                },
                                {
                                    "original_title": "Ceremony in Death",
                                    "title": "Ceremony in Death (In Death, #5)"
                                },
                                {
                                    "original_title": "A Grief Observed",
                                    "title": "A Grief Observed"
                                },
                                {
                                    "original_title": "13 Hours: The Inside Account of What Really Happened In Benghazi",
                                    "title": "13 Hours: The Inside Account of What Really Happened In Benghazi"
                                },
                                {
                                    "original_title": "Animal Farm & 1984",
                                    "title": "Animal Farm / 1984"
                                },
                                {
                                    "original_title": "Americanah",
                                    "title": "Americanah"
                                },
                                {
                                    "original_title": "Any Human Heart",
                                    "title": "Any Human Heart"
                                },
                                {
                                    "original_title": "Anne Frank Remembered",
                                    "title": "Anne Frank Remembered: The Story of the Woman Who Helped to Hide the Frank Family"
                                },
                                {
                                    "original_title": "Archangel's Blade",
                                    "title": "Archangel's Blade (Guild Hunter, #4)"
                                },
                                {
                                    "original_title": "Addicted",
                                    "title": "Addicted"
                                },
                                {
                                    "original_title": "Alexander Hamilton",
                                    "title": "Alexander Hamilton"
                                },
                                {
                                    "original_title": "Columbine",
                                    "title": "Columbine"
                                },
                                {
                                    "original_title": "Class A (Cherub #2)",
                                    "title": "Class A (Cherub, #2)"
                                },
                                {
                                    "original_title": "Devil in Winter ",
                                    "title": "Devil in Winter (Wallflowers, #3)"
                                },
                                {
                                    "original_title": "Бесы",
                                    "title": "Demons"
                                },
                                {
                                    "original_title": "Dragonsinger",
                                    "title": "Dragonsinger (Harper Hall, #2)"
                                },
                                {
                                    "original_title": "Dust",
                                    "title": "Dust (Silo, #3)"
                                },
                                {
                                    "original_title": "Even Now",
                                    "title": "Even Now (Lost Love, #1)"
                                },
                                {
                                    "original_title": "Essentials of Classic Italian Cooking",
                                    "title": "Essentials of Classic Italian Cooking"
                                },
                                {
                                    "original_title": "Fall of Giants",
                                    "title": "Fall of Giants (The Century Trilogy, #1)"
                                },
                                {
                                    "original_title": "Fried Green Tomatoes at the Whistle Stop Cafe",
                                    "title": "Fried Green Tomatoes at the Whistle Stop Cafe"
                                },
                                {
                                    "original_title": "Eye of the World (The Wheel of Time, #1-1)",
                                    "title": "From the Two Rivers: The Eye of the World, Part 1 (Wheel of time, #1-1)"
                                },
                                {
                                    "original_title": "Festive in Death",
                                    "title": "Festive in Death (In Death, #39)"
                                },
                                {
                                    "original_title": "Far from the Tree: Parents, Children, and the Search for Identity",
                                    "title": "Far from the Tree: Parents, Children, and the Search for Identity"
                                },
                                {
                                    "original_title": "Feet of Clay",
                                    "title": "Feet of Clay (Discworld, #19; City Watch, #3)"
                                },
                                {
                                    "original_title": "Fear",
                                    "title": "Fear (Gone, #5)"
                                },
                                {
                                    "original_title": "Fantasy In Death",
                                    "title": "Fantasy in Death (In Death, #30)"
                                },
                                {
                                    "original_title": "Frosty the Snow Man",
                                    "title": "Frosty the Snow Man"
                                },
                                {
                                    "original_title": "Foxe's Book of Martyrs",
                                    "title": "Foxe's Book of Martyrs"
                                },
                                {
                                    "original_title": "Drums, Girls & Dangerous Pie",
                                    "title": "Drums, Girls & Dangerous Pie (Drums, Girls & Dangerous Pie, #1)"
                                },
                                {
                                    "original_title": "Elon Musk: Tesla, SpaceX, and the Quest for a Fantastic Future",
                                    "title": "Elon Musk: Inventing the Future"
                                },
                                {
                                    "original_title": "Desire Unchained (Shadow Lover)",
                                    "title": "Desire Unchained (Demonica #2)"
                                },
                                {
                                    "original_title": "Deadhouse Gates",
                                    "title": "Deadhouse Gates (The Malazan Book of the Fallen, #2)"
                                },
                                {
                                    "original_title": "D-Day June 6, 1944: The Climactic Battle of WWII",
                                    "title": "D-Day, June 6, 1944: The Battle for the Normandy Beaches"
                                },
                                {
                                    "original_title": "Come Back, Amelia Bedelia",
                                    "title": "Come Back, Amelia Bedelia"
                                },
                                {
                                    "original_title": "Consider the Lobster",
                                    "title": "Consider the Lobster and Other Essays"
                                },
                                {
                                    "original_title": "Curious George Visits the Library",
                                    "title": "Curious George Visits the Library"
                                },
                                {
                                    "original_title": "Cryptonomicon",
                                    "title": "Cryptonomicon"
                                },
                                {
                                    "original_title": "Concealed in Death",
                                    "title": "Concealed in Death (In Death, #38)"
                                },
                                {
                                    "original_title": "Anne Frank: Beyond the Diary - A Photographic Remembrance",
                                    "title": "Anne Frank: Beyond the Diary - A Photographic Remembrance"
                                },
                                {
                                    "original_title": "An Army at Dawn: The War in Africa, 1942-1943",
                                    "title": "An Army at Dawn: The War in North Africa, 1942-1943 (World War II Liberation Trilogy, #1)"
                                },
                                {
                                    "original_title": "Animal Speak: The Spiritual & Magical Powers of Creatures Great & Small",
                                    "title": "Animal-Speak: The Spiritual & Magical Powers of Creatures Great & Small"
                                },
                                {
                                    "original_title": "A Bargain for Frances",
                                    "title": "A Bargain for Frances"
                                },
                                {
                                    "original_title": "A Color of His Own",
                                    "title": "A Color of His Own"
                                },
                                {
                                    "original_title": "A Kingdom of Dreams ",
                                    "title": "A Kingdom of Dreams (Westmoreland, #1)"
                                },
                                {
                                    "original_title": "A Sick Day for Amos McGee",
                                    "title": "A Sick Day for Amos McGee"
                                },
                                {
                                    "original_title": "Chicken Soup with Rice: A Book of Months",
                                    "title": "Chicken Soup with Rice: A Book of Months (The Nutshell Library)"
                                },
                                {
                                    "original_title": "Betty Crocker's Cookbook",
                                    "title": "Betty Crocker's Cookbook"
                                },
                                {
                                    "original_title": "Batman: The Dark Knight Returns",
                                    "title": "Batman: The Dark Knight Returns (The Dark Knight Saga, #1)"
                                },
                                {
                                    "original_title": "Beauty from Pain",
                                    "title": "Beauty from Pain (Beauty, #1)"
                                },
                                {
                                    "original_title": "Barnyard Dance",
                                    "title": "Barnyard Dance"
                                },
                                {
                                    "original_title": "Batman (Volume 2): Hush",
                                    "title": "Batman: Hush, Vol. 2"
                                },
                                {
                                    "original_title": "Bear Snores On",
                                    "title": "Bear Snores On"
                                },
                                {
                                    "original_title": "At the Mountains of Madness",
                                    "title": "At the Mountains of Madness and Other Tales of Terror"
                                },
                                {
                                    "original_title": "Star Wars: Lost Stars",
                                    "title": "Lost Stars (Star Wars: Journey to the Force Awakens)"
                                },
                                {
                                    "original_title": "Discover an Incredible Life in an Ordinary World",
                                    "title": "Love Does: Discover a Secretly Incredible Life in an Ordinary World"
                                },
                                {
                                    "original_title": "Mad Dogs",
                                    "title": "Mad Dogs (Cherub, #8)"
                                },
                                {
                                    "original_title": "Legend ",
                                    "title": "Legend (The Drenai Saga, #1)"
                                },
                                {
                                    "original_title": "Little Princes: One Man's Promise to Bring Home the Lost Children of Nepal",
                                    "title": "Little Princes: One Man's Promise to Bring Home the Lost Children of Nepal"
                                },
                                {
                                    "original_title": "Justice: What's the Right Thing to Do?",
                                    "title": "Justice: What's the Right Thing to Do?"
                                },
                                {
                                    "original_title": "In Harm's Way: The Sinking of the U.S.S. Indianapolis and the Extraordinary Story of Its Survivors",
                                    "title": "In Harm's Way: The Sinking of the U.S.S. Indianapolis and the Extraordinary Story of Its Survivors"
                                },
                                {
                                    "original_title": "In the Hand of the Goddess",
                                    "title": "In the Hand of the Goddess (Song of the Lioness, #2)"
                                },
                                {
                                    "original_title": "Voyage au bout de la nuit",
                                    "title": "Journey to the End of the Night"
                                },
                                {
                                    "original_title": "Just for Now",
                                    "title": "Just for Now (Sea Breeze, #4)"
                                },
                                {
                                    "original_title": "Just for You",
                                    "title": "Just for You (Little Critter)"
                                },
                                {
                                    "original_title": "Rayuela",
                                    "title": "Hopscotch"
                                },
                                {
                                    "original_title": "How I Raised Myself from Failure to Success in Selling",
                                    "title": "How I Raised Myself from Failure to Success in Selling"
                                },
                                {
                                    "original_title": "His Dark Materials",
                                    "title": "His Dark Materials (His Dark Materials #1-3)"
                                },
                                {
                                    "original_title": "Glory in Death",
                                    "title": "Glory in Death (In Death, #2)"
                                },
                                {
                                    "original_title": "Goliath",
                                    "title": "Goliath (Leviathan, #3)"
                                },
                                {
                                    "original_title": "Generation Kill",
                                    "title": "Generation Kill: Devil Dogs, Iceman, Captain America, and the New Face of American War"
                                },
                                {
                                    "original_title": "Ghost Story",
                                    "title": "Ghost Story (The Dresden Files,  #13)"
                                },
                                {
                                    "original_title": "Good Omens: The Nice and Accurate Prophecies of Agnes Nutter, Witch",
                                    "title": "Good Omens: The Nice and Accurate Prophecies of Agnes Nutter, Witch"
                                },
                                {
                                    "original_title": "Gregor and the Code of Claw",
                                    "title": "Gregor and the Code of Claw (Underland Chronicles, #5)"
                                },
                                {
                                    "original_title": "The Fall of Reach",
                                    "title": "Halo: The Fall of Reach"
                                },
                                {
                                    "original_title": "Practicing the Power of Now: Essential Teachings, Meditations, and Exercises from The Power of Now",
                                    "title": "Practicing the Power of Now: Essential Teachings, Meditations, and Exercises from the Power of Now"
                                },
                                {
                                    "original_title": "Phantoms in the Brain: Probing the Mysteries of the Human Mind",
                                    "title": "Phantoms in the Brain: Probing the Mysteries of the Human Mind"
                                },
                                {
                                    "original_title": "Parts",
                                    "title": "Parts (Parts, #1)"
                                },
                                {
                                    "original_title": "Pedagogia do Oprimido",
                                    "title": "Pedagogy of the Oppressed"
                                },
                                {
                                    "original_title": "Owen",
                                    "title": "Owen"
                                },
                                {
                                    "original_title": "Preacher: Ancient History (Preacher, #4)",
                                    "title": "Preacher, Volume 4: Ancient History"
                                },
                                {
                                    "original_title": "Magician: Master (The Riftwar Saga, #2)",
                                    "title": "Magician: Master (The Riftwar Saga, #2)"
                                },
                                {
                                    "original_title": "Matterhorn: A Novel of the Vietnam War",
                                    "title": "Matterhorn"
                                },
                                {
                                    "original_title": "Monsters of Men",
                                    "title": "Monsters of Men (Chaos Walking, #3)"
                                },
                                {
                                    "original_title": "Midnight Awakening ",
                                    "title": "Midnight Awakening (Midnight Breed, #3)"
                                },
                                {
                                    "original_title": "Means of Ascent ",
                                    "title": "Means of Ascent (The Years of Lyndon Johnson, #2)"
                                },
                                {
                                    "original_title": "Mystery Man (Dream Man, #1)",
                                    "title": "Mystery Man (Dream Man, #1)"
                                },
                                {
                                    "original_title": "Nicholas and Alexandra",
                                    "title": "Nicholas and Alexandra"
                                },
                                {
                                    "original_title": "Night Embrace (Dark-Hunter, #2)",
                                    "title": "Night Embrace (Dark-Hunter #2)"
                                },
                                {
                                    "original_title": "Never Love a Highlander",
                                    "title": "Never Love a Highlander (McCabe Trilogy, #3)"
                                },
                                {
                                    "original_title": "One Grave at a Time (Night Huntress, #6)",
                                    "title": "One Grave at a Time (Night Huntress, #6)"
                                },
                                {
                                    "original_title": "Simple Perfection (Perfection, #2)",
                                    "title": "Simple Perfection (Rosemary Beach, #6; Perfection, #2)"
                                },
                                {
                                    "original_title": "Skippyjon Jones",
                                    "title": "Skippyjon Jones"
                                },
                                {
                                    "original_title": "Skippyjon Jones in Mummy Trouble (Skippyjon Jones)",
                                    "title": "Skippyjon Jones in Mummy Trouble (Skippyjon Jones, #3)"
                                },
                                {
                                    "original_title": "Secret Prey",
                                    "title": "Secret Prey (Lucas Davenport, #9)"
                                },
                                {
                                    "original_title": "See You at the Top: 25th Anniversary Edition",
                                    "title": "See You at the Top"
                                },
                                {
                                    "original_title": "Seeds of Rebellion (Beyonders, #2)",
                                    "title": "Seeds of Rebellion (Beyonders, #2)"
                                },
                                {
                                    "original_title": "'Salem's Lot The Illustrated Edition",
                                    "title": "'Salem's Lot"
                                },
                                {
                                    "original_title": "Saga, Volume One",
                                    "title": "Saga, Vol. 1 (Saga, #1)"
                                },
                                {
                                    "original_title": "Scaredy Squirrel",
                                    "title": "Scaredy Squirrel (Scaredy Squirrel)"
                                },
                                {
                                    "original_title": "Saving Grace",
                                    "title": "Saving Grace"
                                },
                                {
                                    "original_title": "Rumors of War (Children of the Promise, Vol 1)",
                                    "title": "Rumors of War (Children of the Promise, #1)"
                                },
                                {
                                    "original_title": "Rush Too Far (Too Far, #4)",
                                    "title": "Rush Too Far (Rosemary Beach, #4; Too Far, #4)"
                                },
                                {
                                    "original_title": "The Call of Cthulhu and Other Weird Stories",
                                    "title": "The Call of Cthulhu and Other Weird Stories"
                                },
                                {
                                    "original_title": "The Collected Poems of W.B. Yeats",
                                    "title": "The Collected Poems of W.B. Yeats"
                                },
                                {
                                    "original_title": "Tai-Pan",
                                    "title": "Tai-Pan (Asian Saga, #2)"
                                },
                                {
                                    "original_title": "The Autobiography of Henry VIII. With Notes by His Fool, Will Somers",
                                    "title": "The Autobiography of Henry VIII: With Notes by His Fool, Will Somers"
                                },
                                {
                                    "original_title": "The Neutronium Alchemist",
                                    "title": "The Neutronium Alchemist (Night's Dawn, #2)"
                                },
                                {
                                    "original_title": "The Mastery of Love: A Practical Guide to the Art of Relationship (Toltec Wisdom Book)",
                                    "title": "The Mastery of Love: A Practical Guide to the Art of Relationship --Toltec Wisdom Book"
                                },
                                {
                                    "original_title": "The Little Old Lady Who Was Not Afraid of Anything",
                                    "title": "The Little Old Lady Who Was Not Afraid of Anything"
                                },
                                {
                                    "original_title": "The Last Lecture",
                                    "title": "The Last Lecture"
                                },
                                {
                                    "original_title": "The Death of Kings (Emperor, #2)",
                                    "title": "The Death of Kings (Emperor, #2)"
                                },
                                {
                                    "original_title": "The Day of the Jackal",
                                    "title": "The Day of the Jackal"
                                },
                                {
                                    "original_title": "The Evolutionary Void",
                                    "title": "The Evolutionary Void"
                                },
                                {
                                    "original_title": "The Earthsea Trilogy",
                                    "title": "The Earthsea Trilogy"
                                },
                                {
                                    "original_title": "The Hat",
                                    "title": "The Hat"
                                },
                                {
                                    "original_title": "The Hobbit or There and Back Again",
                                    "title": "The Hobbit"
                                },
                                {
                                    "original_title": "UnWholly",
                                    "title": "UnWholly (Unwind, #2)"
                                },
                                {
                                    "original_title": "Unhinged",
                                    "title": "Unhinged (Splintered, #2)"
                                },
                                {
                                    "original_title": "Vicious",
                                    "title": "Vicious (Sinners of Saint, #1)"
                                },
                                {
                                    "original_title": "Vicious",
                                    "title": "Vicious (Villains, #1)"
                                },
                                {
                                    "original_title": "V for Vendetta",
                                    "title": "V for Vendetta"
                                },
                                {
                                    "original_title": "The Vampire Chronicles",
                                    "title": "Vampire Chronicles: Interview with the Vampire, The Vampire Lestat, The Queen of the Damned (Anne Rice)"
                                },
                                {
                                    "original_title": "ヴァンパイア騎士 2",
                                    "title": "Vampire Knight, Vol. 2 (Vampire Knight, #2)"
                                },
                                {
                                    "original_title": "Vampires are Forever",
                                    "title": "Vampires are Forever (Argeneau #8)"
                                },
                                {
                                    "original_title": "What the Bleep Do We Know!?: Discovering the Endless Possibilities for Altering Your Everyday Reality",
                                    "title": "What the Bleep Do We Know!?: Discovering the Endless Possibilities for Altering Your Everyday Reality"
                                },
                                {
                                    "original_title": "When Nietzsche Wept: A Novel of Obsession",
                                    "title": "When Nietzsche Wept"
                                },
                                {
                                    "original_title": "Trials of Death (Cirque du Freak, #5) ",
                                    "title": "Trials of Death (Cirque Du Freak, #5)"
                                },
                                {
                                    "original_title": "Tricked",
                                    "title": "Tricked (The Iron Druid Chronicles, #4)"
                                },
                                {
                                    "original_title": "To Kill a Mockingbird",
                                    "title": "To Kill a Mockingbird"
                                },
                                {
                                    "original_title": "The World of Ice and Fire",
                                    "title": "The World of Ice & Fire: The Untold History of Westeros and the Game of Thrones"
                                },
                                {
                                    "original_title": "There Are No Children Here: The Story of Two Boys Growing Up in the Other America",
                                    "title": "There are No Children Here: The Story of Two Boys Growing Up in the Other America"
                                },
                                {
                                    "original_title": "Thief of Time",
                                    "title": "Thief of Time (Discworld, #26; Death, #5)"
                                },
                                {
                                    "original_title": "The Rise of Theodore Roosevelt ",
                                    "title": "The Rise of Theodore Roosevelt"
                                },
                                {
                                    "original_title": "The Rithmatist ",
                                    "title": "The Rithmatist (The Rithmatist, #1)"
                                },
                                {
                                    "original_title": "The Princess Bride",
                                    "title": "The Princess Bride "
                                },
                                {
                                    "original_title": "The Secret Servant",
                                    "title": "The Secret Servant (Gabriel Allon, #7)"
                                },
                                {
                                    "original_title": "The Sorcerer in the North",
                                    "title": "The Sorcerer in the North (Ranger's Apprentice, #5)"
                                },
                                {
                                    "original_title": "The Taste of Home Cookbook",
                                    "title": "The Taste of Home Cookbook"
                                },
                                {
                                    "original_title": "The Truth",
                                    "title": "The Truth (Discworld, #25; Industrial Revolution, #2)"
                                },
                                {
                                    "original_title": "The Wee Free Men",
                                    "title": "The Wee Free Men (Discworld, #30; Tiffany Aching, #1)"
                                },
                                {
                                    "original_title": "The Walking Dead, Vol. 9: Here We Remain",
                                    "title": "The Walking Dead, Vol. 09: Here We Remain"
                                },
                                {
                                    "original_title": "The Walking Dead, Vol. 2: Miles Behind Us",
                                    "title": "The Walking Dead, Vol. 02: Miles Behind Us"
                                },
                                {
                                    "original_title": "Y: The Last Man Vol. 7: Paper Dolls",
                                    "title": "Y: The Last Man, Vol. 7: Paper Dolls (Y: The Last Man, #7)"
                                },
                                {
                                    "original_title": "ساق البامبو [Saq al-Bambu]",
                                    "title": "ساق البامبو"
                                },
                                {
                                    "original_title": "Y: The Last Man Vol. 4: Safeword",
                                    "title": "Y: The Last Man, Vol. 4: Safeword (Y: The Last Man, #4)"
                                },
                                {
                                    "original_title": "Wool Omnibus",
                                    "title": "Wool Omnibus (Silo, #1)"
                                },
                                {
                                    "original_title": "Winter Prey",
                                    "title": "Winter Prey (Lucas Davenport, #5)"
                                },
                                {
                                    "original_title": "Wizard and Glass",
                                    "title": "Wizard and Glass (The Dark Tower, #4)"
                                },
                                {
                                    "original_title": "The Waste Lands",
                                    "title": "The Waste Lands (The Dark Tower, #3)"
                                },
                                {
                                    "original_title": "The Temporal Void",
                                    "title": "The Temporal Void"
                                },
                                {
                                    "original_title": "The Souls of Black Folk",
                                    "title": "The Souls of Black Folk"
                                },
                                {
                                    "original_title": "La sombra del viento",
                                    "title": "The Shadow of the Wind (The Cemetery of Forgotten Books,  #1)"
                                },
                                {
                                    "original_title": "The River Why",
                                    "title": "The River Why"
                                },
                                {
                                    "original_title": "This Present Darkness",
                                    "title": "This Present Darkness (Darkness, #1)"
                                },
                                {
                                    "original_title": "Throne of Glass",
                                    "title": "Throne of Glass (Throne of Glass, #1)"
                                },
                                {
                                    "original_title": "Where the Mountain Meets the Moon",
                                    "title": "Where the Mountain Meets the Moon"
                                },
                                {
                                    "original_title": "While It Lasts",
                                    "title": "While It Lasts (Sea Breeze, #3)"
                                },
                                {
                                    "original_title": "Genesis",
                                    "title": "Undone (Will Trent, #3)"
                                },
                                {
                                    "original_title": "The Hating Game",
                                    "title": "The Hating Game"
                                },
                                {
                                    "original_title": "The Hero with a Thousand Faces",
                                    "title": "The Hero With a Thousand Faces"
                                },
                                {
                                    "original_title": "The Glass Castle",
                                    "title": "The Glass Castle"
                                },
                                {
                                    "original_title": "The Enchanted Wood",
                                    "title": "The Enchanted Wood (The Faraway Tree, #1)"
                                },
                                {
                                    "original_title": "The Enchantress",
                                    "title": "The Enchantress (The Secrets of the Immortal Nicholas Flamel, #6)"
                                },
                                {
                                    "original_title": "The Fall of Five",
                                    "title": "The Fall of Five (Lorien Legacies, #4)"
                                },
                                {
                                    "original_title": "Imajica",
                                    "title": "The Fifth Dominion (Imajica Part #1/2)"
                                },
                                {
                                    "original_title": "The Fifth Elephant",
                                    "title": "The Fifth Elephant (Discworld, #24; City Watch, #5)"
                                },
                                {
                                    "original_title": "The Desert Spear",
                                    "title": "The Desert Spear (Demon Cycle, #2)"
                                },
                                {
                                    "original_title": "The Last Detective",
                                    "title": "The Last Detective (Elvis Cole, #9)"
                                },
                                {
                                    "original_title": "The Iron Queen",
                                    "title": "The Iron Queen (The Iron Fey, #3)"
                                },
                                {
                                    "original_title": "The Little Sisters of Eluria",
                                    "title": "The Little Sisters of Eluria (The Dark Tower, #0.5)"
                                },
                                {
                                    "original_title": "The Orenda",
                                    "title": "The Orenda"
                                },
                                {
                                    "original_title": "The One and Only Ivan",
                                    "title": "The One and Only Ivan"
                                },
                                {
                                    "original_title": "Śmierć Miasta ",
                                    "title": "The Pianist: The Extraordinary Story of One Man's Survival in Warsaw, 1939–45"
                                },
                                {
                                    "original_title": "The Black Prism",
                                    "title": "The Black Prism (Lightbringer, #1)"
                                },
                                {
                                    "original_title": "Tenth Grade Bleeds",
                                    "title": "Tenth Grade Bleeds (The Chronicles of Vladimir Tod, #3)"
                                },
                                {
                                    "original_title": "The Five Greatest Warriors",
                                    "title": "The 5 Greatest Warriors (Jack West Jr, #3)"
                                },
                                {
                                    "original_title": "The Chronicles of Narnia",
                                    "title": "The Chronicles of Narnia (Chronicles of Narnia, #1-7)"
                                },
                                {
                                    "original_title": "The Confusion",
                                    "title": "The Confusion (The Baroque Cycle, #2)"
                                },
                                {
                                    "original_title": "John Keats : The Complete Poems",
                                    "title": "The Complete Poems"
                                },
                                {
                                    "original_title": "Sailing Alone Around the Room: New and Selected Poems",
                                    "title": "Sailing Alone Around the Room: New and Selected Poems"
                                },
                                {
                                    "original_title": "Scott Pilgrim, Volume 2: Scott Pilgrim vs. The World",
                                    "title": "Scott Pilgrim, Volume 2: Scott Pilgrim vs. The World"
                                },
                                {
                                    "original_title": "Sea Swept",
                                    "title": "Sea Swept (Chesapeake Bay Saga, #1)"
                                },
                                {
                                    "original_title": "Sonnets",
                                    "title": "Shakespeare's Sonnets"
                                },
                                {
                                    "original_title": "Slouching Towards Bethlehem: Essays",
                                    "title": "Slouching Towards Bethlehem"
                                },
                                {
                                    "original_title": "Sometimes a Great Notion",
                                    "title": "Sometimes a Great Notion"
                                },
                                {
                                    "original_title": "Smiley's People",
                                    "title": "Smiley's People"
                                },
                                {
                                    "original_title": "Once Burned (Night Prince, #1)",
                                    "title": "Once Burned (Night Prince, #1)"
                                },
                                {
                                    "original_title": "On Dublin Street",
                                    "title": "On Dublin Street (On Dublin Street, #1)"
                                },
                                {
                                    "original_title": "Money, and the Law of Attraction: Learning to Attract Wealth, Health, and Happiness",
                                    "title": "Money, and the Law of Attraction: Learning to Attract Wealth, Health, and Happiness"
                                },
                                {
                                    "original_title": "Moneyball: The Art of Winning an Unfair Game",
                                    "title": "Moneyball: The Art of Winning an Unfair Game"
                                },
                                {
                                    "original_title": "Maximum Ride: The Manga, Vol. 1",
                                    "title": "Maximum Ride, Vol. 1 (Maximum Ride: The Manga, #1)"
                                },
                                {
                                    "original_title": "Maximum Security (Cherub #3)",
                                    "title": "Maximum Security (Cherub, #3)"
                                },
                                {
                                    "original_title": "Mastiff",
                                    "title": "Mastiff (Beka Cooper, #3)"
                                },
                                {
                                    "original_title": "Pride and Prejudice",
                                    "title": "Pride and Prejudice"
                                },
                                {
                                    "original_title": "Pygmalion and My Fair Lady (50th Anniversary Edition) (Signet Classics (Paperback))",
                                    "title": "Pygmalion & My Fair Lady"
                                },
                                {
                                    "original_title": "Ptolemy's Gate",
                                    "title": "Ptolemy's Gate (Bartimaeus, #3)"
                                },
                                {
                                    "original_title": "Pandora's Star",
                                    "title": "Pandora's Star"
                                },
                                {
                                    "original_title": "Portrait of a Spy",
                                    "title": "Portrait of a Spy (Gabriel Allon, #11)"
                                },
                                {
                                    "original_title": "Harold and the Purple Crayon",
                                    "title": "Harold and the Purple Crayon"
                                },
                                {
                                    "original_title": "Glory over Everything: Beyond The Kitchen House",
                                    "title": "Glory over Everything: Beyond The Kitchen House"
                                },
                                {
                                    "original_title": "Goddess",
                                    "title": "Goddess (Starcrossed, #3)"
                                },
                                {
                                    "original_title": "Honor Among Enemies",
                                    "title": "Honor Among Enemies (Honor Harrington, #6)"
                                },
                                {
                                    "original_title": "Hello, Mrs. Piggle-Wiggle",
                                    "title": "Hello, Mrs. Piggle-Wiggle (Mrs. Piggle Wiggle, #4)"
                                },
                                {
                                    "original_title": "How to Talk So Teens Will Listen and Listen So Teens Will Talk",
                                    "title": "How to Talk So Kids Will Listen & Listen So Kids Will Talk"
                                },
                                {
                                    "original_title": "If You Give a Mouse a Cookie",
                                    "title": "If You Give a Mouse a Cookie"
                                },
                                {
                                    "original_title": "Jitterbug Perfume",
                                    "title": "Jitterbug Perfume"
                                },
                                {
                                    "original_title": "Just Me in the Tub (Mercer Mayer's Little Critter)",
                                    "title": "Just Me in the Tub (Mercer Mayer's Little Critter)"
                                },
                                {
                                    "original_title": "Kiss of the Night",
                                    "title": "Kiss of the Night (Dark-Hunter, #4)"
                                },
                                {
                                    "original_title": "Kingdom Come",
                                    "title": "Kingdom Come"
                                },
                                {
                                    "original_title": "Kushiel's Justice",
                                    "title": "Kushiel's Justice (Imriel's Trilogy, #2)"
                                },
                                {
                                    "original_title": "Madeline's Rescue",
                                    "title": "Madeline's Rescue"
                                },
                                {
                                    "original_title": "Auschwitz: A New History",
                                    "title": "Auschwitz"
                                },
                                {
                                    "original_title": "Orvos voltam Auschwitzban",
                                    "title": "Auschwitz: A Doctor's Eyewitness Account"
                                },
                                {
                                    "original_title": "バトル・ロワイアル",
                                    "title": "Battle Royale"
                                },
                                {
                                    "original_title": "Beautiful Stranger",
                                    "title": "Beautiful Stranger (Beautiful Bastard, #2)"
                                },
                                {
                                    "original_title": "Beyond Band of Brothers: The War Memoirs of Major Dick Winters",
                                    "title": "Beyond Band of Brothers: The War Memoirs of Major Dick Winters"
                                },
                                {
                                    "original_title": "By the Sword",
                                    "title": "By the Sword (Valdemar)"
                                },
                                {
                                    "original_title": " Burned (Burned, #1)",
                                    "title": "Burned (Burned, #1)"
                                },
                                {
                                    "original_title": "A Sand County Almanac",
                                    "title": "A Sand County Almanac and Sketches Here and There"
                                },
                                {
                                    "original_title": "A Leaf on the Wind of All Hallows (Outlander, #8.5)",
                                    "title": "A Leaf on the Wind of All Hallows (Outlander, #8.5)"
                                },
                                {
                                    "original_title": "A Good Man Is Hard to Find, and Other Stories",
                                    "title": "A Good Man is Hard to Find and Other Stories"
                                },
                                {
                                    "original_title": "A Bridge Too Far",
                                    "title": "A Bridge Too Far"
                                },
                                {
                                    "original_title": "A Bad Case of Stripes",
                                    "title": "A Bad Case of Stripes"
                                },
                                {
                                    "original_title": "All My Friends Are Dead",
                                    "title": "All My Friends Are Dead"
                                },
                                {
                                    "original_title": "American Assassin",
                                    "title": "American Assassin (Mitch Rapp, #1)"
                                },
                                {
                                    "original_title": "A Tree Grows In Brooklyn ",
                                    "title": "A Tree Grows in Brooklyn"
                                },
                                {
                                    "original_title": "Curious George Rides a Bike",
                                    "title": "Curious George Rides a Bike"
                                },
                                {
                                    "original_title": "Daring Greatly : How the Courage to Be Vulnerable Transforms the Way We Live, Love, Parent, and Lead",
                                    "title": "Daring Greatly: How the Courage to Be Vulnerable Transforms the Way We Live, Love, Parent, and Lead"
                                },
                                {
                                    "original_title": "Crush",
                                    "title": "Crush (Crash, #3)"
                                },
                                {
                                    "original_title": "Creativity, Inc.: Overcoming the Unseen Forces That Stand in the Way of True Inspiration",
                                    "title": "Creativity, Inc.: Overcoming the Unseen Forces That Stand in the Way of True Inspiration"
                                },
                                {
                                    "original_title": "Collide",
                                    "title": "Collide (Collide, #1)"
                                },
                                {
                                    "original_title": "Change Your Thoughts - Change Your Life: Living the Wisdom of the Tao",
                                    "title": "Change Your Thoughts - Change Your Life: Living the Wisdom of the Tao"
                                },
                                {
                                    "original_title": "Days with Frog and Toad",
                                    "title": "Days with Frog and Toad (Frog and Toad, #4)"
                                },
                                {
                                    "original_title": "Dark Magic",
                                    "title": "Dark Magic (Dark, #4)"
                                },
                                {
                                    "original_title": "Daughter of the Empire",
                                    "title": "Daughter of the Empire (The Empire Trilogy, #1)"
                                },
                                {
                                    "original_title": "Dark Fire",
                                    "title": "Dark Fire (Matthew Shardlake, #2)"
                                },
                                {
                                    "original_title": "Don't Make Me Think! A common sense approach to web usability",
                                    "title": "Don't Make Me Think: A Common Sense Approach to Web Usability"
                                },
                                {
                                    "original_title": "Down London Road",
                                    "title": "Down London Road (On Dublin Street, #2)"
                                },
                                {
                                    "original_title": "Dispatches",
                                    "title": "Dispatches"
                                },
                                {
                                    "original_title": "Divergent",
                                    "title": "Divergent (Divergent, #1)"
                                },
                                {
                                    "original_title": "Dom Casmurro",
                                    "title": "Dom Casmurro"
                                },
                                {
                                    "original_title": "Each Peach Pear Plum",
                                    "title": "Each Peach Pear Plum"
                                },
                                {
                                    "original_title": "Driving Miss Daisy",
                                    "title": "Driving Miss Daisy"
                                },
                                {
                                    "original_title": "Dragonsong ",
                                    "title": "Dragonsong (Harper Hall, #1)"
                                },
                                {
                                    "original_title": "Fables, Volume 9: Sons of Empire",
                                    "title": "Fables, Vol. 9: Sons of Empire"
                                },
                                {
                                    "original_title": "Exile ",
                                    "title": "Exile (Forgotten Realms: The Dark Elf Trilogy, #2; Legend of Drizzt, #2)"
                                },
                                {
                                    "original_title": "Fresh Wind, Fresh Fire",
                                    "title": "Fresh Wind, Fresh Fire: What Happens When God's Spirit Invades the Heart of His People"
                                },
                                {
                                    "original_title": "Forever Too Far (Too Far, #3)",
                                    "title": "Forever Too Far (Rosemary Beach, #3; Too Far, #3)"
                                },
                                {
                                    "original_title": "Foreign Influence",
                                    "title": "Foreign Influence (Scot Harvath, #9)"
                                },
                                {
                                    "original_title": "First Test",
                                    "title": "First Test (Protector of the Small, #1)"
                                },
                                {
                                    "original_title": "フルーツバスケット 1",
                                    "title": "Fruits Basket, Vol. 1"
                                },
                                {
                                    "original_title": "Fallen",
                                    "title": "Fallen (Will Trent, #5)"
                                },
                                {
                                    "original_title": "Dreams of Gods & Monsters",
                                    "title": "Dreams of Gods & Monsters (Daughter of Smoke & Bone, #3)"
                                },
                                {
                                    "original_title": "Death Without Company",
                                    "title": "Death Without Company (Walt Longmire, #2)"
                                },
                                {
                                    "original_title": "Deep Kiss Of Winter ",
                                    "title": "Deep Kiss of Winter (Includes: Immortals After Dark, #8; Alien Huntress, #3.5)"
                                },
                                {
                                    "original_title": "Darke",
                                    "title": "Darke (Septimus Heap, #6)"
                                },
                                {
                                    "original_title": "Click, Clack, Moo: Cows That Type",
                                    "title": "Click, Clack, Moo: Cows That Type"
                                },
                                {
                                    "original_title": "Complications: A Surgeon's Notes on an Imperfect Science",
                                    "title": "Complications: A Surgeon's Notes on an Imperfect Science"
                                },
                                {
                                    "original_title": "Complete Me",
                                    "title": "Complete Me (Stark Trilogy, #3)"
                                },
                                {
                                    "original_title": "Dark challenge",
                                    "title": "Dark Challenge (Dark, #5)"
                                },
                                {
                                    "original_title": "All-of-a-Kind Family",
                                    "title": "All-of-a-Kind Family (All-of-a-Kind Family, #1)"
                                },
                                {
                                    "original_title": "Ten Little Niggers",
                                    "title": "And Then There Were None"
                                },
                                {
                                    "original_title": "Verhaaltjes, en gebeurtenissen uit het Achterhuis. Cady's leven",
                                    "title": "Anne Frank's Tales from the Secret Annex"
                                },
                                {
                                    "original_title": "Anne of Green Gables",
                                    "title": "Anne of Green Gables (Anne of Green Gables, #1)"
                                },
                                {
                                    "original_title": "Ariel",
                                    "title": "Ariel"
                                },
                                {
                                    "original_title": "A Bite to Remember",
                                    "title": "A Bite to Remember (Argeneau #5)"
                                },
                                {
                                    "original_title": "A Light in the Window (The Mitford Years, #2)",
                                    "title": "A Light in the Window (Mitford Years, #2)"
                                },
                                {
                                    "original_title": "A Knight in Shining Armor",
                                    "title": "A Knight in Shining Armor"
                                },
                                {
                                    "original_title": "A Long Walk to Water",
                                    "title": "A Long Walk to Water: Based on a True Story"
                                },
                                {
                                    "original_title": "Buried Prey",
                                    "title": "Buried Prey (Lucas Davenport, #21)"
                                },
                                {
                                    "original_title": "Bloodline",
                                    "title": "Bloodline (Sigma Force, #8)"
                                },
                                {
                                    "original_title": "Bonhoeffer: Pastor, Martyr, Prophet, Spy",
                                    "title": "Bonhoeffer: Pastor, Martyr, Prophet, Spy"
                                },
                                {
                                    "original_title": "Calculated in Death",
                                    "title": "Calculated in Death (In Death, #36)"
                                },
                                {
                                    "original_title": "Chosen Prey",
                                    "title": "Chosen Prey (Lucas Davenport, #12)"
                                },
                                {
                                    "original_title": "Bite Club",
                                    "title": "Bite Club (The Morganville Vampires, #10)"
                                },
                                {
                                    "original_title": "Batman: Year One",
                                    "title": "Batman: Year One"
                                },
                                {
                                    "original_title": "Barefoot Contessa Back to Basics",
                                    "title": "Barefoot Contessa Back to Basics"
                                },
                                {
                                    "original_title": "Krew elfów",
                                    "title": "Krew elfów (Saga o Wiedźminie, #3)"
                                },
                                {
                                    "original_title": "君に届け 1",
                                    "title": "Kimi ni Todoke: From Me to You, Vol. 1"
                                },
                                {
                                    "original_title": "Joni",
                                    "title": "Joni: An Unforgettable Story"
                                },
                                {
                                    "original_title": "Just a Mess (Look-Look)",
                                    "title": "Just a Mess (Little Critter)"
                                },
                                {
                                    "original_title": "If You Give a Pig a Pancake ",
                                    "title": "If You Give a Pig a Pancake "
                                },
                                {
                                    "original_title": "If You're Reading This, It's Too Late",
                                    "title": "If You're Reading This, It's Too Late (Secret, #2)"
                                },
                                {
                                    "original_title": "I Am Pilgrim",
                                    "title": "I Am Pilgrim (Pilgrim, #1)"
                                },
                                {
                                    "original_title": "Gentle Rogue",
                                    "title": "Gentle Rogue (Malory-Anderson Family, #3)"
                                },
                                {
                                    "original_title": "Gabriel's redemption",
                                    "title": "Gabriel's Redemption (Gabriel's Inferno, #3)"
                                },
                                {
                                    "original_title": "学園アリス１",
                                    "title": "Gakuen Alice, Vol. 01 (Gakuen Alice, #1)"
                                },
                                {
                                    "original_title": "Philosophische Untersuchungen",
                                    "title": "Philosophical Investigations"
                                },
                                {
                                    "original_title": "Papillon ",
                                    "title": "Papillon"
                                },
                                {
                                    "original_title": "Persepolis 2 ",
                                    "title": "Persepolis 2: The Story of a Return (Persepolis, #2)"
                                },
                                {
                                    "original_title": "Persepolis",
                                    "title": "Persepolis: The Story of a Childhood (Persepolis, #1)"
                                },
                                {
                                    "original_title": "Orthodoxy",
                                    "title": "Orthodoxy"
                                },
                                {
                                    "original_title": "Reason to Breathe",
                                    "title": "Reason to Breathe (Breathing, #1)"
                                },
                                {
                                    "original_title": "Red Seas Under Red Skies",
                                    "title": "Red Seas Under Red Skies (Gentleman Bastard, #2)"
                                },
                                {
                                    "original_title": "QED: The Strange Theory of Light and Matter",
                                    "title": "QED: The Strange Theory of Light and Matter"
                                },
                                {
                                    "original_title": "Raw",
                                    "title": "Raw (RAW Family, #1)"
                                },
                                {
                                    "original_title": "Raid",
                                    "title": "Raid (Unfinished Hero, #3)"
                                },
                                {
                                    "original_title": "Random Family: Love, Drugs, Trouble, and Coming of Age in the Bronx",
                                    "title": "Random Family: Love, Drugs, Trouble, and Coming of Age in the Bronx"
                                },
                                {
                                    "original_title": "Making Money",
                                    "title": "Making Money (Discworld, #36; Moist Von Lipwig, #2)"
                                },
                                {
                                    "original_title": "Memórias Póstumas de Brás Cubas",
                                    "title": "Memórias Póstumas de Brás Cubas"
                                },
                                {
                                    "original_title": "Midnight Rising",
                                    "title": "Midnight Rising (Midnight Breed, #4)"
                                },
                                {
                                    "original_title": "On Writing Well: The Classic Guide to Writing Nonfiction",
                                    "title": "On Writing Well: The Classic Guide to Writing Nonfiction"
                                },
                                {
                                    "original_title": "Old Man's War",
                                    "title": "Old Man's War (Old Man's War, #1)"
                                },
                                {
                                    "original_title": "Noughts & Crosses",
                                    "title": "Noughts & Crosses (Noughts & Crosses, #1)"
                                },
                                {
                                    "original_title": "Nourishing Traditions:  The Cookbook that Challenges Politically Correct Nutrition and the Diet Dictocrats",
                                    "title": "Nourishing Traditions: The Cookbook That Challenges Politically Correct Nutrition and the Diet Dictocrats"
                                },
                                {
                                    "original_title": "Night Pleasures",
                                    "title": "Night Pleasures (Dark-Hunter, #1)"
                                },
                                {
                                    "original_title": "Noble House",
                                    "title": "Noble House (Asian Saga, #5)"
                                },
                                {
                                    "original_title": "Obsidian",
                                    "title": "Obsidian (Lux, #1)"
                                },
                                {
                                    "original_title": "Snowmen at Night",
                                    "title": "Snowmen at Night"
                                },
                                {
                                    "original_title": "Sojourn (Dark Elf #3)",
                                    "title": "Sojourn (Forgotten Realms: The Dark Elf Trilogy, #3; Legend of Drizzt, #3)"
                                },
                                {
                                    "original_title": "Shrill: Women Are Funny, It's Okay to Be Fat, and Feminists Don't Have to Be Nice",
                                    "title": "Shrill: Notes from a Loud Woman"
                                },
                                {
                                    "original_title": "Side Jobs: Stories From The Dresden Files",
                                    "title": "Side Jobs: Stories from the Dresden Files (The Dresden Files, #12.5)"
                                },
                                {
                                    "original_title": "Stone Soup (Stories to Go!)",
                                    "title": "Stone Soup"
                                },
                                {
                                    "original_title": "Systematic Theology: An Introduction to Biblical Doctrine",
                                    "title": "Systematic Theology: An Introduction to Biblical Doctrine"
                                },
                                {
                                    "original_title": "Staked",
                                    "title": "Staked (The Iron Druid Chronicles, #8)"
                                },
                                {
                                    "original_title": "Savage Inequalities: Children in America's Schools",
                                    "title": "Savage Inequalities: Children in America's Schools"
                                },
                                {
                                    "original_title": "Sacajawea",
                                    "title": "Sacajawea (Lewis & Clark Expedition)"
                                },
                                {
                                    "original_title": "Rumpelstilzchen",
                                    "title": "Rumpelstiltskin"
                                },
                                {
                                    "original_title": "The Complete Poetry & Prose of William Blake",
                                    "title": "The Complete Poetry and Prose"
                                },
                                {
                                    "original_title": "The Complete Adventures of Curious George",
                                    "title": "The Complete Adventures of Curious George"
                                },
                                {
                                    "original_title": "The Brutal Telling",
                                    "title": "The Brutal Telling (Chief Inspector Armand Gamache, #5)"
                                },
                                {
                                    "original_title": "The Caine Mutiny",
                                    "title": "The Caine Mutiny"
                                },
                                {
                                    "original_title": "The Assassin and the Pirate Lord",
                                    "title": "The Assassin and the Pirate Lord (Throne of Glass, #0.1)"
                                },
                                {
                                    "original_title": "The Bitter Kingdom",
                                    "title": "The Bitter Kingdom (Fire and Thorns, #3)"
                                },
                                {
                                    "original_title": "The Blue Castle",
                                    "title": "The Blue Castle "
                                },
                                {
                                    "original_title": "The Penderwicks on Gardam Street",
                                    "title": "The Penderwicks on Gardam Street (The Penderwicks, #2)"
                                },
                                {
                                    "original_title": "The  Bedside, Bathtub and Armchair Companion to Agatha Christie",
                                    "title": "The New Bedside, Bathtub and Armchair Companion to Agatha Christie"
                                },
                                {
                                    "original_title": "РУКАВИЧКА: Українська народна казка",
                                    "title": "The Mitten"
                                },
                                {
                                    "original_title": "The Lion & the Mouse",
                                    "title": "The Lion and the Mouse"
                                },
                                {
                                    "original_title": "The Lightning Thief",
                                    "title": "The Lightning Thief (Percy Jackson and the Olympians, #1)"
                                },
                                {
                                    "original_title": "The Long Goodbye",
                                    "title": "The Long Goodbye (Philip Marlowe, #6)"
                                },
                                {
                                    "original_title": "The Jordan Rules",
                                    "title": "The Jordan Rules"
                                },
                                {
                                    "original_title": "The Invention of Hugo Cabret",
                                    "title": "The Invention of Hugo Cabret"
                                },
                                {
                                    "original_title": "The Invention of Wings",
                                    "title": "The Invention of Wings"
                                },
                                {
                                    "original_title": "The Iron Knight",
                                    "title": "The Iron Knight (The Iron Fey, #4)"
                                },
                                {
                                    "original_title": "Hulk: Planet Hulk",
                                    "title": "The Incredible Hulk: Planet Hulk"
                                },
                                {
                                    "original_title": "The Last Kingdom",
                                    "title": "The Last Kingdom (The Saxon Stories, #1)"
                                },
                                {
                                    "original_title": "The Daylight War",
                                    "title": "The Daylight War (Demon Cycle, #3)"
                                },
                                {
                                    "original_title": "The Dragon Reborn ",
                                    "title": "The Dragon Reborn (Wheel of Time, #3)"
                                },
                                {
                                    "original_title": "The Drawing of the Three",
                                    "title": "The Drawing of the Three (The Dark Tower, #2)"
                                },
                                {
                                    "original_title": "The Gashlycrumb Tinies",
                                    "title": "The Gashlycrumb Tinies (The Vinegar Works, #1)"
                                },
                                {
                                    "original_title": "The Five Love Languages: How to Express Heartfelt Commitment to Your Mate",
                                    "title": "The Five Love Languages: How to Express Heartfelt Commitment to Your Mate"
                                },
                                {
                                    "original_title": "The Hedge Knight",
                                    "title": "The Hedge Knight (The Tales of Dunk and Egg, #1)"
                                },
                                {
                                    "original_title": "The Hollow Hills",
                                    "title": "The Hollow Hills (Arthurian Saga, #2)"
                                },
                                {
                                    "original_title": "Twilight: The Complete Illustrated Movie Companion",
                                    "title": "Twilight: The Complete Illustrated Movie Companion"
                                },
                                {
                                    "original_title": "UnSouled",
                                    "title": "UnSouled (Unwind, #3)"
                                },
                                {
                                    "original_title": "When Crickets Cry",
                                    "title": "When Crickets Cry"
                                },
                                {
                                    "original_title": "Walking Disaster",
                                    "title": "Walking Disaster (Beautiful, #2)"
                                },
                                {
                                    "original_title": "This is Not My Hat",
                                    "title": "This is Not My Hat"
                                },
                                {
                                    "original_title": "Transmetropolitan, Vol. 1: Back on the Street",
                                    "title": "Transmetropolitan, Vol. 1: Back on the Street (Transmetropolitan, #1)"
                                },
                                {
                                    "original_title": "Trinity: A Novel of Ireland",
                                    "title": "Trinity"
                                },
                                {
                                    "original_title": "Twice Bitten ",
                                    "title": "Twice Bitten (Chicagoland Vampires, #3)"
                                },
                                {
                                    "original_title": "The Republic of Thieves",
                                    "title": "The Republic of Thieves (Gentleman Bastard, #3)"
                                },
                                {
                                    "original_title": "The Right Stuff",
                                    "title": "The Right Stuff"
                                },
                                {
                                    "original_title": "The Queen of Attolia",
                                    "title": "The Queen of Attolia (The Queen's Thief, #2)"
                                },
                                {
                                    "original_title": "The Ragamuffin Gospel: Good News for the Bedraggled, Beat-Up, and Burnt Out",
                                    "title": "The Ragamuffin Gospel: Good News for the Bedraggled, Beat-Up, and Burnt Out"
                                },
                                {
                                    "original_title": "The Sea of Monsters",
                                    "title": "The Sea of Monsters (Percy Jackson and the Olympians, #2)"
                                },
                                {
                                    "original_title": "The Shadow Throne",
                                    "title": "The Shadow Throne (The Ascendance Trilogy, #3)"
                                },
                                {
                                    "original_title": "The Runaway King",
                                    "title": "The Runaway King (The Ascendance Trilogy, #2)"
                                },
                                {
                                    "original_title": "The Short Stories of F. Scott Fitzgerald",
                                    "title": "The Short Stories"
                                },
                                {
                                    "original_title": "The Twilight Saga: The Official Guide",
                                    "title": "The Twilight Saga: The Official Illustrated Guide (Twilight, #4.5)"
                                },
                                {
                                    "original_title": "The Tiger Who Came to Tea",
                                    "title": "The Tiger Who Came to Tea"
                                },
                                {
                                    "original_title": "The Waste Land and Other Poems",
                                    "title": "The Waste Land and Other Poems"
                                },
                                {
                                    "original_title": "The Walking Dead, Vol. 13: Too Far Gone",
                                    "title": "The Walking Dead, Vol. 13: Too Far Gone"
                                },
                                {
                                    "original_title": "The Walking Dead, Vol. 4: The Heart's Desire",
                                    "title": "The Walking Dead, Vol. 04: The Heart's Desire"
                                },
                                {
                                    "original_title": "The Vampire Prince (Cirque Du Freak, #6)",
                                    "title": "The Vampire Prince (Cirque Du Freak, #6)"
                                },
                                {
                                    "original_title": "Wild Swans: Three Daughters of China",
                                    "title": "Wild Swans: Three Daughters of China"
                                },
                                {
                                    "original_title": "World Without End",
                                    "title": "World Without End (The Kingsbridge Series, #2)"
                                },
                                {
                                    "original_title": "Y: The Last Man Vol. 2: Cycles",
                                    "title": "Y: The Last Man, Vol. 2: Cycles (Y: The Last Man, #2)"
                                },
                                {
                                    "original_title": "Zen Mind, Beginner's Mind",
                                    "title": "Zen Mind, Beginner's Mind: Informal Talks on Zen Meditation and Practice"
                                },
                                {
                                    "original_title": "キスよりも早く1",
                                    "title": "キスよりも早く1 [Kisu Yorimo Hayaku 1] (Faster than a Kiss #1)"
                                },
                                {
                                    "original_title": "Y: The Last Man, Vol. 8: Kimono Dragons",
                                    "title": "Y: The Last Man, Vol. 8: Kimono Dragons (Y: The Last Man, #8)"
                                },
                                {
                                    "original_title": "Y: The Last Man Vol. 3: One Small Step",
                                    "title": "Y: The Last Man, Vol. 3: One Small Step (Y: The Last Man, #3)"
                                },
                                {
                                    "original_title": "World After",
                                    "title": "World After (Penryn & the End of Days, #2)"
                                },
                                {
                                    "original_title": "Wild Seed (Patternmaster, #1)",
                                    "title": "Wild Seed (Patternmaster, #1)"
                                },
                                {
                                    "original_title": "Wintersmith",
                                    "title": "Wintersmith (Discworld, #35; Tiffany Aching, #3)"
                                },
                                {
                                    "original_title": "The Unusual Suspects",
                                    "title": "The Unusual Suspects (The Sisters Grimm, #2)"
                                },
                                {
                                    "original_title": "The Tibetan Book of Living and Dying",
                                    "title": "The Tibetan Book of Living and Dying"
                                },
                                {
                                    "original_title": "The Unlikely Spy",
                                    "title": "The Unlikely Spy"
                                },
                                {
                                    "original_title": "The Thorn Birds",
                                    "title": "The Thorn Birds"
                                },
                                {
                                    "original_title": "The Tell-Tale Heart",
                                    "title": "The Tell-Tale Heart"
                                },
                                {
                                    "original_title": "The Shock Doctrine: The Rise of Disaster Capitalism",
                                    "title": "The Shock Doctrine: The Rise of Disaster Capitalism"
                                },
                                {
                                    "original_title": "The Ruby Circle",
                                    "title": "The Ruby Circle (Bloodlines, #6)"
                                },
                                {
                                    "original_title": "The Prize",
                                    "title": "The Prize"
                                },
                                {
                                    "original_title": "The Prophet",
                                    "title": "The Prophet"
                                },
                                {
                                    "original_title": "The Recruit (Cherub, #1)",
                                    "title": "The Recruit (Cherub, #1)"
                                },
                                {
                                    "original_title": "The Ripper",
                                    "title": "The Ripper (The Vampire Diaries: Stefan's Diaries, #4)"
                                },
                                {
                                    "original_title": "The Restaurant at the End of the Universe",
                                    "title": "The Restaurant at the End of the Universe (Hitchhiker's Guide, #2)"
                                },
                                {
                                    "original_title": "There's a Nightmare in My Closet (Pied Piper Book)",
                                    "title": "There's a Nightmare in My Closet"
                                },
                                {
                                    "original_title": "WAR",
                                    "title": "War"
                                },
                                {
                                    "original_title": "Wait for It",
                                    "title": "Wait for It"
                                },
                                {
                                    "original_title": "Warbreaker",
                                    "title": "Warbreaker (Warbreaker, #1)"
                                },
                                {
                                    "original_title": "What We Talk About When We Talk About Love: Stories",
                                    "title": "What We Talk About When We Talk About Love"
                                },
                                {
                                    "original_title": "Wemberly Worried",
                                    "title": "Wemberly Worried"
                                },
                                {
                                    "original_title": "Where Is God When It Hurts?",
                                    "title": "Where Is God When It Hurts?"
                                },
                                {
                                    "original_title": "Where the Wild Things Are",
                                    "title": "Where the Wild Things Are"
                                },
                                {
                                    "original_title": "Undaunted Courage",
                                    "title": "Undaunted Courage: The Pioneering First Mission to Explore America's Wild Frontier"
                                },
                                {
                                    "original_title": "The Icebound Land",
                                    "title": "The Icebound Land (Ranger's Apprentice, #3)"
                                },
                                {
                                    "original_title": "Flickan som lekte med elden",
                                    "title": "The Girl Who Played with Fire (Millennium, #2)"
                                },
                                {
                                    "original_title": "The Gift of Therapy: An Open Letter to a New Generation of Therapists and Their Patients",
                                    "title": "The Gift of Therapy: An Open Letter to a New Generation of Therapists and Their Patients"
                                },
                                {
                                    "original_title": "The Going-To-Bed Book",
                                    "title": "The Going-To-Bed Book"
                                },
                                {
                                    "original_title": "The Happy Prince and The House of Pomegranates",
                                    "title": "The Happy Prince"
                                },
                                {
                                    "original_title": "The Dragonriders of Pern",
                                    "title": "The Dragonriders of Pern (Dragonriders of Pern, #1-3)"
                                },
                                {
                                    "original_title": "The Crossover",
                                    "title": "The Crossover"
                                },
                                {
                                    "original_title": "The First Commandment",
                                    "title": "The First Commandment (Scot Harvath, #6)"
                                },
                                {
                                    "original_title": "La fiesta del chivo",
                                    "title": "The Feast of the Goat"
                                },
                                {
                                    "original_title": "The False Prince",
                                    "title": "The False Prince (The Ascendance Trilogy #1)"
                                },
                                {
                                    "original_title": "The Last Full Measure",
                                    "title": "The Last Full Measure (The Civil War Trilogy, #3)"
                                },
                                {
                                    "original_title": "The Last Mile",
                                    "title": "The Last Mile (Amos Decker, #2)"
                                },
                                {
                                    "original_title": "The Lion",
                                    "title": "The Lion (John Corey, #5)"
                                },
                                {
                                    "original_title": "The Lions of Little Rock",
                                    "title": "The Lions of Little Rock"
                                },
                                {
                                    "original_title": "The Lives of Christopher Chant",
                                    "title": "The Lives of Christopher Chant (Chrestomanci, #2)"
                                },
                                {
                                    "original_title": "The MasterHarper of Pern",
                                    "title": "The Masterharper of Pern (Pern, #15)"
                                },
                                {
                                    "original_title": "The Opportunist",
                                    "title": "The Opportunist (Love Me with Lies, #1)"
                                },
                                {
                                    "original_title": "The Phantom Tollbooth",
                                    "title": "The Phantom Tollbooth"
                                },
                                {
                                    "original_title": "The Prince of Tides",
                                    "title": "The Prince of Tides"
                                },
                                {
                                    "original_title": "The BFG",
                                    "title": "The BFG"
                                },
                                {
                                    "original_title": "The Center Cannot Hold",
                                    "title": "The Center Cannot Hold: My Journey Through Madness"
                                },
                                {
                                    "original_title": "The Christmas Shoes",
                                    "title": "The Christmas Shoes (Christmas Hope #1)"
                                },
                                {
                                    "original_title": "Rules of Attraction",
                                    "title": "Rules of Attraction (Perfect Chemistry, #2)"
                                },
                                {
                                    "original_title": "Rome (Marked Men, #3)",
                                    "title": "Rome (Marked Men, #3)"
                                },
                                {
                                    "original_title": "Selected Poems",
                                    "title": "Selected Poems"
                                },
                                {
                                    "original_title": "Stellaluna",
                                    "title": "Stellaluna"
                                },
                                {
                                    "original_title": "Stephen King's N.",
                                    "title": "Stephen King's N."
                                },
                                {
                                    "original_title": "Surface Detail",
                                    "title": "Surface Detail (Culture #9)"
                                },
                                {
                                    "original_title": "Strega Nona",
                                    "title": "Strega Nona"
                                },
                                {
                                    "original_title": "Sin City: That Yellow Bastard",
                                    "title": "Sin City, Vol. 4: That Yellow Bastard (Sin City, #4)"
                                },
                                {
                                    "original_title": "Short Stories from Hogwarts of Heroism, Hardship and Dangerous Hobbies",
                                    "title": "Short Stories from Hogwarts of Heroism, Hardship and Dangerous Hobbies (Pottermore Presents, #1)"
                                },
                                {
                                    "original_title": "Sons of Destiny (Cirque Du Freak, Book 12)",
                                    "title": "Sons of Destiny (Cirque Du Freak, #12)"
                                },
                                {
                                    "original_title": "Mort",
                                    "title": "Mort (Death, #1; Discworld, #4)"
                                },
                                {
                                    "original_title": "Manufacturing Consent: The Political Economy of the Mass Media",
                                    "title": "Manufacturing Consent: The Political Economy of the Mass Media"
                                },
                                {
                                    "original_title": "Marching Powder: A True Story of Friendship, Cocaine, and South America's Strangest Jail",
                                    "title": "Marching Powder: A True Story of Friendship, Cocaine, and South America's Strangest Jail"
                                },
                                {
                                    "original_title": "Punk 57",
                                    "title": "Punk 57"
                                },
                                {
                                    "original_title": "家庭教師ヒットマンREBORN! 1",
                                    "title": "Reborn! Vol. 01: Reborn Arrives! (Reborn!, #1)"
                                },
                                {
                                    "original_title": "Own the Wind",
                                    "title": "Own the Wind (Chaos, #1)"
                                },
                                {
                                    "original_title": "Page ",
                                    "title": "Page (Protector of the Small, #2)"
                                },
                                {
                                    "original_title": "Politi (Harry Hole, #10)",
                                    "title": "Police (Harry Hole, #10)"
                                },
                                {
                                    "original_title": "Gabriel's Rapture",
                                    "title": "Gabriel's Rapture (Gabriel's Inferno, #2)"
                                },
                                {
                                    "original_title": "Hammered",
                                    "title": "Hammered (The Iron Druid Chronicles, #3)"
                                },
                                {
                                    "original_title": "Hand, Hand, Fingers, Thumb",
                                    "title": "Hand, Hand, Fingers, Thumb"
                                },
                                {
                                    "original_title": "Happily Ever After",
                                    "title": "Happily Ever After (The Selection, #0.4, 0.5, 2.5, 2.6)"
                                },
                                {
                                    "original_title": "If You Give a Pig a Party (If You Give...)",
                                    "title": "If You Give a Pig a Party"
                                },
                                {
                                    "original_title": "Hostage to Pleasure",
                                    "title": "Hostage to Pleasure (Psy-Changeling, #5)"
                                },
                                {
                                    "original_title": "Honor's Splendour",
                                    "title": "Honor's Splendour"
                                },
                                {
                                    "original_title": "Hogfather",
                                    "title": "Hogfather (Discworld, #20; Death, #4)"
                                },
                                {
                                    "original_title": "Hexed (Iron Druid Chronicles, #2)",
                                    "title": "Hexed (The Iron Druid Chronicles, #2)"
                                },
                                {
                                    "original_title": "Just Go to Bed",
                                    "title": "Just Go to Bed"
                                },
                                {
                                    "original_title": "Jewels of the Sun",
                                    "title": "Jewels of the Sun (Gallaghers of Ardmore, #1)"
                                },
                                {
                                    "original_title": "Killers of the Dawn (Cirque Du Freak, #9)",
                                    "title": "Killers of the Dawn (Cirque Du Freak, #9)"
                                },
                                {
                                    "original_title": "Kiss of Death",
                                    "title": "Kiss of Death (The Morganville Vampires, #8)"
                                },
                                {
                                    "original_title": "Mad About Madeline",
                                    "title": "Madeline"
                                },
                                {
                                    "original_title": "Love Comes Softly (Love Comes Softly, #1)",
                                    "title": "Love Comes Softly (Love Comes Softly, #1)"
                                },
                                {
                                    "original_title": "Lord of the Shadows (Cirque Du Freak, #11)",
                                    "title": "Lord of the Shadows (Cirque Du Freak, #11)"
                                },
                                {
                                    "original_title": "ラブ★コン 1",
                                    "title": "Love★Com, Vol. 1"
                                },
                                {
                                    "original_title": "Little Bear",
                                    "title": "Little Bear"
                                },
                                {
                                    "original_title": "Leaving",
                                    "title": "Leaving (Bailey Flanigan, #1)"
                                },
                                {
                                    "original_title": "Autobiography of a Yogi",
                                    "title": "Autobiography of a Yogi"
                                },
                                {
                                    "original_title": "Barbarians at the Gate: The Fall of RJR Nabisco",
                                    "title": "Barbarians at the Gate: The Fall of RJR Nabisco"
                                },
                                {
                                    "original_title": "Bird by Bird: Some Instructions on Writing and Life",
                                    "title": "Bird by Bird: Some Instructions on Writing and Life"
                                },
                                {
                                    "original_title": "Bloodlines",
                                    "title": "Bloodlines (Bloodlines, #1)"
                                },
                                {
                                    "original_title": "A Scandal in Bohemia",
                                    "title": "A Scandal in Bohemia (The Adventures of Sherlock Holmes, #1)"
                                },
                                {
                                    "original_title": "A Mango-Shaped Space",
                                    "title": "A Mango-Shaped Space"
                                },
                                {
                                    "original_title": "A Prayer for Owen Meany",
                                    "title": "A Prayer for Owen Meany"
                                },
                                {
                                    "original_title": "A Different Blue",
                                    "title": "A Different Blue"
                                },
                                {
                                    "original_title": "America's First Daughter",
                                    "title": "America's First Daughter"
                                },
                                {
                                    "original_title": "Alexander and the Terrible, Horrible, No Good, Very Bad Day",
                                    "title": "Alexander and the Terrible, Horrible, No Good, Very Bad Day"
                                },
                                {
                                    "original_title": "A. Lincoln: A Biography",
                                    "title": "A. Lincoln"
                                },
                                {
                                    "original_title": "Curious George Goes to the Hospital",
                                    "title": "Curious George Goes to the Hospital"
                                },
                                {
                                    "original_title": "Cross Justice",
                                    "title": "Cross Justice (Alex Cross, #23)"
                                },
                                {
                                    "original_title": "CivilWarLand in Bad Decline",
                                    "title": "CivilWarLand in Bad Decline"
                                },
                                {
                                    "original_title": "Cinderella",
                                    "title": "Cinderella"
                                },
                                {
                                    "original_title": "David Gets in Trouble",
                                    "title": "David Gets In Trouble"
                                },
                                {
                                    "original_title": "Deep and Dark and Dangerous: A Ghost Story",
                                    "title": "Deep and Dark and Dangerous (A Ghost Story)"
                                },
                                {
                                    "original_title": "Desert Solitaire",
                                    "title": "Desert Solitaire"
                                },
                                {
                                    "original_title": "Dirty Red",
                                    "title": "Dirty Red (Love Me with Lies, #2)"
                                },
                                {
                                    "original_title": "Do No Harm: Stories of Life, Death and Brain Surgery",
                                    "title": "Do No Harm: Stories of Life, Death and Brain Surgery"
                                },
                                {
                                    "original_title": "Dragon Slippers (Dragon Slippers, #1)",
                                    "title": "Dragon Slippers (Dragon Slippers, #1)"
                                },
                                {
                                    "original_title": "Dreaming of You ",
                                    "title": "Dreaming of You (The Gamblers, #2)"
                                },
                                {
                                    "original_title": "Economics in One Lesson",
                                    "title": "Economics in One Lesson: The Shortest & Surest Way to Understand Basic Economics"
                                },
                                {
                                    "original_title": "Flag in Exile",
                                    "title": "Flag in Exile (Honor Harrington, #5)"
                                },
                                {
                                    "original_title": "Finale",
                                    "title": "Finale (Hush, Hush, #4)"
                                },
                                {
                                    "original_title": "Fermat's Enigma: The Epic Quest to Solve the World's Greatest Mathematical Problem",
                                    "title": "Fermat's Enigma: The Epic Quest to Solve the World's Greatest Mathematical Problem"
                                },
                                {
                                    "original_title": "First Shift: Legacy",
                                    "title": "First Shift: Legacy (Shift, #1)"
                                },
                                {
                                    "original_title": "Friends and Lovers",
                                    "title": "Friends and Lovers"
                                },
                                {
                                    "original_title": "Frog and Toad Together",
                                    "title": "Frog and Toad Together (Frog and Toad, #2)"
                                },
                                {
                                    "original_title": "Flyy Girl",
                                    "title": "Flyy Girl (Flyy Girl, #1)"
                                },
                                {
                                    "original_title": "Follow the River",
                                    "title": "Follow the River"
                                },
                                {
                                    "original_title": "Dream Warrior",
                                    "title": "Dream Warrior (Dream-Hunter #4; Dark-Hunter #17)"
                                },
                                {
                                    "original_title": "Dragonlance Chronicles: Dragons of Autumn Twilight/Dragons of Winter Night/Dragons of Spring Dawning (Collectors Edition)",
                                    "title": "Dragonlance Chronicles (Dragonlance #1-3)"
                                },
                                {
                                    "original_title": "Fallen Too Far (Too Far, #1)",
                                    "title": "Fallen Too Far (Rosemary Beach, #1; Too Far, #1)"
                                },
                                {
                                    "original_title": "Eternal Kiss of Darkness",
                                    "title": "Eternal Kiss of Darkness (Night Huntress World, #2)"
                                },
                                {
                                    "original_title": "Eternal Rider",
                                    "title": "Eternal Rider (Lords of Deliverance, #1, Demonica, #6)"
                                },
                                {
                                    "original_title": "Jeder stirbt für sich allein",
                                    "title": "Every Man Dies Alone"
                                },
                                {
                                    "original_title": "Envy (Fallen Angels, #3)",
                                    "title": "Envy (Fallen Angels, #3)"
                                },
                                {
                                    "original_title": "Disappearing Acts",
                                    "title": "Disappearing Acts"
                                },
                                {
                                    "original_title": "Surveiller et punir. Naissance de la prison",
                                    "title": "Discipline and Punish: The Birth of the Prison"
                                },
                                {
                                    "original_title": "Death: the High Cost of Living",
                                    "title": "Death: The High Cost of Living Collected"
                                },
                                {
                                    "original_title": "Days of Blood & Starlight",
                                    "title": "Days of Blood & Starlight (Daughter of Smoke & Bone, #2)"
                                },
                                {
                                    "original_title": "Dark Lover",
                                    "title": "Dark Lover (Black Dagger Brotherhood, #1)"
                                },
                                {
                                    "original_title": "Dead Poets Society ",
                                    "title": "Dead Poets Society"
                                },
                                {
                                    "original_title": "City of Ashes",
                                    "title": "City of Ashes (The Mortal Instruments, #2)"
                                },
                                {
                                    "original_title": "Claim Me",
                                    "title": "Claim Me (Stark Trilogy, #2)"
                                },
                                {
                                    "original_title": "Criminal",
                                    "title": "Criminal (Will Trent, #6)"
                                },
                                {
                                    "original_title": "D.Gray-man, Volume 1",
                                    "title": "D.Gray-man, Volume 01"
                                },
                                {
                                    "original_title": "Heart no Kuni no Alice  ",
                                    "title": "Alice in the Country of Hearts, Vol. 01 (Alice in the Country of Hearts, #1)"
                                },
                                {
                                    "original_title": "American Tabloid",
                                    "title": "American Tabloid (Underworld USA, #1)"
                                },
                                {
                                    "original_title": "Anne of the Island",
                                    "title": "Anne of the Island (Anne of Green Gables, #3)"
                                },
                                {
                                    "original_title": "Anne of Avonlea",
                                    "title": "Anne of Avonlea (Anne of Green Gables, #2)"
                                },
                                {
                                    "original_title": "A Fish Out of Water",
                                    "title": "A Fish Out of Water"
                                },
                                {
                                    "original_title": "A Bear Called Paddington",
                                    "title": "A Bear Called Paddington (Paddington, #1)"
                                },
                                {
                                    "original_title": "A Rule Against Murder (Armand Gamache, #4)",
                                    "title": "A Rule Against Murder (Chief Inspector Armand Gamache, #4)"
                                },
                                {
                                    "original_title": "A Hunger Like No Other",
                                    "title": "A Hunger Like No Other (Immortals After Dark #2)"
                                },
                                {
                                    "original_title": "Bury My Heart at Wounded Knee: An Indian History of the American West",
                                    "title": "Bury My Heart at Wounded Knee: An Indian History of the American West"
                                },
                                {
                                    "original_title": "Born in Fire ",
                                    "title": "Born in Fire (Born In Trilogy, #1)"
                                },
                                {
                                    "original_title": "Born of the Night",
                                    "title": "Born of Night (The League, #1)"
                                },
                                {
                                    "original_title": "Chicka Chicka Boom Boom",
                                    "title": "Chicka Chicka Boom Boom"
                                },
                                {
                                    "original_title": "Centennial",
                                    "title": "Centennial"
                                },
                                {
                                    "original_title": "Calling Me Home",
                                    "title": "Calling Me Home"
                                },
                                {
                                    "original_title": "Cabin Fever",
                                    "title": "Cabin Fever (Diary of a Wimpy Kid, #6)"
                                },
                                {
                                    "original_title": "Career of Evil",
                                    "title": "Career of Evil (Cormoran Strike, #3)"
                                },
                                {
                                    "original_title": "Carpe Corpus",
                                    "title": "Carpe Corpus (The Morganville Vampires, #6)"
                                },
                                {
                                    "original_title": "Black 1. The Birth of Evil",
                                    "title": "Black: The Birth of Evil (The Circle, #1)"
                                },
                                {
                                    "original_title": "BLEACH―ブリーチ―　1",
                                    "title": "Bleach, Volume 01"
                                },
                                {
                                    "original_title": "Bad Blood",
                                    "title": "Bad Blood (Virgil Flowers, #4)"
                                },
                                {
                                    "original_title": "The Dark Knight Returns",
                                    "title": "Batman: The Dark Knight Returns #1"
                                },
                                {
                                    "original_title": "ビーストマスター 1",
                                    "title": "Beast Master, Vol. 1 (Beast Master, #1)"
                                },
                                {
                                    "original_title": "Lord Loss",
                                    "title": "Lord Loss (The Demonata, #1)"
                                },
                                {
                                    "original_title": "Kiss an Angel ",
                                    "title": "Kiss an Angel"
                                },
                                {
                                    "original_title": "Hogwarts: An Incomplete and Unreliable Guide",
                                    "title": "Hogwarts: An Incomplete and Unreliable Guide (Pottermore Presents, #3)"
                                },
                                {
                                    "original_title": "Hellboy: The Chained Coffin and Others",
                                    "title": "Hellboy, Vol. 3: The Chained Coffin and Others (Hellboy, #3)"
                                },
                                {
                                    "original_title": "Hyperion",
                                    "title": "Hyperion (Hyperion Cantos, #1)"
                                },
                                {
                                    "original_title": "I'm Just Here for the Food: Food + Heat = Cooking",
                                    "title": "I'm Just Here for the Food: Food + Heat = Cooking"
                                },
                                {
                                    "original_title": "I Was So Mad (Look-Look)",
                                    "title": "I Was So Mad"
                                },
                                {
                                    "original_title": "Gregor and the Marks of Secret",
                                    "title": "Gregor and the Marks of Secret (Underland Chronicles, #4)"
                                },
                                {
                                    "original_title": "Gifted Hands: The Ben Carson Story",
                                    "title": "Gifted Hands: The Ben Carson Story"
                                },
                                {
                                    "original_title": "Giovanni's Room",
                                    "title": "Giovanni's Room"
                                },
                                {
                                    "original_title": "Go Away, Big Green Monster!",
                                    "title": "Go Away, Big Green Monster!"
                                },
                                {
                                    "original_title": "Planetary, Volume 1: All Over the World and Other Stories",
                                    "title": "Planetary, Volume 1: All Over the World and Other Stories"
                                },
                                {
                                    "original_title": "Parable of the Talents",
                                    "title": "Parable of the Talents (Earthseed, #2)"
                                },
                                {
                                    "original_title": "Panda Bear, Panda Bear, What Do You See?",
                                    "title": "Panda Bear, Panda Bear, What Do You See?"
                                },
                                {
                                    "original_title": "Пикник на обочине",
                                    "title": "Roadside Picnic"
                                },
                                {
                                    "original_title": "Real",
                                    "title": "Real (Real, #1)"
                                },
                                {
                                    "original_title": "Marvels",
                                    "title": "Marvels"
                                },
                                {
                                    "original_title": "Make Way for Ducklings",
                                    "title": "Make Way for Ducklings"
                                },
                                {
                                    "original_title": "Magic's Pawn",
                                    "title": "Magic's Pawn (Valdemar: Last Herald-Mage #1)"
                                },
                                {
                                    "original_title": "Mercy Blade",
                                    "title": "Mercy Blade (Jane Yellowrock, #3)"
                                },
                                {
                                    "original_title": "Mile high (Up In The Air #2)",
                                    "title": "Mile High (Up in the Air, #2)"
                                },
                                {
                                    "original_title": "Miracle in the Andes: 72 Days on the Mountain and My Long Trek Home",
                                    "title": "Miracle in the Andes"
                                },
                                {
                                    "original_title": "Mountains Beyond Mountains: The Quest of Dr. Paul Farmer, a Man Who Would Cure the World",
                                    "title": "Mountains Beyond Mountains: The Quest of Dr. Paul Farmer, A Man Who Would Cure the World"
                                },
                                {
                                    "original_title": "NANA―ナナ― 1",
                                    "title": "Nana, Vol. 1 (Nana, #1)"
                                },
                                {
                                    "original_title": "Mother Night",
                                    "title": "Mother Night"
                                },
                                {
                                    "original_title": "Murder Must Advertise",
                                    "title": "Murder Must Advertise  (Lord Peter Wimsey, #10)"
                                },
                                {
                                    "original_title": "Never Too Far (Too Far, #2)",
                                    "title": "Never Too Far (Rosemary Beach, #2; Too Far, #2)"
                                },
                                {
                                    "original_title": "Necessary Lies",
                                    "title": "Necessary Lies (Necessary Lies, #1)"
                                },
                                {
                                    "original_title": "Neverwhere Graphic Novel",
                                    "title": "Neil Gaiman's Neverwhere"
                                },
                                {
                                    "original_title": "Once and Always",
                                    "title": "Once and Always (Sequels, #1)"
                                },
                                {
                                    "original_title": "Skulduggery Pleasant",
                                    "title": "Skulduggery Pleasant (Skulduggery Pleasant, #1)"
                                },
                                {
                                    "original_title": "Sempre",
                                    "title": "Sempre (Sempre, #1)"
                                },
                                {
                                    "original_title": "Sharpe's Rifles",
                                    "title": "Sharpe's Rifles (Sharpe, #6)"
                                },
                                {
                                    "original_title": "Ship of Destiny",
                                    "title": "Ship of Destiny (Liveship Traders, #3)"
                                },
                                {
                                    "original_title": "Royal Assassin",
                                    "title": "Royal Assassin (Farseer Trilogy, #2)"
                                },
                                {
                                    "original_title": "Run Baby Run",
                                    "title": "Run Baby Run"
                                },
                                {
                                    "original_title": "Same Kind of Different as Me",
                                    "title": "Same Kind of Different as Me"
                                },
                                {
                                    "original_title": "Scarecrow",
                                    "title": "Scarecrow (Shane Schofield, #3)"
                                },
                                {
                                    "original_title": "The Complete Poems of Emily Dickinson",
                                    "title": "The Complete Poems of Emily Dickinson"
                                },
                                {
                                    "original_title": "Clive Barker's The Great and Secret Show: Volume 1 (Clive Barker's the Great and Secret Show)",
                                    "title": "The Complete Clive Barker's The Great And Secret Show"
                                },
                                {
                                    "original_title": "Le Comte de Monte-Cristo",
                                    "title": "The Count of Monte Cristo"
                                },
                                {
                                    "original_title": "The Crossing",
                                    "title": "The Crossing (Harry Bosch, #20; Mickey Haller, #7; Harry Bosch Universe, #25)"
                                },
                                {
                                    "original_title": "The China Study: The Most Comprehensive Study of Nutrition Ever Conducted and the Startling Implications for Diet, Weight Loss and Long-term Health",
                                    "title": "The China Study: The Most Comprehensive Study of Nutrition Ever Conducted And the Startling Implications for Diet, Weight Loss, And Long-term Health"
                                },
                                {
                                    "original_title": "The Coincidence of Callie & Kayden",
                                    "title": "The Coincidence of Callie & Kayden (The Coincidence, #1)"
                                },
                                {
                                    "original_title": "The Barefoot Contessa Cookbook",
                                    "title": "The Barefoot Contessa Cookbook"
                                },
                                {
                                    "original_title": "The One",
                                    "title": "The One (The Selection, #3)"
                                },
                                {
                                    "original_title": "The Other Side of Dawn",
                                    "title": "The Other Side of Dawn (Tomorrow, #7)"
                                },
                                {
                                    "original_title": "The Perks of Being a Wallflower",
                                    "title": "The Perks of Being a Wallflower"
                                },
                                {
                                    "original_title": "The Mixed-Up Chameleon",
                                    "title": "The Mixed-Up Chameleon"
                                },
                                {
                                    "original_title": "The Miracle Worker",
                                    "title": "The Miracle Worker"
                                },
                                {
                                    "original_title": "The Nature of the Beast",
                                    "title": "The Nature of the Beast (Chief Inspector Armand Gamache #11)"
                                },
                                {
                                    "original_title": "The Little Red Caboose (Little Golden Book)",
                                    "title": "The Little Red Caboose (Little Golden Book)"
                                },
                                {
                                    "original_title": "The Mad Ship",
                                    "title": "The Mad Ship (Liveship Traders, #2)"
                                },
                                {
                                    "original_title": "The Last Coyote",
                                    "title": "The Last Coyote (Harry Bosch, #4; Harry Bosch Universe, #4)"
                                },
                                {
                                    "original_title": "The End of Eternity",
                                    "title": "The End of Eternity"
                                },
                                {
                                    "original_title": "The Five Love Languages of Children",
                                    "title": "The Five Love Languages of Children"
                                },
                                {
                                    "original_title": "The Friend Zone",
                                    "title": "The Friend Zone (Game On, #2)"
                                },
                                {
                                    "original_title": "The Honor of the Queen",
                                    "title": "The Honor of the Queen (Honor Harrington, #2)"
                                },
                                {
                                    "original_title": "The Heretic Queen",
                                    "title": "The Heretic Queen"
                                },
                                {
                                    "original_title": "Unlimited Power : The New Science Of Personal Achievement",
                                    "title": "Unlimited Power : The New Science Of Personal Achievement"
                                },
                                {
                                    "original_title": "What's So Amazing About Grace?",
                                    "title": "What's So Amazing About Grace?"
                                },
                                {
                                    "original_title": "Theft of Swords",
                                    "title": "Theft of Swords (The Riyria Revelations, #1-2)"
                                },
                                {
                                    "original_title": "The Wishing Spell (The Land of Stories, #1)",
                                    "title": "The Wishing Spell (The Land of Stories, #1)"
                                },
                                {
                                    "original_title": "Tikki Tikki Tembo",
                                    "title": "Tikki Tikki Tembo"
                                },
                                {
                                    "original_title": "The Reckoning",
                                    "title": "The Reckoning (Darkest Powers, #3)"
                                },
                                {
                                    "original_title": "A Grief Observed",
                                    "title": "The Screwtape Letters"
                                },
                                {
                                    "original_title": "The Shadow Rising ",
                                    "title": "The Shadow Rising (Wheel of Time, #4)"
                                },
                                {
                                    "original_title": "The Third Wheel",
                                    "title": "The Third Wheel (Diary of a Wimpy Kid, #7)"
                                },
                                {
                                    "original_title": "Wolf-Speaker (Immortals, #2)",
                                    "title": "Wolf-Speaker (Immortals, #2)"
                                },
                                {
                                    "original_title": "Wild Man",
                                    "title": "Wild Man (Dream Man, #2)"
                                },
                                {
                                    "original_title": "Y: The Last Man Vol. 6: Girl on Girl",
                                    "title": "Y: The Last Man, Vol. 6: Girl on Girl (Y: The Last Man, #6)"
                                },
                                {
                                    "original_title": "استمتع بحياتك",
                                    "title": "استمتع بحياتك"
                                },
                                {
                                    "original_title": "المانيفستو",
                                    "title": "المانيفستو"
                                },
                                {
                                    "original_title": "Zami: A New Spelling of My Name",
                                    "title": "Zami: A New Spelling of My Name"
                                },
                                {
                                    "original_title": "Wit : A Play",
                                    "title": "Wit"
                                },
                                {
                                    "original_title": "Witches Abroad",
                                    "title": "Witches Abroad (Discworld, #12; Witches #3)"
                                },
                                {
                                    "original_title": "Worth Dying For",
                                    "title": "Worth Dying For (Jack Reacher, #15)"
                                },
                                {
                                    "original_title": "The Survivor",
                                    "title": "The Survivor (Mitch Rapp, #14)"
                                },
                                {
                                    "original_title": "The Throne of Fire",
                                    "title": "The Throne of Fire (Kane Chronicles, #2)"
                                },
                                {
                                    "original_title": "उपनिषद [Upaniṣad]",
                                    "title": "The Upanishads: Translations from the Sanskrit"
                                },
                                {
                                    "original_title": "The Sentry",
                                    "title": "The Sentry (Elvis Cole, #14; Joe Pike, #3)"
                                },
                                {
                                    "original_title": "The Ruins of Gorlan",
                                    "title": "The Ruins of Gorlan (Ranger's Apprentice, #1)"
                                },
                                {
                                    "original_title": "The Stinky Cheese Man and Other Fairly Stupid Tales",
                                    "title": "The Stinky Cheese Man and Other Fairly Stupid Tales"
                                },
                                {
                                    "original_title": "The Rise of Nine",
                                    "title": "The Rise of Nine (Lorien Legacies, #3)"
                                },
                                {
                                    "original_title": "The Robe",
                                    "title": "The Robe"
                                },
                                {
                                    "original_title": "The Rose & the Dagger",
                                    "title": "The Rose & the Dagger (The Wrath & the Dawn, #2)"
                                },
                                {
                                    "original_title": "The Redhead Revealed",
                                    "title": "The Redhead Revealed (Redhead, #2)"
                                },
                                {
                                    "original_title": "The Relatives Came",
                                    "title": "The Relatives Came"
                                },
                                {
                                    "original_title": "The Reason for God: Belief in an Age of Skepticism",
                                    "title": "The Reason for God: Belief in an Age of Skepticism"
                                },
                                {
                                    "original_title": "Tilt",
                                    "title": "Tilt"
                                },
                                {
                                    "original_title": "Touching the Void: The True Story of One Man's Miraculous Survival",
                                    "title": "Touching the Void: The True Story of One Man's Miraculous Survival"
                                },
                                {
                                    "original_title": "Twilight Director's Notebook",
                                    "title": "Twilight Director's Notebook : The Story of How We Made the Movie Based on the Novel by Stephenie Meyer"
                                },
                                {
                                    "original_title": "The Woman Who Rides Like a Man",
                                    "title": "The Woman Who Rides Like a Man (Song of the Lioness, #3)"
                                },
                                {
                                    "original_title": "There Was an Old Lady Who Swallowed a Fly",
                                    "title": "There Was an Old Lady Who Swallowed a Fly"
                                },
                                {
                                    "original_title": "There Was an Old Lady Who Swallowed a Fly (Classic Board Books with Holes)",
                                    "title": "There Was An Old Lady Who Swallowed A Fly (Classic Books)"
                                },
                                {
                                    "original_title": "Two Ravens and One Crow",
                                    "title": "Two Ravens and One Crow (The Iron Druid Chronicles, #4.5)"
                                },
                                {
                                    "original_title": "Valley of Silence",
                                    "title": "Valley of Silence (Circle Trilogy, #3)"
                                },
                                {
                                    "original_title": "La casa de los espíritus",
                                    "title": "The House of the Spirits"
                                },
                                {
                                    "original_title": "The Hitchhiker's Guide to the Galaxy",
                                    "title": "The Hitchhiker's Guide to the Galaxy (Hitchhiker's Guide to the Galaxy, #1)"
                                },
                                {
                                    "original_title": "Luftslottet som sprängdes",
                                    "title": "The Girl Who Kicked the Hornet's Nest (Millennium, #3)"
                                },
                                {
                                    "original_title": "The Hard Thing about Hard Things: Building A Business When There Are No Easy Answers",
                                    "title": "The Hard Thing About Hard Things: Building a Business When There Are No Easy Answers"
                                },
                                {
                                    "original_title": "The Great Hunt",
                                    "title": "The Great Hunt (Wheel of Time, #2)"
                                },
                                {
                                    "original_title": "The Far Pavilions",
                                    "title": "The Far Pavilions"
                                },
                                {
                                    "original_title": "The First Rule",
                                    "title": "The First Rule (Elvis Cole, #13; Joe Pike, #2)"
                                },
                                {
                                    "original_title": "The Crown of Embers",
                                    "title": "The Crown of Embers (Fire and Thorns, #2)"
                                },
                                {
                                    "original_title": "The Demon King",
                                    "title": "The Demon King (Seven Realms, #1)"
                                },
                                {
                                    "original_title": "Star Wars: The Last Command",
                                    "title": "The Last Command"
                                },
                                {
                                    "original_title": "Four: The Initiate",
                                    "title": "The Initiate (Divergent, #0.2)"
                                },
                                {
                                    "original_title": "The Lost Wife",
                                    "title": "The Lost Wife"
                                },
                                {
                                    "original_title": "The Little Red Hen (Little Golden Book)",
                                    "title": "The Little Red Hen (Little Golden Book)"
                                },
                                {
                                    "original_title": "Ostatnie życzenie",
                                    "title": "The Last Wish (The Witcher, #1)"
                                },
                                {
                                    "original_title": "The Lewis Man",
                                    "title": "The Lewis Man (The Lewis Trilogy, #2)"
                                },
                                {
                                    "original_title": "The New Best Recipe: All-New Edition with 1,000 Recipes",
                                    "title": "The New Best Recipe"
                                },
                                {
                                    "original_title": "The Mystery Knight",
                                    "title": "The Mystery Knight (The Tales of Dunk and Egg, #3)"
                                },
                                {
                                    "original_title": "The Naked God ",
                                    "title": "The Naked God (Night's Dawn, #3)"
                                },
                                {
                                    "original_title": "The Murder of Roger Ackroyd",
                                    "title": "The Murder of Roger Ackroyd (Hercule Poirot, #4)"
                                },
                                {
                                    "original_title": "The Mime Order",
                                    "title": "The Mime Order (The Bone Season, #2)"
                                },
                                {
                                    "original_title": "The Bane Chronicles",
                                    "title": "The Bane Chronicles"
                                },
                                {
                                    "original_title": "The Brain That Changes Itself: Stories of Personal Triumph from the Frontiers of Brain Science",
                                    "title": "The Brain That Changes Itself: Stories of Personal Triumph from the Frontiers of Brain Science"
                                },
                                {
                                    "original_title": "The Air He Breathes",
                                    "title": "The Air He Breathes (Elements, #1)"
                                },
                                {
                                    "original_title": "The Ask and the Answer",
                                    "title": "The Ask and the Answer (Chaos Walking, #2)"
                                },
                                {
                                    "original_title": "The Alloy of Law",
                                    "title": "The Alloy of Law (Mistborn, #4)"
                                },
                                {
                                    "original_title": "Die 13½ Leben des Käpt'n Blaubär ",
                                    "title": "The 13½ Lives of Captain Bluebear (Zamonia, #1)"
                                },
                                {
                                    "original_title": "The Collected Poems",
                                    "title": "The Collected Poems"
                                },
                                {
                                    "original_title": "The City of Mirrors",
                                    "title": "The City of Mirrors (The Passage, #3)"
                                },
                                {
                                    "original_title": "The Cake Bible",
                                    "title": "The Cake Bible"
                                },
                                {
                                    "original_title": "The Case of Charles Dexter Ward",
                                    "title": "The Case of Charles Dexter Ward"
                                },
                                {
                                    "original_title": "The Case-Book of Sherlock Holmes",
                                    "title": "The Case-Book of Sherlock Holmes"
                                },
                                {
                                    "original_title": "The Cross and the Switchblade",
                                    "title": "The Cross and the Switchblade"
                                },
                                {
                                    "original_title": "Samarcande",
                                    "title": "Samarkand"
                                },
                                {
                                    "original_title": "Seabiscuit",
                                    "title": "Seabiscuit: An American Legend"
                                },
                                {
                                    "original_title": "Short Stories from Hogwarts of Power, Politics and Pesky Poltergeists",
                                    "title": "Short Stories from Hogwarts of Power, Politics and Pesky Poltergeists (Pottermore Presents, #2)"
                                },
                                {
                                    "original_title": "Small Sacrifices: A True Story of Passion and Murder",
                                    "title": "Small Sacrifices: A True Story of Passion and Murder"
                                },
                                {
                                    "original_title": "Smaragdgrün",
                                    "title": "Smaragdgrün (Edelstein-Trilogie, #3)"
                                },
                                {
                                    "original_title": "The Saga of the Swamp Thing, Vol 20 - 27",
                                    "title": "Swamp Thing, Vol. 1: Saga of the Swamp Thing"
                                },
                                {
                                    "original_title": "State Of The Union",
                                    "title": "State of the Union (Scot Harvath, #3)"
                                },
                                {
                                    "original_title": "Once",
                                    "title": "Once (Once, #1)"
                                },
                                {
                                    "original_title": "Night World, No. 2",
                                    "title": "Night World, No. 2 (Night World, #4-6)"
                                },
                                {
                                    "original_title": "Night World, No. 3",
                                    "title": "Night World, No. 3 (Night World, #7-9)"
                                },
                                {
                                    "original_title": "No Ordinary Time: Franklin and Eleanor Roosevelt: The Home Front in World War II",
                                    "title": "No Ordinary Time: Franklin and Eleanor Roosevelt: The Home Front in World War II"
                                },
                                {
                                    "original_title": "Nimona",
                                    "title": "Nimona"
                                },
                                {
                                    "original_title": "No Humans Involved",
                                    "title": "No Humans Involved (Women of the Otherworld, #7)"
                                },
                                {
                                    "original_title": "Mortal Prey",
                                    "title": "Mortal Prey (Lucas Davenport, #13)"
                                },
                                {
                                    "original_title": "Mike Mulligan and His Steam Shovel",
                                    "title": "Mike Mulligan and His Steam Shovel"
                                },
                                {
                                    "original_title": "Τὰ εἰς ἑαυτόν ",
                                    "title": "Meditations"
                                },
                                {
                                    "original_title": "Magic's Promise",
                                    "title": "Magic's Promise (Valdemar: Last Herald-Mage #2)"
                                },
                                {
                                    "original_title": "Malcolm X: A Life of Reinvention",
                                    "title": "Malcolm X: A Life of Reinvention"
                                },
                                {
                                    "original_title": "Malgudi Days",
                                    "title": "Malgudi Days"
                                },
                                {
                                    "original_title": "Raven Rise",
                                    "title": "Raven Rise (Pendragon, #9)"
                                },
                                {
                                    "original_title": "Psycho-Cybernetics. A New Way to Get More Living Out of Life",
                                    "title": "Psycho-Cybernetics, A New Way to Get More Living Out of Life"
                                },
                                {
                                    "original_title": "Rock Chick",
                                    "title": "Rock Chick (Rock Chick, #1)"
                                },
                                {
                                    "original_title": "River God",
                                    "title": "River God (Ancient Egypt, #1)"
                                },
                                {
                                    "original_title": "Romancing Mister Bridgerton (Bridgertons, #4)",
                                    "title": "Romancing Mister Bridgerton (Bridgertons, #4)"
                                },
                                {
                                    "original_title": "Rebecca",
                                    "title": "Rebecca"
                                },
                                {
                                    "original_title": "Pandora Hearts 1",
                                    "title": "Pandora Hearts 1巻"
                                },
                                {
                                    "original_title": "Palestine",
                                    "title": "Palestine"
                                },
                                {
                                    "original_title": "Owl Moon",
                                    "title": "Owl Moon"
                                },
                                {
                                    "original_title": "Outlander",
                                    "title": "Outlander (Outlander, #1)"
                                },
                                {
                                    "original_title": "Oscar et la dame rose",
                                    "title": "Oscar et la dame rose"
                                },
                                {
                                    "original_title": "Our Band Could Be Your Life: Scenes from the American Indie Underground 1981-1991",
                                    "title": "Our Band Could Be Your Life: Scenes from the American Indie Underground 1981-1991"
                                },
                                {
                                    "original_title": "One Shot",
                                    "title": "One Shot (Jack Reacher, #9)"
                                },
                                {
                                    "original_title": "Good Night, Gorilla",
                                    "title": "Good Night, Gorilla"
                                },
                                {
                                    "original_title": "Gregor and the Curse of the Warmbloods",
                                    "title": "Gregor and the Curse of the Warmbloods (Underland Chronicles, #3)"
                                },
                                {
                                    "original_title": "Hafalan Shalat Delisa",
                                    "title": "Hafalan Shalat Delisa"
                                },
                                {
                                    "original_title": "Half the World",
                                    "title": "Half the World (Shattered Sea, #2)"
                                },
                                {
                                    "original_title": "If You Give a Cat a Cupcake",
                                    "title": "If You Give a Cat a Cupcake"
                                },
                                {
                                    "original_title": "Hellboy: Wake the Devil",
                                    "title": "Hellboy, Vol. 2: Wake the Devil (Hellboy, #2)"
                                },
                                {
                                    "original_title": "Home ",
                                    "title": "Home (Myron Bolitar #11)"
                                },
                                {
                                    "original_title": "King of Thorns",
                                    "title": "King of Thorns (The Broken Empire, #2)"
                                },
                                {
                                    "original_title": "L.A. Confidential",
                                    "title": "L.A. Confidential (L.A. Quartet, #3)"
                                },
                                {
                                    "original_title": "Jaya: An Illustrated Retelling of the Mahabharata",
                                    "title": "Jaya: An Illustrated Retelling of the Mahabharata"
                                },
                                {
                                    "original_title": "Jesus Freaks: DC Talk and The Voice of the Martyrs - Stories of Those Who Stood for Jesus, the Ultimate Jesus Freaks",
                                    "title": "Jesus Freaks: Stories of Those Who Stood for Jesus, the Ultimate Jesus Freaks (Jesus Freaks, #1)"
                                },
                                {
                                    "original_title": "Infidel",
                                    "title": "Infidel"
                                },
                                {
                                    "original_title": "Lilly's Purple Plastic Purse",
                                    "title": "Lilly's Purple Plastic Purse"
                                },
                                {
                                    "original_title": "Leviathan Wakes",
                                    "title": "Leviathan Wakes (The Expanse, #1)"
                                },
                                {
                                    "original_title": "Love in the Afternoon",
                                    "title": "Love in the Afternoon (The Hathaways, #5)"
                                },
                                {
                                    "original_title": "August: Osage County",
                                    "title": "August: Osage County"
                                },
                                {
                                    "original_title": "Black List",
                                    "title": "Black List (Scot Harvath, #11)"
                                },
                                {
                                    "original_title": "Big Little Lies",
                                    "title": "Big Little Lies"
                                },
                                {
                                    "original_title": "Calamity",
                                    "title": "Calamity (The Reckoners, #3)"
                                },
                                {
                                    "original_title": "Certain Prey",
                                    "title": "Certain Prey (Lucas Davenport, #10)"
                                },
                                {
                                    "original_title": "Ceaseless",
                                    "title": "Ceaseless (Existence Trilogy, #3)"
                                },
                                {
                                    "original_title": "Christy",
                                    "title": "Christy"
                                },
                                {
                                    "original_title": "Chronicles of The Black Company (The Black Company / Shadows Linger / The White Rose)",
                                    "title": "Chronicles of the Black Company (The Chronicles of the Black Company, #1-3)"
                                },
                                {
                                    "original_title": "Bread and Jam for Frances",
                                    "title": "Bread and Jam for Frances"
                                },
                                {
                                    "original_title": "Broken",
                                    "title": "Broken (Will Trent, #4)"
                                },
                                {
                                    "original_title": "A House in the Sky",
                                    "title": "A House in the Sky"
                                },
                                {
                                    "original_title": "A Little Princess",
                                    "title": "A Little Princess"
                                },
                                {
                                    "original_title": "2666",
                                    "title": "2666"
                                },
                                {
                                    "original_title": "A Chair for My Mother ",
                                    "title": "A Chair for My Mother"
                                },
                                {
                                    "original_title": "Amadeus",
                                    "title": "Amadeus"
                                },
                                {
                                    "original_title": "Ancillary Mercy",
                                    "title": "Ancillary Mercy (Imperial Radch #3)"
                                },
                                {
                                    "original_title": "ABNKKBSNPLAKo?! (Mga Kwentong Chalk ni Bob Ong)",
                                    "title": "ABNKKBSNPLAKo?! (Mga Kwentong Chalk ni Bob Ong)"
                                },
                                {
                                    "original_title": "Damaged",
                                    "title": "Damaged: The Heartbreaking True Story of a Forgotten Child"
                                },
                                {
                                    "original_title": "Dark Desire",
                                    "title": "Dark Desire (Dark, #2)"
                                },
                                {
                                    "original_title": "Le cosmicomiche",
                                    "title": "Cosmicomics"
                                },
                                {
                                    "original_title": "Clean Sweep",
                                    "title": "Clean Sweep (Innkeeper Chronicles, #1)"
                                },
                                {
                                    "original_title": "Collected Poems",
                                    "title": "Collected Poems"
                                },
                                {
                                    "original_title": "デッドマン・ワンダーランド 1",
                                    "title": "Deadman Wonderland, Volume 1 (Deadman Wonderland, #1)"
                                },
                                {
                                    "original_title": "Days of Magic, Nights of War",
                                    "title": "Days of Magic, Nights of War (Abarat, #2)"
                                },
                                {
                                    "original_title": "Don't Judge a Girl by Her Cover",
                                    "title": "Don't Judge a Girl by Her Cover (Gallagher Girls, #3)"
                                },
                                {
                                    "original_title": "Eragon, Eldest & Brisingr (Inheritance, #1-3)",
                                    "title": "Eragon, Eldest & Brisingr (Inheritance, #1-3)"
                                },
                                {
                                    "original_title": "Every Last Word",
                                    "title": "Every Last Word"
                                },
                                {
                                    "original_title": "Dream Chaser",
                                    "title": "Dream Chaser (Dark-Hunter #13, Dream-Hunter #3)"
                                },
                                {
                                    "original_title": "Dreamless",
                                    "title": "Dreamless (Starcrossed, #2)"
                                },
                                {
                                    "original_title": "Eloise",
                                    "title": "Eloise "
                                },
                                {
                                    "original_title": "Foundation and Empire",
                                    "title": "Foundation and Empire (Foundation #2)"
                                },
                                {
                                    "original_title": "First Rider's Call",
                                    "title": "First Rider's Call (Green Rider, #2)"
                                },
                                {
                                    "original_title": "Fiddler On the Roof: Based on Sholom Aleichem's Stories",
                                    "title": "Fiddler on the Roof"
                                },
                                {
                                    "original_title": "Fight Club",
                                    "title": "Fight Club"
                                },
                                {
                                    "original_title": "Fade Out",
                                    "title": "Fade Out (The Morganville Vampires, #7)"
                                }
                            ]
                        },
                        "text/html": [
                            "<table>",
                            "<tr><th>original_title</th><th>title</th></tr>",
                            "<tr><td>The Complete Calvin and Hobbes</td><td>The Complete Calvin and Hobbes</td></tr>",
                            "<tr><td>Words of Radiance</td><td>Words of Radiance (The Stormlight Archive, #2)</td></tr>",
                            "<tr><td>Mark of the Lion Trilogy</td><td>Mark of the Lion Trilogy</td></tr>",
                            "<tr><td>It&#39;s a Magical World: A Calvin and Hobbes Collection</td><td>It&#39;s a Magical World: A Calvin and Hobbes Collection</td></tr>",
                            "<tr><td>Complete Harry Potter Boxed Set</td><td>Harry Potter Boxset (Harry Potter, #1-7)</td></tr>",
                            "<tr><td>There&#39;s Treasure Everywhere: A Calvin and Hobbes Collection</td><td>There&#39;s Treasure Everywhere: A Calvin and Hobbes Collection</td></tr>",
                            "<tr><td>The Authoritative Calvin and Hobbes</td><td>The Authoritative Calvin and Hobbes: A Calvin and Hobbes Treasury</td></tr>",
                            "<tr><td>The Indispensable Calvin and Hobbes: A Calvin and Hobbes Treasury</td><td>The Indispensable Calvin and Hobbes</td></tr>",
                            "<tr><td>Harry Potter Collection (Harry Potter, #1-6)</td><td>Harry Potter Collection (Harry Potter, #1-6)</td></tr>",
                            "<tr><td>A Court of Mist and Fury</td><td>A Court of Mist and Fury (A Court of Thorns and Roses, #2)</td></tr>",
                            "<tr><td>Attack of the Deranged Mutant Killer Monster Snow Goons: A Calvin and Hobbes Collection</td><td>Attack of the Deranged Mutant Killer Monster Snow Goons</td></tr>",
                            "<tr><td>Homicidal Psycho Jungle Cat: A Calvin and Hobbes Collection</td><td>Homicidal Psycho Jungle Cat: A Calvin and Hobbes Collection</td></tr>",
                            "<tr><td>Preach My Gospel (A Guide to Missionary Service)</td><td>Preach My Gospel: A Guide To Missionary Service</td></tr>",
                            "<tr><td>The Revenge of the Baby-Sat: A Calvin and Hobbes Collection</td><td>The Revenge of the Baby-Sat</td></tr>",
                            "<tr><td>The Days Are Just Packed: A Calvin and Hobbes Collection</td><td>The Days Are Just Packed: A Calvin and Hobbes Collection</td></tr>",
                            "<tr><td>The Way of Kings, Part 1</td><td>The Way of Kings, Part 1 (The Stormlight Archive #1.1)</td></tr>",
                            "<tr><td>Harry Potter Boxed Set Books 1-4</td><td>The Harry Potter Collection 1-4 (Harry Potter, #1-4)</td></tr>",
                            "<tr><td>Holy Bible English Standard Version</td><td>The Holy Bible: English Standard Version</td></tr>",
                            "<tr><td>The Calvin and Hobbes Lazy Sunday Book</td><td>The Calvin and Hobbes Lazy Sunday Book</td></tr>",
                            "<tr><td>The Absolute Sandman, Volume One</td><td>The Absolute Sandman, Volume One</td></tr>",
                            "<tr><td>The Essential Calvin and Hobbes: A Calvin and Hobbes Treasury</td><td>The Essential Calvin and Hobbes: A Calvin and Hobbes Treasury</td></tr>",
                            "<tr><td>A Song of Ice and Fire Graphic Novels</td><td>A Game of Thrones: Comic Book, Issue 1</td></tr>",
                            "<tr><td>The Way of Kings</td><td>The Way of Kings (The Stormlight Archive, #1)</td></tr>",
                            "<tr><td>دیوان‎‎ [Dīvān]</td><td>The Divan</td></tr>",
                            "<tr><td>The Calvin and Hobbes Tenth Anniversary Book</td><td>The Calvin and Hobbes Tenth Anniversary Book</td></tr>",
                            "<tr><td>A Song of Ice and Fire</td><td>A Song of Ice and Fire (A Song of Ice and Fire, #1-5)</td></tr>",
                            "<tr><td>ONE PIECE 38</td><td>One Piece, Volume 38: Rocketman!! (One Piece, #38)</td></tr>",
                            "<tr><td>Jesus the Christ: A Study of the Messiah and His Mission according to Holy Scriptures both Ancient and Modern</td><td>Jesus the Christ</td></tr>",
                            "<tr><td>Crooked Kingdom</td><td>Crooked Kingdom (Six of Crows, #2)</td></tr>",
                            "<tr><td>The Hate U Give</td><td>The Hate U Give</td></tr>",
                            "<tr><td>Standing for Something: 10 Neglected Virtues That Will Heal Our Hearts and Homes</td><td>Standing for Something: 10 Neglected Virtues That Will Heal Our Hearts and Homes</td></tr>",
                            "<tr><td>Vampire Academy Collection</td><td>Vampire Academy Collection (Vampire Academy, #1-3)</td></tr>",
                            "<tr><td>The Sandman: King of Dreams</td><td>The Sandman: King of Dreams</td></tr>",
                            "<tr><td>Calvin and Hobbes</td><td>Calvin and Hobbes</td></tr>",
                            "<tr><td>Holy Bible: New International Version</td><td>Holy Bible: New International Version</td></tr>",
                            "<tr><td>Harry Potter and the Chamber of Secrets: Sheet Music for Flute with C.D</td><td>Harry Potter and the Chamber of Secrets: Sheet Music for Flute with C.D</td></tr>",
                            "<tr><td>Harry Potter and the Deathly Hallows</td><td>Harry Potter and the Deathly Hallows (Harry Potter, #7)</td></tr>",
                            "<tr><td>Queen of Shadows</td><td>Queen of Shadows (Throne of Glass, #4)</td></tr>",
                            "<tr><td>A Voice in the Wind</td><td>A Voice in the Wind (Mark of the Lion, #1)</td></tr>",
                            "<tr><td>An Echo in the Darkness (Mark of the Lion, #2)</td><td>An Echo in the Darkness (Mark of the Lion, #2)</td></tr>",
                            "<tr><td>Acheron (Dark-Hunter, #15) - Part 1</td><td>Acheron (Dark-Hunter #14)</td></tr>",
                            "<tr><td>Clockwork Princess</td><td>Clockwork Princess (The Infernal Devices, #3)</td></tr>",
                            "<tr><td>The Hobbit and The Lord of the Rings</td><td>J.R.R. Tolkien 4-Book Boxed Set: The Hobbit and The Lord of the Rings</td></tr>",
                            "<tr><td>The Sandman: The Kindly Ones</td><td>The Kindly Ones (The Sandman #9)</td></tr>",
                            "<tr><td>The Lord of the Rings: The Art of The Fellowship of the Ring</td><td>The Lord of the Rings: The Art of The Fellowship of the Ring</td></tr>",
                            "<tr><td>The Mortal Instrument Series: City of Bones / City of Ashes / City of Glass / City of Fallen Angels</td><td>The Mortal Instruments (The Mortal Instruments #1-4)</td></tr>",
                            "<tr><td>The Last Question (When the World Ends)</td><td>The Last Question</td></tr>",
                            "<tr><td>Styxx</td><td>Styxx (Dark-Hunter, #22)</td></tr>",
                            "<tr><td>The Annotated Sherlock Holmes</td><td>The Annotated Sherlock Holmes: The Four Novels and the Fifty-Six Short Stories Complete (2 Volume Set)</td></tr>",
                            "<tr><td>Just Mercy: A Story of Justice and Redemption</td><td>Just Mercy: A Story of Justice and Redemption</td></tr>",
                            "<tr><td>Percy Jackson and the Olympians Boxed Set</td><td>Percy Jackson and the Olympians (Percy Jackson and the Olympians, #1-3)</td></tr>",
                            "<tr><td>Cuentos completos</td><td>Collected Fictions</td></tr>",
                            "<tr><td>Empire of Storms</td><td>Empire of Storms (Throne of Glass, #5)</td></tr>",
                            "<tr><td>Percy Jackson and the Olympians</td><td>Percy Jackson and the Olympians Boxed Set (Percy Jackson and the Olympians, #1-5)</td></tr>",
                            "<tr><td>NARUTO -ナルト- 巻ノ四十三 </td><td>NARUTO -ナルト- 巻ノ四十三</td></tr>",
                            "<tr><td>Magic Binds</td><td>Magic Binds (Kate Daniels, #9)</td></tr>",
                            "<tr><td>Saga, Volume Two</td><td>Saga, Vol. 2 (Saga, #2)</td></tr>",
                            "<tr><td>The Mortal Instruments Boxed Set: City of Bones; City of Ashes; City of Glass</td><td>The Mortal Instruments Boxed Set: City of Bones; City of Ashes; City of Glass (The Mortal Instruments, #1-3)</td></tr>",
                            "<tr><td>The Wise Man&#39;s Fear</td><td>The Wise Man&#39;s Fear (The Kingkiller Chronicle, #2)</td></tr>",
                            "<tr><td>الرحيق المختوم: بحث في السيرة النبوية على صاحبها أفضل الصلاة والسلام </td><td>الرحيق المختوم</td></tr>",
                            "<tr><td>Saga, Volume Three</td><td>Saga, Vol. 3 (Saga, #3)</td></tr>",
                            "<tr><td>Gemina</td><td>Gemina (The Illuminae Files, #2)</td></tr>",
                            "<tr><td>Harry Potter Page to Screen: The Complete Filmmaking Journey</td><td>Harry Potter Page to Screen: The Complete Filmmaking Journey</td></tr>",
                            "<tr><td>Crashed</td><td>Crashed (Driven, #3)</td></tr>",
                            "<tr><td>A Storm of Swords: Part 2 Blood and Gold</td><td>A Storm of Swords: Blood and Gold (A Song of Ice and Fire, #3: Part 2 of 2)</td></tr>",
                            "<tr><td>The Sandman: Brief Lives</td><td>Brief Lives (The Sandman #7)</td></tr>",
                            "<tr><td>Mistborn Trilogy Boxed Set</td><td>Mistborn Trilogy Boxed Set (Mistborn, #1-3)</td></tr>",
                            "<tr><td>Skin Game</td><td>Skin Game (The Dresden Files, #15)</td></tr>",
                            "<tr><td>The Name of the Wind</td><td>The Name of the Wind (The Kingkiller Chronicle, #1)</td></tr>",
                            "<tr><td>The Green Mile, Part 6: Coffey on the Mile</td><td>The Green Mile, Part 6: Coffey on the Mile</td></tr>",
                            "<tr><td>The House of Hades</td><td>The House of Hades (The Heroes of Olympus, #4)</td></tr>",
                            "<tr><td>The Nightingale</td><td>The Nightingale</td></tr>",
                            "<tr><td>The Sandman: Season of Mists</td><td>Season of Mists (The Sandman #4)</td></tr>",
                            "<tr><td>The Constitution of the United States of America</td><td>The Constitution of the United States of America</td></tr>",
                            "<tr><td>桜蘭高校ホスト部 15</td><td>Ouran High School Host Club, Vol. 15 (Ouran High School Host Club, #15)</td></tr>",
                            "<tr><td>Harry Potter and the Half-Blood Prince</td><td>Harry Potter and the Half-Blood Prince (Harry Potter, #6)</td></tr>",
                            "<tr><td>Changes</td><td>Changes (The Dresden Files, #12)</td></tr>",
                            "<tr><td>A Storm of Swords</td><td>A Storm of Swords (A Song of Ice and Fire, #3)</td></tr>",
                            "<tr><td>A Court of Wings and Ruin</td><td>A Court of Wings and Ruin (A Court of Thorns and Roses, #3)</td></tr>",
                            "<tr><td>A Grimm Warning</td><td>A Grimm Warning (The Land of Stories, #3)</td></tr>",
                            "<tr><td>A Clash of Kings</td><td>A Game of Thrones / A Clash of Kings (A Song of Ice and Fire, #1-2)</td></tr>",
                            "<tr><td>黒執事 III [Kuroshitsuji III]</td><td>Black Butler, Vol. 3 (Black Butler, #3)</td></tr>",
                            "<tr><td>Courageous</td><td>Courageous</td></tr>",
                            "<tr><td>Fool&#39;s Quest</td><td>Fool&#39;s Quest  (The Fitz and The Fool, #2)</td></tr>",
                            "<tr><td>Harry Potter and the Goblet of Fire</td><td>Harry Potter and the Goblet of Fire (Harry Potter, #4)</td></tr>",
                            "<tr><td>Harry Potter and the Prisoner of Azkaban</td><td>Harry Potter and the Prisoner of Azkaban (Harry Potter, #3)</td></tr>",
                            "<tr><td>Heir of Fire</td><td>Heir of Fire (Throne of Glass, #3)</td></tr>",
                            "<tr><td>会長はメイド様! 2</td><td>Maid-sama! Vol. 02 (Maid-sama! #2)</td></tr>",
                            "<tr><td>The Complete Maus</td><td>The Complete Maus (Maus, #1-2)</td></tr>",
                            "<tr><td>The Lord of the Rings: Weapons and Warfare</td><td>The Lord of the Rings: Weapons and Warfare</td></tr>",
                            "<tr><td>This is Water</td><td>This Is Water: Some Thoughts, Delivered on a Significant Occasion, about Living a Compassionate Life</td></tr>",
                            "<tr><td>The Sandman: The Wake</td><td>The Wake (The Sandman #10)</td></tr>",
                            "<tr><td>The Tale of Three Trees: A Traditional Folktale</td><td>The Tale of Three Trees</td></tr>",
                            "<tr><td>The Green Mile, Part 4: The Bad Death of Eduard Delacroix</td><td>The Green Mile, Part 4: The Bad Death of Eduard Delacroix</td></tr>",
                            "<tr><td>Thank You, Mr. Falker</td><td>Thank You, Mr. Falker</td></tr>",
                            "<tr><td>The Shawshank Redemption</td><td>Rita Hayworth and Shawshank Redemption: A Story from Different Seasons</td></tr>",
                            "<tr><td>Magic Breaks</td><td>Magic Breaks (Kate Daniels, #7)</td></tr>",
                            "<tr><td>進撃の巨人 悔いなき選択 1</td><td>Attack on Titan: No Regrets, Volume 01</td></tr>",
                            "<tr><td>Avatar: Last Airbender v. 1 (Avatar (Graphic Novels))</td><td>Avatar Volume 1: The Last Airbender (Avatar #1)</td></tr>",
                            "<tr><td>Three Complete Novels: Carrie/Salem&#39;s Lot/The Shining</td><td>Carrie / &#39;Salem&#39;s Lot / The Shining</td></tr>",
                            "<tr><td>Prince&#39;s Gambit</td><td>Captive Prince: Volume Two (Captive Prince, #2)</td></tr>",
                            "<tr><td>Believing Christ: The Parable of the Bicycle and Other Good News</td><td>Believing Christ: The Parable of the Bicycle and Other Good News</td></tr>",
                            "<tr><td>Cold Days</td><td>Cold Days (The Dresden Files, #14)</td></tr>",
                            "<tr><td>Fueled</td><td>Fueled (Driven, #2)</td></tr>",
                            "<tr><td>Percy Jackson&#39;s Greek Gods</td><td>Percy Jackson&#39;s Greek Gods (A Percy Jackson and the Olympians Guide)</td></tr>",
                            "<tr><td>The Green Mile, Part 5: Night Journey</td><td>The Green Mile, Part 5: Night Journey</td></tr>",
                            "<tr><td>The Hitchhiker&#39;s Guide to the Galaxy: The Trilogy of Four (Hitchhiker&#39;s Guide, #1-4)</td><td>The Hitchhiker&#39;s Guide to the Galaxy: A Trilogy in Four Parts</td></tr>",
                            "<tr><td>The Return of the King</td><td>The Return of the King (The Lord of the Rings, #3)</td></tr>",
                            "<tr><td>Written in My Own Heart&#39;s Blood</td><td>Written in My Own Heart&#39;s Blood (Outlander, #8)</td></tr>",
                            "<tr><td>The Green Mile, Part 3: Coffey&#39;s Hands</td><td>The Green Mile, Part 3: Coffey&#39;s Hands</td></tr>",
                            "<tr><td>The Last Olympian</td><td>The Last Olympian (Percy Jackson and the Olympians, #5)</td></tr>",
                            "<tr><td>Livro do Desassossego</td><td>The Book of Disquiet</td></tr>",
                            "<tr><td>The Complete Sherlock Holmes</td><td>The Complete Sherlock Holmes</td></tr>",
                            "<tr><td>Out of the Dark </td><td>Out of the Dark (The Grey Wolves, #4)</td></tr>",
                            "<tr><td>NARUTO -ナルト- 巻ノ十一 </td><td>Naruto, Vol. 11: Impassioned Efforts (Naruto, #11)</td></tr>",
                            "<tr><td>Morning Star</td><td>Morning Star (Red Rising, #3)</td></tr>",
                            "<tr><td>Humans of New York: Stories</td><td>Humans of New York: Stories</td></tr>",
                            "<tr><td>Clockworks</td><td>Locke &amp; Key, Vol. 5: Clockworks</td></tr>",
                            "<tr><td>Locke &amp; Key, Vol. 6: Alpha &amp; Omega</td><td>Locke &amp; Key, Vol. 6: Alpha &amp; Omega</td></tr>",
                            "<tr><td>Kings Rising</td><td>Kings Rising (Captive Prince, #3)</td></tr>",
                            "<tr><td>A Memory of Light</td><td>A Memory of Light (Wheel of Time, #14)</td></tr>",
                            "<tr><td>A Storm of Swords: Part 1 Steel and Snow</td><td>A Storm of Swords: Steel and Snow (A Song of Ice and Fire, #3: Part 1 of 2)</td></tr>",
                            "<tr><td>At Peace</td><td>At Peace (The &#39;Burg, #2)</td></tr>",
                            "<tr><td>Crown of Midnight</td><td>Crown of Midnight (Throne of Glass, #2)</td></tr>",
                            "<tr><td>Disney&#39;s the Lion King (Disney Classic Series)</td><td>Disney&#39;s the Lion King</td></tr>",
                            "<tr><td>Fifth Grave Past the Light</td><td>Fifth Grave Past the Light (Charley Davidson, #5)</td></tr>",
                            "<tr><td>Kürk Mantolu Madonna</td><td>Kürk Mantolu Madonna</td></tr>",
                            "<tr><td>鋼の錬金術師 1</td><td>Fullmetal Alchemist, Vol. 1 (Fullmetal Alchemist, #1)</td></tr>",
                            "<tr><td>Magic Rises</td><td>Magic Rises (Kate Daniels, #6)</td></tr>",
                            "<tr><td>Reunion</td><td>Reunion (Redemption, #5)</td></tr>",
                            "<tr><td>The Complete Works</td><td>The Complete Works</td></tr>",
                            "<tr><td>Saga, Volume Six</td><td>Saga, Vol. 6 (Saga, #6)</td></tr>",
                            "<tr><td>The New Jim Crow: Mass Incarceration in the Age of Colorblindness</td><td>The New Jim Crow: Mass Incarceration in the Age of Colorblindness</td></tr>",
                            "<tr><td>The Hunger Games Box Set</td><td>The Hunger Games Trilogy Boxset (The Hunger Games, #1-3)</td></tr>",
                            "<tr><td>The Green Mile, Part 1: The Two Dead Girls</td><td>The Green Mile, Part 1: The Two Dead Girls</td></tr>",
                            "<tr><td>The Enchantress Returns</td><td>The Enchantress Returns (The Land of Stories, #2)</td></tr>",
                            "<tr><td>Winter</td><td>Winter (The Lunar Chronicles, #4)</td></tr>",
                            "<tr><td>The Sandman: Worlds&#39; End</td><td>Worlds&#39; End (The Sandman #8)</td></tr>",
                            "<tr><td>Drei Kameraden</td><td>Three Comrades</td></tr>",
                            "<tr><td>UnDivided</td><td>UnDivided (Unwind, #4)</td></tr>",
                            "<tr><td>The Hobbit</td><td>The Hobbit: Graphic Novel</td></tr>",
                            "<tr><td>The Complete Tales and Poems of Edgar Allan Poe</td><td>The Complete Tales and Poems</td></tr>",
                            "<tr><td>The Crimson Crown</td><td>The Crimson Crown (Seven Realms, #4)</td></tr>",
                            "<tr><td>The Chronicles of Narnia - The Lion, the Witch, and the Wardrobe Official Illustrated Movie Companion</td><td>The Chronicles of Narnia - The Lion, the Witch, and the Wardrobe Official Illustrated Movie Companion</td></tr>",
                            "<tr><td>The Assassin&#39;s Blade</td><td>The Assassin&#39;s Blade (Throne of Glass, #0.1-0.5)</td></tr>",
                            "<tr><td>Mortal Coil</td><td>Mortal Coil (Skulduggery Pleasant, #5)</td></tr>",
                            "<tr><td>On Food and Cooking: The Science and Lore of the Kitchen</td><td>On Food and Cooking: The Science and Lore of the Kitchen</td></tr>",
                            "<tr><td>Harry Potter: Film Wizardry</td><td>Harry Potter: Film Wizardry</td></tr>",
                            "<tr><td>Just One Drop</td><td>Just One Drop (The Grey Wolves, #3)</td></tr>",
                            "<tr><td>Evicted: Poverty and Profit in the American City</td><td>Evicted: Poverty and Profit in the American City</td></tr>",
                            "<tr><td>City of Heavenly Fire</td><td>City of Heavenly Fire (The Mortal Instruments, #6)</td></tr>",
                            "<tr><td>黒執事 II [Kuroshitsuji II]</td><td>Black Butler, Vol. 2 (Black Butler, #2)</td></tr>",
                            "<tr><td>青の祓魔師 2</td><td>Blue exorcist, Tome 2</td></tr>",
                            "<tr><td>Assata: An Autobiography</td><td>Assata: An Autobiography</td></tr>",
                            "<tr><td>A Game of Thrones - The Graphic Novel Volume 1</td><td>A Game of Thrones: The Graphic Novel, Vol. 1</td></tr>",
                            "<tr><td>A Charlie Brown Christmas </td><td>A Charlie Brown Christmas</td></tr>",
                            "<tr><td>Blood Song</td><td>Blood Song (Raven&#39;s Shadow, #1)</td></tr>",
                            "<tr><td>Demon From the Dark </td><td>Demon from the Dark (Immortals After Dark #10)</td></tr>",
                            "<tr><td>Darkest Powers Trilogy (Darkest Powers, #1-3)</td><td>Darkest Powers Trilogy (Darkest Powers, #1-3)</td></tr>",
                            "<tr><td>Ficciones</td><td>Ficciones</td></tr>",
                            "<tr><td>Finding Nemo</td><td>Finding Nemo</td></tr>",
                            "<tr><td>Fireproof</td><td>Fireproof</td></tr>",
                            "<tr><td>Lady Midnight</td><td>Lady Midnight (The Dark Artifices, #1)</td></tr>",
                            "<tr><td>Lonesome Dove</td><td>Lonesome Dove</td></tr>",
                            "<tr><td>Hamilton: The Revolution</td><td>Hamilton: The Revolution</td></tr>",
                            "<tr><td>Night Watch</td><td>Night Watch (Discworld, #29; City Watch, #6)</td></tr>",
                            "<tr><td>Magic Shifts</td><td>Magic Shifts (Kate Daniels, #8)</td></tr>",
                            "<tr><td>The Coldest Winter Ever</td><td>The Coldest Winter Ever</td></tr>",
                            "<tr><td>Saga, Volume Four</td><td>Saga, Vol. 4 (Saga, #4)</td></tr>",
                            "<tr><td>ソウルイーター 2</td><td>Soul Eater, Vol. 02 (Soul Eater, #2)</td></tr>",
                            "<tr><td>The Green Mile, Part 2: The Mouse on the Mile</td><td>The Green Mile, Part 2: The Mouse on the Mile</td></tr>",
                            "<tr><td>The Gruffalo</td><td>The Gruffalo</td></tr>",
                            "<tr><td>The Mark of Athena</td><td>The Mark of Athena (The Heroes of Olympus, #3)</td></tr>",
                            "<tr><td>The Lord of the Rings</td><td>The Lord of the Rings (The Lord of the Rings, #1-3)</td></tr>",
                            "<tr><td>We Should All Be Feminists</td><td>We Should All Be Feminists</td></tr>",
                            "<tr><td>Tramp for the Lord</td><td>Tramp for the Lord</td></tr>",
                            "<tr><td>The Walking Dead, Vol. 8: Made To Suffer</td><td>The Walking Dead, Vol. 08: Made to Suffer</td></tr>",
                            "<tr><td>The summer I turned pretty</td><td>The Summer I Turned Pretty Trilogy: The Summer I Turned Pretty; It&#39;s Not Summer Without You; We&#39;ll Always Have Summer</td></tr>",
                            "<tr><td>The Lion King (Little Golden Book)</td><td>The Lion King: A little Golden Book</td></tr>",
                            "<tr><td>Män som hatar kvinnor, Flickan som lekte med elden, Luftslottet som sprängdes</td><td>The Millennium Trilogy (Millennium Trilogy, #1-3)</td></tr>",
                            "<tr><td>The Hero of Ages</td><td>The Hero of Ages (Mistborn, #3)</td></tr>",
                            "<tr><td>Shoe Dog: A Memoir by the Creator of Nike</td><td>Shoe Dog: A Memoir by the Creator of NIKE</td></tr>",
                            "<tr><td>Six of Crows</td><td>Six of Crows (Six of Crows, #1)</td></tr>",
                            "<tr><td>Shadowfever</td><td>Shadowfever (Fever, #5)</td></tr>",
                            "<tr><td>The Broken Eye</td><td>The Broken Eye (Lightbringer, #3)</td></tr>",
                            "<tr><td>Sherlock Holmes: The Complete Novels and Stories, Vol 2</td><td>The Complete Sherlock Holmes, Vol 2</td></tr>",
                            "<tr><td>The Complete Adventures of Peter Rabbit</td><td>The Complete Adventures of Peter Rabbit</td></tr>",
                            "<tr><td>桜蘭高校ホスト部 2</td><td>Ouran High School Host Club, Vol. 2 (Ouran High School Host Club, #2)</td></tr>",
                            "<tr><td>Harry Potter and the Order of the Phoenix</td><td>Harry Potter and the Order of the Phoenix (Harry Potter, #5)</td></tr>",
                            "<tr><td>Golden Son</td><td>Golden Son (Red Rising, #2)</td></tr>",
                            "<tr><td>Heir of Novron</td><td>Heir of Novron (The Riyria Revelations, #5-6)</td></tr>",
                            "<tr><td>Labyrinths</td><td>Labyrinths:  Selected Stories and Other Writings</td></tr>",
                            "<tr><td>Magic Bleeds</td><td>Magic Bleeds (Kate Daniels, #4)</td></tr>",
                            "<tr><td>フルーツバスケット 14</td><td>Fruits Basket, Vol. 14</td></tr>",
                            "<tr><td>Clockwork Prince</td><td>Clockwork Prince (The Infernal Devices, #2)</td></tr>",
                            "<tr><td>Cress</td><td>Cress (The Lunar Chronicles, #3)</td></tr>",
                            "<tr><td>A Great Reckoning</td><td>A Great Reckoning (Chief Inspector Armand Gamache, #12)</td></tr>",
                            "<tr><td>A Game of Thrones</td><td>A Game of Thrones (A Song of Ice and Fire, #1)</td></tr>",
                            "<tr><td>Archer&#39;s Voice</td><td>Archer&#39;s Voice</td></tr>",
                            "<tr><td>Dark Days</td><td>Dark Days (Skulduggery Pleasant, #4)</td></tr>",
                            "<tr><td>Collected Works</td><td>Complete Works of Oscar Wilde</td></tr>",
                            "<tr><td>フルーツバスケット 15</td><td>Fruits Basket, Vol. 15</td></tr>",
                            "<tr><td>The Sandman: Fables and Reflections</td><td>Fables and Reflections (The Sandman #6)</td></tr>",
                            "<tr><td>Lover Awakened (Black Dagger Brotherhood, #3)</td><td>Lover Awakened (Black Dagger Brotherhood, #3)</td></tr>",
                            "<tr><td>Harry Potter and Philosophy: If Aristotle Ran Hogwarts</td><td>Harry Potter and Philosophy: If Aristotle Ran Hogwarts</td></tr>",
                            "<tr><td>桜蘭高校ホスト部 4</td><td>Ouran High School Host Club, Vol. 4 (Ouran High School Host Club, #4)</td></tr>",
                            "<tr><td>Pale Demon</td><td>Pale Demon (The Hollows, #9)</td></tr>",
                            "<tr><td>Ride Steady</td><td>Ride Steady (Chaos, #3)</td></tr>",
                            "<tr><td>Rejoice</td><td>Rejoice (Redemption, #4)</td></tr>",
                            "<tr><td>Praying God&#39;s Word: Breaking Free From Spiritual Strongholds</td><td>Praying God&#39;s Word: Breaking Free From Spiritual Strongholds</td></tr>",
                            "<tr><td>Miss Rumphius</td><td>Miss Rumphius</td></tr>",
                            "<tr><td>The Blinding Knife</td><td>The Blinding Knife (Lightbringer, #2)</td></tr>",
                            "<tr><td>The Bands of Mourning</td><td>The Bands of Mourning (Mistborn, #6)</td></tr>",
                            "<tr><td>The Beast</td><td>The Beast (Black Dagger Brotherhood, #14)</td></tr>",
                            "<tr><td>Sherlock Holmes: The Complete Novels and Stories, Volume I</td><td>Sherlock Holmes: The Complete Novels and Stories, Volume I</td></tr>",
                            "<tr><td>The Help</td><td>The Help</td></tr>",
                            "<tr><td>The Far Side Gallery 3</td><td>The Far Side Gallery 3</td></tr>",
                            "<tr><td>The Fire Next Time</td><td>The Fire Next Time</td></tr>",
                            "<tr><td>The Monster at the End of This Book</td><td>The Monster at the End of this Book</td></tr>",
                            "<tr><td>Turn Coat</td><td>Turn Coat (The Dresden Files, #11)</td></tr>",
                            "<tr><td>Wicked - Piano/Vocal Arrangement</td><td>Wicked - Piano/Vocal Arrangement</td></tr>",
                            "<tr><td>You Are Special: A Story for Everyone</td><td>You Are Special (Wemmicksville, #1)</td></tr>",
                            "<tr><td>United We Spy</td><td>United We Spy (Gallagher Girls, #6)</td></tr>",
                            "<tr><td>The Son of Neptune </td><td>The Son of Neptune (The Heroes of Olympus, #2)</td></tr>",
                            "<tr><td>The Poetry of Pablo Neruda</td><td>The Poetry of Pablo Neruda</td></tr>",
                            "<tr><td>Essential Rumi</td><td>The Essential Rumi</td></tr>",
                            "<tr><td>The Doll&#39;s House</td><td>The Doll&#39;s House (The Sandman #2)</td></tr>",
                            "<tr><td>The Declaration of Independence and The Constitution of the United States </td><td>The Declaration of Independence and The Constitution of the United States</td></tr>",
                            "<tr><td>Saga, Volume Five</td><td>Saga, Vol. 5 (Saga, #5)</td></tr>",
                            "<tr><td>The Book of Negroes</td><td>Someone Knows My Name</td></tr>",
                            "<tr><td>The Crippled God</td><td>The Crippled God (The Malazan Book of the Fallen, #10)</td></tr>",
                            "<tr><td>The Complete Stories</td><td>The Complete Stories</td></tr>",
                            "<tr><td>Magic Strikes</td><td>Magic Strikes (Kate Daniels, #3)</td></tr>",
                            "<tr><td>Magician: Apprentice (The Riftwar Saga, #1) </td><td>Magician: Apprentice  (Raymond E. Feist&#39;s Magician: Apprentice #1)</td></tr>",
                            "<tr><td>Un livre</td><td>Press Here</td></tr>",
                            "<tr><td>Return</td><td>Return (Redemption, #3)</td></tr>",
                            "<tr><td>桜蘭高校ホスト部 3</td><td>Ouran High School Host Club, Vol. 3 (Ouran High School Host Club, #3)</td></tr>",
                            "<tr><td>Origin</td><td>Origin (Lux, #4)</td></tr>",
                            "<tr><td>Harry Potter and the Philosopher&#39;s Stone</td><td>Harry Potter and the Sorcerer&#39;s Stone (Harry Potter, #1)</td></tr>",
                            "<tr><td>Ignite Me (Shatter Me, #3)</td><td>Ignite Me (Shatter Me, #3)</td></tr>",
                            "<tr><td>Locke &amp; Key, Vol. 4: Keys to the Kingdom</td><td>Locke &amp; Key, Vol. 4: Keys to the Kingdom</td></tr>",
                            "<tr><td>Lady Luck</td><td>Lady Luck (Colorado Mountain, #3)</td></tr>",
                            "<tr><td>It Ends with Us</td><td>It Ends with Us</td></tr>",
                            "<tr><td>Eclipse: The Official Illustrated Movie Companion</td><td>Eclipse: The Complete Illustrated Movie Companion (The Twilight Saga: The Official Illustrated Movie Companion, #3)</td></tr>",
                            "<tr><td>Dreamfever</td><td>Dreamfever (Fever, #4)</td></tr>",
                            "<tr><td>Facing Your Giants: The God Who Made a Miracle Out of David Stands Ready to Make One Out of You</td><td>Facing Your Giants: A David and Goliath Story for Everyday People</td></tr>",
                            "<tr><td>Dead Beat</td><td>Dead Beat (The Dresden Files, #7)</td></tr>",
                            "<tr><td>The Sandman: A Game of You</td><td>A Game of You (The Sandman #5)</td></tr>",
                            "<tr><td>A Breath of Snow and Ashes</td><td>A Breath of Snow and Ashes (Outlander, #6)</td></tr>",
                            "<tr><td>A Civil Campaign</td><td>A Civil Campaign (Vorkosigan Saga, #12)</td></tr>",
                            "<tr><td>Breaking Free</td><td>Breaking Free: Discover the Victory of Total Surrender</td></tr>",
                            "<tr><td>Incendiary</td><td>Incendiary (The Premonition, #4)</td></tr>",
                            "<tr><td>Left to Tell: Discovering God Amidst the Rwandan Holocaust</td><td>Left to Tell: Discovering God Amidst the Rwandan Holocaust</td></tr>",
                            "<tr><td>Lothaire</td><td>Lothaire (Immortals After Dark #12)</td></tr>",
                            "<tr><td>Hunter × Hunter #1</td><td>Hunter x Hunter, Vol. 01 (Hunter x Hunter, #1)</td></tr>",
                            "<tr><td>Opposition</td><td>Opposition (Lux, #5)</td></tr>",
                            "<tr><td>Magic Slays</td><td>Magic Slays (Kate Daniels, #5)</td></tr>",
                            "<tr><td>Motorcycle Man</td><td>Motorcycle Man (Dream Man, #4)</td></tr>",
                            "<tr><td>宮本武蔵 Miyamoto Musashi</td><td>Musashi</td></tr>",
                            "<tr><td>Small Favor</td><td>Small Favor (The Dresden Files, #10)</td></tr>",
                            "<tr><td>Sookie Stackhouse, Books 1-7</td><td>Sookie Stackhouse 7-copy Boxed Set (Sookie Stackhouse, #1-7)</td></tr>",
                            "<tr><td>The Shadows Over Innsmouth</td><td>Shadows over Innsmouth</td></tr>",
                            "<tr><td>Mistborn : The Final Empire</td><td>The Final Empire (Mistborn, #1)</td></tr>",
                            "<tr><td>The Undead Pool</td><td>The Undead Pool (The Hollows, #12)</td></tr>",
                            "<tr><td>The Walking Dead Compendium Volume 1</td><td>The Walking Dead, Compendium 1</td></tr>",
                            "<tr><td>The Walking Dead. Book Three</td><td>The Walking Dead, Book Three (The Walking Dead #25-36)</td></tr>",
                            "<tr><td>The Wheel of Time: Boxed Set #1 (Wheel of Time, #1-3)</td><td>The Wheel of Time: Boxed Set #1 (Wheel of Time, #1-3)</td></tr>",
                            "<tr><td>Treachery in Death</td><td>Treachery in Death (In Death, #32)</td></tr>",
                            "<tr><td>東京喰種トーキョーグール 1</td><td>Tokyo Ghoul, tome 1 (Tokyo Ghoul, #1)</td></tr>",
                            "<tr><td>This Man Confessed</td><td>This Man Confessed (This Man, #3)</td></tr>",
                            "<tr><td>The Witch with No Name</td><td>The Witch With No Name (The Hollows, #13)</td></tr>",
                            "<tr><td>Winnie-the-Pooh &amp; The House at Pooh Corner</td><td>The World of Winnie-the-Pooh (Winnie-the-Pooh, #1-2)</td></tr>",
                            "<tr><td>رباعيات صلاح جاهين</td><td>رباعيات صلاح جاهين</td></tr>",
                            "<tr><td>Wonder</td><td>Wonder</td></tr>",
                            "<tr><td>Towers of Midnight</td><td>Towers of Midnight (Wheel of Time, #13)</td></tr>",
                            "<tr><td>Where I’m Calling From: The Selected Stories</td><td>Where I&#39;m Calling From: New and Selected Stories</td></tr>",
                            "<tr><td>The Two Towers</td><td>The Two Towers (The Lord of the Rings, #2)</td></tr>",
                            "<tr><td>Двенадцать стульев</td><td>The Twelve Chairs</td></tr>",
                            "<tr><td>The Far Side Gallery</td><td>The Far Side Gallery</td></tr>",
                            "<tr><td>The Darkest Surrender</td><td>The Darkest Surrender  (Lords of the Underworld #8)</td></tr>",
                            "<tr><td>The Hiding Place</td><td>The Hiding Place: The Triumphant True Story of Corrie Ten Boom</td></tr>",
                            "<tr><td>The Green Mile</td><td>The Green Mile</td></tr>",
                            "<tr><td>The Path to Power</td><td>The Path to Power (The Years of Lyndon Johnson, #1)</td></tr>",
                            "<tr><td>The Night Angel Trilogy</td><td>The Night Angel Trilogy (Night Angel, #1-3)</td></tr>",
                            "<tr><td>Roots</td><td>Roots: The Saga of an American Family</td></tr>",
                            "<tr><td>Sweet Dreams</td><td>Sweet Dreams (Colorado Mountain, #2)</td></tr>",
                            "<tr><td>The Complete Anne of Green Gables Boxed Set</td><td>The Complete Anne of Green Gables Boxed Set (Anne of Green Gables, #1-8)</td></tr>",
                            "<tr><td>The Bonehunters</td><td>The Bonehunters (Malazan Book of the Fallen, #6)</td></tr>",
                            "<tr><td>The Assassin and the Empire</td><td>The Assassin and the Empire (Throne of Glass, #0.5)</td></tr>",
                            "<tr><td>Tales From a Not-So-Smart Miss Know-it-all</td><td>Tales from a Not-So-Smart Miss Know-It-All (Dork Diaries, #5)</td></tr>",
                            "<tr><td>Tales From a Not-So-Happy-Heartbreaker</td><td>Tales from a Not-So-Happy Heartbreaker (Dork Diaries, #6)</td></tr>",
                            "<tr><td>New York to Dallas</td><td>New York to Dallas (In Death, #33)</td></tr>",
                            "<tr><td>Night Broken</td><td>Night Broken (Mercy Thompson, #8)</td></tr>",
                            "<tr><td>Nothing to Envy: Ordinary Lives in North Korea</td><td>Nothing to Envy: Ordinary Lives in North Korea</td></tr>",
                            "<tr><td>One Piece, Volume 01</td><td>One Piece, Volume 01: Romance Dawn (One Piece, #1)</td></tr>",
                            "<tr><td>Reckless</td><td>Reckless (Thoughtless, #3)</td></tr>",
                            "<tr><td>H.M.S. Surprise </td><td>H.M.S. Surprise</td></tr>",
                            "<tr><td>Last Sacrifice </td><td>Last Sacrifice (Vampire Academy, #6)</td></tr>",
                            "<tr><td>Ina May&#39;s Guide to Childbirth</td><td>Ina May&#39;s Guide to Childbirth</td></tr>",
                            "<tr><td>Fablehaven: Keys to the Demon Prison (Fablehaven, #5)</td><td>Keys to the Demon Prison (Fablehaven, #5)</td></tr>",
                            "<tr><td>Bone: The Complete Cartoon Epic in One Volume</td><td>Bone: The Complete Edition</td></tr>",
                            "<tr><td>進撃の巨人 1</td><td>Attack on Titan, Vol. 1 (Attack on Titan, #1)</td></tr>",
                            "<tr><td>Band of Brothers: E Company, 506th Regiment, 101st Airborne from Normandy to Hitler&#39;s Eagle&#39;s Nest</td><td>Band of Brothers: E Company, 506th Regiment, 101st Airborne from Normandy to Hitler&#39;s Eagle&#39;s Nest</td></tr>",
                            "<tr><td>A Dangerous Path</td><td>A Dangerous Path (Warriors, #5)</td></tr>",
                            "<tr><td>An Echo in the Bone</td><td>An Echo in the Bone (Outlander, #7)</td></tr>",
                            "<tr><td>デスノート #1 (Desu Nōto) Taikutsu (退屈)</td><td>Death Note, Vol. 1: Boredom (Death Note, #1)</td></tr>",
                            "<tr><td>デスノート #2 (Desu Nōto) Gōryū (合流)</td><td>Death Note, Vol. 2: Confluence (Death Note, #2)</td></tr>",
                            "<tr><td>デスノート #3 (Desu Nōto) Gekisō (激走)</td><td>Death Note, Vol. 3: Hard Run (Death Note, #3)</td></tr>",
                            "<tr><td>孫悟空と仲間たち</td><td>Dragon Ball, Vol. 1: The Monkey King (Dragon Ball, #1)</td></tr>",
                            "<tr><td>Deity</td><td>Deity (Covenant, #3)</td></tr>",
                            "<tr><td>デスノート #7 (Desu Nōto) Zero (零)</td><td>Death Note, Vol. 7: Zero (Death Note, #7)</td></tr>",
                            "<tr><td>Fantastic Beasts and Where to Find Them: The Original Screenplay</td><td>Fantastic Beasts and Where to Find Them: The Original Screenplay</td></tr>",
                            "<tr><td>Four Great Tragedies: Hamlet, Othello, King Lear, Macbeth (Signet Classics)</td><td>Four Great Tragedies: Hamlet / Othello / King Lear / Macbeth</td></tr>",
                            "<tr><td>Elixir</td><td>Elixir (Covenant, #3.5)</td></tr>",
                            "<tr><td>A Dance With Dragons: Part 2 After The Feast</td><td>A Dance with Dragons: After the Feast (A Song of Ice and Fire #5, Part 2 of 2)</td></tr>",
                            "<tr><td>A Dog&#39;s Journey: Another Novel for Humans</td><td>A Dog&#39;s Journey (A Dog&#39;s Purpose, #2)</td></tr>",
                            "<tr><td>Avatar The Last Airbender: The Lost Adventures</td><td>Avatar: The Last Airbender: The Lost Adventures</td></tr>",
                            "<tr><td>Blood Rites </td><td>Blood Rites (The Grey Wolves, #2)</td></tr>",
                            "<tr><td>Bleach―ブリーチ― 15</td><td>Bleach, Volume 15</td></tr>",
                            "<tr><td>Crown of Shadows</td><td>Locke &amp; Key, Vol. 3: Crown of Shadows</td></tr>",
                            "<tr><td>Lover Avenged, part one</td><td>Lover Mine (Black Dagger Brotherhood, #8)</td></tr>",
                            "<tr><td>フルーツバスケット 7</td><td>Fruits Basket, Vol. 7</td></tr>",
                            "<tr><td>How the Light Gets In</td><td>How the Light Gets In (Chief Inspector Armand Gamache, #9)</td></tr>",
                            "<tr><td>Homegoing</td><td>Homegoing</td></tr>",
                            "<tr><td>Remember</td><td>Remember (Redemption, #2)</td></tr>",
                            "<tr><td>Proven Guilty</td><td>Proven Guilty (The Dresden Files, #8)</td></tr>",
                            "<tr><td>One Tuesday Morning</td><td>One Tuesday Morning (9/11, #1)</td></tr>",
                            "<tr><td>Pleasure of a Dark Prince </td><td>Pleasure of a Dark Prince (Immortals After Dark #9)</td></tr>",
                            "<tr><td>November 9</td><td>November 9</td></tr>",
                            "<tr><td>Master of the Senate</td><td>Master of the Senate (The Years of Lyndon Johnson, #3)</td></tr>",
                            "<tr><td>Maus II : And Here My Troubles Began </td><td>Maus II: A Survivor&#39;s Tale: And Here My Troubles Began (Maus, #2)</td></tr>",
                            "<tr><td>The Blood of Olympus</td><td>The Blood of Olympus (The Heroes of Olympus, #5)</td></tr>",
                            "<tr><td>The Cat in the Hat and Other Dr. Seuss Favorites</td><td>The Cat in the Hat and Other Dr. Seuss Favorites</td></tr>",
                            "<tr><td>קיצור תולדות האנושות‎‎</td><td>Sapiens: A Brief History of Humankind</td></tr>",
                            "<tr><td>Scott Pilgrim, Volume 6: Scott Pilgrim&#39;s Finest Hour</td><td>Scott Pilgrim, Volume 6: Scott Pilgrim&#39;s Finest Hour</td></tr>",
                            "<tr><td>The Peacegiver: How Christ Offers to Heal Our Hearts and Homes</td><td>The Peacegiver: How Christ Offers to Heal Our Hearts and Homes</td></tr>",
                            "<tr><td>The Kissing Hand</td><td>The Kissing Hand</td></tr>",
                            "<tr><td>The Indigo Spell</td><td>The Indigo Spell (Bloodlines, #3)</td></tr>",
                            "<tr><td>The Day the Crayons Quit</td><td>The Day the Crayons Quit</td></tr>",
                            "<tr><td>The Story of Ruby Bridges</td><td>The Story of Ruby Bridges</td></tr>",
                            "<tr><td>The Weight of Glory</td><td>The Weight of Glory</td></tr>",
                            "<tr><td>White Night</td><td>White Night (The Dresden Files, #9)</td></tr>",
                            "<tr><td>Transmetropolitan Vol. 4: The New Scum</td><td>Transmetropolitan, Vol. 4: The New Scum (Transmetropolitan, #4)</td></tr>",
                            "<tr><td>Tiger&#39;s Destiny</td><td>Tiger&#39;s Destiny (The Tiger Saga, #4)</td></tr>",
                            "<tr><td>Thief</td><td>Thief (Love Me with Lies, #3)</td></tr>",
                            "<tr><td>Transmetropolitan, Vol. 5: Lonely City</td><td>Transmetropolitan, Vol. 5: Lonely City (Transmetropolitan, #5)</td></tr>",
                            "<tr><td>Transmetropolitan, Vol. 3: Year of the Bastard</td><td>Transmetropolitan, Vol. 3: Year of the Bastard (Transmetropolitan, #3)</td></tr>",
                            "<tr><td>Unbroken: A World War II Story of Survival, Resilience, and Redemption</td><td>Unbroken: A World War II Story of Survival, Resilience, and Redemption</td></tr>",
                            "<tr><td>The Sunne in Splendour</td><td>The Sunne in Splendour</td></tr>",
                            "<tr><td>The Royal Ranger (Ranger&#39;s Apprentice, #12)</td><td>The Royal Ranger (Ranger&#39;s Apprentice, #12)</td></tr>",
                            "<tr><td>With The Old Breed: At Peleliu And Okinawa</td><td>With the Old Breed: At Peleliu and Okinawa</td></tr>",
                            "<tr><td>The Exploits of Sherlock Holmes</td><td>The Exploits of Sherlock Holmes</td></tr>",
                            "<tr><td>The Faceless Ones</td><td>The Faceless Ones (Skulduggery Pleasant, #3)</td></tr>",
                            "<tr><td>The Guardian</td><td>The Guardian (O&#39;Malley #2)</td></tr>",
                            "<tr><td>Frog And Toad Book Set: Frog And Toad Are Friends; Frog And Toad Together; Days With Frog And Toad; Frog And Toad All Year</td><td>The Frog and Toad Treasury: Frog and Toad are Friends/Frog and Toad Together/Frog and Toad All Year  (Frog and Toad #1-3)</td></tr>",
                            "<tr><td>The Further Adventures of Sherlock Holmes (Classic Crime)</td><td>The Further Adventures of Sherlock Holmes: After Sir Arthur Conan Doyle (Classic Crime)</td></tr>",
                            "<tr><td>The Healer</td><td>The Healer (O&#39;Malley #5)</td></tr>",
                            "<tr><td>The Invaders</td><td>The Invaders (Brotherband Chronicles, #2)</td></tr>",
                            "<tr><td>Sherlock Holmes of Baker Street, the life of the world’s first consulting detective.</td><td>Sherlock Holmes of Baker Street: A Life of the World&#39;s First Consulting Detective</td></tr>",
                            "<tr><td>The Assassin and the Desert</td><td>The Assassin and the Desert (Throne of Glass, #0.3)</td></tr>",
                            "<tr><td>会長はメイド様! 1</td><td>Maid-sama! Vol. 01 (Maid-sama!, #1)</td></tr>",
                            "<tr><td>Miecz przeznaczenia</td><td>Miecz przeznaczenia (Saga o Wiedźminie, #2)</td></tr>",
                            "<tr><td>Promises in Death</td><td>Promises in Death (In Death, #28)</td></tr>",
                            "<tr><td>Gates of Fire: An Epic Novel of the Battle of Thermopylae</td><td>Gates of Fire: An Epic Novel of the Battle of Thermopylae</td></tr>",
                            "<tr><td>Light</td><td>Light (Gone, #6)</td></tr>",
                            "<tr><td>Being Mortal: Medicine and What Matters in the End</td><td>Being Mortal: Medicine and What Matters in the End</td></tr>",
                            "<tr><td>Between the World and Me</td><td>Between the World and Me</td></tr>",
                            "<tr><td>Beauty and the Beast (Little Golden Book)</td><td>Beauty and the Beast (Disney)</td></tr>",
                            "<tr><td>A Clash of Kings</td><td>A Clash of Kings  (A Song of Ice and Fire, #2)</td></tr>",
                            "<tr><td>Cien sonetos de amor</td><td>100 Love Sonnets</td></tr>",
                            "<tr><td>Apollyon</td><td>Apollyon (Covenant, #4)</td></tr>",
                            "<tr><td>Arc de Triomphe</td><td>Arch of Triumph: A Novel of a Man Without a Country</td></tr>",
                            "<tr><td>Fairy Tail 1</td><td>Fairy Tail, Vol. 1 (Fairy Tail, #1)</td></tr>",
                            "<tr><td>Fourth Grave Beneath My Feet</td><td>Fourth Grave Beneath My Feet (Charley Davidson, #4)</td></tr>",
                            "<tr><td>Forest of Secrets</td><td>Forest of Secrets (Warriors, #3)</td></tr>",
                            "<tr><td>Every Thing On It</td><td>Every Thing on It</td></tr>",
                            "<tr><td>Endless Knight </td><td>Endless Knight (The Arcana Chronicles, #2)</td></tr>",
                            "<tr><td>Dreams of a Dark Warrior</td><td>Dreams of a Dark Warrior (Immortals After Dark #11)</td></tr>",
                            "<tr><td>デスノート #6 (Desu Nōto) Kōkan (交換)</td><td>Death Note, Vol. 6: Give-and-Take (Death Note, #6)</td></tr>",
                            "<tr><td>Dance with the Devil</td><td>Dance with the Devil (Dark-Hunter #3)</td></tr>",
                            "<tr><td>As Sure as the Dawn (Mark of the Lion, #3)</td><td>As Sure as the Dawn (Mark of the Lion, #3)</td></tr>",
                            "<tr><td>Vets Might Fly and Vet in a Spin</td><td>All Things Wise and Wonderful</td></tr>",
                            "<tr><td>Beauty and the Beast</td><td>Beauty and the Beast</td></tr>",
                            "<tr><td>Black Magic Sanction</td><td>Black Magic Sanction (The Hollows, #8)</td></tr>",
                            "<tr><td>Losing Hope</td><td>Losing Hope (Hopeless, #2)</td></tr>",
                            "<tr><td>フルーツバスケット 4</td><td>Fruits Basket, Vol. 4</td></tr>",
                            "<tr><td>I Love You Through And Through</td><td>I Love You Through and Through</td></tr>",
                            "<tr><td>I Want My Hat Back</td><td>I Want My Hat Back</td></tr>",
                            "<tr><td>Red Notice: A True Story of High Finance, Murder, and One Man’s Fight for Justice</td><td>Red Notice: A True Story of High Finance, Murder, and One Man’s Fight for Justice</td></tr>",
                            "<tr><td>Memories of Ice</td><td>Memories of Ice (The Malazan Book of the Fallen, #3)</td></tr>",
                            "<tr><td>Martin Eden</td><td>Martin Eden</td></tr>",
                            "<tr><td>My Utmost for His Highest</td><td>My Utmost for His Highest</td></tr>",
                            "<tr><td>El Aleph</td><td>The Aleph and Other Stories </td></tr>",
                            "<tr><td>The Battle of the Labyrinth</td><td>The Battle of the Labyrinth (Percy Jackson and the Olympians, #4)</td></tr>",
                            "<tr><td>The Brothers K</td><td>The Brothers K</td></tr>",
                            "<tr><td>Streams in the Desert</td><td>Streams in the Desert</td></tr>",
                            "<tr><td>Stand Tall, Molly Lou Melon</td><td>Stand Tall, Molly Lou Melon</td></tr>",
                            "<tr><td>The Lord God Made Them All</td><td>The Lord God Made Them All</td></tr>",
                            "<tr><td>The Morganville Vampires, Volume 3</td><td>The Morganville Vampires, Volume 3 (The Morganville Vampires, #5-6)</td></tr>",
                            "<tr><td>The Martian</td><td>The Martian</td></tr>",
                            "<tr><td>The Foundation Trilogy</td><td>The Foundation Trilogy (Foundation, #1-3)</td></tr>",
                            "<tr><td>The Gray Wolf Throne</td><td>The Gray Wolf Throne (Seven Realms, #3)</td></tr>",
                            "<tr><td>The Fiery Heart</td><td>The Fiery Heart (Bloodlines, #4)</td></tr>",
                            "<tr><td>Winnie the Pooh and Tigger Too</td><td>Winnie the Pooh and Tigger Too (Disney&#39;s Wonderful World of Reading)</td></tr>",
                            "<tr><td>The Rose and the Thorn</td><td>The Rose and the Thorn (The Riyria Chronicles, #2)</td></tr>",
                            "<tr><td>The Prodigal God: Christianity Redefined Through the Parable of the Prodigal Sons</td><td>The Prodigal God: Recovering the Heart of the Christian Faith</td></tr>",
                            "<tr><td>Storia della bambina perduta</td><td>The Story of the Lost Child (The Neapolitan Novels, #4)</td></tr>",
                            "<tr><td>The Truth Seeker (O&#39;Malley #3)</td><td>The Truth Seeker (O&#39;Malley #3)</td></tr>",
                            "<tr><td>Twilight and Philosophy: Vampires, Vegetarians, and the Pursuit of Immortality (The Blackwell Philosophy and Pop Culture Series)</td><td>Twilight and Philosophy: Vampires, Vegetarians, and the Pursuit of Immortality</td></tr>",
                            "<tr><td>Third Grave Dead Ahead</td><td>Third Grave Dead Ahead (Charley Davidson, #3)</td></tr>",
                            "<tr><td>Through Gates of Splendor</td><td>Through Gates of Splendor</td></tr>",
                            "<tr><td>Twilight and History</td><td>Twilight and History</td></tr>",
                            "<tr><td>Whispers at Moonrise </td><td>Whispers at Moonrise (Shadow Falls, #4)</td></tr>",
                            "<tr><td>Voyager</td><td>Voyager (Outlander, #3)</td></tr>",
                            "<tr><td>War and Remembrance</td><td>War and Remembrance (The Henry Family, #2)</td></tr>",
                            "<tr><td>Pursuit of God</td><td>The Pursuit of God</td></tr>",
                            "<tr><td>The Return of the Prodigal Son: A Story of Homecoming</td><td>The Return of the Prodigal Son: A Story of Homecoming</td></tr>",
                            "<tr><td>The Sandman: The Dream Hunters</td><td>The Sandman: The Dream Hunters</td></tr>",
                            "<tr><td>黑暗森林</td><td>The Dark Forest (Remembrance of Earth’s Past, #2)</td></tr>",
                            "<tr><td>The Giving Tree</td><td>The Giving Tree</td></tr>",
                            "<tr><td>The Outlaw Demon Wails </td><td>The Outlaw Demon Wails (The Hollows, #6)</td></tr>",
                            "<tr><td>The Power of a Praying Woman</td><td>The Power of a Praying Woman</td></tr>",
                            "<tr><td>The Looming Tower: Al-Qaeda and the Road to 9/11</td><td>The Looming Tower: Al-Qaeda and the Road to 9/11</td></tr>",
                            "<tr><td>Stone Cold Touch</td><td>Stone Cold Touch (The Dark Elements, #2)</td></tr>",
                            "<tr><td>Survivor in Death (In Death, #20)</td><td>Survivor In Death (In Death, #20)</td></tr>",
                            "<tr><td>Sixth Grave on the Edge</td><td>Sixth Grave on the Edge (Charley Davidson, #6)</td></tr>",
                            "<tr><td>Silver Borne</td><td>Silver Borne (Mercy Thompson, #5)</td></tr>",
                            "<tr><td>Mistborn: Secret History</td><td>Secret History (Mistborn, #3.5)</td></tr>",
                            "<tr><td>The Beatles Anthology</td><td>The Beatles Anthology</td></tr>",
                            "<tr><td>Tales From a Not-So-Graceful Ice Princess</td><td>Tales from a Not-So-Graceful Ice Princess (Dork Diaries, #4)</td></tr>",
                            "<tr><td>Now We Are Six</td><td>Now We Are Six (Winnie-the-Pooh, #4)</td></tr>",
                            "<tr><td>Rising storm</td><td>Rising Storm (Warriors, #4)</td></tr>",
                            "<tr><td>Homicide: A Year on the Killing Streets</td><td>Homicide: A Year on the Killing Streets</td></tr>",
                            "<tr><td>Halt&#39;s Peril</td><td>Halt&#39;s Peril (Ranger&#39;s Apprentice, #9)</td></tr>",
                            "<tr><td>Love You to Death: The Unofficial Companion to The Vampire Diaries</td><td>Love You to Death: The Unofficial Companion to the Vampire Diaries</td></tr>",
                            "<tr><td>Lover Enshrined, part two</td><td>Lover Avenged (Black Dagger Brotherhood, #7)</td></tr>",
                            "<tr><td>神様はじめました 1</td><td>Kamisama Kiss, Vol. 1</td></tr>",
                            "<tr><td>Beautiful Player</td><td>Beautiful Player (Beautiful Bastard, #3)</td></tr>",
                            "<tr><td>Breathe</td><td>Breathe (Colorado Mountain, #4)</td></tr>",
                            "<tr><td>Captain&#39;s Fury</td><td>Captain&#39;s Fury (Codex Alera, #4)</td></tr>",
                            "<tr><td>A Perfect Blood</td><td>A Perfect Blood (The Hollows, #10)</td></tr>",
                            "<tr><td>デスノート #4 (Desu Nōto) Koigokoro (恋心)</td><td>Death Note, Vol. 4: Love (Death Note, #4)</td></tr>",
                            "<tr><td>Dark Desires After Dusk</td><td>Dark Desires After Dusk (Immortals After Dark #6)</td></tr>",
                            "<tr><td>Enemy of God</td><td>Enemy of God (The Warlord Chronicles, #2)</td></tr>",
                            "<tr><td>Excalibur</td><td>Excalibur (The Warlord Chronicles, #3)</td></tr>",
                            "<tr><td>Fool&#39;s Fate</td><td>Fool&#39;s Fate (Tawny Man, #3)</td></tr>",
                            "<tr><td>フルーツバスケット 3</td><td>Fruits Basket, Vol. 3</td></tr>",
                            "<tr><td>First Lord&#39;s Fury</td><td>First Lord&#39;s Fury (Codex Alera, #6)</td></tr>",
                            "<tr><td>Fables, Volume 10: The Good Prince</td><td>Fables, Vol. 10: The Good Prince</td></tr>",
                            "<tr><td>Effortless</td><td>Effortless (Thoughtless, #2)</td></tr>",
                            "<tr><td>Darker After Midnight</td><td>Darker After Midnight (Midnight Breed, #10)</td></tr>",
                            "<tr><td>Champion</td><td>Champion (Legend, #3)</td></tr>",
                            "<tr><td>A Gentleman in Moscow</td><td>A Gentleman in Moscow</td></tr>",
                            "<tr><td>And the Band Played On: Politics, People, and the AIDS Epidemic</td><td>And the Band Played On: Politics, People, and the AIDS Epidemic</td></tr>",
                            "<tr><td>Bumi Manusia</td><td>Bumi Manusia</td></tr>",
                            "<tr><td>ベルセルク 1</td><td>Berserk, Vol. 1 (Berserk, #1)</td></tr>",
                            "<tr><td>黒執事 I [Kuroshitsuji I]</td><td>Black Butler, Vol. 1 (Black Butler, #1)</td></tr>",
                            "<tr><td>Kushiel&#39;s Avatar</td><td>Kushiel&#39;s Avatar (Phèdre&#39;s Trilogy, #3)</td></tr>",
                            "<tr><td>Harry Potter and the Chamber of Secrets</td><td>Harry Potter and the Chamber of Secrets (Harry Potter, #2)</td></tr>",
                            "<tr><td>Queen of the Darkness</td><td>Queen of the Darkness (The Black Jewels, #3)</td></tr>",
                            "<tr><td>Portrait in Death</td><td>Portrait in Death (In Death, #16)</td></tr>",
                            "<tr><td>Out of My Mind</td><td>Out of My Mind</td></tr>",
                            "<tr><td>Nemesis Games</td><td>Nemesis Games (The Expanse, #5)</td></tr>",
                            "<tr><td>The Assassin and the Underworld</td><td>The Assassin and the Underworld (Throne of Glass, #0.4)</td></tr>",
                            "<tr><td>The Book of Mormon</td><td>The Book of Mormon: Another Testament of Jesus Christ</td></tr>",
                            "<tr><td>The Complete Tales of Edgar Allan Poe</td><td>The Complete Stories and Poems</td></tr>",
                            "<tr><td>Shadow Kiss</td><td>Shadow Kiss (Vampire Academy, #3)</td></tr>",
                            "<tr><td>Silver Shadows</td><td>Silver Shadows (Bloodlines, #5)</td></tr>",
                            "<tr><td>Shōgun</td><td>Shōgun (Asian Saga, #1)</td></tr>",
                            "<tr><td>Spirit Bound</td><td>Spirit Bound (Vampire Academy, #5)</td></tr>",
                            "<tr><td>The Law of Moses</td><td>The Law of Moses (The Law of Moses, #1)</td></tr>",
                            "<tr><td>The Improbable Adventures of Sherlock Holmes</td><td>The Improbable Adventures of Sherlock Holmes</td></tr>",
                            "<tr><td>The Knowledge of the Holy: The Attributes of God: Their Meaning in the Christian Life</td><td>The Knowledge of the Holy</td></tr>",
                            "<tr><td>The King</td><td>The King (Black Dagger Brotherhood, #12)</td></tr>",
                            "<tr><td>The King of Attolia</td><td>The King of Attolia (The Queen&#39;s Thief, #3)</td></tr>",
                            "<tr><td>The Pigeon Wants a Puppy!</td><td>The Pigeon Wants a Puppy!</td></tr>",
                            "<tr><td>The Outcasts</td><td>The Outcasts (Brotherband Chronicles, #1)</td></tr>",
                            "<tr><td>The Miracle of Forgiveness</td><td>The Miracle of Forgiveness</td></tr>",
                            "<tr><td>The Hammer of Thor</td><td>The Hammer of Thor (Magnus Chase and the Gods of Asgard, #2)</td></tr>",
                            "<tr><td>The Darkest Passion (Lords of the Underworld, #5)</td><td>The Darkest Passion (Lords of the Underworld #5)</td></tr>",
                            "<tr><td>The Wheel of Time: Boxed Set  (Wheel of Time, #1-8)</td><td>The Wheel of Time: Boxed Set  (Wheel of Time, #1-8)</td></tr>",
                            "<tr><td>Storia del nuovo cognome</td><td>The Story of a New Name (The Neapolitan Novels #2)</td></tr>",
                            "<tr><td>The Ultimate Hitchhiker&#39;s Guide: Five Complete Novels and One Story</td><td>The Ultimate Hitchhiker&#39;s Guide to the Galaxy</td></tr>",
                            "<tr><td>Wicked Deeds on a Winter&#39;s Night (Immortals After Dark #4)</td><td>Wicked Deeds on a Winter&#39;s Night (Immortals After Dark #4)</td></tr>",
                            "<tr><td>Y: The Last Man - The Deluxe Edition Book One</td><td>Y: The Last Man - The Deluxe Edition Book One</td></tr>",
                            "<tr><td>Meu Pé de Laranja Lima</td><td>درخت زیبای من</td></tr>",
                            "<tr><td>Until You</td><td>Until You (Fall Away, #1.5)</td></tr>",
                            "<tr><td>The Wrong Side of Goodbye</td><td>The Wrong Side of Goodbye (Harry Bosch, #21; Harry Bosch Universe, #26)</td></tr>",
                            "<tr><td>The Winds of War</td><td>The Winds of War (The Henry Family, #1)</td></tr>",
                            "<tr><td>Twelfth Grade Kills</td><td>Twelfth Grade Kills (The Chronicles of Vladimir Tod, #5)</td></tr>",
                            "<tr><td>Jim Butcher&#39;s the Dresden Files: Storm Front</td><td>The Dresden Files:  Storm Front, Volume 1-  The Gathering Storm</td></tr>",
                            "<tr><td>The Godfather</td><td>The Godfather</td></tr>",
                            "<tr><td>The Golden Lily</td><td>The Golden Lily (Bloodlines, #2)</td></tr>",
                            "<tr><td>The House at Pooh Corner</td><td>The House at Pooh Corner (Winnie-the-Pooh, #2)</td></tr>",
                            "<tr><td>The Morganville Vampires, Volume 1</td><td>The Morganville Vampires, Volume 1 (The Morganville Vampires, #1-2)</td></tr>",
                            "<tr><td>The Obelisk Gate</td><td>The Obelisk Gate (The Broken Earth, #2)</td></tr>",
                            "<tr><td>The Power of the Dog</td><td>The Power of the Dog</td></tr>",
                            "<tr><td>The Little Mermaid (Little Golden Storybook)</td><td>The Little Mermaid</td></tr>",
                            "<tr><td>Seize the Night</td><td>Seize the Night (Dark-Hunter #6)</td></tr>",
                            "<tr><td>Рассказы и Повести</td><td>Selected Stories</td></tr>",
                            "<tr><td>Salt to the Sea</td><td>Salt to the Sea</td></tr>",
                            "<tr><td>The Complete Tales of Beatrix Potter</td><td>The Complete Tales</td></tr>",
                            "<tr><td>Persepolis</td><td>The Complete Persepolis</td></tr>",
                            "<tr><td>Amulet: Book Three: The Cloud Searchers</td><td>The Cloud Searchers (Amulet, #3)</td></tr>",
                            "<tr><td>The Code Of The Woosters</td><td>The Code of the Woosters (Jeeves, #7)</td></tr>",
                            "<tr><td>The Book Thief</td><td>The Book Thief</td></tr>",
                            "<tr><td>Night Play</td><td>Night Play (Dark-Hunter #5, Were-Hunter #1)</td></tr>",
                            "<tr><td>Night World: The Ultimate Fan Guide.</td><td>Night World: The Ultimate Fan Guide</td></tr>",
                            "<tr><td>Making Faces</td><td>Making Faces</td></tr>",
                            "<tr><td>Men at Arms</td><td>Men at Arms (Discworld, #15; City Watch #2)</td></tr>",
                            "<tr><td>桜蘭高校ホスト部 1</td><td>Ouran High School Host Club, Vol. 1 (Ouran High School Host Club, #1)</td></tr>",
                            "<tr><td>Redemption</td><td>Redemption (Redemption, #1)</td></tr>",
                            "<tr><td>Guess How Much I Love You</td><td>Guess How Much I Love You</td></tr>",
                            "<tr><td>Going Postal</td><td>Going Postal (Discworld, #33; Moist von Lipwig, #1)</td></tr>",
                            "<tr><td>How the Grinch Stole Christmas!</td><td>How the Grinch Stole Christmas!</td></tr>",
                            "<tr><td>In The Afterlight</td><td>In The Afterlight (The Darkest Minds, #3)</td></tr>",
                            "<tr><td>Infamous</td><td>Infamous (Chronicles of Nick, #3)</td></tr>",
                            "<tr><td>Innocent in Death (In Death, #24)</td><td>Innocent in Death (In Death, #24)</td></tr>",
                            "<tr><td>Iron Kissed</td><td>Iron Kissed (Mercy Thompson, #3)</td></tr>",
                            "<tr><td>Lady and the Tramp (Little Golden Book)</td><td>Lady and the Tramp</td></tr>",
                            "<tr><td>Head Games </td><td>Locke &amp; Key, Vol. 2: Head Games</td></tr>",
                            "<tr><td>Between Shades of Gray</td><td>Between Shades of Gray</td></tr>",
                            "<tr><td>Batman: The Killing Joke </td><td>Batman: The Killing Joke</td></tr>",
                            "<tr><td>The Book of Mormon, Doctrine and Covenants, the Pearl of Great Price</td><td>Book of Mormon, Doctrine and Covenants, Pearl of Great Price</td></tr>",
                            "<tr><td>青の祓魔師 1</td><td>Blue Exorcist, Vol. 1  (Blue Exorcist, #1)</td></tr>",
                            "<tr><td>名探偵コナン 1</td><td>Case Closed, Vol. 1</td></tr>",
                            "<tr><td>Akira 1</td><td>Akira, Vol. 1</td></tr>",
                            "<tr><td>A Work in Progress</td><td>A Work in Progress</td></tr>",
                            "<tr><td>A Monster Calls </td><td>A Monster Calls</td></tr>",
                            "<tr><td>Chrzest ognia</td><td>Chrzest ognia (Saga o Wiedźminie, #5)</td></tr>",
                            "<tr><td>Consent to Kill</td><td>Consent to Kill (Mitch Rapp, #8)</td></tr>",
                            "<tr><td>Cursor&#39;s Fury</td><td>Cursor&#39;s Fury (Codex Alera, #3)</td></tr>",
                            "<tr><td>Dawn of Wonder</td><td>Dawn of Wonder (The Wakening, #1)</td></tr>",
                            "<tr><td>Ecstasy Unveiled</td><td>Ecstasy Unveiled (Demonica #4)</td></tr>",
                            "<tr><td>Echo</td><td>Echo</td></tr>",
                            "<tr><td>Endurance: Shackleton&#39;s incredible voyage</td><td>Endurance: Shackleton&#39;s Incredible Voyage</td></tr>",
                            "<tr><td>Fire and Ice</td><td>Fire and Ice (Warriors, #2)</td></tr>",
                            "<tr><td>Fire Touched</td><td>Fire Touched (Mercy Thompson, #9)</td></tr>",
                            "<tr><td>Frost Burned</td><td>Frost Burned (Mercy Thompson, #7)</td></tr>",
                            "<tr><td>Fool&#39;s Assassin</td><td>Fool&#39;s Assassin (The Fitz and the Fool, #1)</td></tr>",
                            "<tr><td>East of Eden  </td><td>East of Eden</td></tr>",
                            "<tr><td>デスノート #5 (Desu Nōto) Hakushi (白紙,) </td><td>Death Note, Vol. 5: Whiteout (Death Note, #5)</td></tr>",
                            "<tr><td>Don&#39;t Let the Pigeon Stay Up Late!</td><td>Don&#39;t Let the Pigeon Stay Up Late!</td></tr>",
                            "<tr><td>Cosmos</td><td>Cosmos</td></tr>",
                            "<tr><td>Conspiracy in Death</td><td>Conspiracy in Death (In Death, #8)</td></tr>",
                            "<tr><td>E.E. Cummings: Complete Poems 1904-1962</td><td>Complete Poems, 1904-1962</td></tr>",
                            "<tr><td>En man som heter Ove</td><td>A Man Called Ove</td></tr>",
                            "<tr><td>A Dog&#39;s Purpose </td><td>A Dog&#39;s Purpose (A Dog&#39;s Purpose, #1)</td></tr>",
                            "<tr><td>Chasing the Prophecy (Beyonders, #3)</td><td>Chasing the Prophecy (Beyonders, #3)</td></tr>",
                            "<tr><td>Blood Promise</td><td>Blood Promise (Vampire Academy, #4)</td></tr>",
                            "<tr><td>Brotherhood in Death</td><td>Brotherhood in Death (In Death, #42)</td></tr>",
                            "<tr><td>Lover Reborn</td><td>Lover Reborn (Black Dagger Brotherhood, #10)</td></tr>",
                            "<tr><td>Lover Eternal (Black Dagger Brotherhood, #2)</td><td>Lover Eternal (Black Dagger Brotherhood, #2)</td></tr>",
                            "<tr><td>Kurt Vonnegut&#39;s Cat Cradle</td><td>Kurt Vonnegut&#39;s Cat&#39;s Cradle (Modern Critical Interpretations)</td></tr>",
                            "<tr><td>Kiss of a Demon King </td><td>Kiss of a Demon King (Immortals After Dark #7)</td></tr>",
                            "<tr><td>I Shall Wear Midnight</td><td>I Shall Wear Midnight (Discworld, #38; Tiffany Aching, #4)</td></tr>",
                            "<tr><td>ヘタリア 1 Axis Powers</td><td>Hetalia: Axis Powers, Vol. 1 (Hetalia: Axis Powers, #1)</td></tr>",
                            "<tr><td>Rise of Empire</td><td>Rise of Empire (The Riyria Revelations, #3-4)</td></tr>",
                            "<tr><td>Pursuit of Honor</td><td>Pursuit of Honor (Mitch Rapp, #12)</td></tr>",
                            "<tr><td>Princeps&#39; Fury</td><td>Princeps&#39; Fury (Codex Alera, #5)</td></tr>",
                            "<tr><td>Out of Sight, Out of Time</td><td>Out of Sight, Out of Time (Gallagher Girls, #5)</td></tr>",
                            "<tr><td>Maus: A Survivor&#39;s Tale : My Father Bleeds History</td><td>Maus I: A Survivor&#39;s Tale: My Father Bleeds History (Maus, #1)</td></tr>",
                            "<tr><td>Night Light: A Restoration Novel</td><td>Night Light (Restoration #2)</td></tr>",
                            "<tr><td>On the Night You Were Born</td><td>On the Night You Were Born</td></tr>",
                            "<tr><td>NARUTO -ナルト- 巻ノ一 </td><td>Naruto, Vol. 01: The Tests of the Ninja (Naruto, #1)</td></tr>",
                            "<tr><td>The Scar of David</td><td>Mornings in Jenin</td></tr>",
                            "<tr><td>The Autumn Republic </td><td>The Autumn Republic (Powder Mage, #3)</td></tr>",
                            "<tr><td>Bröderna Lejonhjärta</td><td>The Brothers Lionheart</td></tr>",
                            "<tr><td>The Crimson Campaign</td><td>The Crimson Campaign (Powder Mage, #2)</td></tr>",
                            "<tr><td>Nachfolge</td><td>The Cost of Discipleship</td></tr>",
                            "<tr><td>Fablehaven: Secrets of the Dragon Sanctuary (Fablehaven, #4)</td><td>Secrets of the Dragon Sanctuary (Fablehaven, #4)</td></tr>",
                            "<tr><td>Sunset</td><td>Sunset (Warriors: The New Prophecy, #6)</td></tr>",
                            "<tr><td>Sin Undone</td><td>Sin Undone (Demonica #5)</td></tr>",
                            "<tr><td>The Lorax</td><td>The Lorax</td></tr>",
                            "<tr><td>The Lost Hero</td><td>The Lost Hero (The Heroes of Olympus, #1)</td></tr>",
                            "<tr><td>The Pigeon Finds a Hot Dog!</td><td>The Pigeon Finds a Hot Dog!</td></tr>",
                            "<tr><td>The Physician</td><td>The Physician (Cole Family Trilogy, #1)</td></tr>",
                            "<tr><td>The Mauritius Command</td><td>The Mauritius Command</td></tr>",
                            "<tr><td>The Holiness of God</td><td>The Holiness of God</td></tr>",
                            "<tr><td>The Great Dune Trilogy</td><td>The Great Dune Trilogy  </td></tr>",
                            "<tr><td>The Darkest Seduction</td><td>The Darkest Seduction (Lords of the Underworld #9)</td></tr>",
                            "<tr><td>Transmetropolitan, Vol. 2: Lust for Life</td><td>Transmetropolitan, Vol. 2: Lust for Life (Transmetropolitan, #2)</td></tr>",
                            "<tr><td>Tiger&#39;s Voyage</td><td>Tiger&#39;s Voyage (The Tiger Saga, #3)</td></tr>",
                            "<tr><td>These Is My Words: The Diary of Sarah Agnes Prine, 1881-1901, Arizona Territories</td><td>These Is My Words: The Diary of Sarah Agnes Prine, 1881-1901, Arizona Territories (Sarah Agnes Prine, #1)</td></tr>",
                            "<tr><td>Watchmen</td><td>Watchmen</td></tr>",
                            "<tr><td>White Witch, Black Curse</td><td>White Witch, Black Curse (The Hollows, #7)</td></tr>",
                            "<tr><td>The Story of Ferdinand</td><td>The Story of Ferdinand</td></tr>",
                            "<tr><td>The Walking Dead. Book Two</td><td>The Walking Dead, Book Two (The Walking Dead #13-24)</td></tr>",
                            "<tr><td>The Walking Dead Volume 12</td><td>The Walking Dead, Vol. 12: Life Among Them</td></tr>",
                            "<tr><td>The Walking Dead, Vol. 14: No Way Out </td><td>The Walking Dead, Vol. 14: No Way Out</td></tr>",
                            "<tr><td>The Wall of Winnipeg and Me</td><td>The Wall of Winnipeg and Me</td></tr>",
                            "<tr><td>The Sandman: Endless Nights</td><td>The Sandman: Endless Nights</td></tr>",
                            "<tr><td>The Sea of Tranquility</td><td>The Sea of Tranquility</td></tr>",
                            "<tr><td>The Stand</td><td>The Stand</td></tr>",
                            "<tr><td>The Shepherd&#39;s Crown</td><td>The Shepherd&#39;s Crown (Discworld, #41; Tiffany Aching, #5)</td></tr>",
                            "<tr><td>القرآن‎‎ [al-Qurʾān]</td><td>The Qur&#39;an / القرآن الكريم</td></tr>",
                            "<tr><td>Unleash the Night</td><td>Unleash the Night (Dark Hunter, #8; Were-Hunter, #2)</td></tr>",
                            "<tr><td>Vengeance in Death</td><td>Vengeance in Death (In Death, #6)</td></tr>",
                            "<tr><td>Tiger&#39;s Quest</td><td>Tiger&#39;s Quest (The Tiger Saga, #2)</td></tr>",
                            "<tr><td>Tortured for Christ</td><td>Tortured for Christ N/E</td></tr>",
                            "<tr><td>Truce</td><td>Truce (Neighbor from Hell, #4)</td></tr>",
                            "<tr><td>ملحمة الحرافيش</td><td>الحرافيش</td></tr>",
                            "<tr><td>よつばと! 1</td><td>Yotsuba&amp;!, Vol. 01 (Yotsuba&amp;! #1)</td></tr>",
                            "<tr><td>Y: The Last Man Vol. 10: Whys And Wherefores</td><td>Y: The Last Man, Vol. 10: Whys and Wherefores (Y: The Last Man, #10)</td></tr>",
                            "<tr><td>Wieża Jaskółki</td><td>Wieża Jaskółki (Saga o Wiedźminie, #6)</td></tr>",
                            "<tr><td>Winnie-the-Pooh</td><td>Winnie-the-Pooh (Winnie-the-Pooh, #1)</td></tr>",
                            "<tr><td>The Fellowship of the Ring</td><td>The Fellowship of the Ring (The Lord of the Rings, #1)</td></tr>",
                            "<tr><td>The Exiled Queen</td><td>The Exiled Queen (Seven Realms, #2)</td></tr>",
                            "<tr><td>The Gathering Storm</td><td>The Gathering Storm (Wheel of Time, #12)</td></tr>",
                            "<tr><td>The Hunger Games</td><td>The Hunger Games (The Hunger Games, #1)</td></tr>",
                            "<tr><td>The Miraculous Journey of Edward Tulane</td><td>The Miraculous Journey of Edward Tulane</td></tr>",
                            "<tr><td>The Pagan Lord</td><td>The Pagan Lord (The Saxon Stories, #7)</td></tr>",
                            "<tr><td>The Power of One</td><td>The Power of One (The Power of One, #1)</td></tr>",
                            "<tr><td>The Last Seven Months of Anne Frank</td><td>The Last Seven Months of Anne Frank</td></tr>",
                            "<tr><td>The Last Man</td><td>The Last Man (Mitch Rapp, #13)</td></tr>",
                            "<tr><td>The Immortal Highlander </td><td>The Immortal Highlander (Highlander, #6)</td></tr>",
                            "<tr><td>Schindler&#39;s Ark</td><td>Schindler&#39;s List</td></tr>",
                            "<tr><td>Complete Works of Lewis Carroll</td><td>The Complete Stories and Poems</td></tr>",
                            "<tr><td>The Complete Robot</td><td>The Complete Robot (Robot #0.3)</td></tr>",
                            "<tr><td>Sämtliche Erzählungen</td><td>The Complete Stories</td></tr>",
                            "<tr><td>The Bronze Horseman</td><td>The Bronze Horseman (The Bronze Horseman, #1)</td></tr>",
                            "<tr><td>The Book with No Pictures</td><td>The Book with No Pictures</td></tr>",
                            "<tr><td>The Black Widow</td><td>The Black Widow (Gabriel Allon, #16)</td></tr>",
                            "<tr><td>New Moon: The Complete Illustrated Movie Companion</td><td>New Moon: The Complete Illustrated Movie Companion (The Twilight Saga: The Official Illustrated Movie Companion, #2)</td></tr>",
                            "<tr><td>Oh, the Places You&#39;ll Go!</td><td>Oh, The Places You&#39;ll Go!</td></tr>",
                            "<tr><td>Midnight Tides</td><td>Midnight Tides (The Malazan Book of the Fallen, #5)</td></tr>",
                            "<tr><td>Opal</td><td>Opal (Lux, #3)</td></tr>",
                            "<tr><td>Origin in Death</td><td>Origin in Death (In Death, #21)</td></tr>",
                            "<tr><td>Peace Is Every Step: The Path of Mindfulness in Everyday Life</td><td>Peace Is Every Step: The Path of Mindfulness in Everyday Life</td></tr>",
                            "<tr><td>Protect and Defend</td><td>Protect and Defend (Mitch Rapp, #10)</td></tr>",
                            "<tr><td>Preacher: War in the Sun</td><td>Preacher, Volume 6: War in the Sun</td></tr>",
                            "<tr><td>Pure</td><td>Pure (Covenant, #2)</td></tr>",
                            "<tr><td>Reaper&#39;s Gale</td><td>Reaper&#39;s Gale (The Malazan Book of the Fallen, #7)</td></tr>",
                            "<tr><td>Heal Your Body</td><td>Heal Your Body: The Mental Causes for Physical Illness and the Metaphysical Way to Overcome Them</td></tr>",
                            "<tr><td>Her Daughter&#39;s Dream</td><td>Her Daughter&#39;s Dream (Marta&#39;s Legacy, #2)</td></tr>",
                            "<tr><td>Identical</td><td>Identical</td></tr>",
                            "<tr><td>Imitation in Death</td><td>Imitation in Death (In Death, #17)</td></tr>",
                            "<tr><td>Hopeless</td><td>Hopeless (Hopeless, #1)</td></tr>",
                            "<tr><td>Genghis: Birth of an Empire</td><td>Genghis: Birth of an Empire (Conqueror, #1)</td></tr>",
                            "<tr><td>Hard Limit</td><td>Hard Limit (Hacker, #4)</td></tr>",
                            "<tr><td>Janet Evanovich Three and Four Two-Book Set (Stephanie Plum, #3-4)</td><td>Janet Evanovich Three and Four Two-Book Set (Stephanie Plum, #3-4)</td></tr>",
                            "<tr><td>India After Gandhi: The History of the World&#39;s Largest Democracy</td><td>India After Gandhi: The History of the World&#39;s Largest Democracy</td></tr>",
                            "<tr><td>Love You Forever</td><td>Love You Forever</td></tr>",
                            "<tr><td>Lone Survivor: The Eyewitness Account of Operation Redwing and the Lost Heroes of SEAL Team 10</td><td>Lone Survivor: The Eyewitness Account of Operation Redwing and the Lost Heroes of SEAL Team 10</td></tr>",
                            "<tr><td>Briefe an einen jungen Dichter</td><td>Letters to a Young Poet</td></tr>",
                            "<tr><td>Burn For Me</td><td>Burn for Me (Hidden Legacy, #1)</td></tr>",
                            "<tr><td>Bone Crossed</td><td>Bone Crossed (Mercy Thompson, #4)</td></tr>",
                            "<tr><td>カードキャプターさくら 7 [Cardcaptor Sakura 7]</td><td>Cardcaptor Sakura: Master of the Clow, Vol. 1 (Cardcaptor Sakura, #7)</td></tr>",
                            "<tr><td>A Fine Balance</td><td>A Fine Balance</td></tr>",
                            "<tr><td>A Light in the Attic</td><td>A Light in the Attic</td></tr>",
                            "<tr><td>A Thousand Splendid Suns</td><td>A Thousand Splendid Suns</td></tr>",
                            "<tr><td>A Torch Against the Night</td><td>A Torch Against the Night (An Ember in the Ashes, #2)</td></tr>",
                            "<tr><td>Aristotle and Dante Discover the Secrets of the Universe</td><td>Aristotle and Dante Discover the Secrets of the Universe (Aristotle and Dante Discover the Secrets of the Universe, #1)</td></tr>",
                            "<tr><td>City of Glass</td><td>City of Glass (The Mortal Instruments, #3)</td></tr>",
                            "<tr><td>Creation in Death </td><td>Creation in Death (In Death, #25)</td></tr>",
                            "<tr><td>Dark Demon (Carpathians, #16)</td><td>Dark Demon (Dark, #16)</td></tr>",
                            "<tr><td>Destined for an Early Grave</td><td>Destined for an Early Grave (Night Huntress, #4)</td></tr>",
                            "<tr><td>Different Seasons</td><td>Different Seasons</td></tr>",
                            "<tr><td>Edenbrooke</td><td>Edenbrooke (Edenbrooke, #1)</td></tr>",
                            "<tr><td>Drums of Autumn (Outlander, #4)</td><td>Drums of Autumn (Outlander, #4)</td></tr>",
                            "<tr><td>Frog and Toad All Year</td><td>Frog and Toad All Year (Frog and Toad, #3)</td></tr>",
                            "<tr><td>フルーツバスケット 2</td><td>Fruits Basket, Vol. 2</td></tr>",
                            "<tr><td>Frosty the Snowman (Little Golden Book)</td><td>Frosty the Snowman (Frosty the Snowman)</td></tr>",
                            "<tr><td>Faefever</td><td>Faefever (Fever, #3)</td></tr>",
                            "<tr><td>Fame</td><td>Fame (Firstborn, #1)</td></tr>",
                            "<tr><td>Falling Up</td><td>Falling Up</td></tr>",
                            "<tr><td>For a Few Demons More </td><td>For a Few Demons More (The Hollows, #5)</td></tr>",
                            "<tr><td>Executive Power</td><td>Executive Power (Mitch Rapp, #6)</td></tr>",
                            "<tr><td>Exodus</td><td>Exodus</td></tr>",
                            "<tr><td>Dark Guardian</td><td>Dark Guardian (Dark, #9)</td></tr>",
                            "<tr><td>Dark Legend</td><td>Dark Legend (Dark, #8)</td></tr>",
                            "<tr><td>Danger in the Shadows</td><td>Danger in the Shadows (O&#39;Malley #0.5)</td></tr>",
                            "<tr><td>Crush</td><td>Crush</td></tr>",
                            "<tr><td>Clockwork Angel</td><td>Clockwork Angel (The Infernal Devices, #1)</td></tr>",
                            "<tr><td>All-Star Superman, Vol. 2</td><td>All-Star Superman, Vol. 2</td></tr>",
                            "<tr><td>Almost Heaven</td><td>Almost Heaven (Sequels, #3)</td></tr>",
                            "<tr><td>Amazing Grace</td><td>Amazing Grace</td></tr>",
                            "<tr><td>A Gathering of Shadows</td><td>A Gathering of Shadows (Shades of Magic, #2)</td></tr>",
                            "<tr><td>Bury Your Dead</td><td>Bury Your Dead (Chief Inspector Armand Gamache, #6)</td></tr>",
                            "<tr><td>Bone: Quest For The Spark, Book One </td><td>Bone: Quest for the Spark, Vol. 1</td></tr>",
                            "<tr><td>Blood Rites</td><td>Blood Rites (The Dresden Files, #6)</td></tr>",
                            "<tr><td>Born in Death (In Death, #23)</td><td>Born in Death (In Death, #23)</td></tr>",
                            "<tr><td>Battlefield of the Mind: Winning the Battle in Your Mind</td><td>Battlefield of the Mind: Winning the Battle in Your Mind</td></tr>",
                            "<tr><td>Barely Breathing</td><td>Barely Breathing (Breathing, #2)</td></tr>",
                            "<tr><td>Batman, Volume 3: Death of the Family</td><td>Batman, Volume 3: Death of the Family</td></tr>",
                            "<tr><td>Avatar: The Last Airbender: The Rift, Part 1</td><td>Avatar: The Last Airbender (The Rift, #1)</td></tr>",
                            "<tr><td>Last Chance to See</td><td>Last Chance to See</td></tr>",
                            "<tr><td>Law Man</td><td>Law Man (Dream Man, #3)</td></tr>",
                            "<tr><td>Lover Unbound</td><td>Lover Unbound (Black Dagger Brotherhood, #5)</td></tr>",
                            "<tr><td>Magic Burns</td><td>Magic Burns (Kate Daniels, #2)</td></tr>",
                            "<tr><td>Judgment in Death</td><td>Judgment in Death (In Death, #11)</td></tr>",
                            "<tr><td>Gathering Darkness</td><td>Gathering Darkness (Falling Kingdoms, #3)</td></tr>",
                            "<tr><td>Heir to the Shadows</td><td>Heir to the Shadows (The Black Jewels, #2)</td></tr>",
                            "<tr><td>Reflected in You</td><td>Reflected in You (Crossfire, #2)</td></tr>",
                            "<tr><td>Reunion in Death</td><td>Reunion in Death (In Death, #14)</td></tr>",
                            "<tr><td>Purity in Death</td><td>Purity in Death (In Death, #15)</td></tr>",
                            "<tr><td>Ransom</td><td>Ransom (Highlands&#39; Lairds, #2)</td></tr>",
                            "<tr><td>Preacher, Volume 8: All Hell&#39;s a-Coming</td><td>Preacher, Volume 8: All Hell&#39;s a-Coming</td></tr>",
                            "<tr><td>Pinocchio (A Little Golden Book)</td><td>Pinocchio</td></tr>",
                            "<tr><td>Play</td><td>Play (Stage Dive, #2)</td></tr>",
                            "<tr><td>Play With Me</td><td>Play with Me (With Me in Seattle, #3)</td></tr>",
                            "<tr><td>Onyx</td><td>Onyx (Lux, #2)</td></tr>",
                            "<tr><td>Miss Nelson Is Back</td><td>Miss Nelson Is Back (Miss Nelson, #2)</td></tr>",
                            "<tr><td>Maybe Someday</td><td>Maybe Someday (Maybe, #1)</td></tr>",
                            "<tr><td>Mastering the Art of French Cooking</td><td>Mastering the Art of French Cooking</td></tr>",
                            "<tr><td>March: Book One</td><td>March: Book One (March, #1)</td></tr>",
                            "<tr><td>…trotzdem Ja zum Leben sagen: Ein Psychologe erlebt das Konzentrationslager</td><td>Man&#39;s Search for Meaning</td></tr>",
                            "<tr><td>Obsession in Death</td><td>Obsession in Death (In Death, #40)</td></tr>",
                            "<tr><td>Never Fade</td><td>Never Fade (The Darkest Minds, #2)</td></tr>",
                            "<tr><td>The Arrival</td><td>The Arrival</td></tr>",
                            "<tr><td>Taken at Dusk (Shadow Falls, #3)</td><td>Taken at Dusk (Shadow Falls, #3)</td></tr>",
                            "<tr><td>SantaLand Diaries</td><td>SantaLand Diaries</td></tr>",
                            "<tr><td>るろうに剣心 1</td><td>Rurouni Kenshin, Vol. 1: Meiji Swordsman Romantic Story (Rurouni Kenshin, #1)</td></tr>",
                            "<tr><td>Scott Pilgrim, Volume 5: Scott Pilgrim Vs. the Universe</td><td>Scott Pilgrim, Volume 5: Scott Pilgrim Vs. the Universe</td></tr>",
                            "<tr><td>Something Wonderful</td><td>Something Wonderful (Sequels, #2)</td></tr>",
                            "<tr><td>The Little House Collection</td><td>The Little House Collection (Little House, #1-9)</td></tr>",
                            "<tr><td>The Long Haul </td><td>The Long Haul (Diary of a Wimpy Kid, #9)</td></tr>",
                            "<tr><td>The Hidden Oracle</td><td>The Hidden Oracle (The Trials of Apollo, #1)</td></tr>",
                            "<tr><td>The Heavenly Man: The Remarkable True Story of Chinese Christian Brother Yun</td><td>The Heavenly Man: The Remarkable True Story of Chinese Christian Brother Yun</td></tr>",
                            "<tr><td>The Evolution of Mara Dyer</td><td>The Evolution of Mara Dyer (Mara Dyer, #2)</td></tr>",
                            "<tr><td>The Emperor&#39;s Soul</td><td>The Emperor&#39;s Soul</td></tr>",
                            "<tr><td>The Darkest Whisper</td><td>The Darkest Whisper (Lords of the Underworld #4)</td></tr>",
                            "<tr><td>The Dark Elf Trilogy Collector&#39;s Edition (Forgotten Realms: Dark Elf Trilogy, #1-3)</td><td>The Dark Elf Trilogy Collector&#39;s Edition (Forgotten Realms: Dark Elf Trilogy, #1-3; Legend of Drizzt, #1-3)</td></tr>",
                            "<tr><td>The Dragonslayer (Bone, #4)</td><td>The Dragonslayer (Bone, #4)</td></tr>",
                            "<tr><td>Veinte poemas de amor y una canción desesperada</td><td>Twenty Love Poems and a Song of Despair</td></tr>",
                            "<tr><td>Toll the Hounds</td><td>Toll the Hounds (The Malazan Book of the Fallen, #8)</td></tr>",
                            "<tr><td>Visions in Death (In Death, #19)</td><td>Visions in Death (In Death, #19)</td></tr>",
                            "<tr><td>Wethering the Storm</td><td>Wethering the Storm (The Storm, #2)</td></tr>",
                            "<tr><td>The Real Mother Goose</td><td>The Real Mother Goose</td></tr>",
                            "<tr><td>The Siege of Macindaw</td><td>The Siege of Macindaw (Ranger&#39;s Apprentice, #6)</td></tr>",
                            "<tr><td>The Stonekeeper&#39;s Curse</td><td>The Stonekeeper&#39;s Curse (Amulet, #2)</td></tr>",
                            "<tr><td>The Walking Dead Volume 11</td><td>The Walking Dead, Vol. 11: Fear the Hunters</td></tr>",
                            "<tr><td>The Titan&#39;s Curse</td><td>The Titan&#39;s Curse (Percy Jackson and the Olympians, #3)</td></tr>",
                            "<tr><td>The Walking Dead 6</td><td>The Walking Dead, Vol. 06: This Sorrowful Life</td></tr>",
                            "<tr><td>The Secret Race: Inside the Hidden World of the Tour de France: Doping, Cover-ups, and Winning at All Costs</td><td>The Secret Race: Inside the Hidden World of the Tour de France: Doping, Cover-ups, and Winning at All Costs</td></tr>",
                            "<tr><td>The Realms of the Gods (Immortals, #4)</td><td>The Realms of the Gods (Immortals, #4)</td></tr>",
                            "<tr><td>The Raven King</td><td>The Raven King (The Raven Cycle, #4)</td></tr>",
                            "<tr><td>When We Were Very Young</td><td>When We Were Very Young (Winnie-the-Pooh, #3)</td></tr>",
                            "<tr><td>When Breath Becomes Air</td><td>When Breath Becomes Air</td></tr>",
                            "<tr><td>Vampire, Interrupted</td><td>Vampire, Interrupted (Argeneau #9)</td></tr>",
                            "<tr><td>Wild Magic (Immortals, #1)</td><td>Wild Magic (Immortals, #1)</td></tr>",
                            "<tr><td>Women&#39;s Bodies, Women&#39;s Wisdom: Creating Physical and Emotional Health and Healing</td><td>Women&#39;s Bodies, Women&#39;s Wisdom: Creating Physical and Emotional Health and Healing</td></tr>",
                            "<tr><td>الطنطورية </td><td>الطنطورية</td></tr>",
                            "<tr><td>عائد إلى حيفا</td><td>عائد إلى حيفا</td></tr>",
                            "<tr><td>The Darkest Secret (Lords of the Underworld, #7)</td><td>The Darkest Secret (Lords of the Underworld #7)</td></tr>",
                            "<tr><td>The Darkest Lie (Lords of the Underworld #6)</td><td>The Darkest Lie (Lords of the Underworld #6)</td></tr>",
                            "<tr><td>The Everafter War (The Sisters Grimm, #7)</td><td>The Everafter War (The Sisters Grimm, #7)</td></tr>",
                            "<tr><td>The Heart of Betrayal</td><td>The Heart of Betrayal (The Remnant Chronicles, #2)</td></tr>",
                            "<tr><td>The Folk of Faraway Tree</td><td>The Folk of the Faraway Tree (The Faraway Tree, #3)</td></tr>",
                            "<tr><td>The Love Song of J. Alfred Prufrock and Other Poems</td><td>The Love Song of J. Alfred Prufrock and Other Poems</td></tr>",
                            "<tr><td>The Practice of the Presence of God</td><td>The Practice of the Presence of God</td></tr>",
                            "<tr><td>The Paper Bag Princess</td><td>The Paper Bag Princess</td></tr>",
                            "<tr><td>The Missing Piece Meets the Big O</td><td>The Missing Piece Meets the Big O </td></tr>",
                            "<tr><td>The Memoirs of Sherlock Holmes</td><td>The Memoirs of Sherlock Holmes</td></tr>",
                            "<tr><td>The Magic Strings of Frankie Presto</td><td>The Magic Strings of Frankie Presto</td></tr>",
                            "<tr><td>The Making of the Atomic Bomb</td><td>The Making of the Atomic Bomb</td></tr>",
                            "<tr><td>Мастер и Маргарита</td><td>The Master and Margarita</td></tr>",
                            "<tr><td>The Negotiator</td><td>The Negotiator (O&#39;Malley, #1)</td></tr>",
                            "<tr><td>Son of the Shadows</td><td>Son of the Shadows (Sevenwaters, #2)</td></tr>",
                            "<tr><td>Sleeping Beauty</td><td>Sleeping Beauty (Disney Princess, 5)</td></tr>",
                            "<tr><td>Scott Pilgrim, Volume 4: Scott Pilgrim Gets It Together</td><td>Scott Pilgrim, Volume 4: Scott Pilgrim Gets It Together</td></tr>",
                            "<tr><td>Separation of Power</td><td>Separation of Power (Mitch Rapp, #5)</td></tr>",
                            "<tr><td>The Auschwitz Escape</td><td>The Auschwitz Escape</td></tr>",
                            "<tr><td>The Boys in the Boat: Nine Americans and Their Epic Quest for Gold at the 1936 Berlin Olympics</td><td>The Boys in the Boat: Nine Americans and Their Epic Quest for Gold at the 1936 Berlin Olympics</td></tr>",
                            "<tr><td>The Black Dagger Brotherhood: An Insider&#39;s Guide</td><td>The Black Dagger Brotherhood: An Insider&#39;s Guide</td></tr>",
                            "<tr><td>The Battle for Skandia (Ranger&#39;s Apprentice, #4)</td><td>The Battle for Skandia (Ranger&#39;s Apprentice, #4)</td></tr>",
                            "<tr><td>The Collected Poems of Langston Hughes</td><td>The Collected Poems</td></tr>",
                            "<tr><td>Mufaro&#39;s Beautiful Daughters: An African Tale</td><td>Mufaro&#39;s Beautiful Daughters: An African Tale</td></tr>",
                            "<tr><td>Magician</td><td>Magician (The Riftwar Saga, #1-2)</td></tr>",
                            "<tr><td>Mirror Dance</td><td>Mirror Dance (Vorkosigan Saga, #8)</td></tr>",
                            "<tr><td>Out of Breath (Breathing, #3)</td><td>Out of Breath (Breathing, #3)</td></tr>",
                            "<tr><td>Peter Pan (Little Golden Book)</td><td>Peter Pan (A Little Golden Book)</td></tr>",
                            "<tr><td>The Chronicles of Narnia: The Lion, the Witch and The Wardrobe (Sheet Music)</td><td>Piano/Vocal/Guitar Sheet Music: The Chronicles of Narnia: The Lion, the Witch and The Wardrobe</td></tr>",
                            "<tr><td>Plenty</td><td>Plenty</td></tr>",
                            "<tr><td>Pale Blue Dot: A Vision of the Human Future in Space</td><td>Pale Blue Dot: A Vision of the Human Future in Space</td></tr>",
                            "<tr><td>Paradise</td><td>Paradise (Second Opportunities, #1)</td></tr>",
                            "<tr><td>Passion Unleashed</td><td>Passion Unleashed (Demonica #3)</td></tr>",
                            "<tr><td>Revelation</td><td>Revelation (Matthew Shardlake, #4)</td></tr>",
                            "<tr><td>House of Chains</td><td>House of Chains (The Malazan Book of the Fallen, #4)</td></tr>",
                            "<tr><td>Illuminae</td><td>Illuminae (The Illuminae Files, #1)</td></tr>",
                            "<tr><td>If I Die (Soul Screamers, #5)</td><td>If I Die (Soul Screamers, #5)</td></tr>",
                            "<tr><td>The Golden Fool</td><td>Golden Fool (Tawny Man, #2)</td></tr>",
                            "<tr><td>God&#39;s Smuggler</td><td>God&#39;s Smuggler</td></tr>",
                            "<tr><td>Guards! Guards!</td><td>Guards! Guards! (Discworld, #8)</td></tr>",
                            "<tr><td>Indulgence in Death</td><td>Indulgence in Death (In Death, #31)</td></tr>",
                            "<tr><td>In This Mountain (Mitford)</td><td>In This Mountain (Mitford Years, #7)</td></tr>",
                            "<tr><td>The Lords of the North</td><td>Lords of the North (The Saxon Stories, #3)</td></tr>",
                            "<tr><td>Lead</td><td>Lead (Stage Dive, #3)</td></tr>",
                            "<tr><td>Last Breath</td><td>Last Breath (The Morganville Vampires, #11)</td></tr>",
                            "<tr><td>Big Nate on a Roll</td><td>Big Nate on a Roll (Big Nate Novels, #3)</td></tr>",
                            "<tr><td>Black Lies</td><td>Black Lies</td></tr>",
                            "<tr><td>Battle Cry of Freedom</td><td>Battle Cry of Freedom</td></tr>",
                            "<tr><td>Boy&#39;s Life</td><td>Boy&#39;s Life</td></tr>",
                            "<tr><td>Bones of the Hills</td><td>Bones of the Hills (Conqueror, #3)</td></tr>",
                            "<tr><td>Blue Lily, Lily Blue</td><td>Blue Lily, Lily Blue (The Raven Cycle, #3)</td></tr>",
                            "<tr><td>A Deepness in the Sky</td><td>A Deepness in the Sky (Zones of Thought, #2)</td></tr>",
                            "<tr><td>A Dance With Dragons: Part 1 Dreams and Dust</td><td>A Dance with Dragons: Dreams and Dust (A Song of Ice and Fire #5, Part 1 of 2)</td></tr>",
                            "<tr><td>100 Selected Poems by e. e. Cummings</td><td>100 Selected Poems</td></tr>",
                            "<tr><td>A Higher Call: An Incredible True Story of Combat and Chivalry in the War-Torn Skies of World War II</td><td>A Higher Call: An Incredible True Story of Combat and Chivalry in the War-Torn Skies of World War II</td></tr>",
                            "<tr><td>A Severe Mercy</td><td>A Severe Mercy: A Story of Faith, Tragedy and Triumph</td></tr>",
                            "<tr><td>An Ember in the Ashes</td><td>An Ember in the Ashes (An Ember in the Ashes, #1)</td></tr>",
                            "<tr><td>Counterfeit Gods: The Empty Promises of Money, Sex, and Power, and the Only Hope That Matters</td><td>Counterfeit Gods: The Empty Promises of Money, Sex, and Power, and the Only Hope that Matters</td></tr>",
                            "<tr><td>Czas pogardy</td><td>Czas pogardy (Saga o Wiedźminie, #4)</td></tr>",
                            "<tr><td>Dark Needs at Night&#39;s Edge</td><td>Dark Needs at Night&#39;s Edge (Immortals After Dark #5)</td></tr>",
                            "<tr><td>Death Masks</td><td>Death Masks (The Dresden Files, #5)</td></tr>",
                            "<tr><td>Devil May Cry</td><td>Devil May Cry (Dark-Hunter, #11)</td></tr>",
                            "<tr><td>Divided in Death (In Death, #18)</td><td>Divided in Death (In Death, #18)</td></tr>",
                            "<tr><td>Experiencing God : Knowing and Doing His Will - Workbook</td><td>Experiencing God: Knowing and Doing the Will of God, Workbook</td></tr>",
                            "<tr><td>Extreme Measures</td><td>Extreme Measures (Mitch Rapp, #11)</td></tr>",
                            "<tr><td>Firestar&#39;s Quest</td><td>Firestar&#39;s Quest (Warriors Super Edition, #1)</td></tr>",
                            "<tr><td>Financial Peace Revisited</td><td>Financial Peace Revisited</td></tr>",
                            "<tr><td>Erak&#39;s Ransom</td><td>Erak&#39;s Ransom (Ranger&#39;s Apprentice, #7)</td></tr>",
                            "<tr><td>Ever After</td><td>Ever After (Lost Love, #2)</td></tr>",
                            "<tr><td>Driven</td><td>Driven (Driven, #1)</td></tr>",
                            "<tr><td>Dragonfly in Amber</td><td>Dragonfly in Amber (Outlander, #2)</td></tr>",
                            "<tr><td>Dust of Dreams</td><td>Dust of Dreams (The Malazan Book of the Fallen, #9)</td></tr>",
                            "<tr><td>The Chronicles of Vladimir Tod: Eleventh Grade Burns</td><td>Eleventh Grade Burns (The Chronicles of Vladimir Tod, #4)</td></tr>",
                            "<tr><td>Don&#39;t Panic: The Official Hitchhikers Guide to the Galaxy Companion</td><td>Don&#39;t Panic: The Official Hitchhiker&#39;s Guide to the Galaxy Companion</td></tr>",
                            "<tr><td>Delusion in Death</td><td>Delusion in Death (In Death, #35)</td></tr>",
                            "<tr><td>Defiance</td><td>Defiance (Significance, #3)</td></tr>",
                            "<tr><td>Dawn</td><td>Dawn (Warriors: The New Prophecy, #3)</td></tr>",
                            "<tr><td>Daytripper</td><td>Daytripper</td></tr>",
                            "<tr><td>Chrysanthemum</td><td>Chrysanthemum</td></tr>",
                            "<tr><td>At Grave&#39;s End</td><td>At Grave&#39;s End (Night Huntress, #3)</td></tr>",
                            "<tr><td>Anne Frank : The Biography</td><td>Anne Frank : The Biography</td></tr>",
                            "<tr><td>All Creatures Great And Small</td><td>All Creatures Great and Small (All Creatures Great and Small, #1-2)</td></tr>",
                            "<tr><td>A Kiss for Little Bear</td><td>A Kiss for Little Bear (An I Can Read Book) by Minarik, Else Holmelund [1984]</td></tr>",
                            "<tr><td>A Dance with Dragons</td><td>A Dance with Dragons (A Song of Ice and Fire, #5)</td></tr>",
                            "<tr><td>BLEACH―ブリーチ―　3</td><td>Bleach, Volume 03</td></tr>",
                            "<tr><td>Blood Bound</td><td>Blood Bound (Mercy Thompson, #2)</td></tr>",
                            "<tr><td>Betrayal in Death</td><td>Betrayal in Death (In Death, #12)</td></tr>",
                            "<tr><td>Long Walk to Freedom: The Autobiography of Nelson Mandela</td><td>Long Walk to Freedom</td></tr>",
                            "<tr><td>Lilac Girls</td><td>Lilac Girls</td></tr>",
                            "<tr><td>Infinite Jest</td><td>Infinite Jest</td></tr>",
                            "<tr><td>Kiss of the Highlander</td><td>Kiss of the Highlander (Highlander, #4)</td></tr>",
                            "<tr><td>Kindred in Death </td><td>Kindred in Death (In Death, #29)</td></tr>",
                            "<tr><td>Kushiel&#39;s Chosen</td><td>Kushiel&#39;s Chosen (Phèdre&#39;s Trilogy, #2)</td></tr>",
                            "<tr><td>Knowing God</td><td>Knowing God</td></tr>",
                            "<tr><td>Lake in the Clouds</td><td>Lake in the Clouds (Wilderness, #3)</td></tr>",
                            "<tr><td>Half the Sky: Turning Oppression into Opportunity for Women Worldwide</td><td>Half the Sky: Turning Oppression into Opportunity for Women Worldwide</td></tr>",
                            "<tr><td>Lords of the Bow (Conqueror, #2)</td><td>Genghis: Lords of the Bow (Conqueror, #2)</td></tr>",
                            "<tr><td>Holiday in Death</td><td>Holiday in Death (In Death, #7)</td></tr>",
                            "<tr><td>Heartstone</td><td>Heartstone (Matthew Shardlake, #5)</td></tr>",
                            "<tr><td>Right Ho, Jeeves</td><td>Right Ho, Jeeves (Jeeves, #6)</td></tr>",
                            "<tr><td>Rock Chick Rescue</td><td>Rock Chick Rescue (Rock Chick, #2)</td></tr>",
                            "<tr><td>Peace Child</td><td>Peace Child: An Unforgettable Story of Primitive Jungle Treachery in the 20th Century</td></tr>",
                            "<tr><td>Playing with Fire</td><td>Playing with Fire (Skulduggery Pleasant, #2)</td></tr>",
                            "<tr><td>Memory in Death </td><td>Memory in Death (In Death, #22)</td></tr>",
                            "<tr><td>Mere Christianity</td><td>Mere Christianity</td></tr>",
                            "<tr><td>Marked in Flesh</td><td>Marked in Flesh (The Others, #4)</td></tr>",
                            "<tr><td>Murder of Crows</td><td>Murder of Crows (The Others, #2)</td></tr>",
                            "<tr><td>Moonrise</td><td>Moonrise (Warriors: The New Prophecy, #2)</td></tr>",
                            "<tr><td>On Writing: A Memoir of the Craft</td><td>On Writing: A Memoir of the Craft</td></tr>",
                            "<tr><td>One Foot in the Grave</td><td>One Foot in the Grave (Night Huntress, #2)</td></tr>",
                            "<tr><td>Brüder Grimm: Kinder- und Hausmärchen</td><td>The Complete Grimm&#39;s Fairy Tales</td></tr>",
                            "<tr><td>The Best of H.P. Lovecraft </td><td>The Best of H.P. Lovecraft: Bloodcurdling Tales of Horror and the Macabre</td></tr>",
                            "<tr><td>The Autobiography of Martin Luther King, Jr.</td><td>The Autobiography of Martin Luther King, Jr.</td></tr>",
                            "<tr><td>The America&#39;s Test Kitchen Family Cookbook</td><td>The America&#39;s Test Kitchen Family Cookbook</td></tr>",
                            "<tr><td>Tales From a Not-So-Talented Pop Star</td><td>Tales from a Not-So-Talented Pop Star (Dork Diaries, #3)</td></tr>",
                            "<tr><td>道德經 [dào dé jīng]</td><td>Tao Te Ching</td></tr>",
                            "<tr><td>The Pragmatic Programmer: From Journeyman to Master</td><td>The Pragmatic Programmer: From Journeyman to Master</td></tr>",
                            "<tr><td>The Power of a Praying Wife</td><td>The Power of a Praying Wife</td></tr>",
                            "<tr><td>The Longest Day</td><td>The Longest Day</td></tr>",
                            "<tr><td>The Little Mouse, the Red Ripe Strawberry, and the Big Hungry Bear</td><td>The Little Mouse, the Red Ripe Strawberry, and the Big Hungry Bear</td></tr>",
                            "<tr><td>The Julian chapter</td><td>The Julian Chapter (Wonder Story)</td></tr>",
                            "<tr><td>The Great Book of Amber</td><td>The Great Book of Amber (The Chronicles of Amber, #1-10)</td></tr>",
                            "<tr><td>The Endurance: Shackleton&#39;s legendary Antarctic expedition</td><td>The Endurance: Shackleton&#39;s Legendary Antarctic Expedition</td></tr>",
                            "<tr><td>The Fifth Season</td><td>The Fifth Season (The Broken Earth, #1)</td></tr>",
                            "<tr><td>The Crown Tower</td><td>The Crown Tower (The Riyria Chronicles, #1)</td></tr>",
                            "<tr><td>The Dark Highlander</td><td>The Dark Highlander (Highlander, #5)</td></tr>",
                            "<tr><td>ヴァンパイア騎士 4</td><td>Vampire Knight, Vol. 4 (Vampire Knight, #4)</td></tr>",
                            "<tr><td>ヴァンパイア騎士 9</td><td>Vampire Knight, Vol. 9</td></tr>",
                            "<tr><td>Transfer of Power</td><td>Transfer of Power (Mitch Rapp, #3)</td></tr>",
                            "<tr><td>Three Day Road</td><td>Three Day Road</td></tr>",
                            "<tr><td>The Sneetches and Other Stories</td><td>The Sneetches and Other Stories</td></tr>",
                            "<tr><td>The Walking Dead, Vol. 3: Safety Behind Bars</td><td>The Walking Dead, Vol. 03: Safety Behind Bars</td></tr>",
                            "<tr><td>The Way to Cook</td><td>The Way to Cook</td></tr>",
                            "<tr><td>The Warmth of Other Suns: The Epic Story of America&#39;s Great Migration </td><td>The Warmth of Other Suns: The Epic Story of America&#39;s Great Migration</td></tr>",
                            "<tr><td>The Walking Dead, Vol. 5: The Best Defense</td><td>The Walking Dead, Vol. 05: The Best Defense</td></tr>",
                            "<tr><td>The Will</td><td>The Will (Magdalene, #1)</td></tr>",
                            "<tr><td>The Walking Dead, Vol. 1: Days Gone Bye</td><td>The Walking Dead, Vol. 01: Days Gone Bye</td></tr>",
                            "<tr><td>The Sweet Gum Tree</td><td>The Sweet Gum Tree</td></tr>",
                            "<tr><td>The Source</td><td>The Source</td></tr>",
                            "<tr><td>The System of the World</td><td>The System of the World (The Baroque Cycle, #3)</td></tr>",
                            "<tr><td>The Raven and Other Poems</td><td>The Raven and other poems</td></tr>",
                            "<tr><td>The Return of Sherlock Holmes</td><td>The Return of Sherlock Holmes</td></tr>",
                            "<tr><td>窓ぎわのトットちゃん</td><td>Totto-chan: The Little Girl at the Window</td></tr>",
                            "<tr><td>Twice Tempted </td><td>Twice Tempted (Night Prince, #2)</td></tr>",
                            "<tr><td>The Work and the Glory, Vol. 3: Truth Will Prevail</td><td>Truth Will Prevail (The Work and the Glory, #3)</td></tr>",
                            "<tr><td>Twilight</td><td>Twilight (Warriors: The New Prophecy, #5)</td></tr>",
                            "<tr><td>Ugly Love</td><td>Ugly Love</td></tr>",
                            "<tr><td>White</td><td>White: The Great Pursuit (The Circle, #3)</td></tr>",
                            "<tr><td>We Wish to Inform You That Tomorrow We Will Be Killed with Our Families</td><td>We Wish to Inform You That Tomorrow We Will Be Killed with Our Families</td></tr>",
                            "<tr><td>Witness in Death</td><td>Witness in Death (In Death, #10)</td></tr>",
                            "<tr><td>The Deal</td><td>The Deal (Off-Campus, #1)</td></tr>",
                            "<tr><td>The Killer Angels</td><td>The Killer Angels (The Civil War Trilogy, #2)</td></tr>",
                            "<tr><td>The Lies of Locke Lamora</td><td>The Lies of Locke Lamora (Gentleman Bastard, #1)</td></tr>",
                            "<tr><td>The Power of Myth</td><td>The Power of Myth</td></tr>",
                            "<tr><td>The Places That Scare You: A Guide to Fearlessness in Difficult Times</td><td>The Places That Scare You: A Guide to Fearlessness in Difficult Times</td></tr>",
                            "<tr><td>Tatiana and Alexander (The Bronze Horseman, #2)</td><td>Tatiana and Alexander (The Bronze Horseman, #2)</td></tr>",
                            "<tr><td>Team of Rivals: The Political Genius of Abraham Lincoln</td><td>Team of Rivals: The Political Genius of Abraham Lincoln</td></tr>",
                            "<tr><td>Term Limits</td><td>Term Limits</td></tr>",
                            "<tr><td>Братья Карамазовы</td><td>The Brothers Karamazov</td></tr>",
                            "<tr><td>Shadows of Self</td><td>Shadows of Self (Mistborn, #5)</td></tr>",
                            "<tr><td>Seduction in Death</td><td>Seduction in Death (In Death, #13)</td></tr>",
                            "<tr><td>Rudolph the Red-Nosed Reindeer</td><td>Rudolph the Red-Nosed Reindeer</td></tr>",
                            "<tr><td>Scarlet</td><td>Scarlet (The Lunar Chronicles, #2)</td></tr>",
                            "<tr><td>Summer Knight</td><td>Summer Knight (The Dresden Files, #4)</td></tr>",
                            "<tr><td>ソウルイーター 1</td><td>Soul Eater, Vol. 01 (Soul Eater, #1)</td></tr>",
                            "<tr><td>Still Alice</td><td>Still Alice</td></tr>",
                            "<tr><td>No Rest for the Wicked</td><td>No Rest for the Wicked (Immortals After Dark #3)</td></tr>",
                            "<tr><td>Un di Velt Hot Geshvign</td><td>Night (The Night Trilogy #1)</td></tr>",
                            "<tr><td>Memorial Day</td><td>Memorial Day (Mitch Rapp, #7)</td></tr>",
                            "<tr><td>Piercing the Darkness</td><td>Piercing the Darkness (Darkness, #2)</td></tr>",
                            "<tr><td>Point of Retreat</td><td>Point of Retreat (Slammed, #2)</td></tr>",
                            "<tr><td>Perfect</td><td>Perfect (Second Opportunities, #2)</td></tr>",
                            "<tr><td>One Tiny Lie</td><td>One Tiny Lie (Ten Tiny Breaths, #2)</td></tr>",
                            "<tr><td>Rock With Me</td><td>Rock with Me (With Me in Seattle, #4)</td></tr>",
                            "<tr><td>Red</td><td>Red: The Heroic Rescue (The Circle, #2)</td></tr>",
                            "<tr><td>Preludes &amp; Nocturnes</td><td>Preludes &amp; Nocturnes (The Sandman #1)</td></tr>",
                            "<tr><td>Preacher: Salvation</td><td>Preacher, Volume 7: Salvation</td></tr>",
                            "<tr><td>Here be Dragons</td><td>Here be Dragons (Welsh Princes, #1)</td></tr>",
                            "<tr><td>Hinds&#39; Feet on High Places</td><td>Hinds&#39; Feet on High Places</td></tr>",
                            "<tr><td>Hunted</td><td>Hunted (The Iron Druid Chronicles, #6)</td></tr>",
                            "<tr><td>Howl&#39;s Moving Castle</td><td>Howl&#39;s Moving Castle (Howl&#39;s Moving Castle, #1)</td></tr>",
                            "<tr><td>Gödel, Escher, Bach: An Eternal Golden Braid</td><td>Gödel, Escher, Bach: An Eternal Golden Braid</td></tr>",
                            "<tr><td>Kushiel&#39;s Mercy</td><td>Kushiel&#39;s Mercy (Imriel&#39;s Trilogy, #3)</td></tr>",
                            "<tr><td>Kill Shot</td><td>Kill Shot (Mitch Rapp, #2)</td></tr>",
                            "<tr><td>Judas Unchained</td><td>Judas Unchained</td></tr>",
                            "<tr><td>Little Bear&#39;s Friend</td><td>Little Bear&#39;s Friend</td></tr>",
                            "<tr><td>Lady Knight </td><td>Lady Knight (Protector of the Small, #4)</td></tr>",
                            "<tr><td>Lover at Last</td><td>Lover at Last (Black Dagger Brotherhood, #11)</td></tr>",
                            "<tr><td>Lover Revealed</td><td>Lover Revealed (Black Dagger Brotherhood, #4)</td></tr>",
                            "<tr><td>Loyalty in Death</td><td>Loyalty in Death (In Death, #9)</td></tr>",
                            "<tr><td>MacRieve</td><td>MacRieve (Immortals After Dark, #14)</td></tr>",
                            "<tr><td>Beneath This Man </td><td>Beneath This Man (This Man, #2)</td></tr>",
                            "<tr><td>Binge</td><td>Binge</td></tr>",
                            "<tr><td>Bad for You</td><td>Bad for You (Sea Breeze, #7)</td></tr>",
                            "<tr><td>Batman, Volume 1: The Court of Owls</td><td>Batman, Volume 1: The Court of Owls</td></tr>",
                            "<tr><td>Bloodfever</td><td>Bloodfever (Fever, #2)</td></tr>",
                            "<tr><td>カードキャプターさくら</td><td>Cardcaptor Sakura, Vol. 1 (Cardcaptor Sakura, #1)</td></tr>",
                            "<tr><td>Catching Fire</td><td>Catching Fire (The Hunger Games, #2)</td></tr>",
                            "<tr><td>Cathedral</td><td>Cathedral</td></tr>",
                            "<tr><td>A Child&#39;s Garden of Verses</td><td>A Child&#39;s Garden of Verses</td></tr>",
                            "<tr><td>All Things Bright and Beautiful</td><td>All Things Bright and Beautiful (All Creatures Great and Small)</td></tr>",
                            "<tr><td>Citizen: An American Lyric</td><td>Citizen: An American Lyric</td></tr>",
                            "<tr><td>City of Lost Souls</td><td>City of Lost Souls (The Mortal Instruments, #5)</td></tr>",
                            "<tr><td>Copper Sun</td><td>Copper Sun</td></tr>",
                            "<tr><td>Dark Fire</td><td>Dark Fire (Dark, #6)</td></tr>",
                            "<tr><td>Devil&#39;s Game</td><td>Devil&#39;s Game (Reapers MC, #3)</td></tr>",
                            "<tr><td>Emperor Mage (Immortals, #3)</td><td>Emperor Mage (Immortals, #3)</td></tr>",
                            "<tr><td>電撃デイジー 1</td><td>Electric Daisy, Vol. 1 (Dengeki Daisy, #1)</td></tr>",
                            "<tr><td>Ender&#39;s Game</td><td>Ender&#39;s Game (Ender&#39;s Saga, #1)</td></tr>",
                            "<tr><td>Ender&#39;s Shadow</td><td>Ender&#39;s Shadow (Ender&#39;s Shadow, #1)</td></tr>",
                            "<tr><td>Fables, Volume 6: Homelands</td><td>Fables, Vol. 6: Homelands</td></tr>",
                            "<tr><td>Finding Cinderella</td><td>Finding Cinderella (Hopeless, #2.5)</td></tr>",
                            "<tr><td>Froi of the Exiles</td><td>Froi of the Exiles (Lumatere Chronicles, #2)</td></tr>",
                            "<tr><td>Frostbite</td><td>Frostbite (Vampire Academy, #2)</td></tr>",
                            "<tr><td>Frostbitten</td><td>Frostbitten (Women of the Otherworld, #10)</td></tr>",
                            "<tr><td>Fool&#39;s Errand</td><td>Fool&#39;s Errand (Tawny Man, #1)</td></tr>",
                            "<tr><td>Firefight</td><td>Firefight (The Reckoners, #2)</td></tr>",
                            "<tr><td>First They Killed My Father: A Daughter of Cambodia Remembers </td><td>First They Killed My Father: A Daughter of Cambodia Remembers</td></tr>",
                            "<tr><td>Fallout (Crank, #3)</td><td>Fallout (Crank, #3)</td></tr>",
                            "<tr><td>Fables, Volume 4: March of the Wooden Soldiers</td><td>Fables, Vol. 4: March of the Wooden Soldiers</td></tr>",
                            "<tr><td>Every Which Way But Dead</td><td>Every Which Way But Dead (The Hollows, #3)</td></tr>",
                            "<tr><td>Dumbo (Little Golden Book)</td><td>Dumbo: A Little Golden Book</td></tr>",
                            "<tr><td>Dust &amp; Decay</td><td>Dust &amp; Decay (Rot &amp; Ruin, #2)</td></tr>",
                            "<tr><td>Don&#39;t Let the Pigeon Drive the Bus</td><td>Don&#39;t Let the Pigeon Drive the Bus!</td></tr>",
                            "<tr><td>Deeper than Midnight</td><td>Deeper Than Midnight (Midnight Breed, #9)</td></tr>",
                            "<tr><td>Dark Destiny (Carpathians, #13)</td><td>Dark Destiny (Dark, #13)</td></tr>",
                            "<tr><td>Collected Poems 1909-1962</td><td>Collected Poems, 1909-1962</td></tr>",
                            "<tr><td>A Thousand Boy Kisses</td><td>A Thousand Boy Kisses</td></tr>",
                            "<tr><td>A Trick of the Light</td><td>A Trick of the Light (Chief Inspector Armand Gamache, #7)</td></tr>",
                            "<tr><td>A Woman After God&#39;s Own Heart</td><td>A Woman After God&#39;s Own Heart</td></tr>",
                            "<tr><td>Abhorsen</td><td>Abhorsen (Abhorsen, #3)</td></tr>",
                            "<tr><td>Artemis Fowl Boxed Set (Artemis Fowl, #1-5)</td><td>Artemis Fowl Boxed Set, Bks 1-5 (Artemis Fowl, #1-5)</td></tr>",
                            "<tr><td>Angels in America:  A Gay Fantasia on National Themes</td><td>Angels in America</td></tr>",
                            "<tr><td>A Court of Thorns and Roses</td><td>A Court of Thorns and Roses (A Court of Thorns and Roses, #1)</td></tr>",
                            "<tr><td>11/22/63</td><td>11/22/63</td></tr>",
                            "<tr><td>A Hat Full of Sky</td><td>A Hat Full of Sky (Discworld, #32; Tiffany Aching, #2)</td></tr>",
                            "<tr><td>A Return to Love: Reflections on the Principles of &quot;A Course in Miracles&quot;</td><td>A Return to Love: Reflections on the Principles of &quot;A Course in Miracles&quot;</td></tr>",
                            "<tr><td>A Pocket for Corduroy</td><td>A Pocket for Corduroy</td></tr>",
                            "<tr><td>Calling Doctor Amelia Bedelia (I Can Read Book 2)</td><td>Calling Doctor Amelia Bedelia</td></tr>",
                            "<tr><td>Absolute Batman Hush</td><td>Batman: Hush</td></tr>",
                            "<tr><td>Batman: The Long Halloween</td><td>Batman: The Long Halloween</td></tr>",
                            "<tr><td>Batman: The Black Mirror</td><td>Batman: The Black Mirror</td></tr>",
                            "<tr><td>Bad Moon Rising</td><td>Bad Moon Rising (Dark-Hunter #18; Were-Hunter #4; Hellchaser #2)</td></tr>",
                            "<tr><td>Awake at Dawn</td><td>Awake at Dawn (Shadow Falls, #2)</td></tr>",
                            "<tr><td>Magic and Other Misdemeanors</td><td>Magic and Other Misdemeanors (The Sisters Grimm, #5)</td></tr>",
                            "<tr><td>Lirael</td><td>Lirael (Abhorsen, #2)</td></tr>",
                            "<tr><td>Gemeinsames Leben</td><td>Life Together: The Classic Exploration of Christian Community</td></tr>",
                            "<tr><td>Into the Wild</td><td>Into the Wild (Warriors, #1)</td></tr>",
                            "<tr><td>Impulse</td><td>Impulse (Impulse, #1)</td></tr>",
                            "<tr><td>Grounded (Up In The Air #3)</td><td>Grounded (Up in the Air, #3)</td></tr>",
                            "<tr><td>Green Eggs and Ham</td><td>Green Eggs and Ham</td></tr>",
                            "<tr><td>Preacher: Dixie Fried</td><td>Preacher, Volume 5: Dixie Fried</td></tr>",
                            "<tr><td>Prodigy</td><td>Prodigy (Legend, #2)</td></tr>",
                            "<tr><td>Pulse</td><td>Pulse (Collide, #2)</td></tr>",
                            "<tr><td>Rise of the Elgen</td><td>Rise of the Elgen (Michael Vey, #2)</td></tr>",
                            "<tr><td>Only the Good Spy Young</td><td>Only the Good Spy Young (Gallagher Girls, #4)</td></tr>",
                            "<tr><td>One More Chance</td><td>One More Chance (Rosemary Beach, #8; Chance, #2)</td></tr>",
                            "<tr><td>Post Captain</td><td>Post Captain (Aubrey/Maturin, #2)</td></tr>",
                            "<tr><td>Mine</td><td>Mine (Real, #2)</td></tr>",
                            "<tr><td>Mistress of the Empire (The Empire Trilogy, #3)</td><td>Mistress of the Empire (The Empire Trilogy, #3)</td></tr>",
                            "<tr><td>Momo</td><td>Momo</td></tr>",
                            "<tr><td>Matilda</td><td>Matilda</td></tr>",
                            "<tr><td>The Necronomicon</td><td>Necronomicon: The Best Weird Tales</td></tr>",
                            "<tr><td>Mort - playtext</td><td>Mort: The Play</td></tr>",
                            "<tr><td>No Place to Run</td><td>No Place to Run (KGI, #2)</td></tr>",
                            "<tr><td>Stalingrad: The Fateful Siege, 1942–1943</td><td>Stalingrad: The Fateful Siege, 1942–1943</td></tr>",
                            "<tr><td>Surely You&#39;re Joking, Mr. Feynman! Adventures of a Curious Character</td><td>Surely You&#39;re Joking, Mr. Feynman!: Adventures of a Curious Character</td></tr>",
                            "<tr><td>Strangers in Death </td><td>Strangers in Death (In Death, #26)</td></tr>",
                            "<tr><td>Slammed</td><td>Slammed (Slammed, #1)</td></tr>",
                            "<tr><td>Sisters</td><td>Sisters</td></tr>",
                            "<tr><td>Scott Pilgrim, Volume 3: Scott Pilgrim &amp; The Infinite Sadness</td><td>Scott Pilgrim, Volume 3: Scott Pilgrim &amp; The Infinite Sadness</td></tr>",
                            "<tr><td>Scorpia Rising</td><td>Scorpia Rising (Alex Rider #9)</td></tr>",
                            "<tr><td>美少女戦士セーラームーン 1 [Bishōjo Senshi Sailor Moon 1]</td><td>Sailor Moon, #1 (Sailor Moon, #1)</td></tr>",
                            "<tr><td>Second Grave on the Left</td><td>Second Grave on the Left (Charley Davidson, #2)</td></tr>",
                            "<tr><td>The Burning Land</td><td>The Burning Land (The Saxon Stories, #5)</td></tr>",
                            "<tr><td>The Complete Phantom of the Opera</td><td>The Complete Phantom of the Opera</td></tr>",
                            "<tr><td>The Adventures of Sherlock Holmes</td><td>The Adventures of Sherlock Holmes</td></tr>",
                            "<tr><td>Tales From the Hood</td><td>Tales From the Hood (The Sisters Grimm, #6)</td></tr>",
                            "<tr><td>The Autobiography of Malcolm X</td><td>The Autobiography of Malcolm X</td></tr>",
                            "<tr><td>The Bird and the Sword</td><td>The Bird and the Sword (The Bird and the Sword Chronicles, #1)</td></tr>",
                            "<tr><td>The Blood Mirror</td><td>The Blood Mirror (Lightbringer, #4)</td></tr>",
                            "<tr><td>The Polar Express</td><td>The Polar Express</td></tr>",
                            "<tr><td>The Pillars of the Earth</td><td>The Pillars of the Earth (The Kingsbridge Series, #1)</td></tr>",
                            "<tr><td>The Little House</td><td>The Little House</td></tr>",
                            "<tr><td>The Magic Faraway Tree</td><td>The Magic Faraway Tree (The Faraway Tree, #2)</td></tr>",
                            "<tr><td>The Kings of Clonmel</td><td>The Kings of Clonmel (Ranger&#39;s Apprentice, #8)</td></tr>",
                            "<tr><td>धर्मपद [Dhammapada]</td><td>The Dhammapada</td></tr>",
                            "<tr><td>The Dark Is Rising Sequence (The Dark Is Rising, #1-5)</td><td>The Dark Is Rising Sequence  (The Dark Is Rising #1-5)</td></tr>",
                            "<tr><td>The Emperor of All Maladies: A Biography of Cancer</td><td>The Emperor of All Maladies: A Biography of Cancer</td></tr>",
                            "<tr><td>The Gods of War</td><td>The Gods of War (Emperor, #4)</td></tr>",
                            "<tr><td>The Gamble</td><td>The Gamble (Colorado Mountain, #1)</td></tr>",
                            "<tr><td>Winter of the World</td><td>Winter of the World (The Century Trilogy #2)</td></tr>",
                            "<tr><td>Will You Please Be Quiet, Please?</td><td>Will You Please Be Quiet, Please?</td></tr>",
                            "<tr><td>Written in Red</td><td>Written in Red (The Others, #1)</td></tr>",
                            "<tr><td>ثلاثية غرناطة</td><td>ثلاثية غرناطة</td></tr>",
                            "<tr><td>Yu Yu Hakusho</td><td>Yu Yu Hakusho, Volume 1: Goodbye, Material World! (Yu Yu Hakusho, #1)</td></tr>",
                            "<tr><td>We Were Soldiers Once... and Young: Ia Drang - the Battle That Changed the War in Vietnam</td><td>We Were Soldiers Once... and Young: Ia Drang - The Battle that Changed the War in Vietnam</td></tr>",
                            "<tr><td>Where the Sidewalk Ends: The Poems and Drawings of Shel Silverstein</td><td>Where the Sidewalk Ends</td></tr>",
                            "<tr><td>When Things Fall Apart: Heart Advice for Difficult Times</td><td>When Things Fall Apart: Heart Advice for Difficult Times</td></tr>",
                            "<tr><td>Tricks</td><td>Tricks (Tricks, #1)</td></tr>",
                            "<tr><td>Tiny Beautiful Things: Advice on Love and Life from Dear Sugar</td><td>Tiny Beautiful Things: Advice on Love and Life from Dear Sugar</td></tr>",
                            "<tr><td>Storia di chi fugge e di chi resta</td><td>Those Who Leave and Those Who Stay (The Neapolitan Novels #3)</td></tr>",
                            "<tr><td>Thud!</td><td>Thud! (Discworld, #34; City Watch #7)</td></tr>",
                            "<tr><td>This Book Is Not Good for You</td><td>This Book Is Not Good for You (Secret, #3)</td></tr>",
                            "<tr><td>The Winner&#39;s Kiss</td><td>The Winner&#39;s Kiss (The Winner&#39;s Trilogy, #3)</td></tr>",
                            "<tr><td>The Winter Rose</td><td>The Winter Rose (The Tea Rose, #2)</td></tr>",
                            "<tr><td>The Road to the Dark Tower: Exploring Stephen King&#39;s Magnum Opus</td><td>The Road to the Dark Tower: Exploring Stephen King&#39;s Magnum Opus</td></tr>",
                            "<tr><td>The Shadows</td><td>The Shadows (Black Dagger Brotherhood, #13)</td></tr>",
                            "<tr><td>The Total Money Makeover: A Proven Plan for Financial Fitness</td><td>The Total Money Makeover: A Proven Plan for Financial Fitness</td></tr>",
                            "<tr><td>The True Story of the Three Little Pigs</td><td>The True Story of the 3 Little Pigs</td></tr>",
                            "<tr><td>The Journals of Sylvia Plath</td><td>The Unabridged Journals of Sylvia Plath</td></tr>",
                            "<tr><td>The Velveteen Rabbit</td><td>The Velveteen Rabbit</td></tr>",
                            "<tr><td>The Very Hungry Caterpillar</td><td>The Very Hungry Caterpillar Board Book</td></tr>",
                            "<tr><td>The Walking Dead, Vol. 10: What We Become</td><td>The Walking Dead, Vol. 10: What We Become</td></tr>",
                            "<tr><td>The Warrior&#39;s Apprentice</td><td>The Warrior&#39;s Apprentice (Vorkosigan Saga, #2)</td></tr>",
                            "<tr><td>The Vor Game</td><td>The Vor Game (Vorkosigan Saga, #6)</td></tr>",
                            "<tr><td>The Snowman</td><td>The Snowman</td></tr>",
                            "<tr><td>The Serpent&#39;s Shadow</td><td>The Serpent&#39;s Shadow (Kane Chronicles, #3)</td></tr>",
                            "<tr><td>The Revenge of Seven</td><td>The Revenge of Seven (Lorien Legacies, #5)</td></tr>",
                            "<tr><td>The Raven</td><td>The Raven</td></tr>",
                            "<tr><td>The Pursuit of Holiness</td><td>The Pursuit of Holiness</td></tr>",
                            "<tr><td>This Side of the Grave (Night Huntress, #5)</td><td>This Side of the Grave (Night Huntress, #5)</td></tr>",
                            "<tr><td>The Three Little Kittens (A First Little Golden Book)</td><td>Three Little Kittens</td></tr>",
                            "<tr><td>Trapped </td><td>Trapped (The Iron Druid Chronicles, #5)</td></tr>",
                            "<tr><td>Trickster&#39;s Queen</td><td>Trickster&#39;s Queen (Daughter of the Lioness, #2)</td></tr>",
                            "<tr><td>White Hot Kiss</td><td>White Hot Kiss (The Dark Elements, #1)</td></tr>",
                            "<tr><td>What Do You Care What Other People Think? Further Adventures of a Curious Character</td><td>What Do You Care What Other People Think?</td></tr>",
                            "<tr><td>Unravel Me (Shatter Me, #2)</td><td>Unravel Me (Shatter Me, #2)</td></tr>",
                            "<tr><td>Up From the Grave </td><td>Up from the Grave (Night Huntress, #7)</td></tr>",
                            "<tr><td>美少女戦士セーラームーン</td><td>美少女戦士セーラームーン新装版 1 [Bishōjo Senshi Sailor Moon Shinsōban 1]</td></tr>",
                            "<tr><td>The Great Divorce</td><td>The Great Divorce</td></tr>",
                            "<tr><td>The girl who was on fire</td><td>The Girl Who Was on Fire: Your Favorite Authors on Suzanne Collins&#39; Hunger Games Trilogy</td></tr>",
                            "<tr><td>The Faraway Tree Stories (The Enchanted Wood, The Faraway Tree, The Folk of the Faraway Tree)</td><td>The Faraway Tree Stories (The Faraway Tree #1-3)</td></tr>",
                            "<tr><td>The Darkest Pleasure</td><td>The Darkest Pleasure (Lords of the Underworld #3)</td></tr>",
                            "<tr><td>The Defector</td><td>The Defector (Gabriel Allon, #9)</td></tr>",
                            "<tr><td>The Icewind Dale Trilogy Collector&#39;s Edition (Forgotten Realms: Icewind Dale, #1-3)</td><td>The Icewind Dale Trilogy Collector&#39;s Edition (Forgotten Realms: Icewind Dale, #1-3; Legend of Drizzt, #4-6)</td></tr>",
                            "<tr><td>The Lords of Discipline</td><td>The Lords of Discipline</td></tr>",
                            "<tr><td>Le Petit Prince</td><td>The Little Prince</td></tr>",
                            "<tr><td>The Mysterious Benedict Society and the Prisoner&#39;s Dilemma</td><td>The Mysterious Benedict Society and the Prisoner&#39;s Dilemma (The Mysterious Benedict Society, #3)</td></tr>",
                            "<tr><td>The Book on the Taboo Against Knowing Who You Are</td><td>The Book on the Taboo Against Knowing Who You Are</td></tr>",
                            "<tr><td>Thankless in Death </td><td>Thankless in Death (In Death, #37)</td></tr>",
                            "<tr><td>Swan Song</td><td>Swan Song</td></tr>",
                            "<tr><td>Tales from a Not-So-Popular Party Girl</td><td>Tales from a Not-So-Popular Party Girl (Dork Diaries, #2)</td></tr>",
                            "<tr><td>The Complete Short Stories of Ernest Hemingway</td><td>The Complete Short Stories</td></tr>",
                            "<tr><td>Eventyr og historier</td><td>The Complete Fairy Tales</td></tr>",
                            "<tr><td>The Complete Poems: Anne Sexton</td><td>The Complete Poems</td></tr>",
                            "<tr><td>The Country Mouse and the City Mouse, The Dog and His Bone, The Fox and the Crow (A Little Golden Book)</td><td>The Country Mouse and the City Mouse; The Fox and the Crow; The Dog and His Bone</td></tr>",
                            "<tr><td>The Cartel</td><td>The Cartel</td></tr>",
                            "<tr><td>The Code Book. How to Make It, Break It, Hack It, Crack It</td><td>The Code Book: The Science of Secrecy from Ancient Egypt to Quantum Cryptography</td></tr>",
                            "<tr><td>The Burning Bridge</td><td>The Burning Bridge (Ranger&#39;s Apprentice, #2)</td></tr>",
                            "<tr><td>Shadow&#39;s Claim (The Dacians, #1)</td><td>Shadow&#39;s Claim (Immortals After Dark, #13; The Dacians, #1)</td></tr>",
                            "<tr><td>Shades of Midnight</td><td>Shades of Midnight (Midnight Breed, #7)</td></tr>",
                            "<tr><td>Shattered</td><td>Shattered (The Iron Druid Chronicles, #7)</td></tr>",
                            "<tr><td>Sometimes It Lasts</td><td>Sometimes It Lasts (Sea Breeze, #5)</td></tr>",
                            "<tr><td>Se questo è un uomo</td><td>Survival in Auschwitz</td></tr>",
                            "<tr><td>Sword Song</td><td>Sword Song (The Saxon Stories, #4)</td></tr>",
                            "<tr><td>Stone Soup</td><td>Stone Soup</td></tr>",
                            "<tr><td>Stoner</td><td>Stoner</td></tr>",
                            "<tr><td>Sovereign </td><td>Sovereign (Matthew Shardlake, #3)</td></tr>",
                            "<tr><td>Starlight (Warriors: The New Prophecy, #4)</td><td>Starlight (Warriors: The New Prophecy, #4)</td></tr>",
                            "<tr><td>No Mercy</td><td>No Mercy (Dark-Hunter #18, Were-Hunter, #5)</td></tr>",
                            "<tr><td>Once We Were Brothers</td><td>Once We Were Brothers</td></tr>",
                            "<tr><td>One Flew Over the Cuckoo&#39;s Nest (script)</td><td>One Flew Over the Cuckoo&#39;s Nest</td></tr>",
                            "<tr><td>Old School</td><td>Old School (Diary of a Wimpy Kid, #10)</td></tr>",
                            "<tr><td>The Work and the Glory, Vol. 1: Pillar of Light</td><td>Pillar of Light (The Work and the Glory, #1)</td></tr>",
                            "<tr><td>Perfect Scoundrels</td><td>Perfect Scoundrels (Heist Society, #3)</td></tr>",
                            "<tr><td>Percy Jackson and the Sword of Hades</td><td>Percy Jackson and the Sword of Hades (Percy Jackson and the Olympians, #4.5)</td></tr>",
                            "<tr><td>Pani Jeziora</td><td>Pani Jeziora (Saga o Wiedźminie, #7)</td></tr>",
                            "<tr><td>Out to Canaan (Mitford)</td><td>Out to Canaan (Mitford Years, #4)</td></tr>",
                            "<tr><td>Preacher Vol. 2: Until the End of the World</td><td>Preacher, Volume 2: Until the End of the World</td></tr>",
                            "<tr><td>Good Night, Mr. Tom</td><td>Good Night, Mr. Tom</td></tr>",
                            "<tr><td>Hairy Maclary from Donaldson&#39;s Dairy</td><td>Hairy Maclary from Donaldson&#39;s Dairy</td></tr>",
                            "<tr><td>Half of a Yellow Sun</td><td>Half of a Yellow Sun</td></tr>",
                            "<tr><td>Gunmetal Magic</td><td>Gunmetal Magic (Kate Daniels, #5.5)</td></tr>",
                            "<tr><td>Hard Luck</td><td>Hard Luck (Diary of a Wimpy Kid, #8)</td></tr>",
                            "<tr><td>Gone with the Wind</td><td>Gone with the Wind</td></tr>",
                            "<tr><td>Glass (Crank, #2)</td><td>Glass (Crank, #2)</td></tr>",
                            "<tr><td>Ghost Wars: The Secret History of the CIA, Afghanistan, and Bin Laden, from the Soviet Invasion to September 10, 2001</td><td>Ghost Wars: The Secret History of the CIA, Afghanistan, and bin Laden from the Soviet Invasion to September 10, 2001</td></tr>",
                            "<tr><td>Futures and Frosting</td><td>Futures and Frosting (Chocolate Lovers, #2)</td></tr>",
                            "<tr><td>Hot Ticket</td><td>Hot Ticket (Sinners on Tour, #3)</td></tr>",
                            "<tr><td>Horde</td><td>Horde (Razorland, #3)</td></tr>",
                            "<tr><td>ヘルシング 1</td><td>Hellsing, Vol. 01 (Hellsing, #1)</td></tr>",
                            "<tr><td>Her Mother&#39;s Hope (Marta&#39;s Legacy, #1)</td><td>Her Mother&#39;s Hope (Marta&#39;s Legacy, #1)</td></tr>",
                            "<tr><td>Knuffle Bunny Too: A Case of Mistaken Identity</td><td>Knuffle Bunny Too: A Case of Mistaken Identity (Knuffle Bunny, #2)</td></tr>",
                            "<tr><td>Lioness Rampant</td><td>Lioness Rampant (Song of the Lioness, #4)</td></tr>",
                            "<tr><td>Llama Llama Mad at Mama</td><td>Llama Llama Mad at Mama</td></tr>",
                            "<tr><td>Lover Avenged, part two</td><td>Lover Unleashed (Black Dagger Brotherhood, #9)</td></tr>",
                            "<tr><td>Loving Mr. Daniels</td><td>Loving Mr. Daniels</td></tr>",
                            "<tr><td>Black Hawk Down</td><td>Black Hawk Down</td></tr>",
                            "<tr><td>Caliban&#39;s War</td><td>Caliban&#39;s War (The Expanse, #2)</td></tr>",
                            "<tr><td>Carry On, Jeeves</td><td>Carry on, Jeeves (Jeeves, #3)</td></tr>",
                            "<tr><td>Celebrity in Death</td><td>Celebrity in Death (In Death, #34)</td></tr>",
                            "<tr><td>Schachnovelle</td><td>Chess Story</td></tr>",
                            "<tr><td>Mitford Years New Song Unabridged</td><td>A New Song (Mitford Years, #5)</td></tr>",
                            "<tr><td>The Complete Wreck (A Series of Unfortunate Events, Books 1-13)</td><td>A Series of Unfortunate Events Box: The Complete Wreck (Books 1-13)</td></tr>",
                            "<tr><td>A Fistful of Charms</td><td>A Fistful of Charms (The Hollows, #4)</td></tr>",
                            "<tr><td>Animalia</td><td>Animalia</td></tr>",
                            "<tr><td>Accordance</td><td>Accordance (Significance, #2)</td></tr>",
                            "<tr><td>A Supposedly Fun Thing I&#39;ll Never Do Again: Essays and Arguments</td><td>A Supposedly Fun Thing I&#39;ll Never Do Again:  Essays and Arguments</td></tr>",
                            "<tr><td>All But My Life</td><td>All But My Life: A Memoir</td></tr>",
                            "<tr><td>Act of Treason</td><td>Act of Treason (Mitch Rapp, #9)</td></tr>",
                            "<tr><td>City of Thieves</td><td>City of Thieves</td></tr>",
                            "<tr><td>Corduroy</td><td>Corduroy</td></tr>",
                            "<tr><td>Crash Into You</td><td>Crash into You (Pushing the Limits, #3)</td></tr>",
                            "<tr><td>Cutting for Stone</td><td>Cutting for Stone</td></tr>",
                            "<tr><td>Curious George Takes a Job</td><td>Curious George Takes a Job</td></tr>",
                            "<tr><td>Daughter of the Forest</td><td>Daughter of the Forest  (Sevenwaters, #1)</td></tr>",
                            "<tr><td>Death of Kings</td><td>Death of Kings (The Saxon Stories, #6)</td></tr>",
                            "<tr><td>The Sandman: Dream Country</td><td>Dream Country (The Sandman #3)</td></tr>",
                            "<tr><td>Fables, Volume 8: Wolves</td><td>Fables, Vol. 8: Wolves</td></tr>",
                            "<tr><td>Fish In A Tree</td><td>Fish in a Tree</td></tr>",
                            "<tr><td>Flotsam</td><td>Flotsam</td></tr>",
                            "<tr><td>For Colored Girls Who Have Considered Suicide When the Rainbow Is Enuf </td><td>for colored girls who have considered suicide/when the rainbow is enuf</td></tr>",
                            "<tr><td>Found in You</td><td>Found in You (Fixed, #2)</td></tr>",
                            "<tr><td>Freedom™</td><td>Freedom™ (Daemon, #2)</td></tr>",
                            "<tr><td>Everything that Rises Must Converge</td><td>Everything That Rises Must Converge: Stories</td></tr>",
                            "<tr><td>Eragon &amp; Eldest (Inheritance, #1-2)</td><td>Eragon &amp; Eldest (Inheritance, #1-2)</td></tr>",
                            "<tr><td>Emperor of Thorns</td><td>Emperor of Thorns (The Broken Empire, #3)</td></tr>",
                            "<tr><td>Destroy Me</td><td>Destroy Me (Shatter Me, #1.5)</td></tr>",
                            "<tr><td>Dead Heat</td><td>Dead Heat (Alpha &amp; Omega #4)</td></tr>",
                            "<tr><td>デスノート #8 (Desu Nōto) Mato (的)</td><td>Death Note, Vol. 8: Target (Death Note, #8)</td></tr>",
                            "<tr><td>Coming Home</td><td>Coming Home</td></tr>",
                            "<tr><td>Alanna: The First Adventure</td><td>Alanna: The First Adventure (Song of the Lioness, #1)</td></tr>",
                            "<tr><td>Amelia Bedelia and the Surprise Shower</td><td>Amelia Bedelia and the Surprise Shower</td></tr>",
                            "<tr><td>Academ&#39;s Fury</td><td>Academ&#39;s Fury (Codex Alera, #2)</td></tr>",
                            "<tr><td>Angels in America: A Gay Fantasia on National Themes: Millennium Approaches (Part One)</td><td>Angels in America, Part One: Millennium Approaches</td></tr>",
                            "<tr><td>Angle of Repose</td><td>Angle of Repose</td></tr>",
                            "<tr><td>A Little Life</td><td>A Little Life</td></tr>",
                            "<tr><td>Born to Run: A Hidden Tribe, Superathletes, and the Greatest Race the World Has Never Seen</td><td>Born to Run: A Hidden Tribe, Superathletes, and the Greatest Race the World Has Never Seen</td></tr>",
                            "<tr><td>Bite Me If You Can</td><td>Bite Me If You Can (Argeneau #6)</td></tr>",
                            "<tr><td>Before They Are Hanged</td><td>Before They Are Hanged (The First Law #2)</td></tr>",
                            "<tr><td>Be Here Now</td><td>Be Here Now</td></tr>",
                            "<tr><td>Madeline and the Bad Hat</td><td>Madeline and the Bad Hat</td></tr>",
                            "<tr><td>Llama, Llama Red Pajama</td><td>Llama Llama Red Pajama</td></tr>",
                            "<tr><td>The Work and the Glory, Vol. 2: Like a Fire Burning</td><td>Like a Fire Burning (The Work and the Glory, #2)</td></tr>",
                            "<tr><td>Kane and Abel</td><td>Kane and Abel (Kane and Abel, #1)</td></tr>",
                            "<tr><td>Invincible (Chronicles of Nick #2)</td><td>Invincible (Chronicles of Nick, #2)</td></tr>",
                            "<tr><td>Hawkeye, Volume 2: Little Hits</td><td>Hawkeye, Volume 2: Little Hits</td></tr>",
                            "<tr><td>His Last Bow: Some Reminiscences of Sherlock Holmes</td><td>His Last Bow: 8 Stories</td></tr>",
                            "<tr><td>Homeland</td><td>Homeland (Forgotten Realms: The Dark Elf Trilogy, #1; Legend of Drizzt, #1)</td></tr>",
                            "<tr><td>Hope</td><td>Hope: A Memoir of Survival in Cleveland</td></tr>",
                            "<tr><td>Hunting Ground</td><td>Hunting Ground (Alpha &amp; Omega, #2)</td></tr>",
                            "<tr><td>I, Claudius</td><td>I, Claudius (Claudius, #1)</td></tr>",
                            "<tr><td>Ghost Town</td><td>Ghost Town (The Morganville Vampires, #9)</td></tr>",
                            "<tr><td>Hands of Light: A Guide to Healing Through the Human Energy Field</td><td>Hands Of Light</td></tr>",
                            "<tr><td>Hark! A Vagrant</td><td>Hark! A Vagrant</td></tr>",
                            "<tr><td>Preacher: Proud Americans</td><td>Preacher, Volume 3: Proud Americans</td></tr>",
                            "<tr><td>Roller Girl</td><td>Roller Girl</td></tr>",
                            "<tr><td>Reaper&#39;s Legacy</td><td>Reaper&#39;s Legacy (Reapers MC, #2)</td></tr>",
                            "<tr><td>Red Country</td><td>Red Country (First Law World, #6)</td></tr>",
                            "<tr><td>Reaper Man</td><td>Reaper Man (Discworld, #11; Death, #2)</td></tr>",
                            "<tr><td>My Family and Other Animals</td><td>My Family and Other Animals (Corfu Trilogy, #1)</td></tr>",
                            "<tr><td>Mastery</td><td>Mastery</td></tr>",
                            "<tr><td>Mila 18</td><td>Mila 18</td></tr>",
                            "<tr><td>Miles to Go</td><td>Miles to Go (The Walk, #2)</td></tr>",
                            "<tr><td>milk and honey</td><td>Milk and Honey</td></tr>",
                            "<tr><td>Me Before You</td><td>Me Before You (Me Before You, #1)</td></tr>",
                            "<tr><td>Stars Above</td><td>Stars Above (The Lunar Chronicles, #4.5)</td></tr>",
                            "<tr><td>Stone Butch Blues</td><td>Stone Butch Blues</td></tr>",
                            "<tr><td>Spell of the Highlander </td><td>Spell of the Highlander (Highlander, #7)</td></tr>",
                            "<tr><td>Squire</td><td>Squire (Protector of the Small, #3)</td></tr>",
                            "<tr><td>Stories of Your Life and Others </td><td>Stories of Your Life and Others</td></tr>",
                            "<tr><td>Small Gods</td><td>Small Gods (Discworld, #13)</td></tr>",
                            "<tr><td>Servant of the Empire (The Empire Trilogy, #2)</td><td>Servant of the Empire (The Empire Trilogy, #2)</td></tr>",
                            "<tr><td>Shadow&#39;s Edge</td><td>Shadow&#39;s Edge (Night Angel, #2)</td></tr>",
                            "<tr><td>Ronja Rövardotter</td><td>Ronia, the Robber&#39;s Daughter</td></tr>",
                            "<tr><td>Taken by Midnight (Midnight Breed, #8)</td><td>Taken by Midnight (Midnight Breed, #8)</td></tr>",
                            "<tr><td>The Belgariad: Part One - Pawn of Prophecy / Queen of Sorcery / Magician&#39;s Gambit</td><td>The Belgariad, Vol. 1: Pawn of Prophecy / Queen of Sorcery / Magician&#39;s Gambit (The Belgariad, #1-3)</td></tr>",
                            "<tr><td>The Napping House</td><td>The Napping House</td></tr>",
                            "<tr><td>The Missing Piece</td><td>The Missing Piece</td></tr>",
                            "<tr><td>The Pale Rider</td><td>The Pale Horseman (The Saxon Stories, #2)</td></tr>",
                            "<tr><td>The Lions of Al-Rassan</td><td>The Lions of Al-Rassan</td></tr>",
                            "<tr><td>The Lost Stories</td><td>The Lost Stories (Ranger&#39;s Apprentice, #11)</td></tr>",
                            "<tr><td>The Intelligent Investor</td><td>The Intelligent Investor (Collins Business Essentials)</td></tr>",
                            "<tr><td>The Demon-Haunted World: Science as a Candle in the Dark</td><td>The Demon-Haunted World: Science as a Candle in the Dark</td></tr>",
                            "<tr><td>The Dream Thieves</td><td>The Dream Thieves (The Raven Cycle, #2)</td></tr>",
                            "<tr><td>The Dark Tower</td><td>The Dark Tower (The Dark Tower, #7)</td></tr>",
                            "<tr><td>Berlin: The Downfall 1945</td><td>The Fall of Berlin 1945</td></tr>",
                            "<tr><td>The Hidden Messages in Water</td><td>The Hidden Messages in Water</td></tr>",
                            "<tr><td>Y: The Last Man Vol. 9: Motherland</td><td>Y: The Last Man, Vol. 9: Motherland (Y: The Last Man, #9)</td></tr>",
                            "<tr><td>Y: The Last Man Vol. 5: Ring of Truth</td><td>Y: The Last Man, Vol. 5: Ring of Truth (Y: The Last Man, #5)</td></tr>",
                            "<tr><td>Vision in Silver </td><td>Vision in Silver (The Others, #3)</td></tr>",
                            "<tr><td>ヴァンパイア騎士 3 </td><td>Vampire Knight, Vol. 3 (Vampire Knight, #3)</td></tr>",
                            "<tr><td>When Christ and His Saints Slept</td><td>When Christ and His Saints Slept  (Henry II &amp; Eleanor of Aquitaine, #1)</td></tr>",
                            "<tr><td>We&#39;re Going on a Bear Hunt</td><td>We&#39;re Going on a Bear Hunt</td></tr>",
                            "<tr><td>Trust in Me</td><td>Trust in Me (Wait for You, #1.5)</td></tr>",
                            "<tr><td>The Winter King</td><td>The Winter King (The Warlord Chronicles, #1)</td></tr>",
                            "<tr><td>These High, Green Hills</td><td>These High, Green Hills (Mitford Years, #3)</td></tr>",
                            "<tr><td>The Problem Child</td><td>The Problem Child (The Sisters Grimm, #3)</td></tr>",
                            "<tr><td>Mountain Interval</td><td>The Road Not Taken and Other Poems</td></tr>",
                            "<tr><td>The Score</td><td>The Score (Off-Campus, #3)</td></tr>",
                            "<tr><td>The Soldiers of Halla</td><td>The Soldiers of Halla (Pendragon, #10)</td></tr>",
                            "<tr><td>The Sight</td><td>The Sight (Warriors: Power of Three, #1)</td></tr>",
                            "<tr><td>The Stories of John Cheever</td><td>The Stories of John Cheever</td></tr>",
                            "<tr><td>The Song of Achilles</td><td>The Song of Achilles</td></tr>",
                            "<tr><td>The Untethered Soul</td><td>The Untethered Soul: The Journey Beyond Yourself</td></tr>",
                            "<tr><td>The Walking Dead V 7</td><td>The Walking Dead, Vol. 07: The Calm Before</td></tr>",
                            "<tr><td>The Painted Man</td><td>The Warded Man (Demon Cycle, #1)</td></tr>",
                            "<tr><td>The Three Little Pigs (A Little Golden Book)</td><td>The Three Little Pigs</td></tr>",
                            "<tr><td>The Sword of Summer</td><td>The Sword of Summer (Magnus Chase and the Gods of Asgard, #1)</td></tr>",
                            "<tr><td>The Third Option</td><td>The Third Option (Mitch Rapp, #4)</td></tr>",
                            "<tr><td>The Storyteller</td><td>The Storyteller</td></tr>",
                            "<tr><td>The Success Principles</td><td>The Success Principles: How to Get from Where You Are to Where You Want to Be</td></tr>",
                            "<tr><td>The Son of Sobek</td><td>The Son of Sobek (Percy Jackson &amp; Kane Chronicles Crossover, #1)</td></tr>",
                            "<tr><td>The Secret</td><td>The Secret (Highlands&#39; Lairds #1)</td></tr>",
                            "<tr><td>Le secret de la Licorne</td><td>The Secret of the Unicorn (Tintin, #11)</td></tr>",
                            "<tr><td>The Rembrandt Affair</td><td>The Rembrandt Affair (Gabriel Allon, #10)</td></tr>",
                            "<tr><td>Twilight</td><td>Twilight (The Mediator, #6)</td></tr>",
                            "<tr><td>Waylander </td><td>Waylander (The Drenai Saga, #3)</td></tr>",
                            "<tr><td>Veil of Midnight</td><td>Veil of Midnight (Midnight Breed, #5)</td></tr>",
                            "<tr><td>Very Good Lives: The Fringe Benefits of Failure and the Importance of Imagination</td><td>Very Good Lives: The Fringe Benefits of Failure and the Importance of Imagination</td></tr>",
                            "<tr><td>Unveiled: Tamar (Lineage of Grace #1)</td><td>Unveiled: Tamar (Lineage of Grace #1)</td></tr>",
                            "<tr><td>Twilight: The Graphic Novel,</td><td>Twilight: The Graphic Novel, Vol. 2  (Twilight: The Graphic Novel, #2)</td></tr>",
                            "<tr><td>Twisted Perfection (Perfection, #1)</td><td>Twisted Perfection (Rosemary Beach, #5; Perfection, #1)</td></tr>",
                            "<tr><td>The High King </td><td>The High King (The Chronicles of Prydain #5)</td></tr>",
                            "<tr><td>The Heroes</td><td>The Heroes (First Law World, #5)</td></tr>",
                            "<tr><td>The Good, the Bad, and the Undead</td><td>The Good, the Bad, and the Undead (The Hollows, #2)</td></tr>",
                            "<tr><td>O Evangelho segundo Jesus Cristo</td><td>The Gospel According to Jesus Christ</td></tr>",
                            "<tr><td>Die fröhliche Wissenschaft</td><td>The Gay Science</td></tr>",
                            "<tr><td>The Eternity Cure</td><td>The Eternity Cure (Blood of Eden, #2)</td></tr>",
                            "<tr><td>The Edge of Never</td><td>The Edge of Never (The Edge of Never, #1)</td></tr>",
                            "<tr><td>The Fault in Our Stars</td><td>The Fault in Our Stars</td></tr>",
                            "<tr><td>The Field of Swords (Emperor, #3)</td><td>The Field of Swords (Emperor, #3)</td></tr>",
                            "<tr><td>The Fiery Cross</td><td>The Fiery Cross (Outlander, #5)</td></tr>",
                            "<tr><td>The Darkest Kiss</td><td>The Darkest Kiss (Lords of the Underworld #2)</td></tr>",
                            "<tr><td>The Darkest Minds</td><td>The Darkest Minds (The Darkest Minds, #1)</td></tr>",
                            "<tr><td>The Dot</td><td>The Dot</td></tr>",
                            "<tr><td>The Inimitable Jeeves </td><td>The Inimitable Jeeves (Jeeves, #2)</td></tr>",
                            "<tr><td>The Kite Runner </td><td>The Kite Runner</td></tr>",
                            "<tr><td>The Lord of the Rings Sketchbook</td><td>The Lord of the Rings Sketchbook</td></tr>",
                            "<tr><td>The Player of Games</td><td>The Player of Games (Culture, #2)</td></tr>",
                            "<tr><td>The Miracle of Mindfulness: A Manual on Meditation</td><td>The Miracle of Mindfulness: An Introduction to the Practice of Meditation</td></tr>",
                            "<tr><td>The Big Short: Inside the Doomsday Machine</td><td>The Big Short: Inside the Doomsday Machine</td></tr>",
                            "<tr><td>The Belgariad Boxed Set: Pawn of Prophecy, Queen of Sorcery, Magician&#39;s Gambit, Castle of Wizardry, &amp; Enchanters&#39; End Game (The Belgariad, #1-5)</td><td>The Belgariad Boxed Set: Pawn of Prophecy / Queen of Sorcery / Magician&#39;s Gambit / Castle of Wizardry / Enchanters&#39; End Game (The Belgariad, #1-5)</td></tr>",
                            "<tr><td>Different Seasons</td><td>The Body</td></tr>",
                            "<tr><td>Takedown</td><td>Takedown (Scot Harvath, #5)</td></tr>",
                            "<tr><td>The Atonement Child</td><td>The Atonement Child</td></tr>",
                            "<tr><td>The Charm School</td><td>The Charm School</td></tr>",
                            "<tr><td>The Cabinet of Curiosities</td><td>The Cabinet of Curiosities (Pendergast, #3)</td></tr>",
                            "<tr><td>The Bride</td><td>The Bride (Lairds&#39; Fiancées, #1)</td></tr>",
                            "<tr><td>Salvation in Death</td><td>Salvation in Death (In Death, #27)</td></tr>",
                            "<tr><td>Shadow Divers: The True Adventure of Two Americans Who Risked Everything to Solve One of the Last Mysteries of World War II</td><td>Shadow Divers</td></tr>",
                            "<tr><td>Shantaram</td><td>Shantaram</td></tr>",
                            "<tr><td>スキップ・ビート! 1 </td><td>Skip Beat!, Vol. 01</td></tr>",
                            "<tr><td>Simon vs. the Homo Sapiens Agenda</td><td>Simon vs. the Homo Sapiens Agenda</td></tr>",
                            "<tr><td>Midnight</td><td>Midnight (Warriors: The New Prophecy, #1)</td></tr>",
                            "<tr><td>Miss Nelson Is Missing!</td><td>Miss Nelson Is Missing! (Miss Nelson, #1)</td></tr>",
                            "<tr><td>Magic&#39;s Price</td><td>Magic&#39;s Price (Valdemar: Last Herald-Mage #3)</td></tr>",
                            "<tr><td>Red Rising</td><td>Red Rising (Red Rising, #1)</td></tr>",
                            "<tr><td>River Marked</td><td>River Marked (Mercy Thompson, #6)</td></tr>",
                            "<tr><td>Rapture in Death</td><td>Rapture in Death (In Death, #4)</td></tr>",
                            "<tr><td>Once Upon a Crime</td><td>Once Upon a Crime (The Sisters Grimm, #4)</td></tr>",
                            "<tr><td>Point of Impact</td><td>Point of Impact (Bob Lee Swagger, #1)</td></tr>",
                            "<tr><td>Hardline</td><td>Hardline (Hacker, #3)</td></tr>",
                            "<tr><td>Grip of the Shadow Plague</td><td>Grip of the Shadow Plague (Fablehaven, #3)</td></tr>",
                            "<tr><td>Gaudy Night</td><td>Gaudy Night (Lord Peter Wimsey, #12)</td></tr>",
                            "<tr><td>Full Black</td><td>Full Black (Scot Harvath, #10)</td></tr>",
                            "<tr><td>Go the Fuck to Sleep</td><td>Go the Fuck to Sleep</td></tr>",
                            "<tr><td>Immortal in Death </td><td>Immortal in Death (In Death, #3)</td></tr>",
                            "<tr><td>犬夜叉 1</td><td>InuYasha: Turning Back Time (InuYasha, #1)</td></tr>",
                            "<tr><td>Inside the Human Body</td><td>Inside the Human Body (The Magic School Bus, #3)</td></tr>",
                            "<tr><td>Knuffle Bunny:  A Cautionary Tale</td><td>Knuffle Bunny: A Cautionary Tale (Knuffle Bunny, #1)</td></tr>",
                            "<tr><td>L.A. Requiem</td><td>L.A. Requiem (Elvis Cole, #8)</td></tr>",
                            "<tr><td>Lamb: The Gospel According to Biff, Christ&#39;s Childhood Pal</td><td>Lamb: The Gospel According to Biff, Christ&#39;s Childhood Pal</td></tr>",
                            "<tr><td>Last Argument of Kings</td><td>Last Argument of Kings (The First Law, #3)</td></tr>",
                            "<tr><td>Les Fleurs du mal</td><td>Les Fleurs du Mal</td></tr>",
                            "<tr><td>Love Unrehearsed</td><td>Love Unrehearsed (Love, #2)</td></tr>",
                            "<tr><td>Batman, Volume 2: The City of Owls</td><td>Batman, Volume 2: The City of Owls</td></tr>",
                            "<tr><td>Barefoot Contessa Family Style: Easy Ideas and Recipes That Make Everyone Feel Like Family</td><td>Barefoot Contessa Family Style: Easy Ideas and Recipes That Make Everyone Feel Like Family</td></tr>",
                            "<tr><td>Billions and Billions: Thoughts on Life and Death at the Brink of the Millennium</td><td>Billions &amp; Billions: Thoughts on Life and Death at the Brink of the Millennium</td></tr>",
                            "<tr><td>Black Dawn</td><td>Black Dawn (The Morganville Vampires, #12)</td></tr>",
                            "<tr><td>Bring Up the Bodies</td><td>Bring Up the Bodies (Thomas Cromwell, #2)</td></tr>",
                            "<tr><td>Bloodhound (Beka Cooper, #2)</td><td>Bloodhound (Beka Cooper, #2)</td></tr>",
                            "<tr><td>Ceremony in Death</td><td>Ceremony in Death (In Death, #5)</td></tr>",
                            "<tr><td>A Grief Observed</td><td>A Grief Observed</td></tr>",
                            "<tr><td>13 Hours: The Inside Account of What Really Happened In Benghazi</td><td>13 Hours: The Inside Account of What Really Happened In Benghazi</td></tr>",
                            "<tr><td>Animal Farm &amp; 1984</td><td>Animal Farm / 1984</td></tr>",
                            "<tr><td>Americanah</td><td>Americanah</td></tr>",
                            "<tr><td>Any Human Heart</td><td>Any Human Heart</td></tr>",
                            "<tr><td>Anne Frank Remembered</td><td>Anne Frank Remembered: The Story of the Woman Who Helped to Hide the Frank Family</td></tr>",
                            "<tr><td>Archangel&#39;s Blade</td><td>Archangel&#39;s Blade (Guild Hunter, #4)</td></tr>",
                            "<tr><td>Addicted</td><td>Addicted</td></tr>",
                            "<tr><td>Alexander Hamilton</td><td>Alexander Hamilton</td></tr>",
                            "<tr><td>Columbine</td><td>Columbine</td></tr>",
                            "<tr><td>Class A (Cherub #2)</td><td>Class A (Cherub, #2)</td></tr>",
                            "<tr><td>Devil in Winter </td><td>Devil in Winter (Wallflowers, #3)</td></tr>",
                            "<tr><td>Бесы</td><td>Demons</td></tr>",
                            "<tr><td>Dragonsinger</td><td>Dragonsinger (Harper Hall, #2)</td></tr>",
                            "<tr><td>Dust</td><td>Dust (Silo, #3)</td></tr>",
                            "<tr><td>Even Now</td><td>Even Now (Lost Love, #1)</td></tr>",
                            "<tr><td>Essentials of Classic Italian Cooking</td><td>Essentials of Classic Italian Cooking</td></tr>",
                            "<tr><td>Fall of Giants</td><td>Fall of Giants (The Century Trilogy, #1)</td></tr>",
                            "<tr><td>Fried Green Tomatoes at the Whistle Stop Cafe</td><td>Fried Green Tomatoes at the Whistle Stop Cafe</td></tr>",
                            "<tr><td>Eye of the World (The Wheel of Time, #1-1)</td><td>From the Two Rivers: The Eye of the World, Part 1 (Wheel of time, #1-1)</td></tr>",
                            "<tr><td>Festive in Death</td><td>Festive in Death (In Death, #39)</td></tr>",
                            "<tr><td>Far from the Tree: Parents, Children, and the Search for Identity</td><td>Far from the Tree: Parents, Children, and the Search for Identity</td></tr>",
                            "<tr><td>Feet of Clay</td><td>Feet of Clay (Discworld, #19; City Watch, #3)</td></tr>",
                            "<tr><td>Fear</td><td>Fear (Gone, #5)</td></tr>",
                            "<tr><td>Fantasy In Death</td><td>Fantasy in Death (In Death, #30)</td></tr>",
                            "<tr><td>Frosty the Snow Man</td><td>Frosty the Snow Man</td></tr>",
                            "<tr><td>Foxe&#39;s Book of Martyrs</td><td>Foxe&#39;s Book of Martyrs</td></tr>",
                            "<tr><td>Drums, Girls &amp; Dangerous Pie</td><td>Drums, Girls &amp; Dangerous Pie (Drums, Girls &amp; Dangerous Pie, #1)</td></tr>",
                            "<tr><td>Elon Musk: Tesla, SpaceX, and the Quest for a Fantastic Future</td><td>Elon Musk: Inventing the Future</td></tr>",
                            "<tr><td>Desire Unchained (Shadow Lover)</td><td>Desire Unchained (Demonica #2)</td></tr>",
                            "<tr><td>Deadhouse Gates</td><td>Deadhouse Gates (The Malazan Book of the Fallen, #2)</td></tr>",
                            "<tr><td>D-Day June 6, 1944: The Climactic Battle of WWII</td><td>D-Day, June 6, 1944: The Battle for the Normandy Beaches</td></tr>",
                            "<tr><td>Come Back, Amelia Bedelia</td><td>Come Back, Amelia Bedelia</td></tr>",
                            "<tr><td>Consider the Lobster</td><td>Consider the Lobster and Other Essays</td></tr>",
                            "<tr><td>Curious George Visits the Library</td><td>Curious George Visits the Library</td></tr>",
                            "<tr><td>Cryptonomicon</td><td>Cryptonomicon</td></tr>",
                            "<tr><td>Concealed in Death</td><td>Concealed in Death (In Death, #38)</td></tr>",
                            "<tr><td>Anne Frank: Beyond the Diary - A Photographic Remembrance</td><td>Anne Frank: Beyond the Diary - A Photographic Remembrance</td></tr>",
                            "<tr><td>An Army at Dawn: The War in Africa, 1942-1943</td><td>An Army at Dawn: The War in North Africa, 1942-1943 (World War II Liberation Trilogy, #1)</td></tr>",
                            "<tr><td>Animal Speak: The Spiritual &amp; Magical Powers of Creatures Great &amp; Small</td><td>Animal-Speak: The Spiritual &amp; Magical Powers of Creatures Great &amp; Small</td></tr>",
                            "<tr><td>A Bargain for Frances</td><td>A Bargain for Frances</td></tr>",
                            "<tr><td>A Color of His Own</td><td>A Color of His Own</td></tr>",
                            "<tr><td>A Kingdom of Dreams </td><td>A Kingdom of Dreams (Westmoreland, #1)</td></tr>",
                            "<tr><td>A Sick Day for Amos McGee</td><td>A Sick Day for Amos McGee</td></tr>",
                            "<tr><td>Chicken Soup with Rice: A Book of Months</td><td>Chicken Soup with Rice: A Book of Months (The Nutshell Library)</td></tr>",
                            "<tr><td>Betty Crocker&#39;s Cookbook</td><td>Betty Crocker&#39;s Cookbook</td></tr>",
                            "<tr><td>Batman: The Dark Knight Returns</td><td>Batman: The Dark Knight Returns (The Dark Knight Saga, #1)</td></tr>",
                            "<tr><td>Beauty from Pain</td><td>Beauty from Pain (Beauty, #1)</td></tr>",
                            "<tr><td>Barnyard Dance</td><td>Barnyard Dance</td></tr>",
                            "<tr><td>Batman (Volume 2): Hush</td><td>Batman: Hush, Vol. 2</td></tr>",
                            "<tr><td>Bear Snores On</td><td>Bear Snores On</td></tr>",
                            "<tr><td>At the Mountains of Madness</td><td>At the Mountains of Madness and Other Tales of Terror</td></tr>",
                            "<tr><td>Star Wars: Lost Stars</td><td>Lost Stars (Star Wars: Journey to the Force Awakens)</td></tr>",
                            "<tr><td>Discover an Incredible Life in an Ordinary World</td><td>Love Does: Discover a Secretly Incredible Life in an Ordinary World</td></tr>",
                            "<tr><td>Mad Dogs</td><td>Mad Dogs (Cherub, #8)</td></tr>",
                            "<tr><td>Legend </td><td>Legend (The Drenai Saga, #1)</td></tr>",
                            "<tr><td>Little Princes: One Man&#39;s Promise to Bring Home the Lost Children of Nepal</td><td>Little Princes: One Man&#39;s Promise to Bring Home the Lost Children of Nepal</td></tr>",
                            "<tr><td>Justice: What&#39;s the Right Thing to Do?</td><td>Justice: What&#39;s the Right Thing to Do?</td></tr>",
                            "<tr><td>In Harm&#39;s Way: The Sinking of the U.S.S. Indianapolis and the Extraordinary Story of Its Survivors</td><td>In Harm&#39;s Way: The Sinking of the U.S.S. Indianapolis and the Extraordinary Story of Its Survivors</td></tr>",
                            "<tr><td>In the Hand of the Goddess</td><td>In the Hand of the Goddess (Song of the Lioness, #2)</td></tr>",
                            "<tr><td>Voyage au bout de la nuit</td><td>Journey to the End of the Night</td></tr>",
                            "<tr><td>Just for Now</td><td>Just for Now (Sea Breeze, #4)</td></tr>",
                            "<tr><td>Just for You</td><td>Just for You (Little Critter)</td></tr>",
                            "<tr><td>Rayuela</td><td>Hopscotch</td></tr>",
                            "<tr><td>How I Raised Myself from Failure to Success in Selling</td><td>How I Raised Myself from Failure to Success in Selling</td></tr>",
                            "<tr><td>His Dark Materials</td><td>His Dark Materials (His Dark Materials #1-3)</td></tr>",
                            "<tr><td>Glory in Death</td><td>Glory in Death (In Death, #2)</td></tr>",
                            "<tr><td>Goliath</td><td>Goliath (Leviathan, #3)</td></tr>",
                            "<tr><td>Generation Kill</td><td>Generation Kill: Devil Dogs, Iceman, Captain America, and the New Face of American War</td></tr>",
                            "<tr><td>Ghost Story</td><td>Ghost Story (The Dresden Files,  #13)</td></tr>",
                            "<tr><td>Good Omens: The Nice and Accurate Prophecies of Agnes Nutter, Witch</td><td>Good Omens: The Nice and Accurate Prophecies of Agnes Nutter, Witch</td></tr>",
                            "<tr><td>Gregor and the Code of Claw</td><td>Gregor and the Code of Claw (Underland Chronicles, #5)</td></tr>",
                            "<tr><td>The Fall of Reach</td><td>Halo: The Fall of Reach</td></tr>",
                            "<tr><td>Practicing the Power of Now: Essential Teachings, Meditations, and Exercises from The Power of Now</td><td>Practicing the Power of Now: Essential Teachings, Meditations, and Exercises from the Power of Now</td></tr>",
                            "<tr><td>Phantoms in the Brain: Probing the Mysteries of the Human Mind</td><td>Phantoms in the Brain: Probing the Mysteries of the Human Mind</td></tr>",
                            "<tr><td>Parts</td><td>Parts (Parts, #1)</td></tr>",
                            "<tr><td>Pedagogia do Oprimido</td><td>Pedagogy of the Oppressed</td></tr>",
                            "<tr><td>Owen</td><td>Owen</td></tr>",
                            "<tr><td>Preacher: Ancient History (Preacher, #4)</td><td>Preacher, Volume 4: Ancient History</td></tr>",
                            "<tr><td>Magician: Master (The Riftwar Saga, #2)</td><td>Magician: Master (The Riftwar Saga, #2)</td></tr>",
                            "<tr><td>Matterhorn: A Novel of the Vietnam War</td><td>Matterhorn</td></tr>",
                            "<tr><td>Monsters of Men</td><td>Monsters of Men (Chaos Walking, #3)</td></tr>",
                            "<tr><td>Midnight Awakening </td><td>Midnight Awakening (Midnight Breed, #3)</td></tr>",
                            "<tr><td>Means of Ascent </td><td>Means of Ascent (The Years of Lyndon Johnson, #2)</td></tr>",
                            "<tr><td>Mystery Man (Dream Man, #1)</td><td>Mystery Man (Dream Man, #1)</td></tr>",
                            "<tr><td>Nicholas and Alexandra</td><td>Nicholas and Alexandra</td></tr>",
                            "<tr><td>Night Embrace (Dark-Hunter, #2)</td><td>Night Embrace (Dark-Hunter #2)</td></tr>",
                            "<tr><td>Never Love a Highlander</td><td>Never Love a Highlander (McCabe Trilogy, #3)</td></tr>",
                            "<tr><td>One Grave at a Time (Night Huntress, #6)</td><td>One Grave at a Time (Night Huntress, #6)</td></tr>",
                            "<tr><td>Simple Perfection (Perfection, #2)</td><td>Simple Perfection (Rosemary Beach, #6; Perfection, #2)</td></tr>",
                            "<tr><td>Skippyjon Jones</td><td>Skippyjon Jones</td></tr>",
                            "<tr><td>Skippyjon Jones in Mummy Trouble (Skippyjon Jones)</td><td>Skippyjon Jones in Mummy Trouble (Skippyjon Jones, #3)</td></tr>",
                            "<tr><td>Secret Prey</td><td>Secret Prey (Lucas Davenport, #9)</td></tr>",
                            "<tr><td>See You at the Top: 25th Anniversary Edition</td><td>See You at the Top</td></tr>",
                            "<tr><td>Seeds of Rebellion (Beyonders, #2)</td><td>Seeds of Rebellion (Beyonders, #2)</td></tr>",
                            "<tr><td>&#39;Salem&#39;s Lot The Illustrated Edition</td><td>&#39;Salem&#39;s Lot</td></tr>",
                            "<tr><td>Saga, Volume One</td><td>Saga, Vol. 1 (Saga, #1)</td></tr>",
                            "<tr><td>Scaredy Squirrel</td><td>Scaredy Squirrel (Scaredy Squirrel)</td></tr>",
                            "<tr><td>Saving Grace</td><td>Saving Grace</td></tr>",
                            "<tr><td>Rumors of War (Children of the Promise, Vol 1)</td><td>Rumors of War (Children of the Promise, #1)</td></tr>",
                            "<tr><td>Rush Too Far (Too Far, #4)</td><td>Rush Too Far (Rosemary Beach, #4; Too Far, #4)</td></tr>",
                            "<tr><td>The Call of Cthulhu and Other Weird Stories</td><td>The Call of Cthulhu and Other Weird Stories</td></tr>",
                            "<tr><td>The Collected Poems of W.B. Yeats</td><td>The Collected Poems of W.B. Yeats</td></tr>",
                            "<tr><td>Tai-Pan</td><td>Tai-Pan (Asian Saga, #2)</td></tr>",
                            "<tr><td>The Autobiography of Henry VIII. With Notes by His Fool, Will Somers</td><td>The Autobiography of Henry VIII: With Notes by His Fool, Will Somers</td></tr>",
                            "<tr><td>The Neutronium Alchemist</td><td>The Neutronium Alchemist (Night&#39;s Dawn, #2)</td></tr>",
                            "<tr><td>The Mastery of Love: A Practical Guide to the Art of Relationship (Toltec Wisdom Book)</td><td>The Mastery of Love: A Practical Guide to the Art of Relationship --Toltec Wisdom Book</td></tr>",
                            "<tr><td>The Little Old Lady Who Was Not Afraid of Anything</td><td>The Little Old Lady Who Was Not Afraid of Anything</td></tr>",
                            "<tr><td>The Last Lecture</td><td>The Last Lecture</td></tr>",
                            "<tr><td>The Death of Kings (Emperor, #2)</td><td>The Death of Kings (Emperor, #2)</td></tr>",
                            "<tr><td>The Day of the Jackal</td><td>The Day of the Jackal</td></tr>",
                            "<tr><td>The Evolutionary Void</td><td>The Evolutionary Void</td></tr>",
                            "<tr><td>The Earthsea Trilogy</td><td>The Earthsea Trilogy</td></tr>",
                            "<tr><td>The Hat</td><td>The Hat</td></tr>",
                            "<tr><td>The Hobbit or There and Back Again</td><td>The Hobbit</td></tr>",
                            "<tr><td>UnWholly</td><td>UnWholly (Unwind, #2)</td></tr>",
                            "<tr><td>Unhinged</td><td>Unhinged (Splintered, #2)</td></tr>",
                            "<tr><td>Vicious</td><td>Vicious (Sinners of Saint, #1)</td></tr>",
                            "<tr><td>Vicious</td><td>Vicious (Villains, #1)</td></tr>",
                            "<tr><td>V for Vendetta</td><td>V for Vendetta</td></tr>",
                            "<tr><td>The Vampire Chronicles</td><td>Vampire Chronicles: Interview with the Vampire, The Vampire Lestat, The Queen of the Damned (Anne Rice)</td></tr>",
                            "<tr><td>ヴァンパイア騎士 2</td><td>Vampire Knight, Vol. 2 (Vampire Knight, #2)</td></tr>",
                            "<tr><td>Vampires are Forever</td><td>Vampires are Forever (Argeneau #8)</td></tr>",
                            "<tr><td>What the Bleep Do We Know!?: Discovering the Endless Possibilities for Altering Your Everyday Reality</td><td>What the Bleep Do We Know!?: Discovering the Endless Possibilities for Altering Your Everyday Reality</td></tr>",
                            "<tr><td>When Nietzsche Wept: A Novel of Obsession</td><td>When Nietzsche Wept</td></tr>",
                            "<tr><td>Trials of Death (Cirque du Freak, #5) </td><td>Trials of Death (Cirque Du Freak, #5)</td></tr>",
                            "<tr><td>Tricked</td><td>Tricked (The Iron Druid Chronicles, #4)</td></tr>",
                            "<tr><td>To Kill a Mockingbird</td><td>To Kill a Mockingbird</td></tr>",
                            "<tr><td>The World of Ice and Fire</td><td>The World of Ice &amp; Fire: The Untold History of Westeros and the Game of Thrones</td></tr>",
                            "<tr><td>There Are No Children Here: The Story of Two Boys Growing Up in the Other America</td><td>There are No Children Here: The Story of Two Boys Growing Up in the Other America</td></tr>",
                            "<tr><td>Thief of Time</td><td>Thief of Time (Discworld, #26; Death, #5)</td></tr>",
                            "<tr><td>The Rise of Theodore Roosevelt </td><td>The Rise of Theodore Roosevelt</td></tr>",
                            "<tr><td>The Rithmatist </td><td>The Rithmatist (The Rithmatist, #1)</td></tr>",
                            "<tr><td>The Princess Bride</td><td>The Princess Bride </td></tr>",
                            "<tr><td>The Secret Servant</td><td>The Secret Servant (Gabriel Allon, #7)</td></tr>",
                            "<tr><td>The Sorcerer in the North</td><td>The Sorcerer in the North (Ranger&#39;s Apprentice, #5)</td></tr>",
                            "<tr><td>The Taste of Home Cookbook</td><td>The Taste of Home Cookbook</td></tr>",
                            "<tr><td>The Truth</td><td>The Truth (Discworld, #25; Industrial Revolution, #2)</td></tr>",
                            "<tr><td>The Wee Free Men</td><td>The Wee Free Men (Discworld, #30; Tiffany Aching, #1)</td></tr>",
                            "<tr><td>The Walking Dead, Vol. 9: Here We Remain</td><td>The Walking Dead, Vol. 09: Here We Remain</td></tr>",
                            "<tr><td>The Walking Dead, Vol. 2: Miles Behind Us</td><td>The Walking Dead, Vol. 02: Miles Behind Us</td></tr>",
                            "<tr><td>Y: The Last Man Vol. 7: Paper Dolls</td><td>Y: The Last Man, Vol. 7: Paper Dolls (Y: The Last Man, #7)</td></tr>",
                            "<tr><td>ساق البامبو [Saq al-Bambu]</td><td>ساق البامبو</td></tr>",
                            "<tr><td>Y: The Last Man Vol. 4: Safeword</td><td>Y: The Last Man, Vol. 4: Safeword (Y: The Last Man, #4)</td></tr>",
                            "<tr><td>Wool Omnibus</td><td>Wool Omnibus (Silo, #1)</td></tr>",
                            "<tr><td>Winter Prey</td><td>Winter Prey (Lucas Davenport, #5)</td></tr>",
                            "<tr><td>Wizard and Glass</td><td>Wizard and Glass (The Dark Tower, #4)</td></tr>",
                            "<tr><td>The Waste Lands</td><td>The Waste Lands (The Dark Tower, #3)</td></tr>",
                            "<tr><td>The Temporal Void</td><td>The Temporal Void</td></tr>",
                            "<tr><td>The Souls of Black Folk</td><td>The Souls of Black Folk</td></tr>",
                            "<tr><td>La sombra del viento</td><td>The Shadow of the Wind (The Cemetery of Forgotten Books,  #1)</td></tr>",
                            "<tr><td>The River Why</td><td>The River Why</td></tr>",
                            "<tr><td>This Present Darkness</td><td>This Present Darkness (Darkness, #1)</td></tr>",
                            "<tr><td>Throne of Glass</td><td>Throne of Glass (Throne of Glass, #1)</td></tr>",
                            "<tr><td>Where the Mountain Meets the Moon</td><td>Where the Mountain Meets the Moon</td></tr>",
                            "<tr><td>While It Lasts</td><td>While It Lasts (Sea Breeze, #3)</td></tr>",
                            "<tr><td>Genesis</td><td>Undone (Will Trent, #3)</td></tr>",
                            "<tr><td>The Hating Game</td><td>The Hating Game</td></tr>",
                            "<tr><td>The Hero with a Thousand Faces</td><td>The Hero With a Thousand Faces</td></tr>",
                            "<tr><td>The Glass Castle</td><td>The Glass Castle</td></tr>",
                            "<tr><td>The Enchanted Wood</td><td>The Enchanted Wood (The Faraway Tree, #1)</td></tr>",
                            "<tr><td>The Enchantress</td><td>The Enchantress (The Secrets of the Immortal Nicholas Flamel, #6)</td></tr>",
                            "<tr><td>The Fall of Five</td><td>The Fall of Five (Lorien Legacies, #4)</td></tr>",
                            "<tr><td>Imajica</td><td>The Fifth Dominion (Imajica Part #1/2)</td></tr>",
                            "<tr><td>The Fifth Elephant</td><td>The Fifth Elephant (Discworld, #24; City Watch, #5)</td></tr>",
                            "<tr><td>The Desert Spear</td><td>The Desert Spear (Demon Cycle, #2)</td></tr>",
                            "<tr><td>The Last Detective</td><td>The Last Detective (Elvis Cole, #9)</td></tr>",
                            "<tr><td>The Iron Queen</td><td>The Iron Queen (The Iron Fey, #3)</td></tr>",
                            "<tr><td>The Little Sisters of Eluria</td><td>The Little Sisters of Eluria (The Dark Tower, #0.5)</td></tr>",
                            "<tr><td>The Orenda</td><td>The Orenda</td></tr>",
                            "<tr><td>The One and Only Ivan</td><td>The One and Only Ivan</td></tr>",
                            "<tr><td>Śmierć Miasta </td><td>The Pianist: The Extraordinary Story of One Man&#39;s Survival in Warsaw, 1939–45</td></tr>",
                            "<tr><td>The Black Prism</td><td>The Black Prism (Lightbringer, #1)</td></tr>",
                            "<tr><td>Tenth Grade Bleeds</td><td>Tenth Grade Bleeds (The Chronicles of Vladimir Tod, #3)</td></tr>",
                            "<tr><td>The Five Greatest Warriors</td><td>The 5 Greatest Warriors (Jack West Jr, #3)</td></tr>",
                            "<tr><td>The Chronicles of Narnia</td><td>The Chronicles of Narnia (Chronicles of Narnia, #1-7)</td></tr>",
                            "<tr><td>The Confusion</td><td>The Confusion (The Baroque Cycle, #2)</td></tr>",
                            "<tr><td>John Keats : The Complete Poems</td><td>The Complete Poems</td></tr>",
                            "<tr><td>Sailing Alone Around the Room: New and Selected Poems</td><td>Sailing Alone Around the Room: New and Selected Poems</td></tr>",
                            "<tr><td>Scott Pilgrim, Volume 2: Scott Pilgrim vs. The World</td><td>Scott Pilgrim, Volume 2: Scott Pilgrim vs. The World</td></tr>",
                            "<tr><td>Sea Swept</td><td>Sea Swept (Chesapeake Bay Saga, #1)</td></tr>",
                            "<tr><td>Sonnets</td><td>Shakespeare&#39;s Sonnets</td></tr>",
                            "<tr><td>Slouching Towards Bethlehem: Essays</td><td>Slouching Towards Bethlehem</td></tr>",
                            "<tr><td>Sometimes a Great Notion</td><td>Sometimes a Great Notion</td></tr>",
                            "<tr><td>Smiley&#39;s People</td><td>Smiley&#39;s People</td></tr>",
                            "<tr><td>Once Burned (Night Prince, #1)</td><td>Once Burned (Night Prince, #1)</td></tr>",
                            "<tr><td>On Dublin Street</td><td>On Dublin Street (On Dublin Street, #1)</td></tr>",
                            "<tr><td>Money, and the Law of Attraction: Learning to Attract Wealth, Health, and Happiness</td><td>Money, and the Law of Attraction: Learning to Attract Wealth, Health, and Happiness</td></tr>",
                            "<tr><td>Moneyball: The Art of Winning an Unfair Game</td><td>Moneyball: The Art of Winning an Unfair Game</td></tr>",
                            "<tr><td>Maximum Ride: The Manga, Vol. 1</td><td>Maximum Ride, Vol. 1 (Maximum Ride: The Manga, #1)</td></tr>",
                            "<tr><td>Maximum Security (Cherub #3)</td><td>Maximum Security (Cherub, #3)</td></tr>",
                            "<tr><td>Mastiff</td><td>Mastiff (Beka Cooper, #3)</td></tr>",
                            "<tr><td>Pride and Prejudice</td><td>Pride and Prejudice</td></tr>",
                            "<tr><td>Pygmalion and My Fair Lady (50th Anniversary Edition) (Signet Classics (Paperback))</td><td>Pygmalion &amp; My Fair Lady</td></tr>",
                            "<tr><td>Ptolemy&#39;s Gate</td><td>Ptolemy&#39;s Gate (Bartimaeus, #3)</td></tr>",
                            "<tr><td>Pandora&#39;s Star</td><td>Pandora&#39;s Star</td></tr>",
                            "<tr><td>Portrait of a Spy</td><td>Portrait of a Spy (Gabriel Allon, #11)</td></tr>",
                            "<tr><td>Harold and the Purple Crayon</td><td>Harold and the Purple Crayon</td></tr>",
                            "<tr><td>Glory over Everything: Beyond The Kitchen House</td><td>Glory over Everything: Beyond The Kitchen House</td></tr>",
                            "<tr><td>Goddess</td><td>Goddess (Starcrossed, #3)</td></tr>",
                            "<tr><td>Honor Among Enemies</td><td>Honor Among Enemies (Honor Harrington, #6)</td></tr>",
                            "<tr><td>Hello, Mrs. Piggle-Wiggle</td><td>Hello, Mrs. Piggle-Wiggle (Mrs. Piggle Wiggle, #4)</td></tr>",
                            "<tr><td>How to Talk So Teens Will Listen and Listen So Teens Will Talk</td><td>How to Talk So Kids Will Listen &amp; Listen So Kids Will Talk</td></tr>",
                            "<tr><td>If You Give a Mouse a Cookie</td><td>If You Give a Mouse a Cookie</td></tr>",
                            "<tr><td>Jitterbug Perfume</td><td>Jitterbug Perfume</td></tr>",
                            "<tr><td>Just Me in the Tub (Mercer Mayer&#39;s Little Critter)</td><td>Just Me in the Tub (Mercer Mayer&#39;s Little Critter)</td></tr>",
                            "<tr><td>Kiss of the Night</td><td>Kiss of the Night (Dark-Hunter, #4)</td></tr>",
                            "<tr><td>Kingdom Come</td><td>Kingdom Come</td></tr>",
                            "<tr><td>Kushiel&#39;s Justice</td><td>Kushiel&#39;s Justice (Imriel&#39;s Trilogy, #2)</td></tr>",
                            "<tr><td>Madeline&#39;s Rescue</td><td>Madeline&#39;s Rescue</td></tr>",
                            "<tr><td>Auschwitz: A New History</td><td>Auschwitz</td></tr>",
                            "<tr><td>Orvos voltam Auschwitzban</td><td>Auschwitz: A Doctor&#39;s Eyewitness Account</td></tr>",
                            "<tr><td>バトル・ロワイアル</td><td>Battle Royale</td></tr>",
                            "<tr><td>Beautiful Stranger</td><td>Beautiful Stranger (Beautiful Bastard, #2)</td></tr>",
                            "<tr><td>Beyond Band of Brothers: The War Memoirs of Major Dick Winters</td><td>Beyond Band of Brothers: The War Memoirs of Major Dick Winters</td></tr>",
                            "<tr><td>By the Sword</td><td>By the Sword (Valdemar)</td></tr>",
                            "<tr><td> Burned (Burned, #1)</td><td>Burned (Burned, #1)</td></tr>",
                            "<tr><td>A Sand County Almanac</td><td>A Sand County Almanac and Sketches Here and There</td></tr>",
                            "<tr><td>A Leaf on the Wind of All Hallows (Outlander, #8.5)</td><td>A Leaf on the Wind of All Hallows (Outlander, #8.5)</td></tr>",
                            "<tr><td>A Good Man Is Hard to Find, and Other Stories</td><td>A Good Man is Hard to Find and Other Stories</td></tr>",
                            "<tr><td>A Bridge Too Far</td><td>A Bridge Too Far</td></tr>",
                            "<tr><td>A Bad Case of Stripes</td><td>A Bad Case of Stripes</td></tr>",
                            "<tr><td>All My Friends Are Dead</td><td>All My Friends Are Dead</td></tr>",
                            "<tr><td>American Assassin</td><td>American Assassin (Mitch Rapp, #1)</td></tr>",
                            "<tr><td>A Tree Grows In Brooklyn </td><td>A Tree Grows in Brooklyn</td></tr>",
                            "<tr><td>Curious George Rides a Bike</td><td>Curious George Rides a Bike</td></tr>",
                            "<tr><td>Daring Greatly : How the Courage to Be Vulnerable Transforms the Way We Live, Love, Parent, and Lead</td><td>Daring Greatly: How the Courage to Be Vulnerable Transforms the Way We Live, Love, Parent, and Lead</td></tr>",
                            "<tr><td>Crush</td><td>Crush (Crash, #3)</td></tr>",
                            "<tr><td>Creativity, Inc.: Overcoming the Unseen Forces That Stand in the Way of True Inspiration</td><td>Creativity, Inc.: Overcoming the Unseen Forces That Stand in the Way of True Inspiration</td></tr>",
                            "<tr><td>Collide</td><td>Collide (Collide, #1)</td></tr>",
                            "<tr><td>Change Your Thoughts - Change Your Life: Living the Wisdom of the Tao</td><td>Change Your Thoughts - Change Your Life: Living the Wisdom of the Tao</td></tr>",
                            "<tr><td>Days with Frog and Toad</td><td>Days with Frog and Toad (Frog and Toad, #4)</td></tr>",
                            "<tr><td>Dark Magic</td><td>Dark Magic (Dark, #4)</td></tr>",
                            "<tr><td>Daughter of the Empire</td><td>Daughter of the Empire (The Empire Trilogy, #1)</td></tr>",
                            "<tr><td>Dark Fire</td><td>Dark Fire (Matthew Shardlake, #2)</td></tr>",
                            "<tr><td>Don&#39;t Make Me Think! A common sense approach to web usability</td><td>Don&#39;t Make Me Think: A Common Sense Approach to Web Usability</td></tr>",
                            "<tr><td>Down London Road</td><td>Down London Road (On Dublin Street, #2)</td></tr>",
                            "<tr><td>Dispatches</td><td>Dispatches</td></tr>",
                            "<tr><td>Divergent</td><td>Divergent (Divergent, #1)</td></tr>",
                            "<tr><td>Dom Casmurro</td><td>Dom Casmurro</td></tr>",
                            "<tr><td>Each Peach Pear Plum</td><td>Each Peach Pear Plum</td></tr>",
                            "<tr><td>Driving Miss Daisy</td><td>Driving Miss Daisy</td></tr>",
                            "<tr><td>Dragonsong </td><td>Dragonsong (Harper Hall, #1)</td></tr>",
                            "<tr><td>Fables, Volume 9: Sons of Empire</td><td>Fables, Vol. 9: Sons of Empire</td></tr>",
                            "<tr><td>Exile </td><td>Exile (Forgotten Realms: The Dark Elf Trilogy, #2; Legend of Drizzt, #2)</td></tr>",
                            "<tr><td>Fresh Wind, Fresh Fire</td><td>Fresh Wind, Fresh Fire: What Happens When God&#39;s Spirit Invades the Heart of His People</td></tr>",
                            "<tr><td>Forever Too Far (Too Far, #3)</td><td>Forever Too Far (Rosemary Beach, #3; Too Far, #3)</td></tr>",
                            "<tr><td>Foreign Influence</td><td>Foreign Influence (Scot Harvath, #9)</td></tr>",
                            "<tr><td>First Test</td><td>First Test (Protector of the Small, #1)</td></tr>",
                            "<tr><td>フルーツバスケット 1</td><td>Fruits Basket, Vol. 1</td></tr>",
                            "<tr><td>Fallen</td><td>Fallen (Will Trent, #5)</td></tr>",
                            "<tr><td>Dreams of Gods &amp; Monsters</td><td>Dreams of Gods &amp; Monsters (Daughter of Smoke &amp; Bone, #3)</td></tr>",
                            "<tr><td>Death Without Company</td><td>Death Without Company (Walt Longmire, #2)</td></tr>",
                            "<tr><td>Deep Kiss Of Winter </td><td>Deep Kiss of Winter (Includes: Immortals After Dark, #8; Alien Huntress, #3.5)</td></tr>",
                            "<tr><td>Darke</td><td>Darke (Septimus Heap, #6)</td></tr>",
                            "<tr><td>Click, Clack, Moo: Cows That Type</td><td>Click, Clack, Moo: Cows That Type</td></tr>",
                            "<tr><td>Complications: A Surgeon&#39;s Notes on an Imperfect Science</td><td>Complications: A Surgeon&#39;s Notes on an Imperfect Science</td></tr>",
                            "<tr><td>Complete Me</td><td>Complete Me (Stark Trilogy, #3)</td></tr>",
                            "<tr><td>Dark challenge</td><td>Dark Challenge (Dark, #5)</td></tr>",
                            "<tr><td>All-of-a-Kind Family</td><td>All-of-a-Kind Family (All-of-a-Kind Family, #1)</td></tr>",
                            "<tr><td>Ten Little Niggers</td><td>And Then There Were None</td></tr>",
                            "<tr><td>Verhaaltjes, en gebeurtenissen uit het Achterhuis. Cady&#39;s leven</td><td>Anne Frank&#39;s Tales from the Secret Annex</td></tr>",
                            "<tr><td>Anne of Green Gables</td><td>Anne of Green Gables (Anne of Green Gables, #1)</td></tr>",
                            "<tr><td>Ariel</td><td>Ariel</td></tr>",
                            "<tr><td>A Bite to Remember</td><td>A Bite to Remember (Argeneau #5)</td></tr>",
                            "<tr><td>A Light in the Window (The Mitford Years, #2)</td><td>A Light in the Window (Mitford Years, #2)</td></tr>",
                            "<tr><td>A Knight in Shining Armor</td><td>A Knight in Shining Armor</td></tr>",
                            "<tr><td>A Long Walk to Water</td><td>A Long Walk to Water: Based on a True Story</td></tr>",
                            "<tr><td>Buried Prey</td><td>Buried Prey (Lucas Davenport, #21)</td></tr>",
                            "<tr><td>Bloodline</td><td>Bloodline (Sigma Force, #8)</td></tr>",
                            "<tr><td>Bonhoeffer: Pastor, Martyr, Prophet, Spy</td><td>Bonhoeffer: Pastor, Martyr, Prophet, Spy</td></tr>",
                            "<tr><td>Calculated in Death</td><td>Calculated in Death (In Death, #36)</td></tr>",
                            "<tr><td>Chosen Prey</td><td>Chosen Prey (Lucas Davenport, #12)</td></tr>",
                            "<tr><td>Bite Club</td><td>Bite Club (The Morganville Vampires, #10)</td></tr>",
                            "<tr><td>Batman: Year One</td><td>Batman: Year One</td></tr>",
                            "<tr><td>Barefoot Contessa Back to Basics</td><td>Barefoot Contessa Back to Basics</td></tr>",
                            "<tr><td>Krew elfów</td><td>Krew elfów (Saga o Wiedźminie, #3)</td></tr>",
                            "<tr><td>君に届け 1</td><td>Kimi ni Todoke: From Me to You, Vol. 1</td></tr>",
                            "<tr><td>Joni</td><td>Joni: An Unforgettable Story</td></tr>",
                            "<tr><td>Just a Mess (Look-Look)</td><td>Just a Mess (Little Critter)</td></tr>",
                            "<tr><td>If You Give a Pig a Pancake </td><td>If You Give a Pig a Pancake </td></tr>",
                            "<tr><td>If You&#39;re Reading This, It&#39;s Too Late</td><td>If You&#39;re Reading This, It&#39;s Too Late (Secret, #2)</td></tr>",
                            "<tr><td>I Am Pilgrim</td><td>I Am Pilgrim (Pilgrim, #1)</td></tr>",
                            "<tr><td>Gentle Rogue</td><td>Gentle Rogue (Malory-Anderson Family, #3)</td></tr>",
                            "<tr><td>Gabriel&#39;s redemption</td><td>Gabriel&#39;s Redemption (Gabriel&#39;s Inferno, #3)</td></tr>",
                            "<tr><td>学園アリス１</td><td>Gakuen Alice, Vol. 01 (Gakuen Alice, #1)</td></tr>",
                            "<tr><td>Philosophische Untersuchungen</td><td>Philosophical Investigations</td></tr>",
                            "<tr><td>Papillon </td><td>Papillon</td></tr>",
                            "<tr><td>Persepolis 2 </td><td>Persepolis 2: The Story of a Return (Persepolis, #2)</td></tr>",
                            "<tr><td>Persepolis</td><td>Persepolis: The Story of a Childhood (Persepolis, #1)</td></tr>",
                            "<tr><td>Orthodoxy</td><td>Orthodoxy</td></tr>",
                            "<tr><td>Reason to Breathe</td><td>Reason to Breathe (Breathing, #1)</td></tr>",
                            "<tr><td>Red Seas Under Red Skies</td><td>Red Seas Under Red Skies (Gentleman Bastard, #2)</td></tr>",
                            "<tr><td>QED: The Strange Theory of Light and Matter</td><td>QED: The Strange Theory of Light and Matter</td></tr>",
                            "<tr><td>Raw</td><td>Raw (RAW Family, #1)</td></tr>",
                            "<tr><td>Raid</td><td>Raid (Unfinished Hero, #3)</td></tr>",
                            "<tr><td>Random Family: Love, Drugs, Trouble, and Coming of Age in the Bronx</td><td>Random Family: Love, Drugs, Trouble, and Coming of Age in the Bronx</td></tr>",
                            "<tr><td>Making Money</td><td>Making Money (Discworld, #36; Moist Von Lipwig, #2)</td></tr>",
                            "<tr><td>Memórias Póstumas de Brás Cubas</td><td>Memórias Póstumas de Brás Cubas</td></tr>",
                            "<tr><td>Midnight Rising</td><td>Midnight Rising (Midnight Breed, #4)</td></tr>",
                            "<tr><td>On Writing Well: The Classic Guide to Writing Nonfiction</td><td>On Writing Well: The Classic Guide to Writing Nonfiction</td></tr>",
                            "<tr><td>Old Man&#39;s War</td><td>Old Man&#39;s War (Old Man&#39;s War, #1)</td></tr>",
                            "<tr><td>Noughts &amp; Crosses</td><td>Noughts &amp; Crosses (Noughts &amp; Crosses, #1)</td></tr>",
                            "<tr><td>Nourishing Traditions:  The Cookbook that Challenges Politically Correct Nutrition and the Diet Dictocrats</td><td>Nourishing Traditions: The Cookbook That Challenges Politically Correct Nutrition and the Diet Dictocrats</td></tr>",
                            "<tr><td>Night Pleasures</td><td>Night Pleasures (Dark-Hunter, #1)</td></tr>",
                            "<tr><td>Noble House</td><td>Noble House (Asian Saga, #5)</td></tr>",
                            "<tr><td>Obsidian</td><td>Obsidian (Lux, #1)</td></tr>",
                            "<tr><td>Snowmen at Night</td><td>Snowmen at Night</td></tr>",
                            "<tr><td>Sojourn (Dark Elf #3)</td><td>Sojourn (Forgotten Realms: The Dark Elf Trilogy, #3; Legend of Drizzt, #3)</td></tr>",
                            "<tr><td>Shrill: Women Are Funny, It&#39;s Okay to Be Fat, and Feminists Don&#39;t Have to Be Nice</td><td>Shrill: Notes from a Loud Woman</td></tr>",
                            "<tr><td>Side Jobs: Stories From The Dresden Files</td><td>Side Jobs: Stories from the Dresden Files (The Dresden Files, #12.5)</td></tr>",
                            "<tr><td>Stone Soup (Stories to Go!)</td><td>Stone Soup</td></tr>",
                            "<tr><td>Systematic Theology: An Introduction to Biblical Doctrine</td><td>Systematic Theology: An Introduction to Biblical Doctrine</td></tr>",
                            "<tr><td>Staked</td><td>Staked (The Iron Druid Chronicles, #8)</td></tr>",
                            "<tr><td>Savage Inequalities: Children in America&#39;s Schools</td><td>Savage Inequalities: Children in America&#39;s Schools</td></tr>",
                            "<tr><td>Sacajawea</td><td>Sacajawea (Lewis &amp; Clark Expedition)</td></tr>",
                            "<tr><td>Rumpelstilzchen</td><td>Rumpelstiltskin</td></tr>",
                            "<tr><td>The Complete Poetry &amp; Prose of William Blake</td><td>The Complete Poetry and Prose</td></tr>",
                            "<tr><td>The Complete Adventures of Curious George</td><td>The Complete Adventures of Curious George</td></tr>",
                            "<tr><td>The Brutal Telling</td><td>The Brutal Telling (Chief Inspector Armand Gamache, #5)</td></tr>",
                            "<tr><td>The Caine Mutiny</td><td>The Caine Mutiny</td></tr>",
                            "<tr><td>The Assassin and the Pirate Lord</td><td>The Assassin and the Pirate Lord (Throne of Glass, #0.1)</td></tr>",
                            "<tr><td>The Bitter Kingdom</td><td>The Bitter Kingdom (Fire and Thorns, #3)</td></tr>",
                            "<tr><td>The Blue Castle</td><td>The Blue Castle </td></tr>",
                            "<tr><td>The Penderwicks on Gardam Street</td><td>The Penderwicks on Gardam Street (The Penderwicks, #2)</td></tr>",
                            "<tr><td>The  Bedside, Bathtub and Armchair Companion to Agatha Christie</td><td>The New Bedside, Bathtub and Armchair Companion to Agatha Christie</td></tr>",
                            "<tr><td>РУКАВИЧКА: Українська народна казка</td><td>The Mitten</td></tr>",
                            "<tr><td>The Lion &amp; the Mouse</td><td>The Lion and the Mouse</td></tr>",
                            "<tr><td>The Lightning Thief</td><td>The Lightning Thief (Percy Jackson and the Olympians, #1)</td></tr>",
                            "<tr><td>The Long Goodbye</td><td>The Long Goodbye (Philip Marlowe, #6)</td></tr>",
                            "<tr><td>The Jordan Rules</td><td>The Jordan Rules</td></tr>",
                            "<tr><td>The Invention of Hugo Cabret</td><td>The Invention of Hugo Cabret</td></tr>",
                            "<tr><td>The Invention of Wings</td><td>The Invention of Wings</td></tr>",
                            "<tr><td>The Iron Knight</td><td>The Iron Knight (The Iron Fey, #4)</td></tr>",
                            "<tr><td>Hulk: Planet Hulk</td><td>The Incredible Hulk: Planet Hulk</td></tr>",
                            "<tr><td>The Last Kingdom</td><td>The Last Kingdom (The Saxon Stories, #1)</td></tr>",
                            "<tr><td>The Daylight War</td><td>The Daylight War (Demon Cycle, #3)</td></tr>",
                            "<tr><td>The Dragon Reborn </td><td>The Dragon Reborn (Wheel of Time, #3)</td></tr>",
                            "<tr><td>The Drawing of the Three</td><td>The Drawing of the Three (The Dark Tower, #2)</td></tr>",
                            "<tr><td>The Gashlycrumb Tinies</td><td>The Gashlycrumb Tinies (The Vinegar Works, #1)</td></tr>",
                            "<tr><td>The Five Love Languages: How to Express Heartfelt Commitment to Your Mate</td><td>The Five Love Languages: How to Express Heartfelt Commitment to Your Mate</td></tr>",
                            "<tr><td>The Hedge Knight</td><td>The Hedge Knight (The Tales of Dunk and Egg, #1)</td></tr>",
                            "<tr><td>The Hollow Hills</td><td>The Hollow Hills (Arthurian Saga, #2)</td></tr>",
                            "<tr><td>Twilight: The Complete Illustrated Movie Companion</td><td>Twilight: The Complete Illustrated Movie Companion</td></tr>",
                            "<tr><td>UnSouled</td><td>UnSouled (Unwind, #3)</td></tr>",
                            "<tr><td>When Crickets Cry</td><td>When Crickets Cry</td></tr>",
                            "<tr><td>Walking Disaster</td><td>Walking Disaster (Beautiful, #2)</td></tr>",
                            "<tr><td>This is Not My Hat</td><td>This is Not My Hat</td></tr>",
                            "<tr><td>Transmetropolitan, Vol. 1: Back on the Street</td><td>Transmetropolitan, Vol. 1: Back on the Street (Transmetropolitan, #1)</td></tr>",
                            "<tr><td>Trinity: A Novel of Ireland</td><td>Trinity</td></tr>",
                            "<tr><td>Twice Bitten </td><td>Twice Bitten (Chicagoland Vampires, #3)</td></tr>",
                            "<tr><td>The Republic of Thieves</td><td>The Republic of Thieves (Gentleman Bastard, #3)</td></tr>",
                            "<tr><td>The Right Stuff</td><td>The Right Stuff</td></tr>",
                            "<tr><td>The Queen of Attolia</td><td>The Queen of Attolia (The Queen&#39;s Thief, #2)</td></tr>",
                            "<tr><td>The Ragamuffin Gospel: Good News for the Bedraggled, Beat-Up, and Burnt Out</td><td>The Ragamuffin Gospel: Good News for the Bedraggled, Beat-Up, and Burnt Out</td></tr>",
                            "<tr><td>The Sea of Monsters</td><td>The Sea of Monsters (Percy Jackson and the Olympians, #2)</td></tr>",
                            "<tr><td>The Shadow Throne</td><td>The Shadow Throne (The Ascendance Trilogy, #3)</td></tr>",
                            "<tr><td>The Runaway King</td><td>The Runaway King (The Ascendance Trilogy, #2)</td></tr>",
                            "<tr><td>The Short Stories of F. Scott Fitzgerald</td><td>The Short Stories</td></tr>",
                            "<tr><td>The Twilight Saga: The Official Guide</td><td>The Twilight Saga: The Official Illustrated Guide (Twilight, #4.5)</td></tr>",
                            "<tr><td>The Tiger Who Came to Tea</td><td>The Tiger Who Came to Tea</td></tr>",
                            "<tr><td>The Waste Land and Other Poems</td><td>The Waste Land and Other Poems</td></tr>",
                            "<tr><td>The Walking Dead, Vol. 13: Too Far Gone</td><td>The Walking Dead, Vol. 13: Too Far Gone</td></tr>",
                            "<tr><td>The Walking Dead, Vol. 4: The Heart&#39;s Desire</td><td>The Walking Dead, Vol. 04: The Heart&#39;s Desire</td></tr>",
                            "<tr><td>The Vampire Prince (Cirque Du Freak, #6)</td><td>The Vampire Prince (Cirque Du Freak, #6)</td></tr>",
                            "<tr><td>Wild Swans: Three Daughters of China</td><td>Wild Swans: Three Daughters of China</td></tr>",
                            "<tr><td>World Without End</td><td>World Without End (The Kingsbridge Series, #2)</td></tr>",
                            "<tr><td>Y: The Last Man Vol. 2: Cycles</td><td>Y: The Last Man, Vol. 2: Cycles (Y: The Last Man, #2)</td></tr>",
                            "<tr><td>Zen Mind, Beginner&#39;s Mind</td><td>Zen Mind, Beginner&#39;s Mind: Informal Talks on Zen Meditation and Practice</td></tr>",
                            "<tr><td>キスよりも早く1</td><td>キスよりも早く1 [Kisu Yorimo Hayaku 1] (Faster than a Kiss #1)</td></tr>",
                            "<tr><td>Y: The Last Man, Vol. 8: Kimono Dragons</td><td>Y: The Last Man, Vol. 8: Kimono Dragons (Y: The Last Man, #8)</td></tr>",
                            "<tr><td>Y: The Last Man Vol. 3: One Small Step</td><td>Y: The Last Man, Vol. 3: One Small Step (Y: The Last Man, #3)</td></tr>",
                            "<tr><td>World After</td><td>World After (Penryn &amp; the End of Days, #2)</td></tr>",
                            "<tr><td>Wild Seed (Patternmaster, #1)</td><td>Wild Seed (Patternmaster, #1)</td></tr>",
                            "<tr><td>Wintersmith</td><td>Wintersmith (Discworld, #35; Tiffany Aching, #3)</td></tr>",
                            "<tr><td>The Unusual Suspects</td><td>The Unusual Suspects (The Sisters Grimm, #2)</td></tr>",
                            "<tr><td>The Tibetan Book of Living and Dying</td><td>The Tibetan Book of Living and Dying</td></tr>",
                            "<tr><td>The Unlikely Spy</td><td>The Unlikely Spy</td></tr>",
                            "<tr><td>The Thorn Birds</td><td>The Thorn Birds</td></tr>",
                            "<tr><td>The Tell-Tale Heart</td><td>The Tell-Tale Heart</td></tr>",
                            "<tr><td>The Shock Doctrine: The Rise of Disaster Capitalism</td><td>The Shock Doctrine: The Rise of Disaster Capitalism</td></tr>",
                            "<tr><td>The Ruby Circle</td><td>The Ruby Circle (Bloodlines, #6)</td></tr>",
                            "<tr><td>The Prize</td><td>The Prize</td></tr>",
                            "<tr><td>The Prophet</td><td>The Prophet</td></tr>",
                            "<tr><td>The Recruit (Cherub, #1)</td><td>The Recruit (Cherub, #1)</td></tr>",
                            "<tr><td>The Ripper</td><td>The Ripper (The Vampire Diaries: Stefan&#39;s Diaries, #4)</td></tr>",
                            "<tr><td>The Restaurant at the End of the Universe</td><td>The Restaurant at the End of the Universe (Hitchhiker&#39;s Guide, #2)</td></tr>",
                            "<tr><td>There&#39;s a Nightmare in My Closet (Pied Piper Book)</td><td>There&#39;s a Nightmare in My Closet</td></tr>",
                            "<tr><td>WAR</td><td>War</td></tr>",
                            "<tr><td>Wait for It</td><td>Wait for It</td></tr>",
                            "<tr><td>Warbreaker</td><td>Warbreaker (Warbreaker, #1)</td></tr>",
                            "<tr><td>What We Talk About When We Talk About Love: Stories</td><td>What We Talk About When We Talk About Love</td></tr>",
                            "<tr><td>Wemberly Worried</td><td>Wemberly Worried</td></tr>",
                            "<tr><td>Where Is God When It Hurts?</td><td>Where Is God When It Hurts?</td></tr>",
                            "<tr><td>Where the Wild Things Are</td><td>Where the Wild Things Are</td></tr>",
                            "<tr><td>Undaunted Courage</td><td>Undaunted Courage: The Pioneering First Mission to Explore America&#39;s Wild Frontier</td></tr>",
                            "<tr><td>The Icebound Land</td><td>The Icebound Land (Ranger&#39;s Apprentice, #3)</td></tr>",
                            "<tr><td>Flickan som lekte med elden</td><td>The Girl Who Played with Fire (Millennium, #2)</td></tr>",
                            "<tr><td>The Gift of Therapy: An Open Letter to a New Generation of Therapists and Their Patients</td><td>The Gift of Therapy: An Open Letter to a New Generation of Therapists and Their Patients</td></tr>",
                            "<tr><td>The Going-To-Bed Book</td><td>The Going-To-Bed Book</td></tr>",
                            "<tr><td>The Happy Prince and The House of Pomegranates</td><td>The Happy Prince</td></tr>",
                            "<tr><td>The Dragonriders of Pern</td><td>The Dragonriders of Pern (Dragonriders of Pern, #1-3)</td></tr>",
                            "<tr><td>The Crossover</td><td>The Crossover</td></tr>",
                            "<tr><td>The First Commandment</td><td>The First Commandment (Scot Harvath, #6)</td></tr>",
                            "<tr><td>La fiesta del chivo</td><td>The Feast of the Goat</td></tr>",
                            "<tr><td>The False Prince</td><td>The False Prince (The Ascendance Trilogy #1)</td></tr>",
                            "<tr><td>The Last Full Measure</td><td>The Last Full Measure (The Civil War Trilogy, #3)</td></tr>",
                            "<tr><td>The Last Mile</td><td>The Last Mile (Amos Decker, #2)</td></tr>",
                            "<tr><td>The Lion</td><td>The Lion (John Corey, #5)</td></tr>",
                            "<tr><td>The Lions of Little Rock</td><td>The Lions of Little Rock</td></tr>",
                            "<tr><td>The Lives of Christopher Chant</td><td>The Lives of Christopher Chant (Chrestomanci, #2)</td></tr>",
                            "<tr><td>The MasterHarper of Pern</td><td>The Masterharper of Pern (Pern, #15)</td></tr>",
                            "<tr><td>The Opportunist</td><td>The Opportunist (Love Me with Lies, #1)</td></tr>",
                            "<tr><td>The Phantom Tollbooth</td><td>The Phantom Tollbooth</td></tr>",
                            "<tr><td>The Prince of Tides</td><td>The Prince of Tides</td></tr>",
                            "<tr><td>The BFG</td><td>The BFG</td></tr>",
                            "<tr><td>The Center Cannot Hold</td><td>The Center Cannot Hold: My Journey Through Madness</td></tr>",
                            "<tr><td>The Christmas Shoes</td><td>The Christmas Shoes (Christmas Hope #1)</td></tr>",
                            "<tr><td>Rules of Attraction</td><td>Rules of Attraction (Perfect Chemistry, #2)</td></tr>",
                            "<tr><td>Rome (Marked Men, #3)</td><td>Rome (Marked Men, #3)</td></tr>",
                            "<tr><td>Selected Poems</td><td>Selected Poems</td></tr>",
                            "<tr><td>Stellaluna</td><td>Stellaluna</td></tr>",
                            "<tr><td>Stephen King&#39;s N.</td><td>Stephen King&#39;s N.</td></tr>",
                            "<tr><td>Surface Detail</td><td>Surface Detail (Culture #9)</td></tr>",
                            "<tr><td>Strega Nona</td><td>Strega Nona</td></tr>",
                            "<tr><td>Sin City: That Yellow Bastard</td><td>Sin City, Vol. 4: That Yellow Bastard (Sin City, #4)</td></tr>",
                            "<tr><td>Short Stories from Hogwarts of Heroism, Hardship and Dangerous Hobbies</td><td>Short Stories from Hogwarts of Heroism, Hardship and Dangerous Hobbies (Pottermore Presents, #1)</td></tr>",
                            "<tr><td>Sons of Destiny (Cirque Du Freak, Book 12)</td><td>Sons of Destiny (Cirque Du Freak, #12)</td></tr>",
                            "<tr><td>Mort</td><td>Mort (Death, #1; Discworld, #4)</td></tr>",
                            "<tr><td>Manufacturing Consent: The Political Economy of the Mass Media</td><td>Manufacturing Consent: The Political Economy of the Mass Media</td></tr>",
                            "<tr><td>Marching Powder: A True Story of Friendship, Cocaine, and South America&#39;s Strangest Jail</td><td>Marching Powder: A True Story of Friendship, Cocaine, and South America&#39;s Strangest Jail</td></tr>",
                            "<tr><td>Punk 57</td><td>Punk 57</td></tr>",
                            "<tr><td>家庭教師ヒットマンREBORN! 1</td><td>Reborn! Vol. 01: Reborn Arrives! (Reborn!, #1)</td></tr>",
                            "<tr><td>Own the Wind</td><td>Own the Wind (Chaos, #1)</td></tr>",
                            "<tr><td>Page </td><td>Page (Protector of the Small, #2)</td></tr>",
                            "<tr><td>Politi (Harry Hole, #10)</td><td>Police (Harry Hole, #10)</td></tr>",
                            "<tr><td>Gabriel&#39;s Rapture</td><td>Gabriel&#39;s Rapture (Gabriel&#39;s Inferno, #2)</td></tr>",
                            "<tr><td>Hammered</td><td>Hammered (The Iron Druid Chronicles, #3)</td></tr>",
                            "<tr><td>Hand, Hand, Fingers, Thumb</td><td>Hand, Hand, Fingers, Thumb</td></tr>",
                            "<tr><td>Happily Ever After</td><td>Happily Ever After (The Selection, #0.4, 0.5, 2.5, 2.6)</td></tr>",
                            "<tr><td>If You Give a Pig a Party (If You Give...)</td><td>If You Give a Pig a Party</td></tr>",
                            "<tr><td>Hostage to Pleasure</td><td>Hostage to Pleasure (Psy-Changeling, #5)</td></tr>",
                            "<tr><td>Honor&#39;s Splendour</td><td>Honor&#39;s Splendour</td></tr>",
                            "<tr><td>Hogfather</td><td>Hogfather (Discworld, #20; Death, #4)</td></tr>",
                            "<tr><td>Hexed (Iron Druid Chronicles, #2)</td><td>Hexed (The Iron Druid Chronicles, #2)</td></tr>",
                            "<tr><td>Just Go to Bed</td><td>Just Go to Bed</td></tr>",
                            "<tr><td>Jewels of the Sun</td><td>Jewels of the Sun (Gallaghers of Ardmore, #1)</td></tr>",
                            "<tr><td>Killers of the Dawn (Cirque Du Freak, #9)</td><td>Killers of the Dawn (Cirque Du Freak, #9)</td></tr>",
                            "<tr><td>Kiss of Death</td><td>Kiss of Death (The Morganville Vampires, #8)</td></tr>",
                            "<tr><td>Mad About Madeline</td><td>Madeline</td></tr>",
                            "<tr><td>Love Comes Softly (Love Comes Softly, #1)</td><td>Love Comes Softly (Love Comes Softly, #1)</td></tr>",
                            "<tr><td>Lord of the Shadows (Cirque Du Freak, #11)</td><td>Lord of the Shadows (Cirque Du Freak, #11)</td></tr>",
                            "<tr><td>ラブ★コン 1</td><td>Love★Com, Vol. 1</td></tr>",
                            "<tr><td>Little Bear</td><td>Little Bear</td></tr>",
                            "<tr><td>Leaving</td><td>Leaving (Bailey Flanigan, #1)</td></tr>",
                            "<tr><td>Autobiography of a Yogi</td><td>Autobiography of a Yogi</td></tr>",
                            "<tr><td>Barbarians at the Gate: The Fall of RJR Nabisco</td><td>Barbarians at the Gate: The Fall of RJR Nabisco</td></tr>",
                            "<tr><td>Bird by Bird: Some Instructions on Writing and Life</td><td>Bird by Bird: Some Instructions on Writing and Life</td></tr>",
                            "<tr><td>Bloodlines</td><td>Bloodlines (Bloodlines, #1)</td></tr>",
                            "<tr><td>A Scandal in Bohemia</td><td>A Scandal in Bohemia (The Adventures of Sherlock Holmes, #1)</td></tr>",
                            "<tr><td>A Mango-Shaped Space</td><td>A Mango-Shaped Space</td></tr>",
                            "<tr><td>A Prayer for Owen Meany</td><td>A Prayer for Owen Meany</td></tr>",
                            "<tr><td>A Different Blue</td><td>A Different Blue</td></tr>",
                            "<tr><td>America&#39;s First Daughter</td><td>America&#39;s First Daughter</td></tr>",
                            "<tr><td>Alexander and the Terrible, Horrible, No Good, Very Bad Day</td><td>Alexander and the Terrible, Horrible, No Good, Very Bad Day</td></tr>",
                            "<tr><td>A. Lincoln: A Biography</td><td>A. Lincoln</td></tr>",
                            "<tr><td>Curious George Goes to the Hospital</td><td>Curious George Goes to the Hospital</td></tr>",
                            "<tr><td>Cross Justice</td><td>Cross Justice (Alex Cross, #23)</td></tr>",
                            "<tr><td>CivilWarLand in Bad Decline</td><td>CivilWarLand in Bad Decline</td></tr>",
                            "<tr><td>Cinderella</td><td>Cinderella</td></tr>",
                            "<tr><td>David Gets in Trouble</td><td>David Gets In Trouble</td></tr>",
                            "<tr><td>Deep and Dark and Dangerous: A Ghost Story</td><td>Deep and Dark and Dangerous (A Ghost Story)</td></tr>",
                            "<tr><td>Desert Solitaire</td><td>Desert Solitaire</td></tr>",
                            "<tr><td>Dirty Red</td><td>Dirty Red (Love Me with Lies, #2)</td></tr>",
                            "<tr><td>Do No Harm: Stories of Life, Death and Brain Surgery</td><td>Do No Harm: Stories of Life, Death and Brain Surgery</td></tr>",
                            "<tr><td>Dragon Slippers (Dragon Slippers, #1)</td><td>Dragon Slippers (Dragon Slippers, #1)</td></tr>",
                            "<tr><td>Dreaming of You </td><td>Dreaming of You (The Gamblers, #2)</td></tr>",
                            "<tr><td>Economics in One Lesson</td><td>Economics in One Lesson: The Shortest &amp; Surest Way to Understand Basic Economics</td></tr>",
                            "<tr><td>Flag in Exile</td><td>Flag in Exile (Honor Harrington, #5)</td></tr>",
                            "<tr><td>Finale</td><td>Finale (Hush, Hush, #4)</td></tr>",
                            "<tr><td>Fermat&#39;s Enigma: The Epic Quest to Solve the World&#39;s Greatest Mathematical Problem</td><td>Fermat&#39;s Enigma: The Epic Quest to Solve the World&#39;s Greatest Mathematical Problem</td></tr>",
                            "<tr><td>First Shift: Legacy</td><td>First Shift: Legacy (Shift, #1)</td></tr>",
                            "<tr><td>Friends and Lovers</td><td>Friends and Lovers</td></tr>",
                            "<tr><td>Frog and Toad Together</td><td>Frog and Toad Together (Frog and Toad, #2)</td></tr>",
                            "<tr><td>Flyy Girl</td><td>Flyy Girl (Flyy Girl, #1)</td></tr>",
                            "<tr><td>Follow the River</td><td>Follow the River</td></tr>",
                            "<tr><td>Dream Warrior</td><td>Dream Warrior (Dream-Hunter #4; Dark-Hunter #17)</td></tr>",
                            "<tr><td>Dragonlance Chronicles: Dragons of Autumn Twilight/Dragons of Winter Night/Dragons of Spring Dawning (Collectors Edition)</td><td>Dragonlance Chronicles (Dragonlance #1-3)</td></tr>",
                            "<tr><td>Fallen Too Far (Too Far, #1)</td><td>Fallen Too Far (Rosemary Beach, #1; Too Far, #1)</td></tr>",
                            "<tr><td>Eternal Kiss of Darkness</td><td>Eternal Kiss of Darkness (Night Huntress World, #2)</td></tr>",
                            "<tr><td>Eternal Rider</td><td>Eternal Rider (Lords of Deliverance, #1, Demonica, #6)</td></tr>",
                            "<tr><td>Jeder stirbt für sich allein</td><td>Every Man Dies Alone</td></tr>",
                            "<tr><td>Envy (Fallen Angels, #3)</td><td>Envy (Fallen Angels, #3)</td></tr>",
                            "<tr><td>Disappearing Acts</td><td>Disappearing Acts</td></tr>",
                            "<tr><td>Surveiller et punir. Naissance de la prison</td><td>Discipline and Punish: The Birth of the Prison</td></tr>",
                            "<tr><td>Death: the High Cost of Living</td><td>Death: The High Cost of Living Collected</td></tr>",
                            "<tr><td>Days of Blood &amp; Starlight</td><td>Days of Blood &amp; Starlight (Daughter of Smoke &amp; Bone, #2)</td></tr>",
                            "<tr><td>Dark Lover</td><td>Dark Lover (Black Dagger Brotherhood, #1)</td></tr>",
                            "<tr><td>Dead Poets Society </td><td>Dead Poets Society</td></tr>",
                            "<tr><td>City of Ashes</td><td>City of Ashes (The Mortal Instruments, #2)</td></tr>",
                            "<tr><td>Claim Me</td><td>Claim Me (Stark Trilogy, #2)</td></tr>",
                            "<tr><td>Criminal</td><td>Criminal (Will Trent, #6)</td></tr>",
                            "<tr><td>D.Gray-man, Volume 1</td><td>D.Gray-man, Volume 01</td></tr>",
                            "<tr><td>Heart no Kuni no Alice  </td><td>Alice in the Country of Hearts, Vol. 01 (Alice in the Country of Hearts, #1)</td></tr>",
                            "<tr><td>American Tabloid</td><td>American Tabloid (Underworld USA, #1)</td></tr>",
                            "<tr><td>Anne of the Island</td><td>Anne of the Island (Anne of Green Gables, #3)</td></tr>",
                            "<tr><td>Anne of Avonlea</td><td>Anne of Avonlea (Anne of Green Gables, #2)</td></tr>",
                            "<tr><td>A Fish Out of Water</td><td>A Fish Out of Water</td></tr>",
                            "<tr><td>A Bear Called Paddington</td><td>A Bear Called Paddington (Paddington, #1)</td></tr>",
                            "<tr><td>A Rule Against Murder (Armand Gamache, #4)</td><td>A Rule Against Murder (Chief Inspector Armand Gamache, #4)</td></tr>",
                            "<tr><td>A Hunger Like No Other</td><td>A Hunger Like No Other (Immortals After Dark #2)</td></tr>",
                            "<tr><td>Bury My Heart at Wounded Knee: An Indian History of the American West</td><td>Bury My Heart at Wounded Knee: An Indian History of the American West</td></tr>",
                            "<tr><td>Born in Fire </td><td>Born in Fire (Born In Trilogy, #1)</td></tr>",
                            "<tr><td>Born of the Night</td><td>Born of Night (The League, #1)</td></tr>",
                            "<tr><td>Chicka Chicka Boom Boom</td><td>Chicka Chicka Boom Boom</td></tr>",
                            "<tr><td>Centennial</td><td>Centennial</td></tr>",
                            "<tr><td>Calling Me Home</td><td>Calling Me Home</td></tr>",
                            "<tr><td>Cabin Fever</td><td>Cabin Fever (Diary of a Wimpy Kid, #6)</td></tr>",
                            "<tr><td>Career of Evil</td><td>Career of Evil (Cormoran Strike, #3)</td></tr>",
                            "<tr><td>Carpe Corpus</td><td>Carpe Corpus (The Morganville Vampires, #6)</td></tr>",
                            "<tr><td>Black 1. The Birth of Evil</td><td>Black: The Birth of Evil (The Circle, #1)</td></tr>",
                            "<tr><td>BLEACH―ブリーチ―　1</td><td>Bleach, Volume 01</td></tr>",
                            "<tr><td>Bad Blood</td><td>Bad Blood (Virgil Flowers, #4)</td></tr>",
                            "<tr><td>The Dark Knight Returns</td><td>Batman: The Dark Knight Returns #1</td></tr>",
                            "<tr><td>ビーストマスター 1</td><td>Beast Master, Vol. 1 (Beast Master, #1)</td></tr>",
                            "<tr><td>Lord Loss</td><td>Lord Loss (The Demonata, #1)</td></tr>",
                            "<tr><td>Kiss an Angel </td><td>Kiss an Angel</td></tr>",
                            "<tr><td>Hogwarts: An Incomplete and Unreliable Guide</td><td>Hogwarts: An Incomplete and Unreliable Guide (Pottermore Presents, #3)</td></tr>",
                            "<tr><td>Hellboy: The Chained Coffin and Others</td><td>Hellboy, Vol. 3: The Chained Coffin and Others (Hellboy, #3)</td></tr>",
                            "<tr><td>Hyperion</td><td>Hyperion (Hyperion Cantos, #1)</td></tr>",
                            "<tr><td>I&#39;m Just Here for the Food: Food + Heat = Cooking</td><td>I&#39;m Just Here for the Food: Food + Heat = Cooking</td></tr>",
                            "<tr><td>I Was So Mad (Look-Look)</td><td>I Was So Mad</td></tr>",
                            "<tr><td>Gregor and the Marks of Secret</td><td>Gregor and the Marks of Secret (Underland Chronicles, #4)</td></tr>",
                            "<tr><td>Gifted Hands: The Ben Carson Story</td><td>Gifted Hands: The Ben Carson Story</td></tr>",
                            "<tr><td>Giovanni&#39;s Room</td><td>Giovanni&#39;s Room</td></tr>",
                            "<tr><td>Go Away, Big Green Monster!</td><td>Go Away, Big Green Monster!</td></tr>",
                            "<tr><td>Planetary, Volume 1: All Over the World and Other Stories</td><td>Planetary, Volume 1: All Over the World and Other Stories</td></tr>",
                            "<tr><td>Parable of the Talents</td><td>Parable of the Talents (Earthseed, #2)</td></tr>",
                            "<tr><td>Panda Bear, Panda Bear, What Do You See?</td><td>Panda Bear, Panda Bear, What Do You See?</td></tr>",
                            "<tr><td>Пикник на обочине</td><td>Roadside Picnic</td></tr>",
                            "<tr><td>Real</td><td>Real (Real, #1)</td></tr>",
                            "<tr><td>Marvels</td><td>Marvels</td></tr>",
                            "<tr><td>Make Way for Ducklings</td><td>Make Way for Ducklings</td></tr>",
                            "<tr><td>Magic&#39;s Pawn</td><td>Magic&#39;s Pawn (Valdemar: Last Herald-Mage #1)</td></tr>",
                            "<tr><td>Mercy Blade</td><td>Mercy Blade (Jane Yellowrock, #3)</td></tr>",
                            "<tr><td>Mile high (Up In The Air #2)</td><td>Mile High (Up in the Air, #2)</td></tr>",
                            "<tr><td>Miracle in the Andes: 72 Days on the Mountain and My Long Trek Home</td><td>Miracle in the Andes</td></tr>",
                            "<tr><td>Mountains Beyond Mountains: The Quest of Dr. Paul Farmer, a Man Who Would Cure the World</td><td>Mountains Beyond Mountains: The Quest of Dr. Paul Farmer, A Man Who Would Cure the World</td></tr>",
                            "<tr><td>NANA―ナナ― 1</td><td>Nana, Vol. 1 (Nana, #1)</td></tr>",
                            "<tr><td>Mother Night</td><td>Mother Night</td></tr>",
                            "<tr><td>Murder Must Advertise</td><td>Murder Must Advertise  (Lord Peter Wimsey, #10)</td></tr>",
                            "<tr><td>Never Too Far (Too Far, #2)</td><td>Never Too Far (Rosemary Beach, #2; Too Far, #2)</td></tr>",
                            "<tr><td>Necessary Lies</td><td>Necessary Lies (Necessary Lies, #1)</td></tr>",
                            "<tr><td>Neverwhere Graphic Novel</td><td>Neil Gaiman&#39;s Neverwhere</td></tr>",
                            "<tr><td>Once and Always</td><td>Once and Always (Sequels, #1)</td></tr>",
                            "<tr><td>Skulduggery Pleasant</td><td>Skulduggery Pleasant (Skulduggery Pleasant, #1)</td></tr>",
                            "<tr><td>Sempre</td><td>Sempre (Sempre, #1)</td></tr>",
                            "<tr><td>Sharpe&#39;s Rifles</td><td>Sharpe&#39;s Rifles (Sharpe, #6)</td></tr>",
                            "<tr><td>Ship of Destiny</td><td>Ship of Destiny (Liveship Traders, #3)</td></tr>",
                            "<tr><td>Royal Assassin</td><td>Royal Assassin (Farseer Trilogy, #2)</td></tr>",
                            "<tr><td>Run Baby Run</td><td>Run Baby Run</td></tr>",
                            "<tr><td>Same Kind of Different as Me</td><td>Same Kind of Different as Me</td></tr>",
                            "<tr><td>Scarecrow</td><td>Scarecrow (Shane Schofield, #3)</td></tr>",
                            "<tr><td>The Complete Poems of Emily Dickinson</td><td>The Complete Poems of Emily Dickinson</td></tr>",
                            "<tr><td>Clive Barker&#39;s The Great and Secret Show: Volume 1 (Clive Barker&#39;s the Great and Secret Show)</td><td>The Complete Clive Barker&#39;s The Great And Secret Show</td></tr>",
                            "<tr><td>Le Comte de Monte-Cristo</td><td>The Count of Monte Cristo</td></tr>",
                            "<tr><td>The Crossing</td><td>The Crossing (Harry Bosch, #20; Mickey Haller, #7; Harry Bosch Universe, #25)</td></tr>",
                            "<tr><td>The China Study: The Most Comprehensive Study of Nutrition Ever Conducted and the Startling Implications for Diet, Weight Loss and Long-term Health</td><td>The China Study: The Most Comprehensive Study of Nutrition Ever Conducted And the Startling Implications for Diet, Weight Loss, And Long-term Health</td></tr>",
                            "<tr><td>The Coincidence of Callie &amp; Kayden</td><td>The Coincidence of Callie &amp; Kayden (The Coincidence, #1)</td></tr>",
                            "<tr><td>The Barefoot Contessa Cookbook</td><td>The Barefoot Contessa Cookbook</td></tr>",
                            "<tr><td>The One</td><td>The One (The Selection, #3)</td></tr>",
                            "<tr><td>The Other Side of Dawn</td><td>The Other Side of Dawn (Tomorrow, #7)</td></tr>",
                            "<tr><td>The Perks of Being a Wallflower</td><td>The Perks of Being a Wallflower</td></tr>",
                            "<tr><td>The Mixed-Up Chameleon</td><td>The Mixed-Up Chameleon</td></tr>",
                            "<tr><td>The Miracle Worker</td><td>The Miracle Worker</td></tr>",
                            "<tr><td>The Nature of the Beast</td><td>The Nature of the Beast (Chief Inspector Armand Gamache #11)</td></tr>",
                            "<tr><td>The Little Red Caboose (Little Golden Book)</td><td>The Little Red Caboose (Little Golden Book)</td></tr>",
                            "<tr><td>The Mad Ship</td><td>The Mad Ship (Liveship Traders, #2)</td></tr>",
                            "<tr><td>The Last Coyote</td><td>The Last Coyote (Harry Bosch, #4; Harry Bosch Universe, #4)</td></tr>",
                            "<tr><td>The End of Eternity</td><td>The End of Eternity</td></tr>",
                            "<tr><td>The Five Love Languages of Children</td><td>The Five Love Languages of Children</td></tr>",
                            "<tr><td>The Friend Zone</td><td>The Friend Zone (Game On, #2)</td></tr>",
                            "<tr><td>The Honor of the Queen</td><td>The Honor of the Queen (Honor Harrington, #2)</td></tr>",
                            "<tr><td>The Heretic Queen</td><td>The Heretic Queen</td></tr>",
                            "<tr><td>Unlimited Power : The New Science Of Personal Achievement</td><td>Unlimited Power : The New Science Of Personal Achievement</td></tr>",
                            "<tr><td>What&#39;s So Amazing About Grace?</td><td>What&#39;s So Amazing About Grace?</td></tr>",
                            "<tr><td>Theft of Swords</td><td>Theft of Swords (The Riyria Revelations, #1-2)</td></tr>",
                            "<tr><td>The Wishing Spell (The Land of Stories, #1)</td><td>The Wishing Spell (The Land of Stories, #1)</td></tr>",
                            "<tr><td>Tikki Tikki Tembo</td><td>Tikki Tikki Tembo</td></tr>",
                            "<tr><td>The Reckoning</td><td>The Reckoning (Darkest Powers, #3)</td></tr>",
                            "<tr><td>A Grief Observed</td><td>The Screwtape Letters</td></tr>",
                            "<tr><td>The Shadow Rising </td><td>The Shadow Rising (Wheel of Time, #4)</td></tr>",
                            "<tr><td>The Third Wheel</td><td>The Third Wheel (Diary of a Wimpy Kid, #7)</td></tr>",
                            "<tr><td>Wolf-Speaker (Immortals, #2)</td><td>Wolf-Speaker (Immortals, #2)</td></tr>",
                            "<tr><td>Wild Man</td><td>Wild Man (Dream Man, #2)</td></tr>",
                            "<tr><td>Y: The Last Man Vol. 6: Girl on Girl</td><td>Y: The Last Man, Vol. 6: Girl on Girl (Y: The Last Man, #6)</td></tr>",
                            "<tr><td>استمتع بحياتك</td><td>استمتع بحياتك</td></tr>",
                            "<tr><td>المانيفستو</td><td>المانيفستو</td></tr>",
                            "<tr><td>Zami: A New Spelling of My Name</td><td>Zami: A New Spelling of My Name</td></tr>",
                            "<tr><td>Wit : A Play</td><td>Wit</td></tr>",
                            "<tr><td>Witches Abroad</td><td>Witches Abroad (Discworld, #12; Witches #3)</td></tr>",
                            "<tr><td>Worth Dying For</td><td>Worth Dying For (Jack Reacher, #15)</td></tr>",
                            "<tr><td>The Survivor</td><td>The Survivor (Mitch Rapp, #14)</td></tr>",
                            "<tr><td>The Throne of Fire</td><td>The Throne of Fire (Kane Chronicles, #2)</td></tr>",
                            "<tr><td>उपनिषद [Upaniṣad]</td><td>The Upanishads: Translations from the Sanskrit</td></tr>",
                            "<tr><td>The Sentry</td><td>The Sentry (Elvis Cole, #14; Joe Pike, #3)</td></tr>",
                            "<tr><td>The Ruins of Gorlan</td><td>The Ruins of Gorlan (Ranger&#39;s Apprentice, #1)</td></tr>",
                            "<tr><td>The Stinky Cheese Man and Other Fairly Stupid Tales</td><td>The Stinky Cheese Man and Other Fairly Stupid Tales</td></tr>",
                            "<tr><td>The Rise of Nine</td><td>The Rise of Nine (Lorien Legacies, #3)</td></tr>",
                            "<tr><td>The Robe</td><td>The Robe</td></tr>",
                            "<tr><td>The Rose &amp; the Dagger</td><td>The Rose &amp; the Dagger (The Wrath &amp; the Dawn, #2)</td></tr>",
                            "<tr><td>The Redhead Revealed</td><td>The Redhead Revealed (Redhead, #2)</td></tr>",
                            "<tr><td>The Relatives Came</td><td>The Relatives Came</td></tr>",
                            "<tr><td>The Reason for God: Belief in an Age of Skepticism</td><td>The Reason for God: Belief in an Age of Skepticism</td></tr>",
                            "<tr><td>Tilt</td><td>Tilt</td></tr>",
                            "<tr><td>Touching the Void: The True Story of One Man&#39;s Miraculous Survival</td><td>Touching the Void: The True Story of One Man&#39;s Miraculous Survival</td></tr>",
                            "<tr><td>Twilight Director&#39;s Notebook</td><td>Twilight Director&#39;s Notebook : The Story of How We Made the Movie Based on the Novel by Stephenie Meyer</td></tr>",
                            "<tr><td>The Woman Who Rides Like a Man</td><td>The Woman Who Rides Like a Man (Song of the Lioness, #3)</td></tr>",
                            "<tr><td>There Was an Old Lady Who Swallowed a Fly</td><td>There Was an Old Lady Who Swallowed a Fly</td></tr>",
                            "<tr><td>There Was an Old Lady Who Swallowed a Fly (Classic Board Books with Holes)</td><td>There Was An Old Lady Who Swallowed A Fly (Classic Books)</td></tr>",
                            "<tr><td>Two Ravens and One Crow</td><td>Two Ravens and One Crow (The Iron Druid Chronicles, #4.5)</td></tr>",
                            "<tr><td>Valley of Silence</td><td>Valley of Silence (Circle Trilogy, #3)</td></tr>",
                            "<tr><td>La casa de los espíritus</td><td>The House of the Spirits</td></tr>",
                            "<tr><td>The Hitchhiker&#39;s Guide to the Galaxy</td><td>The Hitchhiker&#39;s Guide to the Galaxy (Hitchhiker&#39;s Guide to the Galaxy, #1)</td></tr>",
                            "<tr><td>Luftslottet som sprängdes</td><td>The Girl Who Kicked the Hornet&#39;s Nest (Millennium, #3)</td></tr>",
                            "<tr><td>The Hard Thing about Hard Things: Building A Business When There Are No Easy Answers</td><td>The Hard Thing About Hard Things: Building a Business When There Are No Easy Answers</td></tr>",
                            "<tr><td>The Great Hunt</td><td>The Great Hunt (Wheel of Time, #2)</td></tr>",
                            "<tr><td>The Far Pavilions</td><td>The Far Pavilions</td></tr>",
                            "<tr><td>The First Rule</td><td>The First Rule (Elvis Cole, #13; Joe Pike, #2)</td></tr>",
                            "<tr><td>The Crown of Embers</td><td>The Crown of Embers (Fire and Thorns, #2)</td></tr>",
                            "<tr><td>The Demon King</td><td>The Demon King (Seven Realms, #1)</td></tr>",
                            "<tr><td>Star Wars: The Last Command</td><td>The Last Command</td></tr>",
                            "<tr><td>Four: The Initiate</td><td>The Initiate (Divergent, #0.2)</td></tr>",
                            "<tr><td>The Lost Wife</td><td>The Lost Wife</td></tr>",
                            "<tr><td>The Little Red Hen (Little Golden Book)</td><td>The Little Red Hen (Little Golden Book)</td></tr>",
                            "<tr><td>Ostatnie życzenie</td><td>The Last Wish (The Witcher, #1)</td></tr>",
                            "<tr><td>The Lewis Man</td><td>The Lewis Man (The Lewis Trilogy, #2)</td></tr>",
                            "<tr><td>The New Best Recipe: All-New Edition with 1,000 Recipes</td><td>The New Best Recipe</td></tr>",
                            "<tr><td>The Mystery Knight</td><td>The Mystery Knight (The Tales of Dunk and Egg, #3)</td></tr>",
                            "<tr><td>The Naked God </td><td>The Naked God (Night&#39;s Dawn, #3)</td></tr>",
                            "<tr><td>The Murder of Roger Ackroyd</td><td>The Murder of Roger Ackroyd (Hercule Poirot, #4)</td></tr>",
                            "<tr><td>The Mime Order</td><td>The Mime Order (The Bone Season, #2)</td></tr>",
                            "<tr><td>The Bane Chronicles</td><td>The Bane Chronicles</td></tr>",
                            "<tr><td>The Brain That Changes Itself: Stories of Personal Triumph from the Frontiers of Brain Science</td><td>The Brain That Changes Itself: Stories of Personal Triumph from the Frontiers of Brain Science</td></tr>",
                            "<tr><td>The Air He Breathes</td><td>The Air He Breathes (Elements, #1)</td></tr>",
                            "<tr><td>The Ask and the Answer</td><td>The Ask and the Answer (Chaos Walking, #2)</td></tr>",
                            "<tr><td>The Alloy of Law</td><td>The Alloy of Law (Mistborn, #4)</td></tr>",
                            "<tr><td>Die 13½ Leben des Käpt&#39;n Blaubär </td><td>The 13½ Lives of Captain Bluebear (Zamonia, #1)</td></tr>",
                            "<tr><td>The Collected Poems</td><td>The Collected Poems</td></tr>",
                            "<tr><td>The City of Mirrors</td><td>The City of Mirrors (The Passage, #3)</td></tr>",
                            "<tr><td>The Cake Bible</td><td>The Cake Bible</td></tr>",
                            "<tr><td>The Case of Charles Dexter Ward</td><td>The Case of Charles Dexter Ward</td></tr>",
                            "<tr><td>The Case-Book of Sherlock Holmes</td><td>The Case-Book of Sherlock Holmes</td></tr>",
                            "<tr><td>The Cross and the Switchblade</td><td>The Cross and the Switchblade</td></tr>",
                            "<tr><td>Samarcande</td><td>Samarkand</td></tr>",
                            "<tr><td>Seabiscuit</td><td>Seabiscuit: An American Legend</td></tr>",
                            "<tr><td>Short Stories from Hogwarts of Power, Politics and Pesky Poltergeists</td><td>Short Stories from Hogwarts of Power, Politics and Pesky Poltergeists (Pottermore Presents, #2)</td></tr>",
                            "<tr><td>Small Sacrifices: A True Story of Passion and Murder</td><td>Small Sacrifices: A True Story of Passion and Murder</td></tr>",
                            "<tr><td>Smaragdgrün</td><td>Smaragdgrün (Edelstein-Trilogie, #3)</td></tr>",
                            "<tr><td>The Saga of the Swamp Thing, Vol 20 - 27</td><td>Swamp Thing, Vol. 1: Saga of the Swamp Thing</td></tr>",
                            "<tr><td>State Of The Union</td><td>State of the Union (Scot Harvath, #3)</td></tr>",
                            "<tr><td>Once</td><td>Once (Once, #1)</td></tr>",
                            "<tr><td>Night World, No. 2</td><td>Night World, No. 2 (Night World, #4-6)</td></tr>",
                            "<tr><td>Night World, No. 3</td><td>Night World, No. 3 (Night World, #7-9)</td></tr>",
                            "<tr><td>No Ordinary Time: Franklin and Eleanor Roosevelt: The Home Front in World War II</td><td>No Ordinary Time: Franklin and Eleanor Roosevelt: The Home Front in World War II</td></tr>",
                            "<tr><td>Nimona</td><td>Nimona</td></tr>",
                            "<tr><td>No Humans Involved</td><td>No Humans Involved (Women of the Otherworld, #7)</td></tr>",
                            "<tr><td>Mortal Prey</td><td>Mortal Prey (Lucas Davenport, #13)</td></tr>",
                            "<tr><td>Mike Mulligan and His Steam Shovel</td><td>Mike Mulligan and His Steam Shovel</td></tr>",
                            "<tr><td>Τὰ εἰς ἑαυτόν </td><td>Meditations</td></tr>",
                            "<tr><td>Magic&#39;s Promise</td><td>Magic&#39;s Promise (Valdemar: Last Herald-Mage #2)</td></tr>",
                            "<tr><td>Malcolm X: A Life of Reinvention</td><td>Malcolm X: A Life of Reinvention</td></tr>",
                            "<tr><td>Malgudi Days</td><td>Malgudi Days</td></tr>",
                            "<tr><td>Raven Rise</td><td>Raven Rise (Pendragon, #9)</td></tr>",
                            "<tr><td>Psycho-Cybernetics. A New Way to Get More Living Out of Life</td><td>Psycho-Cybernetics, A New Way to Get More Living Out of Life</td></tr>",
                            "<tr><td>Rock Chick</td><td>Rock Chick (Rock Chick, #1)</td></tr>",
                            "<tr><td>River God</td><td>River God (Ancient Egypt, #1)</td></tr>",
                            "<tr><td>Romancing Mister Bridgerton (Bridgertons, #4)</td><td>Romancing Mister Bridgerton (Bridgertons, #4)</td></tr>",
                            "<tr><td>Rebecca</td><td>Rebecca</td></tr>",
                            "<tr><td>Pandora Hearts 1</td><td>Pandora Hearts 1巻</td></tr>",
                            "<tr><td>Palestine</td><td>Palestine</td></tr>",
                            "<tr><td>Owl Moon</td><td>Owl Moon</td></tr>",
                            "<tr><td>Outlander</td><td>Outlander (Outlander, #1)</td></tr>",
                            "<tr><td>Oscar et la dame rose</td><td>Oscar et la dame rose</td></tr>",
                            "<tr><td>Our Band Could Be Your Life: Scenes from the American Indie Underground 1981-1991</td><td>Our Band Could Be Your Life: Scenes from the American Indie Underground 1981-1991</td></tr>",
                            "<tr><td>One Shot</td><td>One Shot (Jack Reacher, #9)</td></tr>",
                            "<tr><td>Good Night, Gorilla</td><td>Good Night, Gorilla</td></tr>",
                            "<tr><td>Gregor and the Curse of the Warmbloods</td><td>Gregor and the Curse of the Warmbloods (Underland Chronicles, #3)</td></tr>",
                            "<tr><td>Hafalan Shalat Delisa</td><td>Hafalan Shalat Delisa</td></tr>",
                            "<tr><td>Half the World</td><td>Half the World (Shattered Sea, #2)</td></tr>",
                            "<tr><td>If You Give a Cat a Cupcake</td><td>If You Give a Cat a Cupcake</td></tr>",
                            "<tr><td>Hellboy: Wake the Devil</td><td>Hellboy, Vol. 2: Wake the Devil (Hellboy, #2)</td></tr>",
                            "<tr><td>Home </td><td>Home (Myron Bolitar #11)</td></tr>",
                            "<tr><td>King of Thorns</td><td>King of Thorns (The Broken Empire, #2)</td></tr>",
                            "<tr><td>L.A. Confidential</td><td>L.A. Confidential (L.A. Quartet, #3)</td></tr>",
                            "<tr><td>Jaya: An Illustrated Retelling of the Mahabharata</td><td>Jaya: An Illustrated Retelling of the Mahabharata</td></tr>",
                            "<tr><td>Jesus Freaks: DC Talk and The Voice of the Martyrs - Stories of Those Who Stood for Jesus, the Ultimate Jesus Freaks</td><td>Jesus Freaks: Stories of Those Who Stood for Jesus, the Ultimate Jesus Freaks (Jesus Freaks, #1)</td></tr>",
                            "<tr><td>Infidel</td><td>Infidel</td></tr>",
                            "<tr><td>Lilly&#39;s Purple Plastic Purse</td><td>Lilly&#39;s Purple Plastic Purse</td></tr>",
                            "<tr><td>Leviathan Wakes</td><td>Leviathan Wakes (The Expanse, #1)</td></tr>",
                            "<tr><td>Love in the Afternoon</td><td>Love in the Afternoon (The Hathaways, #5)</td></tr>",
                            "<tr><td>August: Osage County</td><td>August: Osage County</td></tr>",
                            "<tr><td>Black List</td><td>Black List (Scot Harvath, #11)</td></tr>",
                            "<tr><td>Big Little Lies</td><td>Big Little Lies</td></tr>",
                            "<tr><td>Calamity</td><td>Calamity (The Reckoners, #3)</td></tr>",
                            "<tr><td>Certain Prey</td><td>Certain Prey (Lucas Davenport, #10)</td></tr>",
                            "<tr><td>Ceaseless</td><td>Ceaseless (Existence Trilogy, #3)</td></tr>",
                            "<tr><td>Christy</td><td>Christy</td></tr>",
                            "<tr><td>Chronicles of The Black Company (The Black Company / Shadows Linger / The White Rose)</td><td>Chronicles of the Black Company (The Chronicles of the Black Company, #1-3)</td></tr>",
                            "<tr><td>Bread and Jam for Frances</td><td>Bread and Jam for Frances</td></tr>",
                            "<tr><td>Broken</td><td>Broken (Will Trent, #4)</td></tr>",
                            "<tr><td>A House in the Sky</td><td>A House in the Sky</td></tr>",
                            "<tr><td>A Little Princess</td><td>A Little Princess</td></tr>",
                            "<tr><td>2666</td><td>2666</td></tr>",
                            "<tr><td>A Chair for My Mother </td><td>A Chair for My Mother</td></tr>",
                            "<tr><td>Amadeus</td><td>Amadeus</td></tr>",
                            "<tr><td>Ancillary Mercy</td><td>Ancillary Mercy (Imperial Radch #3)</td></tr>",
                            "<tr><td>ABNKKBSNPLAKo?! (Mga Kwentong Chalk ni Bob Ong)</td><td>ABNKKBSNPLAKo?! (Mga Kwentong Chalk ni Bob Ong)</td></tr>",
                            "<tr><td>Damaged</td><td>Damaged: The Heartbreaking True Story of a Forgotten Child</td></tr>",
                            "<tr><td>Dark Desire</td><td>Dark Desire (Dark, #2)</td></tr>",
                            "<tr><td>Le cosmicomiche</td><td>Cosmicomics</td></tr>",
                            "<tr><td>Clean Sweep</td><td>Clean Sweep (Innkeeper Chronicles, #1)</td></tr>",
                            "<tr><td>Collected Poems</td><td>Collected Poems</td></tr>",
                            "<tr><td>デッドマン・ワンダーランド 1</td><td>Deadman Wonderland, Volume 1 (Deadman Wonderland, #1)</td></tr>",
                            "<tr><td>Days of Magic, Nights of War</td><td>Days of Magic, Nights of War (Abarat, #2)</td></tr>",
                            "<tr><td>Don&#39;t Judge a Girl by Her Cover</td><td>Don&#39;t Judge a Girl by Her Cover (Gallagher Girls, #3)</td></tr>",
                            "<tr><td>Eragon, Eldest &amp; Brisingr (Inheritance, #1-3)</td><td>Eragon, Eldest &amp; Brisingr (Inheritance, #1-3)</td></tr>",
                            "<tr><td>Every Last Word</td><td>Every Last Word</td></tr>",
                            "<tr><td>Dream Chaser</td><td>Dream Chaser (Dark-Hunter #13, Dream-Hunter #3)</td></tr>",
                            "<tr><td>Dreamless</td><td>Dreamless (Starcrossed, #2)</td></tr>",
                            "<tr><td>Eloise</td><td>Eloise </td></tr>",
                            "<tr><td>Foundation and Empire</td><td>Foundation and Empire (Foundation #2)</td></tr>",
                            "<tr><td>First Rider&#39;s Call</td><td>First Rider&#39;s Call (Green Rider, #2)</td></tr>",
                            "<tr><td>Fiddler On the Roof: Based on Sholom Aleichem&#39;s Stories</td><td>Fiddler on the Roof</td></tr>",
                            "<tr><td>Fight Club</td><td>Fight Club</td></tr>",
                            "<tr><td>Fade Out</td><td>Fade Out (The Morganville Vampires, #7)</td></tr>",
                            "</table>"
                        ]
                    }
                }
            ],
            "execution_count": 10
        },
        {
            "cell_type": "markdown",
            "source": [
                "## QUESTION 4:  Thisbe\n",
                "\n",
                "Thisbe is planning to make a long-term display of popular books that she will update monthly, reflecting different time periods.  She wants to make it reader-centric by including titles that readers have averagely rated higher than the book's actual average rating. \n",
                "\n",
                "**Part A:**   Write a query that compares the publication time with average reader ratings.\n",
                "\n",
                "**Part B:**  She wants the list ordered by year, then the book title"
            ],
            "metadata": {
                "azdata_cell_guid": "c3cb4fa8-802c-4130-8740-2adf20ec6a15"
            },
            "attachments": {}
        },
        {
            "cell_type": "code",
            "source": [
                "SELECT \r\n",
                "    b.title,\r\n",
                "    b.original_publication_year AS year,\r\n",
                "    AVG(r.rating) AS avg_reader_rating,\r\n",
                "    b.average_rating AS actual_avg_rating\r\n",
                "FROM \r\n",
                "    Books AS b\r\n",
                "JOIN \r\n",
                "    ratings AS r ON b.id = r.book_id\r\n",
                "GROUP BY \r\n",
                "    b.title, b.original_publication_year, b.average_rating\r\n",
                "HAVING \r\n",
                "    AVG(r.rating) > b.average_rating\r\n",
                "ORDER BY \r\n",
                "    year, b.title;\r\n",
                ""
            ],
            "metadata": {
                "azdata_cell_guid": "164e0a22-349f-45ed-afe8-0753d5a8c6fc",
                "tags": [],
                "language": "sql"
            },
            "outputs": [
                {
                    "output_type": "display_data",
                    "data": {
                        "text/html": "(147 rows affected)"
                    },
                    "metadata": {}
                },
                {
                    "output_type": "display_data",
                    "data": {
                        "text/html": "Total execution time: 00:00:00.317"
                    },
                    "metadata": {}
                },
                {
                    "output_type": "execute_result",
                    "metadata": {},
                    "execution_count": 11,
                    "data": {
                        "application/vnd.dataresource+json": {
                            "schema": {
                                "fields": [
                                    {
                                        "name": "title"
                                    },
                                    {
                                        "name": "year"
                                    },
                                    {
                                        "name": "avg_reader_rating"
                                    },
                                    {
                                        "name": "actual_avg_rating"
                                    }
                                ]
                            },
                            "data": [
                                {
                                    "title": "A Tale of Two Cities / Great Expectations",
                                    "year": "NULL",
                                    "avg_reader_rating": "4",
                                    "actual_avg_rating": "3.98"
                                },
                                {
                                    "title": "The Oresteia  (Ορέστεια, #1-3)",
                                    "year": "-458",
                                    "avg_reader_rating": "4",
                                    "actual_avg_rating": "3.99"
                                },
                                {
                                    "title": "Lysistrata",
                                    "year": "-411",
                                    "avg_reader_rating": "4",
                                    "actual_avg_rating": "3.84"
                                },
                                {
                                    "title": "Leonardo's Notebooks",
                                    "year": "1519",
                                    "avg_reader_rating": "4",
                                    "actual_avg_rating": "3.97"
                                },
                                {
                                    "title": "Romeo and Juliet",
                                    "year": "1595",
                                    "avg_reader_rating": "4",
                                    "actual_avg_rating": "3.73"
                                },
                                {
                                    "title": "Macbeth",
                                    "year": "1606",
                                    "avg_reader_rating": "4",
                                    "actual_avg_rating": "3.88"
                                },
                                {
                                    "title": "Emma",
                                    "year": "1815",
                                    "avg_reader_rating": "4",
                                    "actual_avg_rating": "3.99"
                                },
                                {
                                    "title": "The Fall of the House of Usher",
                                    "year": "1839",
                                    "avg_reader_rating": "4",
                                    "actual_avg_rating": "3.92"
                                },
                                {
                                    "title": "The Murders in the Rue Morgue",
                                    "year": "1841",
                                    "avg_reader_rating": "4",
                                    "actual_avg_rating": "3.92"
                                },
                                {
                                    "title": "The Necklace and Other Short Stories",
                                    "year": "1884",
                                    "avg_reader_rating": "4",
                                    "actual_avg_rating": "3.94"
                                },
                                {
                                    "title": "The Canterville Ghost",
                                    "year": "1887",
                                    "avg_reader_rating": "4",
                                    "actual_avg_rating": "3.89"
                                },
                                {
                                    "title": "The Sign of Four",
                                    "year": "1890",
                                    "avg_reader_rating": "4",
                                    "actual_avg_rating": "3.96"
                                },
                                {
                                    "title": "The Prisoner of Zenda",
                                    "year": "1894",
                                    "avg_reader_rating": "4",
                                    "actual_avg_rating": "3.87"
                                },
                                {
                                    "title": "The Wonderful Wizard of Oz (Oz, #1)",
                                    "year": "1900",
                                    "avg_reader_rating": "4",
                                    "actual_avg_rating": "3.98"
                                },
                                {
                                    "title": "The Monkey's Paw (Oxford Bookworms)",
                                    "year": "1902",
                                    "avg_reader_rating": "4",
                                    "actual_avg_rating": "3.85"
                                },
                                {
                                    "title": "To Build a Fire",
                                    "year": "1903",
                                    "avg_reader_rating": "4",
                                    "actual_avg_rating": "3.92"
                                },
                                {
                                    "title": "The Broken Wings",
                                    "year": "1912",
                                    "avg_reader_rating": "4",
                                    "actual_avg_rating": "3.93"
                                },
                                {
                                    "title": "The Letters of Vincent van Gogh",
                                    "year": "1914",
                                    "avg_reader_rating": "4",
                                    "actual_avg_rating": "3.99"
                                },
                                {
                                    "title": "The Valley of Fear",
                                    "year": "1914",
                                    "avg_reader_rating": "4",
                                    "actual_avg_rating": "3.98"
                                },
                                {
                                    "title": "The Story of Doctor Dolittle (Doctor Dolittle, #1)",
                                    "year": "1920",
                                    "avg_reader_rating": "4",
                                    "actual_avg_rating": "3.98"
                                },
                                {
                                    "title": "Art Through the Ages ",
                                    "year": "1926",
                                    "avg_reader_rating": "4",
                                    "actual_avg_rating": "3.84"
                                },
                                {
                                    "title": "The Secret of the Old Clock (Nancy Drew, #1)",
                                    "year": "1930",
                                    "avg_reader_rating": "4",
                                    "actual_avg_rating": "3.98"
                                },
                                {
                                    "title": "The Thin Man",
                                    "year": "1934",
                                    "avg_reader_rating": "4",
                                    "actual_avg_rating": "3.97"
                                },
                                {
                                    "title": "Caddie Woodlawn  (Caddie Woodlawn #1)",
                                    "year": "1935",
                                    "avg_reader_rating": "4",
                                    "actual_avg_rating": "3.99"
                                },
                                {
                                    "title": "Out of Africa",
                                    "year": "1937",
                                    "avg_reader_rating": "4",
                                    "actual_avg_rating": "3.96"
                                },
                                {
                                    "title": "The Sword in the Stone (The Once and Future King, #1)",
                                    "year": "1938",
                                    "avg_reader_rating": "4",
                                    "actual_avg_rating": "3.92"
                                },
                                {
                                    "title": "The Natural Way to Draw",
                                    "year": "1941",
                                    "avg_reader_rating": "4",
                                    "actual_avg_rating": "3.88"
                                },
                                {
                                    "title": "A Streetcar Named Desire",
                                    "year": "1947",
                                    "avg_reader_rating": "4",
                                    "actual_avg_rating": "3.97"
                                },
                                {
                                    "title": "Cheaper by the Dozen",
                                    "year": "1948",
                                    "avg_reader_rating": "4",
                                    "actual_avg_rating": "3.99"
                                },
                                {
                                    "title": "The Story of Art",
                                    "year": "1950",
                                    "avg_reader_rating": "4",
                                    "actual_avg_rating": "3.83"
                                },
                                {
                                    "title": "Anatomy for the Artist",
                                    "year": "1953",
                                    "avg_reader_rating": "4",
                                    "actual_avg_rating": "3.97"
                                },
                                {
                                    "title": "Fahrenheit 451",
                                    "year": "1953",
                                    "avg_reader_rating": "4",
                                    "actual_avg_rating": "3.97"
                                },
                                {
                                    "title": "More Than Human",
                                    "year": "1953",
                                    "avg_reader_rating": "4",
                                    "actual_avg_rating": "3.98"
                                },
                                {
                                    "title": "The First Four Years  (Little House, #9)",
                                    "year": "1953",
                                    "avg_reader_rating": "4",
                                    "actual_avg_rating": "3.88"
                                },
                                {
                                    "title": "Inherit the Wind",
                                    "year": "1955",
                                    "avg_reader_rating": "4",
                                    "actual_avg_rating": "3.96"
                                },
                                {
                                    "title": "M.C. Escher: The Graphic Work",
                                    "year": "1956",
                                    "avg_reader_rating": "4",
                                    "actual_avg_rating": "3.93"
                                },
                                {
                                    "title": "On the Beach",
                                    "year": "1957",
                                    "avg_reader_rating": "4",
                                    "actual_avg_rating": "3.92"
                                },
                                {
                                    "title": "Breakfast at Tiffany's",
                                    "year": "1958",
                                    "avg_reader_rating": "4",
                                    "actual_avg_rating": "3.89"
                                },
                                {
                                    "title": "Our Man in Havana",
                                    "year": "1958",
                                    "avg_reader_rating": "4",
                                    "actual_avg_rating": "3.94"
                                },
                                {
                                    "title": "James and the Giant Peach",
                                    "year": "1961",
                                    "avg_reader_rating": "4",
                                    "actual_avg_rating": "3.99"
                                },
                                {
                                    "title": "The Bronze Bow",
                                    "year": "1961",
                                    "avg_reader_rating": "4",
                                    "actual_avg_rating": "3.93"
                                },
                                {
                                    "title": "Cover Her Face (Adam Dalgliesh #1)",
                                    "year": "1962",
                                    "avg_reader_rating": "4",
                                    "actual_avg_rating": "3.94"
                                },
                                {
                                    "title": "History of Art",
                                    "year": "1962",
                                    "avg_reader_rating": "4",
                                    "actual_avg_rating": "3.8"
                                },
                                {
                                    "title": "Hop On Pop",
                                    "year": "1963",
                                    "avg_reader_rating": "4",
                                    "actual_avg_rating": "3.95"
                                },
                                {
                                    "title": "Flat Stanley (Flat Stanley, #1)",
                                    "year": "1964",
                                    "avg_reader_rating": "4",
                                    "actual_avg_rating": "3.82"
                                },
                                {
                                    "title": "The Medium is the Massage",
                                    "year": "1967",
                                    "avg_reader_rating": "4",
                                    "actual_avg_rating": "3.95"
                                },
                                {
                                    "title": "The Foot Book: Dr. Seuss's Wacky Book of Opposites (Bright and Early Board Books)",
                                    "year": "1968",
                                    "avg_reader_rating": "4",
                                    "actual_avg_rating": "3.99"
                                },
                                {
                                    "title": "Ball Four",
                                    "year": "1970",
                                    "avg_reader_rating": "4",
                                    "actual_avg_rating": "3.99"
                                },
                                {
                                    "title": "Ways of Seeing",
                                    "year": "1972",
                                    "avg_reader_rating": "4",
                                    "actual_avg_rating": "3.75"
                                },
                                {
                                    "title": "Sybil: The Classic True Story of a Woman Possessed by Sixteen Personalities",
                                    "year": "1973",
                                    "avg_reader_rating": "4",
                                    "actual_avg_rating": "3.99"
                                },
                                {
                                    "title": "Charmed Life (Chrestomanci, #1)",
                                    "year": "1977",
                                    "avg_reader_rating": "4",
                                    "actual_avg_rating": "3.95"
                                },
                                {
                                    "title": "The Honourable Schoolboy",
                                    "year": "1977",
                                    "avg_reader_rating": "4",
                                    "actual_avg_rating": "3.94"
                                },
                                {
                                    "title": "Faeries",
                                    "year": "1978",
                                    "avg_reader_rating": "4",
                                    "actual_avg_rating": "3.89"
                                },
                                {
                                    "title": "Camera Lucida: Reflections on Photography",
                                    "year": "1980",
                                    "avg_reader_rating": "4",
                                    "actual_avg_rating": "3.92"
                                },
                                {
                                    "title": "Split Infinity  (Apprentice Adept #1)",
                                    "year": "1980",
                                    "avg_reader_rating": "4",
                                    "actual_avg_rating": "3.94"
                                },
                                {
                                    "title": "Shoeless Joe",
                                    "year": "1982",
                                    "avg_reader_rating": "4",
                                    "actual_avg_rating": "3.96"
                                },
                                {
                                    "title": "Empire of the Sun (Empire of the Sun, #1)",
                                    "year": "1984",
                                    "avg_reader_rating": "4",
                                    "actual_avg_rating": "3.98"
                                },
                                {
                                    "title": "Love Medicine",
                                    "year": "1984",
                                    "avg_reader_rating": "4",
                                    "actual_avg_rating": "3.98"
                                },
                                {
                                    "title": "The Summer Tree (The Fionavar Tapestry #1)",
                                    "year": "1984",
                                    "avg_reader_rating": "4",
                                    "actual_avg_rating": "3.99"
                                },
                                {
                                    "title": "The Postman",
                                    "year": "1985",
                                    "avg_reader_rating": "4",
                                    "actual_avg_rating": "3.87"
                                },
                                {
                                    "title": "Taliesin (The Pendragon Cycle, #1)",
                                    "year": "1987",
                                    "avg_reader_rating": "4",
                                    "actual_avg_rating": "3.98"
                                },
                                {
                                    "title": "The Eight (The Eight #1)",
                                    "year": "1988",
                                    "avg_reader_rating": "4",
                                    "actual_avg_rating": "3.92"
                                },
                                {
                                    "title": "The Stories of Eva Luna",
                                    "year": "1988",
                                    "avg_reader_rating": "4",
                                    "actual_avg_rating": "3.96"
                                },
                                {
                                    "title": "Wall and Piece",
                                    "year": "1988",
                                    "avg_reader_rating": "4",
                                    "actual_avg_rating": "3.83"
                                },
                                {
                                    "title": "Like Water for Chocolate",
                                    "year": "1989",
                                    "avg_reader_rating": "4",
                                    "actual_avg_rating": "3.94"
                                },
                                {
                                    "title": "Moon Palace",
                                    "year": "1989",
                                    "avg_reader_rating": "4",
                                    "actual_avg_rating": "3.99"
                                },
                                {
                                    "title": "Red Phoenix (Red Phoenix #1)",
                                    "year": "1989",
                                    "avg_reader_rating": "4",
                                    "actual_avg_rating": "3.98"
                                },
                                {
                                    "title": "The Joy Luck Club",
                                    "year": "1989",
                                    "avg_reader_rating": "4",
                                    "actual_avg_rating": "3.9"
                                },
                                {
                                    "title": "Andy Goldsworthy: A Collaboration with Nature",
                                    "year": "1990",
                                    "avg_reader_rating": "4",
                                    "actual_avg_rating": "3.95"
                                },
                                {
                                    "title": "The Mother Tongue: English and How It Got That Way",
                                    "year": "1990",
                                    "avg_reader_rating": "4",
                                    "actual_avg_rating": "3.95"
                                },
                                {
                                    "title": "Cloudstreet",
                                    "year": "1991",
                                    "avg_reader_rating": "4",
                                    "actual_avg_rating": "3.97"
                                },
                                {
                                    "title": "Understanding Comics: The Invisible Art",
                                    "year": "1993",
                                    "avg_reader_rating": "4",
                                    "actual_avg_rating": "3.98"
                                },
                                {
                                    "title": "A Drink Before the War (Kenzie & Gennaro, #1)",
                                    "year": "1994",
                                    "avg_reader_rating": "4",
                                    "actual_avg_rating": "3.96"
                                },
                                {
                                    "title": "Drop Shot (Myron Bolitar #2)",
                                    "year": "1996",
                                    "avg_reader_rating": "4",
                                    "actual_avg_rating": "3.92"
                                },
                                {
                                    "title": "Fade Away (Myron Bolitar #3)",
                                    "year": "1996",
                                    "avg_reader_rating": "4",
                                    "actual_avg_rating": "3.99"
                                },
                                {
                                    "title": "Into the Wild",
                                    "year": "1996",
                                    "avg_reader_rating": "4",
                                    "actual_avg_rating": "3.94"
                                },
                                {
                                    "title": "Kare Kano: His and Her Circumstances, Vol. 1",
                                    "year": "1996",
                                    "avg_reader_rating": "4",
                                    "actual_avg_rating": "3.96"
                                },
                                {
                                    "title": "The 20th Century Art Book",
                                    "year": "1996",
                                    "avg_reader_rating": "4",
                                    "actual_avg_rating": "3.94"
                                },
                                {
                                    "title": "Brokeback Mountain",
                                    "year": "1997",
                                    "avg_reader_rating": "4",
                                    "actual_avg_rating": "3.93"
                                },
                                {
                                    "title": "Ella Enchanted",
                                    "year": "1997",
                                    "avg_reader_rating": "4",
                                    "actual_avg_rating": "3.97"
                                },
                                {
                                    "title": "Good Faeries/Bad Faeries",
                                    "year": "1998",
                                    "avg_reader_rating": "4",
                                    "actual_avg_rating": "3.88"
                                },
                                {
                                    "title": "Holes (Holes, #1)",
                                    "year": "1998",
                                    "avg_reader_rating": "4",
                                    "actual_avg_rating": "3.93"
                                },
                                {
                                    "title": "I'm a Stranger Here Myself: Notes on Returning to America after Twenty Years Away",
                                    "year": "1998",
                                    "avg_reader_rating": "4",
                                    "actual_avg_rating": "3.89"
                                },
                                {
                                    "title": "Close Range",
                                    "year": "1999",
                                    "avg_reader_rating": "4",
                                    "actual_avg_rating": "3.99"
                                },
                                {
                                    "title": "Eleanor of Aquitaine: A Life ",
                                    "year": "1999",
                                    "avg_reader_rating": "4",
                                    "actual_avg_rating": "3.97"
                                },
                                {
                                    "title": "O is for Outlaw (Kinsey Millhone, #15)",
                                    "year": "1999",
                                    "avg_reader_rating": "4",
                                    "actual_avg_rating": "3.92"
                                },
                                {
                                    "title": "After the Quake",
                                    "year": "2000",
                                    "avg_reader_rating": "4",
                                    "actual_avg_rating": "3.78"
                                },
                                {
                                    "title": "A Cook's Tour: Global Adventures in Extreme Cuisines",
                                    "year": "2001",
                                    "avg_reader_rating": "4",
                                    "actual_avg_rating": "3.97"
                                },
                                {
                                    "title": "Anatomy for the Artist",
                                    "year": "2001",
                                    "avg_reader_rating": "4",
                                    "actual_avg_rating": "3.97"
                                },
                                {
                                    "title": "Fables, Vol. 1: Legends in Exile",
                                    "year": "2001",
                                    "avg_reader_rating": "4",
                                    "actual_avg_rating": "3.99"
                                },
                                {
                                    "title": "Family Matters",
                                    "year": "2001",
                                    "avg_reader_rating": "4",
                                    "actual_avg_rating": "3.99"
                                },
                                {
                                    "title": "The Passion of Artemisia",
                                    "year": "2001",
                                    "avg_reader_rating": "4",
                                    "actual_avg_rating": "3.86"
                                },
                                {
                                    "title": "Saving Francesca",
                                    "year": "2003",
                                    "avg_reader_rating": "4",
                                    "actual_avg_rating": "3.97"
                                },
                                {
                                    "title": "The League of Extraordinary Gentlemen, Vol. 2",
                                    "year": "2003",
                                    "avg_reader_rating": "4",
                                    "actual_avg_rating": "3.94"
                                },
                                {
                                    "title": "History of Beauty",
                                    "year": "2004",
                                    "avg_reader_rating": "4",
                                    "actual_avg_rating": "3.77"
                                },
                                {
                                    "title": "R is for Ricochet (Kinsey Millhone, #18)",
                                    "year": "2004",
                                    "avg_reader_rating": "4",
                                    "actual_avg_rating": "3.96"
                                },
                                {
                                    "title": "The Algebraist",
                                    "year": "2004",
                                    "avg_reader_rating": "4",
                                    "actual_avg_rating": "3.99"
                                },
                                {
                                    "title": "The Creative License: Giving Yourself Permission to Be The Artist You Truly Are",
                                    "year": "2005",
                                    "avg_reader_rating": "4",
                                    "actual_avg_rating": "3.93"
                                },
                                {
                                    "title": "The Twelfth Card (Lincoln Rhyme, #6)",
                                    "year": "2005",
                                    "avg_reader_rating": "4",
                                    "actual_avg_rating": "3.98"
                                },
                                {
                                    "title": "Brother Odd (Odd Thomas, #3)",
                                    "year": "2006",
                                    "avg_reader_rating": "4",
                                    "actual_avg_rating": "3.98"
                                },
                                {
                                    "title": "Getting Stoned with Savages: A Trip Through the Islands of Fiji and Vanuatu",
                                    "year": "2006",
                                    "avg_reader_rating": "4",
                                    "actual_avg_rating": "3.86"
                                },
                                {
                                    "title": "Claimed By Shadow (Cassandra Palmer, #2)",
                                    "year": "2007",
                                    "avg_reader_rating": "4",
                                    "actual_avg_rating": "3.98"
                                },
                                {
                                    "title": "Grace (Eventually): Thoughts on Faith",
                                    "year": "2007",
                                    "avg_reader_rating": "4",
                                    "actual_avg_rating": "3.98"
                                },
                                {
                                    "title": "Lady Friday (The Keys to the Kingdom, #5)",
                                    "year": "2007",
                                    "avg_reader_rating": "4",
                                    "actual_avg_rating": "3.91"
                                },
                                {
                                    "title": "Mistakes Were Made (But Not by Me): Why We Justify Foolish Beliefs, Bad Decisions, and Hurtful Acts",
                                    "year": "2007",
                                    "avg_reader_rating": "4",
                                    "actual_avg_rating": "3.99"
                                },
                                {
                                    "title": "The Lucifer Effect: Understanding How Good People Turn Evil",
                                    "year": "2007",
                                    "avg_reader_rating": "4",
                                    "actual_avg_rating": "3.94"
                                },
                                {
                                    "title": "The Secret Diaries of Miss Miranda Cheever (Bevelstoke, #1)",
                                    "year": "2007",
                                    "avg_reader_rating": "4",
                                    "actual_avg_rating": "3.93"
                                },
                                {
                                    "title": "Veganomicon: The Ultimate Vegan Cookbook",
                                    "year": "2007",
                                    "avg_reader_rating": "4",
                                    "actual_avg_rating": "3.98"
                                },
                                {
                                    "title": "Food Matters: A Guide to Conscious Eating with More Than 75 Recipes",
                                    "year": "2008",
                                    "avg_reader_rating": "4",
                                    "actual_avg_rating": "3.97"
                                },
                                {
                                    "title": "Food Rules: An Eater's Manual",
                                    "year": "2008",
                                    "avg_reader_rating": "4",
                                    "actual_avg_rating": "3.99"
                                },
                                {
                                    "title": "Home (Gilead, #2)",
                                    "year": "2008",
                                    "avg_reader_rating": "4",
                                    "actual_avg_rating": "3.97"
                                },
                                {
                                    "title": "Skeletons at the Feast",
                                    "year": "2008",
                                    "avg_reader_rating": "4",
                                    "actual_avg_rating": "3.99"
                                },
                                {
                                    "title": "Sun and Moon, Ice and Snow",
                                    "year": "2008",
                                    "avg_reader_rating": "4",
                                    "actual_avg_rating": "3.97"
                                },
                                {
                                    "title": "The Time Traveller's Guide to Medieval England: A Handbook for Visitors to the Fourteenth Century",
                                    "year": "2008",
                                    "avg_reader_rating": "4",
                                    "actual_avg_rating": "3.99"
                                },
                                {
                                    "title": "Your Inner Fish: A Journey into the 3.5-Billion-Year History of the Human Body",
                                    "year": "2008",
                                    "avg_reader_rating": "4",
                                    "actual_avg_rating": "3.97"
                                },
                                {
                                    "title": "A Homemade Life: Stories and Recipes from My Kitchen Table",
                                    "year": "2009",
                                    "avg_reader_rating": "4",
                                    "actual_avg_rating": "3.94"
                                },
                                {
                                    "title": "Fool",
                                    "year": "2009",
                                    "avg_reader_rating": "4",
                                    "actual_avg_rating": "3.96"
                                },
                                {
                                    "title": "Long Lost  (Myron Bolitar #9)",
                                    "year": "2009",
                                    "avg_reader_rating": "4",
                                    "actual_avg_rating": "3.94"
                                },
                                {
                                    "title": "Nine Dragons (Harry Bosch, #15; Mickey Haller, #3; Harry Bosch Universe, #18)",
                                    "year": "2009",
                                    "avg_reader_rating": "4",
                                    "actual_avg_rating": "3.97"
                                },
                                {
                                    "title": "Patient Zero (Joe Ledger, #1)",
                                    "year": "2009",
                                    "avg_reader_rating": "4",
                                    "actual_avg_rating": "3.98"
                                },
                                {
                                    "title": "The City & the City",
                                    "year": "2009",
                                    "avg_reader_rating": "4",
                                    "actual_avg_rating": "3.91"
                                },
                                {
                                    "title": "U Is for Undertow (Kinsey Millhone, #21)",
                                    "year": "2009",
                                    "avg_reader_rating": "4",
                                    "actual_avg_rating": "3.93"
                                },
                                {
                                    "title": "Steal Like an Artist: 10 Things Nobody Told You About Being Creative",
                                    "year": "2010",
                                    "avg_reader_rating": "4",
                                    "actual_avg_rating": "3.86"
                                },
                                {
                                    "title": "Against All Enemies (Max Moore, #1)",
                                    "year": "2011",
                                    "avg_reader_rating": "4",
                                    "actual_avg_rating": "3.95"
                                },
                                {
                                    "title": "Rules of Civility",
                                    "year": "2011",
                                    "avg_reader_rating": "4",
                                    "actual_avg_rating": "3.99"
                                },
                                {
                                    "title": "Second Son (Jack Reacher, #15.5)",
                                    "year": "2011",
                                    "avg_reader_rating": "4",
                                    "actual_avg_rating": "3.95"
                                },
                                {
                                    "title": "The Chronicles of Harris Burdick: 14 Amazing Authors Tell the Tales",
                                    "year": "2011",
                                    "avg_reader_rating": "4",
                                    "actual_avg_rating": "3.91"
                                },
                                {
                                    "title": "A Wrinkle in Time: The Graphic Novel",
                                    "year": "2012",
                                    "avg_reader_rating": "4",
                                    "actual_avg_rating": "3.95"
                                },
                                {
                                    "title": "Behind the Beautiful Forevers: Life, Death, and Hope in a Mumbai Undercity",
                                    "year": "2012",
                                    "avg_reader_rating": "4",
                                    "actual_avg_rating": "3.97"
                                },
                                {
                                    "title": "The Son",
                                    "year": "2012",
                                    "avg_reader_rating": "4",
                                    "actual_avg_rating": "3.98"
                                },
                                {
                                    "title": "Detroit: An American Autopsy",
                                    "year": "2013",
                                    "avg_reader_rating": "4",
                                    "actual_avg_rating": "3.95"
                                },
                                {
                                    "title": "Gulp: Adventures on the Alimentary Canal",
                                    "year": "2013",
                                    "avg_reader_rating": "4",
                                    "actual_avg_rating": "3.92"
                                },
                                {
                                    "title": "Salt Sugar Fat: How the Food Giants Hooked Us",
                                    "year": "2013",
                                    "avg_reader_rating": "4",
                                    "actual_avg_rating": "3.98"
                                },
                                {
                                    "title": "Tenth of December",
                                    "year": "2013",
                                    "avg_reader_rating": "4",
                                    "actual_avg_rating": "3.96"
                                },
                                {
                                    "title": "William Shakespeare's Star Wars: Verily, A New Hope (William Shakespeare's Star Wars, #4)",
                                    "year": "2013",
                                    "avg_reader_rating": "4",
                                    "actual_avg_rating": "3.94"
                                },
                                {
                                    "title": "Redeployment",
                                    "year": "2014",
                                    "avg_reader_rating": "4",
                                    "actual_avg_rating": "3.98"
                                },
                                {
                                    "title": "Sex Criminals, Vol. 1: One Weird Trick",
                                    "year": "2014",
                                    "avg_reader_rating": "4",
                                    "actual_avg_rating": "3.99"
                                },
                                {
                                    "title": "The Art of Asking; or, How I Learned to Stop Worrying and Let People Help",
                                    "year": "2014",
                                    "avg_reader_rating": "4",
                                    "actual_avg_rating": "3.97"
                                },
                                {
                                    "title": "The Enchanted",
                                    "year": "2014",
                                    "avg_reader_rating": "4",
                                    "actual_avg_rating": "3.96"
                                },
                                {
                                    "title": "The Storied Life of A.J. Fikry",
                                    "year": "2014",
                                    "avg_reader_rating": "4",
                                    "actual_avg_rating": "3.98"
                                },
                                {
                                    "title": "The Young Elites (The Young Elites, #1)",
                                    "year": "2014",
                                    "avg_reader_rating": "4",
                                    "actual_avg_rating": "3.93"
                                },
                                {
                                    "title": "Through the Woods",
                                    "year": "2014",
                                    "avg_reader_rating": "4",
                                    "actual_avg_rating": "3.92"
                                },
                                {
                                    "title": "أقوم قيلا",
                                    "year": "2014",
                                    "avg_reader_rating": "4",
                                    "actual_avg_rating": "3.99"
                                },
                                {
                                    "title": "Inside the O'Briens",
                                    "year": "2015",
                                    "avg_reader_rating": "4",
                                    "actual_avg_rating": "3.98"
                                },
                                {
                                    "title": "Lumberjanes, Vol. 1: Beware the Kitten Holy",
                                    "year": "2015",
                                    "avg_reader_rating": "4",
                                    "actual_avg_rating": "3.94"
                                },
                                {
                                    "title": "The Sandman: Overture",
                                    "year": "2015",
                                    "avg_reader_rating": "4",
                                    "actual_avg_rating": "3.94"
                                },
                                {
                                    "title": "Paper Girls, Vol. 1 (Paper Girls, #1)",
                                    "year": "2016",
                                    "avg_reader_rating": "4",
                                    "actual_avg_rating": "3.87"
                                }
                            ]
                        },
                        "text/html": [
                            "<table>",
                            "<tr><th>title</th><th>year</th><th>avg_reader_rating</th><th>actual_avg_rating</th></tr>",
                            "<tr><td>A Tale of Two Cities / Great Expectations</td><td>NULL</td><td>4</td><td>3.98</td></tr>",
                            "<tr><td>The Oresteia  (Ορέστεια, #1-3)</td><td>-458</td><td>4</td><td>3.99</td></tr>",
                            "<tr><td>Lysistrata</td><td>-411</td><td>4</td><td>3.84</td></tr>",
                            "<tr><td>Leonardo&#39;s Notebooks</td><td>1519</td><td>4</td><td>3.97</td></tr>",
                            "<tr><td>Romeo and Juliet</td><td>1595</td><td>4</td><td>3.73</td></tr>",
                            "<tr><td>Macbeth</td><td>1606</td><td>4</td><td>3.88</td></tr>",
                            "<tr><td>Emma</td><td>1815</td><td>4</td><td>3.99</td></tr>",
                            "<tr><td>The Fall of the House of Usher</td><td>1839</td><td>4</td><td>3.92</td></tr>",
                            "<tr><td>The Murders in the Rue Morgue</td><td>1841</td><td>4</td><td>3.92</td></tr>",
                            "<tr><td>The Necklace and Other Short Stories</td><td>1884</td><td>4</td><td>3.94</td></tr>",
                            "<tr><td>The Canterville Ghost</td><td>1887</td><td>4</td><td>3.89</td></tr>",
                            "<tr><td>The Sign of Four</td><td>1890</td><td>4</td><td>3.96</td></tr>",
                            "<tr><td>The Prisoner of Zenda</td><td>1894</td><td>4</td><td>3.87</td></tr>",
                            "<tr><td>The Wonderful Wizard of Oz (Oz, #1)</td><td>1900</td><td>4</td><td>3.98</td></tr>",
                            "<tr><td>The Monkey&#39;s Paw (Oxford Bookworms)</td><td>1902</td><td>4</td><td>3.85</td></tr>",
                            "<tr><td>To Build a Fire</td><td>1903</td><td>4</td><td>3.92</td></tr>",
                            "<tr><td>The Broken Wings</td><td>1912</td><td>4</td><td>3.93</td></tr>",
                            "<tr><td>The Letters of Vincent van Gogh</td><td>1914</td><td>4</td><td>3.99</td></tr>",
                            "<tr><td>The Valley of Fear</td><td>1914</td><td>4</td><td>3.98</td></tr>",
                            "<tr><td>The Story of Doctor Dolittle (Doctor Dolittle, #1)</td><td>1920</td><td>4</td><td>3.98</td></tr>",
                            "<tr><td>Art Through the Ages </td><td>1926</td><td>4</td><td>3.84</td></tr>",
                            "<tr><td>The Secret of the Old Clock (Nancy Drew, #1)</td><td>1930</td><td>4</td><td>3.98</td></tr>",
                            "<tr><td>The Thin Man</td><td>1934</td><td>4</td><td>3.97</td></tr>",
                            "<tr><td>Caddie Woodlawn  (Caddie Woodlawn #1)</td><td>1935</td><td>4</td><td>3.99</td></tr>",
                            "<tr><td>Out of Africa</td><td>1937</td><td>4</td><td>3.96</td></tr>",
                            "<tr><td>The Sword in the Stone (The Once and Future King, #1)</td><td>1938</td><td>4</td><td>3.92</td></tr>",
                            "<tr><td>The Natural Way to Draw</td><td>1941</td><td>4</td><td>3.88</td></tr>",
                            "<tr><td>A Streetcar Named Desire</td><td>1947</td><td>4</td><td>3.97</td></tr>",
                            "<tr><td>Cheaper by the Dozen</td><td>1948</td><td>4</td><td>3.99</td></tr>",
                            "<tr><td>The Story of Art</td><td>1950</td><td>4</td><td>3.83</td></tr>",
                            "<tr><td>Anatomy for the Artist</td><td>1953</td><td>4</td><td>3.97</td></tr>",
                            "<tr><td>Fahrenheit 451</td><td>1953</td><td>4</td><td>3.97</td></tr>",
                            "<tr><td>More Than Human</td><td>1953</td><td>4</td><td>3.98</td></tr>",
                            "<tr><td>The First Four Years  (Little House, #9)</td><td>1953</td><td>4</td><td>3.88</td></tr>",
                            "<tr><td>Inherit the Wind</td><td>1955</td><td>4</td><td>3.96</td></tr>",
                            "<tr><td>M.C. Escher: The Graphic Work</td><td>1956</td><td>4</td><td>3.93</td></tr>",
                            "<tr><td>On the Beach</td><td>1957</td><td>4</td><td>3.92</td></tr>",
                            "<tr><td>Breakfast at Tiffany&#39;s</td><td>1958</td><td>4</td><td>3.89</td></tr>",
                            "<tr><td>Our Man in Havana</td><td>1958</td><td>4</td><td>3.94</td></tr>",
                            "<tr><td>James and the Giant Peach</td><td>1961</td><td>4</td><td>3.99</td></tr>",
                            "<tr><td>The Bronze Bow</td><td>1961</td><td>4</td><td>3.93</td></tr>",
                            "<tr><td>Cover Her Face (Adam Dalgliesh #1)</td><td>1962</td><td>4</td><td>3.94</td></tr>",
                            "<tr><td>History of Art</td><td>1962</td><td>4</td><td>3.8</td></tr>",
                            "<tr><td>Hop On Pop</td><td>1963</td><td>4</td><td>3.95</td></tr>",
                            "<tr><td>Flat Stanley (Flat Stanley, #1)</td><td>1964</td><td>4</td><td>3.82</td></tr>",
                            "<tr><td>The Medium is the Massage</td><td>1967</td><td>4</td><td>3.95</td></tr>",
                            "<tr><td>The Foot Book: Dr. Seuss&#39;s Wacky Book of Opposites (Bright and Early Board Books)</td><td>1968</td><td>4</td><td>3.99</td></tr>",
                            "<tr><td>Ball Four</td><td>1970</td><td>4</td><td>3.99</td></tr>",
                            "<tr><td>Ways of Seeing</td><td>1972</td><td>4</td><td>3.75</td></tr>",
                            "<tr><td>Sybil: The Classic True Story of a Woman Possessed by Sixteen Personalities</td><td>1973</td><td>4</td><td>3.99</td></tr>",
                            "<tr><td>Charmed Life (Chrestomanci, #1)</td><td>1977</td><td>4</td><td>3.95</td></tr>",
                            "<tr><td>The Honourable Schoolboy</td><td>1977</td><td>4</td><td>3.94</td></tr>",
                            "<tr><td>Faeries</td><td>1978</td><td>4</td><td>3.89</td></tr>",
                            "<tr><td>Camera Lucida: Reflections on Photography</td><td>1980</td><td>4</td><td>3.92</td></tr>",
                            "<tr><td>Split Infinity  (Apprentice Adept #1)</td><td>1980</td><td>4</td><td>3.94</td></tr>",
                            "<tr><td>Shoeless Joe</td><td>1982</td><td>4</td><td>3.96</td></tr>",
                            "<tr><td>Empire of the Sun (Empire of the Sun, #1)</td><td>1984</td><td>4</td><td>3.98</td></tr>",
                            "<tr><td>Love Medicine</td><td>1984</td><td>4</td><td>3.98</td></tr>",
                            "<tr><td>The Summer Tree (The Fionavar Tapestry #1)</td><td>1984</td><td>4</td><td>3.99</td></tr>",
                            "<tr><td>The Postman</td><td>1985</td><td>4</td><td>3.87</td></tr>",
                            "<tr><td>Taliesin (The Pendragon Cycle, #1)</td><td>1987</td><td>4</td><td>3.98</td></tr>",
                            "<tr><td>The Eight (The Eight #1)</td><td>1988</td><td>4</td><td>3.92</td></tr>",
                            "<tr><td>The Stories of Eva Luna</td><td>1988</td><td>4</td><td>3.96</td></tr>",
                            "<tr><td>Wall and Piece</td><td>1988</td><td>4</td><td>3.83</td></tr>",
                            "<tr><td>Like Water for Chocolate</td><td>1989</td><td>4</td><td>3.94</td></tr>",
                            "<tr><td>Moon Palace</td><td>1989</td><td>4</td><td>3.99</td></tr>",
                            "<tr><td>Red Phoenix (Red Phoenix #1)</td><td>1989</td><td>4</td><td>3.98</td></tr>",
                            "<tr><td>The Joy Luck Club</td><td>1989</td><td>4</td><td>3.9</td></tr>",
                            "<tr><td>Andy Goldsworthy: A Collaboration with Nature</td><td>1990</td><td>4</td><td>3.95</td></tr>",
                            "<tr><td>The Mother Tongue: English and How It Got That Way</td><td>1990</td><td>4</td><td>3.95</td></tr>",
                            "<tr><td>Cloudstreet</td><td>1991</td><td>4</td><td>3.97</td></tr>",
                            "<tr><td>Understanding Comics: The Invisible Art</td><td>1993</td><td>4</td><td>3.98</td></tr>",
                            "<tr><td>A Drink Before the War (Kenzie &amp; Gennaro, #1)</td><td>1994</td><td>4</td><td>3.96</td></tr>",
                            "<tr><td>Drop Shot (Myron Bolitar #2)</td><td>1996</td><td>4</td><td>3.92</td></tr>",
                            "<tr><td>Fade Away (Myron Bolitar #3)</td><td>1996</td><td>4</td><td>3.99</td></tr>",
                            "<tr><td>Into the Wild</td><td>1996</td><td>4</td><td>3.94</td></tr>",
                            "<tr><td>Kare Kano: His and Her Circumstances, Vol. 1</td><td>1996</td><td>4</td><td>3.96</td></tr>",
                            "<tr><td>The 20th Century Art Book</td><td>1996</td><td>4</td><td>3.94</td></tr>",
                            "<tr><td>Brokeback Mountain</td><td>1997</td><td>4</td><td>3.93</td></tr>",
                            "<tr><td>Ella Enchanted</td><td>1997</td><td>4</td><td>3.97</td></tr>",
                            "<tr><td>Good Faeries/Bad Faeries</td><td>1998</td><td>4</td><td>3.88</td></tr>",
                            "<tr><td>Holes (Holes, #1)</td><td>1998</td><td>4</td><td>3.93</td></tr>",
                            "<tr><td>I&#39;m a Stranger Here Myself: Notes on Returning to America after Twenty Years Away</td><td>1998</td><td>4</td><td>3.89</td></tr>",
                            "<tr><td>Close Range</td><td>1999</td><td>4</td><td>3.99</td></tr>",
                            "<tr><td>Eleanor of Aquitaine: A Life </td><td>1999</td><td>4</td><td>3.97</td></tr>",
                            "<tr><td>O is for Outlaw (Kinsey Millhone, #15)</td><td>1999</td><td>4</td><td>3.92</td></tr>",
                            "<tr><td>After the Quake</td><td>2000</td><td>4</td><td>3.78</td></tr>",
                            "<tr><td>A Cook&#39;s Tour: Global Adventures in Extreme Cuisines</td><td>2001</td><td>4</td><td>3.97</td></tr>",
                            "<tr><td>Anatomy for the Artist</td><td>2001</td><td>4</td><td>3.97</td></tr>",
                            "<tr><td>Fables, Vol. 1: Legends in Exile</td><td>2001</td><td>4</td><td>3.99</td></tr>",
                            "<tr><td>Family Matters</td><td>2001</td><td>4</td><td>3.99</td></tr>",
                            "<tr><td>The Passion of Artemisia</td><td>2001</td><td>4</td><td>3.86</td></tr>",
                            "<tr><td>Saving Francesca</td><td>2003</td><td>4</td><td>3.97</td></tr>",
                            "<tr><td>The League of Extraordinary Gentlemen, Vol. 2</td><td>2003</td><td>4</td><td>3.94</td></tr>",
                            "<tr><td>History of Beauty</td><td>2004</td><td>4</td><td>3.77</td></tr>",
                            "<tr><td>R is for Ricochet (Kinsey Millhone, #18)</td><td>2004</td><td>4</td><td>3.96</td></tr>",
                            "<tr><td>The Algebraist</td><td>2004</td><td>4</td><td>3.99</td></tr>",
                            "<tr><td>The Creative License: Giving Yourself Permission to Be The Artist You Truly Are</td><td>2005</td><td>4</td><td>3.93</td></tr>",
                            "<tr><td>The Twelfth Card (Lincoln Rhyme, #6)</td><td>2005</td><td>4</td><td>3.98</td></tr>",
                            "<tr><td>Brother Odd (Odd Thomas, #3)</td><td>2006</td><td>4</td><td>3.98</td></tr>",
                            "<tr><td>Getting Stoned with Savages: A Trip Through the Islands of Fiji and Vanuatu</td><td>2006</td><td>4</td><td>3.86</td></tr>",
                            "<tr><td>Claimed By Shadow (Cassandra Palmer, #2)</td><td>2007</td><td>4</td><td>3.98</td></tr>",
                            "<tr><td>Grace (Eventually): Thoughts on Faith</td><td>2007</td><td>4</td><td>3.98</td></tr>",
                            "<tr><td>Lady Friday (The Keys to the Kingdom, #5)</td><td>2007</td><td>4</td><td>3.91</td></tr>",
                            "<tr><td>Mistakes Were Made (But Not by Me): Why We Justify Foolish Beliefs, Bad Decisions, and Hurtful Acts</td><td>2007</td><td>4</td><td>3.99</td></tr>",
                            "<tr><td>The Lucifer Effect: Understanding How Good People Turn Evil</td><td>2007</td><td>4</td><td>3.94</td></tr>",
                            "<tr><td>The Secret Diaries of Miss Miranda Cheever (Bevelstoke, #1)</td><td>2007</td><td>4</td><td>3.93</td></tr>",
                            "<tr><td>Veganomicon: The Ultimate Vegan Cookbook</td><td>2007</td><td>4</td><td>3.98</td></tr>",
                            "<tr><td>Food Matters: A Guide to Conscious Eating with More Than 75 Recipes</td><td>2008</td><td>4</td><td>3.97</td></tr>",
                            "<tr><td>Food Rules: An Eater&#39;s Manual</td><td>2008</td><td>4</td><td>3.99</td></tr>",
                            "<tr><td>Home (Gilead, #2)</td><td>2008</td><td>4</td><td>3.97</td></tr>",
                            "<tr><td>Skeletons at the Feast</td><td>2008</td><td>4</td><td>3.99</td></tr>",
                            "<tr><td>Sun and Moon, Ice and Snow</td><td>2008</td><td>4</td><td>3.97</td></tr>",
                            "<tr><td>The Time Traveller&#39;s Guide to Medieval England: A Handbook for Visitors to the Fourteenth Century</td><td>2008</td><td>4</td><td>3.99</td></tr>",
                            "<tr><td>Your Inner Fish: A Journey into the 3.5-Billion-Year History of the Human Body</td><td>2008</td><td>4</td><td>3.97</td></tr>",
                            "<tr><td>A Homemade Life: Stories and Recipes from My Kitchen Table</td><td>2009</td><td>4</td><td>3.94</td></tr>",
                            "<tr><td>Fool</td><td>2009</td><td>4</td><td>3.96</td></tr>",
                            "<tr><td>Long Lost  (Myron Bolitar #9)</td><td>2009</td><td>4</td><td>3.94</td></tr>",
                            "<tr><td>Nine Dragons (Harry Bosch, #15; Mickey Haller, #3; Harry Bosch Universe, #18)</td><td>2009</td><td>4</td><td>3.97</td></tr>",
                            "<tr><td>Patient Zero (Joe Ledger, #1)</td><td>2009</td><td>4</td><td>3.98</td></tr>",
                            "<tr><td>The City &amp; the City</td><td>2009</td><td>4</td><td>3.91</td></tr>",
                            "<tr><td>U Is for Undertow (Kinsey Millhone, #21)</td><td>2009</td><td>4</td><td>3.93</td></tr>",
                            "<tr><td>Steal Like an Artist: 10 Things Nobody Told You About Being Creative</td><td>2010</td><td>4</td><td>3.86</td></tr>",
                            "<tr><td>Against All Enemies (Max Moore, #1)</td><td>2011</td><td>4</td><td>3.95</td></tr>",
                            "<tr><td>Rules of Civility</td><td>2011</td><td>4</td><td>3.99</td></tr>",
                            "<tr><td>Second Son (Jack Reacher, #15.5)</td><td>2011</td><td>4</td><td>3.95</td></tr>",
                            "<tr><td>The Chronicles of Harris Burdick: 14 Amazing Authors Tell the Tales</td><td>2011</td><td>4</td><td>3.91</td></tr>",
                            "<tr><td>A Wrinkle in Time: The Graphic Novel</td><td>2012</td><td>4</td><td>3.95</td></tr>",
                            "<tr><td>Behind the Beautiful Forevers: Life, Death, and Hope in a Mumbai Undercity</td><td>2012</td><td>4</td><td>3.97</td></tr>",
                            "<tr><td>The Son</td><td>2012</td><td>4</td><td>3.98</td></tr>",
                            "<tr><td>Detroit: An American Autopsy</td><td>2013</td><td>4</td><td>3.95</td></tr>",
                            "<tr><td>Gulp: Adventures on the Alimentary Canal</td><td>2013</td><td>4</td><td>3.92</td></tr>",
                            "<tr><td>Salt Sugar Fat: How the Food Giants Hooked Us</td><td>2013</td><td>4</td><td>3.98</td></tr>",
                            "<tr><td>Tenth of December</td><td>2013</td><td>4</td><td>3.96</td></tr>",
                            "<tr><td>William Shakespeare&#39;s Star Wars: Verily, A New Hope (William Shakespeare&#39;s Star Wars, #4)</td><td>2013</td><td>4</td><td>3.94</td></tr>",
                            "<tr><td>Redeployment</td><td>2014</td><td>4</td><td>3.98</td></tr>",
                            "<tr><td>Sex Criminals, Vol. 1: One Weird Trick</td><td>2014</td><td>4</td><td>3.99</td></tr>",
                            "<tr><td>The Art of Asking; or, How I Learned to Stop Worrying and Let People Help</td><td>2014</td><td>4</td><td>3.97</td></tr>",
                            "<tr><td>The Enchanted</td><td>2014</td><td>4</td><td>3.96</td></tr>",
                            "<tr><td>The Storied Life of A.J. Fikry</td><td>2014</td><td>4</td><td>3.98</td></tr>",
                            "<tr><td>The Young Elites (The Young Elites, #1)</td><td>2014</td><td>4</td><td>3.93</td></tr>",
                            "<tr><td>Through the Woods</td><td>2014</td><td>4</td><td>3.92</td></tr>",
                            "<tr><td>أقوم قيلا</td><td>2014</td><td>4</td><td>3.99</td></tr>",
                            "<tr><td>Inside the O&#39;Briens</td><td>2015</td><td>4</td><td>3.98</td></tr>",
                            "<tr><td>Lumberjanes, Vol. 1: Beware the Kitten Holy</td><td>2015</td><td>4</td><td>3.94</td></tr>",
                            "<tr><td>The Sandman: Overture</td><td>2015</td><td>4</td><td>3.94</td></tr>",
                            "<tr><td>Paper Girls, Vol. 1 (Paper Girls, #1)</td><td>2016</td><td>4</td><td>3.87</td></tr>",
                            "</table>"
                        ]
                    }
                }
            ],
            "execution_count": 11
        }
    ]
}